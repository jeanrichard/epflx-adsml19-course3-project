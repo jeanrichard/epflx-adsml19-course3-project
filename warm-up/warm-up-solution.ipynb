{
 "cells": [
  {
   "cell_type": "markdown",
   "metadata": {},
   "source": [
    "# Course 3: Project - Part 1 - Warm-up"
   ]
  },
  {
   "cell_type": "markdown",
   "metadata": {},
   "source": [
    "<a name=\"top\"></a>\n",
    "This notebook is concerned with Part 1 - Warm-up.\n",
    "\n",
    "**Contents:**\n",
    "* [Task 1](#task-1)\n",
    "* [Task 2](#task-2)"
   ]
  },
  {
   "cell_type": "markdown",
   "metadata": {},
   "source": [
    "## Task 1<a name=\"task-1\"></a> ([top](#top))\n",
    "---"
   ]
  },
  {
   "cell_type": "markdown",
   "metadata": {},
   "source": [
    "The first task consists of fitting the following equation to a set of x/y data points:\n",
    "$$\n",
    "y = a \\log(x) + b\n",
    "$$"
   ]
  },
  {
   "cell_type": "code",
   "execution_count": 1,
   "metadata": {},
   "outputs": [],
   "source": [
    "# Standard library:\n",
    "import pathlib\n",
    "\n",
    "# 3rd party:\n",
    "import matplotlib.pyplot as plt\n",
    "import numpy as np\n",
    "import pandas as pd\n",
    "from sklearn.metrics import r2_score\n",
    "\n",
    "%matplotlib inline"
   ]
  },
  {
   "cell_type": "markdown",
   "metadata": {},
   "source": [
    "We start by reading the data set:"
   ]
  },
  {
   "cell_type": "code",
   "execution_count": 2,
   "metadata": {},
   "outputs": [],
   "source": [
    "df1 = pd.read_csv(pathlib.Path.cwd() / 'task-1.csv')"
   ]
  },
  {
   "cell_type": "code",
   "execution_count": 3,
   "metadata": {},
   "outputs": [
    {
     "data": {
      "text/plain": [
       "(50, 2)"
      ]
     },
     "execution_count": 3,
     "metadata": {},
     "output_type": "execute_result"
    }
   ],
   "source": [
    "df1.shape"
   ]
  },
  {
   "cell_type": "code",
   "execution_count": 4,
   "metadata": {},
   "outputs": [
    {
     "data": {
      "text/html": [
       "<div>\n",
       "<style scoped>\n",
       "    .dataframe tbody tr th:only-of-type {\n",
       "        vertical-align: middle;\n",
       "    }\n",
       "\n",
       "    .dataframe tbody tr th {\n",
       "        vertical-align: top;\n",
       "    }\n",
       "\n",
       "    .dataframe thead th {\n",
       "        text-align: right;\n",
       "    }\n",
       "</style>\n",
       "<table border=\"1\" class=\"dataframe\">\n",
       "  <thead>\n",
       "    <tr style=\"text-align: right;\">\n",
       "      <th></th>\n",
       "      <th>x</th>\n",
       "      <th>y</th>\n",
       "    </tr>\n",
       "  </thead>\n",
       "  <tbody>\n",
       "    <tr>\n",
       "      <th>0</th>\n",
       "      <td>10.529</td>\n",
       "      <td>39.105</td>\n",
       "    </tr>\n",
       "    <tr>\n",
       "      <th>1</th>\n",
       "      <td>10.799</td>\n",
       "      <td>40.584</td>\n",
       "    </tr>\n",
       "    <tr>\n",
       "      <th>2</th>\n",
       "      <td>11.698</td>\n",
       "      <td>39.883</td>\n",
       "    </tr>\n",
       "    <tr>\n",
       "      <th>3</th>\n",
       "      <td>12.851</td>\n",
       "      <td>39.411</td>\n",
       "    </tr>\n",
       "    <tr>\n",
       "      <th>4</th>\n",
       "      <td>13.565</td>\n",
       "      <td>40.760</td>\n",
       "    </tr>\n",
       "  </tbody>\n",
       "</table>\n",
       "</div>"
      ],
      "text/plain": [
       "        x       y\n",
       "0  10.529  39.105\n",
       "1  10.799  40.584\n",
       "2  11.698  39.883\n",
       "3  12.851  39.411\n",
       "4  13.565  40.760"
      ]
     },
     "execution_count": 4,
     "metadata": {},
     "output_type": "execute_result"
    }
   ],
   "source": [
    "df1.head()"
   ]
  },
  {
   "cell_type": "markdown",
   "metadata": {},
   "source": [
    "**Step 1:** Fit the curve and plot it"
   ]
  },
  {
   "cell_type": "code",
   "execution_count": 5,
   "metadata": {},
   "outputs": [],
   "source": [
    "# We extrac the feature and target vectors:\n",
    "x = df1['x'].to_numpy()\n",
    "y = df1['y'].to_numpy()\n",
    "\n",
    "# Fit a line:\n",
    "coefs = np.polyfit(np.log(x), y, deg=1)"
   ]
  },
  {
   "cell_type": "code",
   "execution_count": 6,
   "metadata": {},
   "outputs": [],
   "source": [
    "def plot_polyfit(coefsb, x, y, label, transform_x=None, transform_y_inv=None):\n",
    "    # Generate a hundred values between min(x) and max(x):\n",
    "    x_values = np.linspace(x.min(), x.max(), num=100)\n",
    "\n",
    "    # Predict the y values:\n",
    "    x_trans = transform_x(x_values) if transform_x else x_values\n",
    "    y_trans = np.polyval(coefs, x_trans)\n",
    "    y_values = transform_y_inv(y_trans) if transform_y_inv else y_trans\n",
    "\n",
    "    # Plot the curve:\n",
    "    fig, ax = plt.subplots()\n",
    "    ax.scatter(x, y)\n",
    "    ax.plot(x_values, y_values, c='C3', label=label)\n",
    "    ax.set_xlabel('x values')\n",
    "    ax.set_ylabel('y values')\n",
    "    ax.legend()\n",
    "    plt.show()"
   ]
  },
  {
   "cell_type": "code",
   "execution_count": 7,
   "metadata": {},
   "outputs": [
    {
     "data": {
      "image/png": "[encoded data removed]",
      "text/plain": [
       "<Figure size 432x288 with 1 Axes>"
      ]
     },
     "metadata": {
      "needs_background": "light"
     },
     "output_type": "display_data"
    }
   ],
   "source": [
    "plot_polyfit(coefs, x, y, 'polyfit(log(x), y, deg=1)', np.log)"
   ]
  },
  {
   "cell_type": "markdown",
   "metadata": {},
   "source": [
    "**Step 2:** Compute the RSS and $R^2$ measures"
   ]
  },
  {
   "cell_type": "code",
   "execution_count": 8,
   "metadata": {},
   "outputs": [],
   "source": [
    "def RSS(y, y_pred):\n",
    "    return np.sum(np.square(y - y_pred))\n",
    "\n",
    "\n",
    "def MSE(y, y_pred):\n",
    "    return np.mean(np.square(y - y_pred))\n",
    "\n",
    "\n",
    "def RMSE (y , y_pred ):\n",
    "    return np.sqrt(MSE(y, y_pred))"
   ]
  },
  {
   "cell_type": "code",
   "execution_count": 9,
   "metadata": {},
   "outputs": [
    {
     "name": "stdout",
     "output_type": "stream",
     "text": [
      "RSS: 31.843 (MSE: 0.637, RMSE: 0.798)\n",
      "R^2 coefficient: 0.941\n"
     ]
    }
   ],
   "source": [
    "y_pred = np.polyval(coefs, np.log(x))\n",
    "print(f'RSS: {RSS(y, y_pred):.3f} (MSE: {MSE(y, y_pred):.3f}, RMSE: {RMSE(y, y_pred):.3f})')\n",
    "print(f'R^2 coefficient: {r2_score(y, y_pred):.3f}')"
   ]
  },
  {
   "cell_type": "markdown",
   "metadata": {},
   "source": [
    "**Step 3:** Discuss the results, is it a good $R^2$ score?"
   ]
  },
  {
   "cell_type": "markdown",
   "metadata": {},
   "source": [
    "**Comment:** Since the $R^2$ score is close to $1$, this means that the model performs much better than the baseline (mean).\n",
    "(We did not compute the $\\mathop{MAE}$ but since $\\mathop{MAE} \\leq \\mathop{RMSE}$, we know that the magnitude of the error of our model is less than or equal to $0.8$ on average.)"
   ]
  },
  {
   "cell_type": "markdown",
   "metadata": {},
   "source": [
    "## Task 2<a name=\"task-2\"></a> ([top](#top))\n",
    "---"
   ]
  },
  {
   "cell_type": "markdown",
   "metadata": {},
   "source": [
    "The second task consists of fitting a model to a set of data points that contains outliers.\n",
    "\n",
    "Approaches:\n",
    "* Fit a linear regression with the outliers\n",
    "* Fit a Huber regression with the outliers\n",
    "* Fit a linear regression without the outliers"
   ]
  },
  {
   "cell_type": "code",
   "execution_count": 10,
   "metadata": {},
   "outputs": [],
   "source": [
    "# Standard library:\n",
    "import collections\n",
    "import pathlib\n",
    "\n",
    "# 3rd party:\n",
    "import matplotlib.pyplot as plt\n",
    "import numpy as np\n",
    "import pandas as pd\n",
    "from scipy.stats import zscore\n",
    "from sklearn.dummy import DummyRegressor\n",
    "from sklearn.linear_model import HuberRegressor\n",
    "from sklearn.linear_model import LinearRegression\n",
    "from sklearn.metrics import mean_absolute_error as MAE\n",
    "from sklearn.model_selection import train_test_split\n",
    "\n",
    "%matplotlib inline"
   ]
  },
  {
   "cell_type": "markdown",
   "metadata": {},
   "source": [
    "We start by reading the data set:"
   ]
  },
  {
   "cell_type": "code",
   "execution_count": 11,
   "metadata": {},
   "outputs": [],
   "source": [
    "df2 = pd.read_csv(pathlib.Path.cwd() / 'task-2.csv')"
   ]
  },
  {
   "cell_type": "code",
   "execution_count": 12,
   "metadata": {},
   "outputs": [
    {
     "data": {
      "text/plain": [
       "(1000, 4)"
      ]
     },
     "execution_count": 12,
     "metadata": {},
     "output_type": "execute_result"
    }
   ],
   "source": [
    "df2.shape"
   ]
  },
  {
   "cell_type": "code",
   "execution_count": 13,
   "metadata": {},
   "outputs": [
    {
     "data": {
      "text/html": [
       "<div>\n",
       "<style scoped>\n",
       "    .dataframe tbody tr th:only-of-type {\n",
       "        vertical-align: middle;\n",
       "    }\n",
       "\n",
       "    .dataframe tbody tr th {\n",
       "        vertical-align: top;\n",
       "    }\n",
       "\n",
       "    .dataframe thead th {\n",
       "        text-align: right;\n",
       "    }\n",
       "</style>\n",
       "<table border=\"1\" class=\"dataframe\">\n",
       "  <thead>\n",
       "    <tr style=\"text-align: right;\">\n",
       "      <th></th>\n",
       "      <th>x1</th>\n",
       "      <th>x2</th>\n",
       "      <th>x3</th>\n",
       "      <th>y</th>\n",
       "    </tr>\n",
       "  </thead>\n",
       "  <tbody>\n",
       "    <tr>\n",
       "      <th>0</th>\n",
       "      <td>7.892</td>\n",
       "      <td>318.818</td>\n",
       "      <td>162.970</td>\n",
       "      <td>2112.420</td>\n",
       "    </tr>\n",
       "    <tr>\n",
       "      <th>1</th>\n",
       "      <td>8.830</td>\n",
       "      <td>303.180</td>\n",
       "      <td>181.399</td>\n",
       "      <td>2096.231</td>\n",
       "    </tr>\n",
       "    <tr>\n",
       "      <th>2</th>\n",
       "      <td>13.811</td>\n",
       "      <td>296.231</td>\n",
       "      <td>145.849</td>\n",
       "      <td>2067.045</td>\n",
       "    </tr>\n",
       "    <tr>\n",
       "      <th>3</th>\n",
       "      <td>12.863</td>\n",
       "      <td>325.830</td>\n",
       "      <td>167.996</td>\n",
       "      <td>2269.262</td>\n",
       "    </tr>\n",
       "    <tr>\n",
       "      <th>4</th>\n",
       "      <td>13.698</td>\n",
       "      <td>254.035</td>\n",
       "      <td>171.892</td>\n",
       "      <td>1966.604</td>\n",
       "    </tr>\n",
       "  </tbody>\n",
       "</table>\n",
       "</div>"
      ],
      "text/plain": [
       "       x1       x2       x3         y\n",
       "0   7.892  318.818  162.970  2112.420\n",
       "1   8.830  303.180  181.399  2096.231\n",
       "2  13.811  296.231  145.849  2067.045\n",
       "3  12.863  325.830  167.996  2269.262\n",
       "4  13.698  254.035  171.892  1966.604"
      ]
     },
     "execution_count": 13,
     "metadata": {},
     "output_type": "execute_result"
    }
   ],
   "source": [
    "df2.head()"
   ]
  },
  {
   "cell_type": "markdown",
   "metadata": {},
   "source": [
    "Preliminaries:"
   ]
  },
  {
   "cell_type": "code",
   "execution_count": 14,
   "metadata": {},
   "outputs": [],
   "source": [
    "# This will hold the fitted models:\n",
    "models = collections.OrderedDict()\n",
    "\n",
    "# We extract the feature matrix and the target vector:\n",
    "X = df2.drop(columns='y').to_numpy()\n",
    "y = df2['y'].to_numpy()"
   ]
  },
  {
   "cell_type": "markdown",
   "metadata": {},
   "source": [
    "We first consider the entire data set (including outliers):"
   ]
  },
  {
   "cell_type": "code",
   "execution_count": 15,
   "metadata": {},
   "outputs": [],
   "source": [
    "# Split the data into a training set (80 %) and a test set (20 %):\n",
    "X_tr, X_te, y_tr, y_te = train_test_split(X, y, test_size=0.2, random_state=42)"
   ]
  },
  {
   "cell_type": "markdown",
   "metadata": {},
   "source": [
    "We take the median as our baseline:"
   ]
  },
  {
   "cell_type": "code",
   "execution_count": 16,
   "metadata": {},
   "outputs": [],
   "source": [
    "# Fit a dummy regression:\n",
    "dummy = DummyRegressor(strategy='median')\n",
    "dummy.fit(X_tr, y_tr);\n",
    "models['baseline'] = dummy"
   ]
  },
  {
   "cell_type": "markdown",
   "metadata": {},
   "source": [
    "We fit the suggested models:"
   ]
  },
  {
   "cell_type": "code",
   "execution_count": 17,
   "metadata": {},
   "outputs": [],
   "source": [
    "# Fit a linear regression:\n",
    "linear = LinearRegression()\n",
    "linear.fit(X_tr, y_tr);\n",
    "models['lin-regr'] = linear\n",
    "\n",
    "# Fit a Huber regression:\n",
    "huber = HuberRegressor(epsilon=1.35)\n",
    "huber.fit(X_tr, y_tr)\n",
    "models['huber'] = huber"
   ]
  },
  {
   "cell_type": "markdown",
   "metadata": {},
   "source": [
    "Before we try to remove outliers, we check the distributions for all features (to make sure that they are not skewed):"
   ]
  },
  {
   "cell_type": "code",
   "execution_count": 18,
   "metadata": {},
   "outputs": [
    {
     "data": {
      "image/png": "[encoded data removed]",
      "text/plain": [
       "<Figure size 864x216 with 4 Axes>"
      ]
     },
     "metadata": {
      "needs_background": "light"
     },
     "output_type": "display_data"
    }
   ],
   "source": [
    "# Plot histograms:\n",
    "_, ncols = df2.shape\n",
    "fig, axs = plt.subplots(nrows=1, ncols=ncols, figsize=(ncols * 3, 3))\n",
    "for ax, col in zip(axs, df2.columns):\n",
    "    ax.hist(df2[col], bins=50)\n",
    "    ax.set_title(col)\n",
    "plt.show()"
   ]
  },
  {
   "cell_type": "markdown",
   "metadata": {},
   "source": [
    "We implement a helper function to remove outliers based on a score function (applied to all features as well as to the target variable):"
   ]
  },
  {
   "cell_type": "code",
   "execution_count": 19,
   "metadata": {},
   "outputs": [],
   "source": [
    "def remove_outliers_and_fit(X_tr, y_tr, score, threshold):\n",
    "    # We temporarily put X and y back together to simplify things:\n",
    "    Xy_tr = np.c_[X_tr, y_tr]\n",
    "\n",
    "    # Compute scores and mask:\n",
    "    scores = score(Xy_tr)\n",
    "    le_threshold = np.abs(np.nan_to_num(scores)) <= threshold\n",
    "    \n",
    "    # Find non-outliers (i.e. data points with components that are all ≤ threshold):\n",
    "    mask = le_threshold.all(axis=1)\n",
    "    X_tr_wo = X_tr[mask]\n",
    "    y_tr_wo = y_tr[mask]\n",
    "\n",
    "    # Fit a linear regression:\n",
    "    linear = LinearRegression()\n",
    "    linear.fit(X_tr_wo, y_tr_wo)\n",
    "    \n",
    "    # This is just an FYI:\n",
    "    noutliers = (~mask).sum()\n",
    "    \n",
    "    return linear, noutliers"
   ]
  },
  {
   "cell_type": "markdown",
   "metadata": {},
   "source": [
    "We remove outliers using the z-score and then fit a linear regression:"
   ]
  },
  {
   "cell_type": "code",
   "execution_count": 20,
   "metadata": {},
   "outputs": [
    {
     "name": "stdout",
     "output_type": "stream",
     "text": [
      "outliers: 37 (4.62 %), non-outliers: 763 (95.38 %)\n"
     ]
    }
   ],
   "source": [
    "linear, nout = remove_outliers_and_fit(X_tr, y_tr, zscore, 3)\n",
    "ntot = X_tr.shape[0]\n",
    "pout = 100.0 * nout / ntot\n",
    "print(f'outliers: {nout} ({pout:.2f} %), non-outliers: {ntot - nout} ({100 - pout:.2f} %)')\n",
    "models['lin-regr-wo'] = linear"
   ]
  },
  {
   "cell_type": "markdown",
   "metadata": {},
   "source": [
    "Here is a variant of the z-score that I stumbled upon. **Reference:** Boris Iglewicz and David Hoaglin. *How to Detect and Handle Outliers*. ASQC (American Society for Quality Control), 1993. (I have no background in statistics, but the text mentions that the constant $0.6745$ below is needed because $\\operatorname{E}[MAD] = 0.6745 \\sigma$ for large $n$.) "
   ]
  },
  {
   "cell_type": "code",
   "execution_count": 21,
   "metadata": {},
   "outputs": [],
   "source": [
    "def modified_zscore(a):\n",
    "    median = np.median(a, axis=0)\n",
    "    mad = np.median(np.abs(a - median), axis=0)  # median absolute deviation\n",
    "    modified_z_scores = 0.6745 * (a - median) / mad\n",
    "    return modified_z_scores"
   ]
  },
  {
   "cell_type": "markdown",
   "metadata": {},
   "source": [
    "We remove outliers using the modified z-score and then fit a linear regression:"
   ]
  },
  {
   "cell_type": "code",
   "execution_count": 22,
   "metadata": {},
   "outputs": [
    {
     "name": "stdout",
     "output_type": "stream",
     "text": [
      "outliers: 45 (5.62 %), non-outliers: 755 (94.38 %)\n"
     ]
    }
   ],
   "source": [
    "linear, nout = remove_outliers_and_fit(X_tr, y_tr, modified_zscore, 3)\n",
    "ntot = X_tr.shape[0]\n",
    "pout = 100.0 * nout / ntot\n",
    "print(f'outliers: {nout} ({pout:.2f} %), non-outliers: {ntot - nout} ({100 - pout:.2f} %)')\n",
    "models['lin-regr-wo-mod'] = linear"
   ]
  },
  {
   "cell_type": "markdown",
   "metadata": {},
   "source": [
    "We compare the different models:"
   ]
  },
  {
   "cell_type": "code",
   "execution_count": 23,
   "metadata": {},
   "outputs": [
    {
     "data": {
      "image/png": "[encoded data removed]",
      "text/plain": [
       "<Figure size 432x288 with 1 Axes>"
      ]
     },
     "metadata": {
      "needs_background": "light"
     },
     "output_type": "display_data"
    }
   ],
   "source": [
    "labels = []\n",
    "mae_values = []\n",
    "for name, model in models.items():\n",
    "    labels.append(name)\n",
    "    # Vector with predictions on test set:\n",
    "    y_pred = model.predict(X_te)\n",
    "    # MAE of predictions on test set:\n",
    "    mae = MAE(y_te, y_pred)\n",
    "    mae_values.append(mae)\n",
    "\n",
    "\n",
    "fig, ax = plt.subplots()\n",
    "xcor = np.arange(len(mae_values))\n",
    "ax.bar(xcor, mae_values)\n",
    "ax.set_xticks(xcor)\n",
    "ax.set_xticklabels(labels, rotation=45, ha='right')\n",
    "ax.set_ylabel('MAE')\n",
    "\n",
    "for i, mae in enumerate(mae_values):\n",
    "    plt.annotate(f'{mae:.3f}', xy=(i, mae), rotation=90, color=\"white\", ha='center', va='top')\n",
    "\n",
    "ax.set_title('Evaluation on a 80/20 % train/test split')\n",
    "plt.show()"
   ]
  },
  {
   "cell_type": "markdown",
   "metadata": {},
   "source": [
    "**Comment:** The linear regression without outliers and Huber regression all perform better than the linear regression with outliers. (The linear regression without outliers based on the modified z-score performs slightly worse than the one based on the regular z-score but still better than the Huber regression.)"
   ]
  },
  {
   "cell_type": "code",
   "execution_count": null,
   "metadata": {},
   "outputs": [],
   "source": []
  }
 ],
 "metadata": {
  "kernelspec": {
   "display_name": "Python 3",
   "language": "python",
   "name": "python3"
  },
  "language_info": {
   "codemirror_mode": {
    "name": "ipython",
    "version": 3
   },
   "file_extension": ".py",
   "mimetype": "text/x-python",
   "name": "python",
   "nbconvert_exporter": "python",
   "pygments_lexer": "ipython3",
   "version": "3.6.7"
  }
 },
 "nbformat": 4,
 "nbformat_minor": 2
}
