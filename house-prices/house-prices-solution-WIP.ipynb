{
 "cells": [
  {
   "cell_type": "markdown",
   "metadata": {},
   "source": [
    "# Course 3: Project - Part 2 - House prices"
   ]
  },
  {
   "cell_type": "markdown",
   "metadata": {},
   "source": [
    "<a name=\"top\"></a>\n",
    "This notebook is concerned with Part 2 - House prices.\n",
    "\n",
    "**Contents:**\n",
    "* [Imports](#imports)\n",
    "* [Perform data cleaning](#stage-1)\n",
    "  * [Find and handle incorrect and missing values](#stage-1-step-1)\n",
    "  * [Find and correct inconsistencies](#stage-1-step-2)\n",
    "  * [Find and handle outliers](#stage-1-step-3)\n",
    "* [Perform feature encoding](#stage-2)\n",
    "* [Perform feature engineering](#stage-3)\n",
    "* [Perform model fitting](#stage-4)\n",
    "  * [Baseline](#stage-4-step-1)\n",
    "  * [Model: Simple](#stage-4-step-2)\n",
    "  * [Model: Intermediate](#stage-4-step-3)\n",
    "  * [Model: Complex](#stage-4-step-4)"
   ]
  },
  {
   "cell_type": "markdown",
   "metadata": {},
   "source": [
    "## Imports<a name=\"imports\"></a> ([top](#top))\n",
    "---"
   ]
  },
  {
   "cell_type": "code",
   "execution_count": 199,
   "metadata": {},
   "outputs": [],
   "source": [
    "# Standard library:\n",
    "import collections\n",
    "import functools\n",
    "import pathlib\n",
    "import math\n",
    "import typing as T\n",
    "import warnings\n",
    "\n",
    "# 3rd party:\n",
    "import matplotlib.pyplot as plt\n",
    "import numpy as np\n",
    "import pandas as pd\n",
    "# import seaborn as sns\n",
    "import sklearn\n",
    "\n",
    "# Project:\n",
    "import utils\n",
    "\n",
    "%matplotlib inline"
   ]
  },
  {
   "cell_type": "code",
   "execution_count": 200,
   "metadata": {},
   "outputs": [
    {
     "data": {
      "text/plain": [
       "<module 'utils' from '/Users/taariet1/ContEd/Adsml/git/course-03-project/house-prices/utils.py'>"
      ]
     },
     "execution_count": 200,
     "metadata": {},
     "output_type": "execute_result"
    }
   ],
   "source": [
    "import importlib\n",
    "importlib.reload(utils)"
   ]
  },
  {
   "cell_type": "markdown",
   "metadata": {},
   "source": [
    "## Perform data cleaning<a name=\"stage-1\"></a> ([top](#top))\n",
    "---"
   ]
  },
  {
   "cell_type": "code",
   "execution_count": 201,
   "metadata": {},
   "outputs": [],
   "source": [
    "# Labeled data set - we will train & test the model on it:\n",
    "df_la = pd.read_csv(pathlib.Path.cwd() / 'house-prices.csv')\n",
    "\n",
    "# Unlabeled data set - we will apply the trained model on it:\n",
    "df_un = pd.read_csv(pathlib.Path.cwd() / 'house-prices-test.csv')"
   ]
  },
  {
   "cell_type": "markdown",
   "metadata": {},
   "source": [
    "We start by taking a look at the data sets:"
   ]
  },
  {
   "cell_type": "code",
   "execution_count": 202,
   "metadata": {},
   "outputs": [
    {
     "data": {
      "text/plain": [
       "(2430, 82)"
      ]
     },
     "metadata": {},
     "output_type": "display_data"
    },
    {
     "data": {
      "text/plain": [
       "(500, 81)"
      ]
     },
     "metadata": {},
     "output_type": "display_data"
    }
   ],
   "source": [
    "display(df_la.shape, df_un.shape)"
   ]
  },
  {
   "cell_type": "code",
   "execution_count": 203,
   "metadata": {},
   "outputs": [
    {
     "data": {
      "text/html": [
       "<div>\n",
       "<style scoped>\n",
       "    .dataframe tbody tr th:only-of-type {\n",
       "        vertical-align: middle;\n",
       "    }\n",
       "\n",
       "    .dataframe tbody tr th {\n",
       "        vertical-align: top;\n",
       "    }\n",
       "\n",
       "    .dataframe thead th {\n",
       "        text-align: right;\n",
       "    }\n",
       "</style>\n",
       "<table border=\"1\" class=\"dataframe\">\n",
       "  <thead>\n",
       "    <tr style=\"text-align: right;\">\n",
       "      <th></th>\n",
       "      <th>Order</th>\n",
       "      <th>PID</th>\n",
       "      <th>MS SubClass</th>\n",
       "      <th>MS Zoning</th>\n",
       "      <th>Lot Frontage</th>\n",
       "      <th>Lot Area</th>\n",
       "      <th>Street</th>\n",
       "      <th>Alley</th>\n",
       "      <th>Lot Shape</th>\n",
       "      <th>Land Contour</th>\n",
       "      <th>Utilities</th>\n",
       "      <th>Lot Config</th>\n",
       "      <th>Land Slope</th>\n",
       "      <th>Neighborhood</th>\n",
       "      <th>Condition 1</th>\n",
       "      <th>Condition 2</th>\n",
       "      <th>Bldg Type</th>\n",
       "      <th>House Style</th>\n",
       "      <th>Overall Qual</th>\n",
       "      <th>Overall Cond</th>\n",
       "      <th>Year Built</th>\n",
       "      <th>Year Remod/Add</th>\n",
       "      <th>Roof Style</th>\n",
       "      <th>Roof Matl</th>\n",
       "      <th>Exterior 1st</th>\n",
       "      <th>Exterior 2nd</th>\n",
       "      <th>Mas Vnr Type</th>\n",
       "      <th>Mas Vnr Area</th>\n",
       "      <th>Exter Qual</th>\n",
       "      <th>Exter Cond</th>\n",
       "      <th>Foundation</th>\n",
       "      <th>Bsmt Qual</th>\n",
       "      <th>Bsmt Cond</th>\n",
       "      <th>Bsmt Exposure</th>\n",
       "      <th>BsmtFin Type 1</th>\n",
       "      <th>BsmtFin SF 1</th>\n",
       "      <th>BsmtFin Type 2</th>\n",
       "      <th>BsmtFin SF 2</th>\n",
       "      <th>Bsmt Unf SF</th>\n",
       "      <th>Total Bsmt SF</th>\n",
       "      <th>Heating</th>\n",
       "      <th>Heating QC</th>\n",
       "      <th>Central Air</th>\n",
       "      <th>Electrical</th>\n",
       "      <th>1st Flr SF</th>\n",
       "      <th>2nd Flr SF</th>\n",
       "      <th>Low Qual Fin SF</th>\n",
       "      <th>Gr Liv Area</th>\n",
       "      <th>Bsmt Full Bath</th>\n",
       "      <th>Bsmt Half Bath</th>\n",
       "      <th>Full Bath</th>\n",
       "      <th>Half Bath</th>\n",
       "      <th>Bedroom AbvGr</th>\n",
       "      <th>Kitchen AbvGr</th>\n",
       "      <th>Kitchen Qual</th>\n",
       "      <th>TotRms AbvGrd</th>\n",
       "      <th>Functional</th>\n",
       "      <th>Fireplaces</th>\n",
       "      <th>Fireplace Qu</th>\n",
       "      <th>Garage Type</th>\n",
       "      <th>Garage Yr Blt</th>\n",
       "      <th>Garage Finish</th>\n",
       "      <th>Garage Cars</th>\n",
       "      <th>Garage Area</th>\n",
       "      <th>Garage Qual</th>\n",
       "      <th>Garage Cond</th>\n",
       "      <th>Paved Drive</th>\n",
       "      <th>Wood Deck SF</th>\n",
       "      <th>Open Porch SF</th>\n",
       "      <th>Enclosed Porch</th>\n",
       "      <th>3Ssn Porch</th>\n",
       "      <th>Screen Porch</th>\n",
       "      <th>Pool Area</th>\n",
       "      <th>Pool QC</th>\n",
       "      <th>Fence</th>\n",
       "      <th>Misc Feature</th>\n",
       "      <th>Misc Val</th>\n",
       "      <th>Mo Sold</th>\n",
       "      <th>Yr Sold</th>\n",
       "      <th>Sale Type</th>\n",
       "      <th>Sale Condition</th>\n",
       "      <th>SalePrice</th>\n",
       "    </tr>\n",
       "  </thead>\n",
       "  <tbody>\n",
       "    <tr>\n",
       "      <th>0</th>\n",
       "      <td>484</td>\n",
       "      <td>528275070</td>\n",
       "      <td>60</td>\n",
       "      <td>RL</td>\n",
       "      <td>NaN</td>\n",
       "      <td>8795</td>\n",
       "      <td>Pave</td>\n",
       "      <td>NaN</td>\n",
       "      <td>IR1</td>\n",
       "      <td>Lvl</td>\n",
       "      <td>AllPub</td>\n",
       "      <td>Inside</td>\n",
       "      <td>Gtl</td>\n",
       "      <td>Gilbert</td>\n",
       "      <td>Norm</td>\n",
       "      <td>Norm</td>\n",
       "      <td>1Fam</td>\n",
       "      <td>2Story</td>\n",
       "      <td>7</td>\n",
       "      <td>5</td>\n",
       "      <td>2000</td>\n",
       "      <td>2000</td>\n",
       "      <td>Gable</td>\n",
       "      <td>CompShg</td>\n",
       "      <td>VinylSd</td>\n",
       "      <td>VinylSd</td>\n",
       "      <td>None</td>\n",
       "      <td>0.0</td>\n",
       "      <td>Gd</td>\n",
       "      <td>TA</td>\n",
       "      <td>PConc</td>\n",
       "      <td>Gd</td>\n",
       "      <td>TA</td>\n",
       "      <td>No</td>\n",
       "      <td>GLQ</td>\n",
       "      <td>300.0</td>\n",
       "      <td>Unf</td>\n",
       "      <td>0.0</td>\n",
       "      <td>652.0</td>\n",
       "      <td>952.0</td>\n",
       "      <td>GasA</td>\n",
       "      <td>Ex</td>\n",
       "      <td>Y</td>\n",
       "      <td>SBrkr</td>\n",
       "      <td>980</td>\n",
       "      <td>1276</td>\n",
       "      <td>0</td>\n",
       "      <td>2256</td>\n",
       "      <td>0.0</td>\n",
       "      <td>0.0</td>\n",
       "      <td>2</td>\n",
       "      <td>1</td>\n",
       "      <td>4</td>\n",
       "      <td>1</td>\n",
       "      <td>Gd</td>\n",
       "      <td>8</td>\n",
       "      <td>Typ</td>\n",
       "      <td>1</td>\n",
       "      <td>TA</td>\n",
       "      <td>BuiltIn</td>\n",
       "      <td>2000.0</td>\n",
       "      <td>Fin</td>\n",
       "      <td>2.0</td>\n",
       "      <td>554.0</td>\n",
       "      <td>TA</td>\n",
       "      <td>TA</td>\n",
       "      <td>Y</td>\n",
       "      <td>224</td>\n",
       "      <td>54</td>\n",
       "      <td>0</td>\n",
       "      <td>0</td>\n",
       "      <td>0</td>\n",
       "      <td>0</td>\n",
       "      <td>NaN</td>\n",
       "      <td>NaN</td>\n",
       "      <td>NaN</td>\n",
       "      <td>0</td>\n",
       "      <td>4</td>\n",
       "      <td>2009</td>\n",
       "      <td>WD</td>\n",
       "      <td>Normal</td>\n",
       "      <td>236000</td>\n",
       "    </tr>\n",
       "    <tr>\n",
       "      <th>1</th>\n",
       "      <td>2586</td>\n",
       "      <td>535305120</td>\n",
       "      <td>20</td>\n",
       "      <td>RL</td>\n",
       "      <td>75.0</td>\n",
       "      <td>10170</td>\n",
       "      <td>Pave</td>\n",
       "      <td>NaN</td>\n",
       "      <td>Reg</td>\n",
       "      <td>Lvl</td>\n",
       "      <td>AllPub</td>\n",
       "      <td>Corner</td>\n",
       "      <td>Gtl</td>\n",
       "      <td>NAmes</td>\n",
       "      <td>Norm</td>\n",
       "      <td>Norm</td>\n",
       "      <td>1Fam</td>\n",
       "      <td>1Story</td>\n",
       "      <td>6</td>\n",
       "      <td>6</td>\n",
       "      <td>1951</td>\n",
       "      <td>1951</td>\n",
       "      <td>Hip</td>\n",
       "      <td>CompShg</td>\n",
       "      <td>Wd Sdng</td>\n",
       "      <td>Wd Sdng</td>\n",
       "      <td>BrkFace</td>\n",
       "      <td>522.0</td>\n",
       "      <td>TA</td>\n",
       "      <td>TA</td>\n",
       "      <td>CBlock</td>\n",
       "      <td>TA</td>\n",
       "      <td>TA</td>\n",
       "      <td>No</td>\n",
       "      <td>Unf</td>\n",
       "      <td>0.0</td>\n",
       "      <td>Unf</td>\n",
       "      <td>0.0</td>\n",
       "      <td>216.0</td>\n",
       "      <td>216.0</td>\n",
       "      <td>GasA</td>\n",
       "      <td>TA</td>\n",
       "      <td>Y</td>\n",
       "      <td>SBrkr</td>\n",
       "      <td>1575</td>\n",
       "      <td>0</td>\n",
       "      <td>0</td>\n",
       "      <td>1575</td>\n",
       "      <td>0.0</td>\n",
       "      <td>0.0</td>\n",
       "      <td>1</td>\n",
       "      <td>1</td>\n",
       "      <td>2</td>\n",
       "      <td>1</td>\n",
       "      <td>Gd</td>\n",
       "      <td>5</td>\n",
       "      <td>Typ</td>\n",
       "      <td>1</td>\n",
       "      <td>Gd</td>\n",
       "      <td>Attchd</td>\n",
       "      <td>1951.0</td>\n",
       "      <td>Unf</td>\n",
       "      <td>2.0</td>\n",
       "      <td>400.0</td>\n",
       "      <td>TA</td>\n",
       "      <td>TA</td>\n",
       "      <td>Y</td>\n",
       "      <td>0</td>\n",
       "      <td>0</td>\n",
       "      <td>0</td>\n",
       "      <td>0</td>\n",
       "      <td>0</td>\n",
       "      <td>0</td>\n",
       "      <td>NaN</td>\n",
       "      <td>NaN</td>\n",
       "      <td>NaN</td>\n",
       "      <td>0</td>\n",
       "      <td>6</td>\n",
       "      <td>2006</td>\n",
       "      <td>WD</td>\n",
       "      <td>Normal</td>\n",
       "      <td>155000</td>\n",
       "    </tr>\n",
       "    <tr>\n",
       "      <th>2</th>\n",
       "      <td>2289</td>\n",
       "      <td>923228250</td>\n",
       "      <td>160</td>\n",
       "      <td>RM</td>\n",
       "      <td>21.0</td>\n",
       "      <td>2001</td>\n",
       "      <td>Pave</td>\n",
       "      <td>NaN</td>\n",
       "      <td>Reg</td>\n",
       "      <td>Lvl</td>\n",
       "      <td>AllPub</td>\n",
       "      <td>Inside</td>\n",
       "      <td>Gtl</td>\n",
       "      <td>MeadowV</td>\n",
       "      <td>Norm</td>\n",
       "      <td>Norm</td>\n",
       "      <td>Twnhs</td>\n",
       "      <td>2Story</td>\n",
       "      <td>4</td>\n",
       "      <td>5</td>\n",
       "      <td>1970</td>\n",
       "      <td>1970</td>\n",
       "      <td>Gable</td>\n",
       "      <td>CompShg</td>\n",
       "      <td>CemntBd</td>\n",
       "      <td>CmentBd</td>\n",
       "      <td>BrkFace</td>\n",
       "      <td>80.0</td>\n",
       "      <td>TA</td>\n",
       "      <td>TA</td>\n",
       "      <td>CBlock</td>\n",
       "      <td>TA</td>\n",
       "      <td>TA</td>\n",
       "      <td>No</td>\n",
       "      <td>Unf</td>\n",
       "      <td>0.0</td>\n",
       "      <td>Unf</td>\n",
       "      <td>0.0</td>\n",
       "      <td>546.0</td>\n",
       "      <td>546.0</td>\n",
       "      <td>GasA</td>\n",
       "      <td>Fa</td>\n",
       "      <td>Y</td>\n",
       "      <td>SBrkr</td>\n",
       "      <td>546</td>\n",
       "      <td>546</td>\n",
       "      <td>0</td>\n",
       "      <td>1092</td>\n",
       "      <td>0.0</td>\n",
       "      <td>0.0</td>\n",
       "      <td>1</td>\n",
       "      <td>1</td>\n",
       "      <td>3</td>\n",
       "      <td>1</td>\n",
       "      <td>TA</td>\n",
       "      <td>6</td>\n",
       "      <td>Typ</td>\n",
       "      <td>0</td>\n",
       "      <td>NaN</td>\n",
       "      <td>Attchd</td>\n",
       "      <td>1970.0</td>\n",
       "      <td>Unf</td>\n",
       "      <td>1.0</td>\n",
       "      <td>286.0</td>\n",
       "      <td>TA</td>\n",
       "      <td>TA</td>\n",
       "      <td>Y</td>\n",
       "      <td>0</td>\n",
       "      <td>0</td>\n",
       "      <td>0</td>\n",
       "      <td>0</td>\n",
       "      <td>0</td>\n",
       "      <td>0</td>\n",
       "      <td>NaN</td>\n",
       "      <td>NaN</td>\n",
       "      <td>NaN</td>\n",
       "      <td>0</td>\n",
       "      <td>1</td>\n",
       "      <td>2007</td>\n",
       "      <td>WD</td>\n",
       "      <td>Normal</td>\n",
       "      <td>75000</td>\n",
       "    </tr>\n",
       "  </tbody>\n",
       "</table>\n",
       "</div>"
      ],
      "text/plain": [
       "   Order        PID  MS SubClass MS Zoning  Lot Frontage  Lot Area Street  \\\n",
       "0    484  528275070           60        RL           NaN      8795   Pave   \n",
       "1   2586  535305120           20        RL          75.0     10170   Pave   \n",
       "2   2289  923228250          160        RM          21.0      2001   Pave   \n",
       "\n",
       "  Alley Lot Shape Land Contour Utilities Lot Config Land Slope Neighborhood  \\\n",
       "0   NaN       IR1          Lvl    AllPub     Inside        Gtl      Gilbert   \n",
       "1   NaN       Reg          Lvl    AllPub     Corner        Gtl        NAmes   \n",
       "2   NaN       Reg          Lvl    AllPub     Inside        Gtl      MeadowV   \n",
       "\n",
       "  Condition 1 Condition 2 Bldg Type House Style  Overall Qual  Overall Cond  \\\n",
       "0        Norm        Norm      1Fam      2Story             7             5   \n",
       "1        Norm        Norm      1Fam      1Story             6             6   \n",
       "2        Norm        Norm     Twnhs      2Story             4             5   \n",
       "\n",
       "   Year Built  Year Remod/Add Roof Style Roof Matl Exterior 1st Exterior 2nd  \\\n",
       "0        2000            2000      Gable   CompShg      VinylSd      VinylSd   \n",
       "1        1951            1951        Hip   CompShg      Wd Sdng      Wd Sdng   \n",
       "2        1970            1970      Gable   CompShg      CemntBd      CmentBd   \n",
       "\n",
       "  Mas Vnr Type  Mas Vnr Area Exter Qual Exter Cond Foundation Bsmt Qual  \\\n",
       "0         None           0.0         Gd         TA      PConc        Gd   \n",
       "1      BrkFace         522.0         TA         TA     CBlock        TA   \n",
       "2      BrkFace          80.0         TA         TA     CBlock        TA   \n",
       "\n",
       "  Bsmt Cond Bsmt Exposure BsmtFin Type 1  BsmtFin SF 1 BsmtFin Type 2  \\\n",
       "0        TA            No            GLQ         300.0            Unf   \n",
       "1        TA            No            Unf           0.0            Unf   \n",
       "2        TA            No            Unf           0.0            Unf   \n",
       "\n",
       "   BsmtFin SF 2  Bsmt Unf SF  Total Bsmt SF Heating Heating QC Central Air  \\\n",
       "0           0.0        652.0          952.0    GasA         Ex           Y   \n",
       "1           0.0        216.0          216.0    GasA         TA           Y   \n",
       "2           0.0        546.0          546.0    GasA         Fa           Y   \n",
       "\n",
       "  Electrical  1st Flr SF  2nd Flr SF  Low Qual Fin SF  Gr Liv Area  \\\n",
       "0      SBrkr         980        1276                0         2256   \n",
       "1      SBrkr        1575           0                0         1575   \n",
       "2      SBrkr         546         546                0         1092   \n",
       "\n",
       "   Bsmt Full Bath  Bsmt Half Bath  Full Bath  Half Bath  Bedroom AbvGr  \\\n",
       "0             0.0             0.0          2          1              4   \n",
       "1             0.0             0.0          1          1              2   \n",
       "2             0.0             0.0          1          1              3   \n",
       "\n",
       "   Kitchen AbvGr Kitchen Qual  TotRms AbvGrd Functional  Fireplaces  \\\n",
       "0              1           Gd              8        Typ           1   \n",
       "1              1           Gd              5        Typ           1   \n",
       "2              1           TA              6        Typ           0   \n",
       "\n",
       "  Fireplace Qu Garage Type  Garage Yr Blt Garage Finish  Garage Cars  \\\n",
       "0           TA     BuiltIn         2000.0           Fin          2.0   \n",
       "1           Gd      Attchd         1951.0           Unf          2.0   \n",
       "2          NaN      Attchd         1970.0           Unf          1.0   \n",
       "\n",
       "   Garage Area Garage Qual Garage Cond Paved Drive  Wood Deck SF  \\\n",
       "0        554.0          TA          TA           Y           224   \n",
       "1        400.0          TA          TA           Y             0   \n",
       "2        286.0          TA          TA           Y             0   \n",
       "\n",
       "   Open Porch SF  Enclosed Porch  3Ssn Porch  Screen Porch  Pool Area Pool QC  \\\n",
       "0             54               0           0             0          0     NaN   \n",
       "1              0               0           0             0          0     NaN   \n",
       "2              0               0           0             0          0     NaN   \n",
       "\n",
       "  Fence Misc Feature  Misc Val  Mo Sold  Yr Sold Sale Type Sale Condition  \\\n",
       "0   NaN          NaN         0        4     2009       WD          Normal   \n",
       "1   NaN          NaN         0        6     2006       WD          Normal   \n",
       "2   NaN          NaN         0        1     2007       WD          Normal   \n",
       "\n",
       "   SalePrice  \n",
       "0     236000  \n",
       "1     155000  \n",
       "2      75000  "
      ]
     },
     "metadata": {},
     "output_type": "display_data"
    },
    {
     "data": {
      "text/html": [
       "<div>\n",
       "<style scoped>\n",
       "    .dataframe tbody tr th:only-of-type {\n",
       "        vertical-align: middle;\n",
       "    }\n",
       "\n",
       "    .dataframe tbody tr th {\n",
       "        vertical-align: top;\n",
       "    }\n",
       "\n",
       "    .dataframe thead th {\n",
       "        text-align: right;\n",
       "    }\n",
       "</style>\n",
       "<table border=\"1\" class=\"dataframe\">\n",
       "  <thead>\n",
       "    <tr style=\"text-align: right;\">\n",
       "      <th></th>\n",
       "      <th>Order</th>\n",
       "      <th>PID</th>\n",
       "      <th>MS SubClass</th>\n",
       "      <th>MS Zoning</th>\n",
       "      <th>Lot Frontage</th>\n",
       "      <th>Lot Area</th>\n",
       "      <th>Street</th>\n",
       "      <th>Alley</th>\n",
       "      <th>Lot Shape</th>\n",
       "      <th>Land Contour</th>\n",
       "      <th>Utilities</th>\n",
       "      <th>Lot Config</th>\n",
       "      <th>Land Slope</th>\n",
       "      <th>Neighborhood</th>\n",
       "      <th>Condition 1</th>\n",
       "      <th>Condition 2</th>\n",
       "      <th>Bldg Type</th>\n",
       "      <th>House Style</th>\n",
       "      <th>Overall Qual</th>\n",
       "      <th>Overall Cond</th>\n",
       "      <th>Year Built</th>\n",
       "      <th>Year Remod/Add</th>\n",
       "      <th>Roof Style</th>\n",
       "      <th>Roof Matl</th>\n",
       "      <th>Exterior 1st</th>\n",
       "      <th>Exterior 2nd</th>\n",
       "      <th>Mas Vnr Type</th>\n",
       "      <th>Mas Vnr Area</th>\n",
       "      <th>Exter Qual</th>\n",
       "      <th>Exter Cond</th>\n",
       "      <th>Foundation</th>\n",
       "      <th>Bsmt Qual</th>\n",
       "      <th>Bsmt Cond</th>\n",
       "      <th>Bsmt Exposure</th>\n",
       "      <th>BsmtFin Type 1</th>\n",
       "      <th>BsmtFin SF 1</th>\n",
       "      <th>BsmtFin Type 2</th>\n",
       "      <th>BsmtFin SF 2</th>\n",
       "      <th>Bsmt Unf SF</th>\n",
       "      <th>Total Bsmt SF</th>\n",
       "      <th>Heating</th>\n",
       "      <th>Heating QC</th>\n",
       "      <th>Central Air</th>\n",
       "      <th>Electrical</th>\n",
       "      <th>1st Flr SF</th>\n",
       "      <th>2nd Flr SF</th>\n",
       "      <th>Low Qual Fin SF</th>\n",
       "      <th>Gr Liv Area</th>\n",
       "      <th>Bsmt Full Bath</th>\n",
       "      <th>Bsmt Half Bath</th>\n",
       "      <th>Full Bath</th>\n",
       "      <th>Half Bath</th>\n",
       "      <th>Bedroom AbvGr</th>\n",
       "      <th>Kitchen AbvGr</th>\n",
       "      <th>Kitchen Qual</th>\n",
       "      <th>TotRms AbvGrd</th>\n",
       "      <th>Functional</th>\n",
       "      <th>Fireplaces</th>\n",
       "      <th>Fireplace Qu</th>\n",
       "      <th>Garage Type</th>\n",
       "      <th>Garage Yr Blt</th>\n",
       "      <th>Garage Finish</th>\n",
       "      <th>Garage Cars</th>\n",
       "      <th>Garage Area</th>\n",
       "      <th>Garage Qual</th>\n",
       "      <th>Garage Cond</th>\n",
       "      <th>Paved Drive</th>\n",
       "      <th>Wood Deck SF</th>\n",
       "      <th>Open Porch SF</th>\n",
       "      <th>Enclosed Porch</th>\n",
       "      <th>3Ssn Porch</th>\n",
       "      <th>Screen Porch</th>\n",
       "      <th>Pool Area</th>\n",
       "      <th>Pool QC</th>\n",
       "      <th>Fence</th>\n",
       "      <th>Misc Feature</th>\n",
       "      <th>Misc Val</th>\n",
       "      <th>Mo Sold</th>\n",
       "      <th>Yr Sold</th>\n",
       "      <th>Sale Type</th>\n",
       "      <th>Sale Condition</th>\n",
       "    </tr>\n",
       "  </thead>\n",
       "  <tbody>\n",
       "    <tr>\n",
       "      <th>0</th>\n",
       "      <td>2217</td>\n",
       "      <td>909279080</td>\n",
       "      <td>50</td>\n",
       "      <td>RL</td>\n",
       "      <td>NaN</td>\n",
       "      <td>11275</td>\n",
       "      <td>Pave</td>\n",
       "      <td>NaN</td>\n",
       "      <td>IR1</td>\n",
       "      <td>HLS</td>\n",
       "      <td>AllPub</td>\n",
       "      <td>Corner</td>\n",
       "      <td>Mod</td>\n",
       "      <td>Crawfor</td>\n",
       "      <td>Norm</td>\n",
       "      <td>Norm</td>\n",
       "      <td>1Fam</td>\n",
       "      <td>1.5Fin</td>\n",
       "      <td>6</td>\n",
       "      <td>7</td>\n",
       "      <td>1932</td>\n",
       "      <td>1950</td>\n",
       "      <td>Gable</td>\n",
       "      <td>CompShg</td>\n",
       "      <td>MetalSd</td>\n",
       "      <td>MetalSd</td>\n",
       "      <td>BrkFace</td>\n",
       "      <td>480.0</td>\n",
       "      <td>TA</td>\n",
       "      <td>TA</td>\n",
       "      <td>CBlock</td>\n",
       "      <td>TA</td>\n",
       "      <td>TA</td>\n",
       "      <td>Mn</td>\n",
       "      <td>Rec</td>\n",
       "      <td>297.0</td>\n",
       "      <td>LwQ</td>\n",
       "      <td>557.0</td>\n",
       "      <td>0.0</td>\n",
       "      <td>854.0</td>\n",
       "      <td>GasA</td>\n",
       "      <td>TA</td>\n",
       "      <td>Y</td>\n",
       "      <td>SBrkr</td>\n",
       "      <td>1096</td>\n",
       "      <td>895</td>\n",
       "      <td>0</td>\n",
       "      <td>1991</td>\n",
       "      <td>0.0</td>\n",
       "      <td>0.0</td>\n",
       "      <td>1</td>\n",
       "      <td>1</td>\n",
       "      <td>3</td>\n",
       "      <td>1</td>\n",
       "      <td>TA</td>\n",
       "      <td>7</td>\n",
       "      <td>Typ</td>\n",
       "      <td>1</td>\n",
       "      <td>Gd</td>\n",
       "      <td>Detchd</td>\n",
       "      <td>1977.0</td>\n",
       "      <td>Unf</td>\n",
       "      <td>2.0</td>\n",
       "      <td>432.0</td>\n",
       "      <td>TA</td>\n",
       "      <td>Fa</td>\n",
       "      <td>Y</td>\n",
       "      <td>0</td>\n",
       "      <td>0</td>\n",
       "      <td>19</td>\n",
       "      <td>0</td>\n",
       "      <td>0</td>\n",
       "      <td>0</td>\n",
       "      <td>NaN</td>\n",
       "      <td>NaN</td>\n",
       "      <td>NaN</td>\n",
       "      <td>0</td>\n",
       "      <td>3</td>\n",
       "      <td>2007</td>\n",
       "      <td>WD</td>\n",
       "      <td>Normal</td>\n",
       "    </tr>\n",
       "    <tr>\n",
       "      <th>1</th>\n",
       "      <td>837</td>\n",
       "      <td>907126050</td>\n",
       "      <td>20</td>\n",
       "      <td>RL</td>\n",
       "      <td>65.0</td>\n",
       "      <td>9757</td>\n",
       "      <td>Pave</td>\n",
       "      <td>NaN</td>\n",
       "      <td>Reg</td>\n",
       "      <td>Low</td>\n",
       "      <td>AllPub</td>\n",
       "      <td>Inside</td>\n",
       "      <td>Mod</td>\n",
       "      <td>CollgCr</td>\n",
       "      <td>Norm</td>\n",
       "      <td>Norm</td>\n",
       "      <td>1Fam</td>\n",
       "      <td>1Story</td>\n",
       "      <td>5</td>\n",
       "      <td>7</td>\n",
       "      <td>1994</td>\n",
       "      <td>1994</td>\n",
       "      <td>Gable</td>\n",
       "      <td>CompShg</td>\n",
       "      <td>VinylSd</td>\n",
       "      <td>VinylSd</td>\n",
       "      <td>None</td>\n",
       "      <td>0.0</td>\n",
       "      <td>TA</td>\n",
       "      <td>Gd</td>\n",
       "      <td>PConc</td>\n",
       "      <td>TA</td>\n",
       "      <td>TA</td>\n",
       "      <td>No</td>\n",
       "      <td>ALQ</td>\n",
       "      <td>755.0</td>\n",
       "      <td>Unf</td>\n",
       "      <td>0.0</td>\n",
       "      <td>235.0</td>\n",
       "      <td>990.0</td>\n",
       "      <td>GasA</td>\n",
       "      <td>Ex</td>\n",
       "      <td>Y</td>\n",
       "      <td>SBrkr</td>\n",
       "      <td>990</td>\n",
       "      <td>0</td>\n",
       "      <td>0</td>\n",
       "      <td>990</td>\n",
       "      <td>1.0</td>\n",
       "      <td>0.0</td>\n",
       "      <td>1</td>\n",
       "      <td>0</td>\n",
       "      <td>3</td>\n",
       "      <td>1</td>\n",
       "      <td>TA</td>\n",
       "      <td>5</td>\n",
       "      <td>Typ</td>\n",
       "      <td>0</td>\n",
       "      <td>NaN</td>\n",
       "      <td>Attchd</td>\n",
       "      <td>1995.0</td>\n",
       "      <td>RFn</td>\n",
       "      <td>1.0</td>\n",
       "      <td>440.0</td>\n",
       "      <td>TA</td>\n",
       "      <td>TA</td>\n",
       "      <td>Y</td>\n",
       "      <td>66</td>\n",
       "      <td>0</td>\n",
       "      <td>0</td>\n",
       "      <td>0</td>\n",
       "      <td>92</td>\n",
       "      <td>0</td>\n",
       "      <td>NaN</td>\n",
       "      <td>NaN</td>\n",
       "      <td>NaN</td>\n",
       "      <td>0</td>\n",
       "      <td>10</td>\n",
       "      <td>2009</td>\n",
       "      <td>WD</td>\n",
       "      <td>Normal</td>\n",
       "    </tr>\n",
       "    <tr>\n",
       "      <th>2</th>\n",
       "      <td>2397</td>\n",
       "      <td>528144030</td>\n",
       "      <td>60</td>\n",
       "      <td>RL</td>\n",
       "      <td>86.0</td>\n",
       "      <td>11065</td>\n",
       "      <td>Pave</td>\n",
       "      <td>NaN</td>\n",
       "      <td>IR1</td>\n",
       "      <td>Lvl</td>\n",
       "      <td>AllPub</td>\n",
       "      <td>Inside</td>\n",
       "      <td>Gtl</td>\n",
       "      <td>NridgHt</td>\n",
       "      <td>Norm</td>\n",
       "      <td>Norm</td>\n",
       "      <td>1Fam</td>\n",
       "      <td>2Story</td>\n",
       "      <td>8</td>\n",
       "      <td>5</td>\n",
       "      <td>2006</td>\n",
       "      <td>2006</td>\n",
       "      <td>Gable</td>\n",
       "      <td>CompShg</td>\n",
       "      <td>VinylSd</td>\n",
       "      <td>VinylSd</td>\n",
       "      <td>Stone</td>\n",
       "      <td>788.0</td>\n",
       "      <td>Gd</td>\n",
       "      <td>TA</td>\n",
       "      <td>PConc</td>\n",
       "      <td>Gd</td>\n",
       "      <td>TA</td>\n",
       "      <td>Mn</td>\n",
       "      <td>Unf</td>\n",
       "      <td>0.0</td>\n",
       "      <td>Unf</td>\n",
       "      <td>0.0</td>\n",
       "      <td>1085.0</td>\n",
       "      <td>1085.0</td>\n",
       "      <td>GasA</td>\n",
       "      <td>Ex</td>\n",
       "      <td>Y</td>\n",
       "      <td>SBrkr</td>\n",
       "      <td>1120</td>\n",
       "      <td>850</td>\n",
       "      <td>0</td>\n",
       "      <td>1970</td>\n",
       "      <td>0.0</td>\n",
       "      <td>0.0</td>\n",
       "      <td>2</td>\n",
       "      <td>1</td>\n",
       "      <td>3</td>\n",
       "      <td>1</td>\n",
       "      <td>Ex</td>\n",
       "      <td>8</td>\n",
       "      <td>Typ</td>\n",
       "      <td>1</td>\n",
       "      <td>Gd</td>\n",
       "      <td>BuiltIn</td>\n",
       "      <td>2006.0</td>\n",
       "      <td>Fin</td>\n",
       "      <td>3.0</td>\n",
       "      <td>753.0</td>\n",
       "      <td>TA</td>\n",
       "      <td>TA</td>\n",
       "      <td>Y</td>\n",
       "      <td>177</td>\n",
       "      <td>74</td>\n",
       "      <td>0</td>\n",
       "      <td>0</td>\n",
       "      <td>0</td>\n",
       "      <td>0</td>\n",
       "      <td>NaN</td>\n",
       "      <td>NaN</td>\n",
       "      <td>NaN</td>\n",
       "      <td>0</td>\n",
       "      <td>10</td>\n",
       "      <td>2006</td>\n",
       "      <td>New</td>\n",
       "      <td>Partial</td>\n",
       "    </tr>\n",
       "  </tbody>\n",
       "</table>\n",
       "</div>"
      ],
      "text/plain": [
       "   Order        PID  MS SubClass MS Zoning  Lot Frontage  Lot Area Street  \\\n",
       "0   2217  909279080           50        RL           NaN     11275   Pave   \n",
       "1    837  907126050           20        RL          65.0      9757   Pave   \n",
       "2   2397  528144030           60        RL          86.0     11065   Pave   \n",
       "\n",
       "  Alley Lot Shape Land Contour Utilities Lot Config Land Slope Neighborhood  \\\n",
       "0   NaN       IR1          HLS    AllPub     Corner        Mod      Crawfor   \n",
       "1   NaN       Reg          Low    AllPub     Inside        Mod      CollgCr   \n",
       "2   NaN       IR1          Lvl    AllPub     Inside        Gtl      NridgHt   \n",
       "\n",
       "  Condition 1 Condition 2 Bldg Type House Style  Overall Qual  Overall Cond  \\\n",
       "0        Norm        Norm      1Fam      1.5Fin             6             7   \n",
       "1        Norm        Norm      1Fam      1Story             5             7   \n",
       "2        Norm        Norm      1Fam      2Story             8             5   \n",
       "\n",
       "   Year Built  Year Remod/Add Roof Style Roof Matl Exterior 1st Exterior 2nd  \\\n",
       "0        1932            1950      Gable   CompShg      MetalSd      MetalSd   \n",
       "1        1994            1994      Gable   CompShg      VinylSd      VinylSd   \n",
       "2        2006            2006      Gable   CompShg      VinylSd      VinylSd   \n",
       "\n",
       "  Mas Vnr Type  Mas Vnr Area Exter Qual Exter Cond Foundation Bsmt Qual  \\\n",
       "0      BrkFace         480.0         TA         TA     CBlock        TA   \n",
       "1         None           0.0         TA         Gd      PConc        TA   \n",
       "2        Stone         788.0         Gd         TA      PConc        Gd   \n",
       "\n",
       "  Bsmt Cond Bsmt Exposure BsmtFin Type 1  BsmtFin SF 1 BsmtFin Type 2  \\\n",
       "0        TA            Mn            Rec         297.0            LwQ   \n",
       "1        TA            No            ALQ         755.0            Unf   \n",
       "2        TA            Mn            Unf           0.0            Unf   \n",
       "\n",
       "   BsmtFin SF 2  Bsmt Unf SF  Total Bsmt SF Heating Heating QC Central Air  \\\n",
       "0         557.0          0.0          854.0    GasA         TA           Y   \n",
       "1           0.0        235.0          990.0    GasA         Ex           Y   \n",
       "2           0.0       1085.0         1085.0    GasA         Ex           Y   \n",
       "\n",
       "  Electrical  1st Flr SF  2nd Flr SF  Low Qual Fin SF  Gr Liv Area  \\\n",
       "0      SBrkr        1096         895                0         1991   \n",
       "1      SBrkr         990           0                0          990   \n",
       "2      SBrkr        1120         850                0         1970   \n",
       "\n",
       "   Bsmt Full Bath  Bsmt Half Bath  Full Bath  Half Bath  Bedroom AbvGr  \\\n",
       "0             0.0             0.0          1          1              3   \n",
       "1             1.0             0.0          1          0              3   \n",
       "2             0.0             0.0          2          1              3   \n",
       "\n",
       "   Kitchen AbvGr Kitchen Qual  TotRms AbvGrd Functional  Fireplaces  \\\n",
       "0              1           TA              7        Typ           1   \n",
       "1              1           TA              5        Typ           0   \n",
       "2              1           Ex              8        Typ           1   \n",
       "\n",
       "  Fireplace Qu Garage Type  Garage Yr Blt Garage Finish  Garage Cars  \\\n",
       "0           Gd      Detchd         1977.0           Unf          2.0   \n",
       "1          NaN      Attchd         1995.0           RFn          1.0   \n",
       "2           Gd     BuiltIn         2006.0           Fin          3.0   \n",
       "\n",
       "   Garage Area Garage Qual Garage Cond Paved Drive  Wood Deck SF  \\\n",
       "0        432.0          TA          Fa           Y             0   \n",
       "1        440.0          TA          TA           Y            66   \n",
       "2        753.0          TA          TA           Y           177   \n",
       "\n",
       "   Open Porch SF  Enclosed Porch  3Ssn Porch  Screen Porch  Pool Area Pool QC  \\\n",
       "0              0              19           0             0          0     NaN   \n",
       "1              0               0           0            92          0     NaN   \n",
       "2             74               0           0             0          0     NaN   \n",
       "\n",
       "  Fence Misc Feature  Misc Val  Mo Sold  Yr Sold Sale Type Sale Condition  \n",
       "0   NaN          NaN         0        3     2007       WD          Normal  \n",
       "1   NaN          NaN         0       10     2009       WD          Normal  \n",
       "2   NaN          NaN         0       10     2006       New        Partial  "
      ]
     },
     "metadata": {},
     "output_type": "display_data"
    }
   ],
   "source": [
    "with pd.option_context('display.max_columns', None):\n",
    "    display(df_la.head(3))\n",
    "    display(df_un.head(3))"
   ]
  },
  {
   "cell_type": "markdown",
   "metadata": {},
   "source": [
    "For the data cleaning we will work on both data sets (labelled and unlabelled) at the same time. We are not allowed to drop data points from the unlabelled data set."
   ]
  },
  {
   "cell_type": "code",
   "execution_count": 204,
   "metadata": {},
   "outputs": [],
   "source": [
    "n_la = df_la.shape[0]\n",
    "n_un = df_un.shape[0]\n",
    "df_all = pd.concat([df_la.drop(columns='SalePrice'), df_un]).reset_index(drop=True)\n",
    "assert df_all.shape[0] == (n_la + n_un)"
   ]
  },
  {
   "cell_type": "code",
   "execution_count": 205,
   "metadata": {},
   "outputs": [
    {
     "name": "stdout",
     "output_type": "stream",
     "text": [
      "<class 'pandas.core.frame.DataFrame'>\n",
      "RangeIndex: 2930 entries, 0 to 2929\n",
      "Data columns (total 81 columns):\n",
      "Order              2930 non-null int64\n",
      "PID                2930 non-null int64\n",
      "MS SubClass        2930 non-null int64\n",
      "MS Zoning          2930 non-null object\n",
      "Lot Frontage       2440 non-null float64\n",
      "Lot Area           2930 non-null int64\n",
      "Street             2930 non-null object\n",
      "Alley              198 non-null object\n",
      "Lot Shape          2930 non-null object\n",
      "Land Contour       2930 non-null object\n",
      "Utilities          2930 non-null object\n",
      "Lot Config         2930 non-null object\n",
      "Land Slope         2930 non-null object\n",
      "Neighborhood       2930 non-null object\n",
      "Condition 1        2930 non-null object\n",
      "Condition 2        2930 non-null object\n",
      "Bldg Type          2930 non-null object\n",
      "House Style        2930 non-null object\n",
      "Overall Qual       2930 non-null int64\n",
      "Overall Cond       2930 non-null int64\n",
      "Year Built         2930 non-null int64\n",
      "Year Remod/Add     2930 non-null int64\n",
      "Roof Style         2930 non-null object\n",
      "Roof Matl          2930 non-null object\n",
      "Exterior 1st       2930 non-null object\n",
      "Exterior 2nd       2930 non-null object\n",
      "Mas Vnr Type       2907 non-null object\n",
      "Mas Vnr Area       2907 non-null float64\n",
      "Exter Qual         2930 non-null object\n",
      "Exter Cond         2930 non-null object\n",
      "Foundation         2930 non-null object\n",
      "Bsmt Qual          2850 non-null object\n",
      "Bsmt Cond          2850 non-null object\n",
      "Bsmt Exposure      2847 non-null object\n",
      "BsmtFin Type 1     2850 non-null object\n",
      "BsmtFin SF 1       2929 non-null float64\n",
      "BsmtFin Type 2     2849 non-null object\n",
      "BsmtFin SF 2       2929 non-null float64\n",
      "Bsmt Unf SF        2929 non-null float64\n",
      "Total Bsmt SF      2929 non-null float64\n",
      "Heating            2930 non-null object\n",
      "Heating QC         2930 non-null object\n",
      "Central Air        2930 non-null object\n",
      "Electrical         2929 non-null object\n",
      "1st Flr SF         2930 non-null int64\n",
      "2nd Flr SF         2930 non-null int64\n",
      "Low Qual Fin SF    2930 non-null int64\n",
      "Gr Liv Area        2930 non-null int64\n",
      "Bsmt Full Bath     2928 non-null float64\n",
      "Bsmt Half Bath     2928 non-null float64\n",
      "Full Bath          2930 non-null int64\n",
      "Half Bath          2930 non-null int64\n",
      "Bedroom AbvGr      2930 non-null int64\n",
      "Kitchen AbvGr      2930 non-null int64\n",
      "Kitchen Qual       2930 non-null object\n",
      "TotRms AbvGrd      2930 non-null int64\n",
      "Functional         2930 non-null object\n",
      "Fireplaces         2930 non-null int64\n",
      "Fireplace Qu       1508 non-null object\n",
      "Garage Type        2773 non-null object\n",
      "Garage Yr Blt      2771 non-null float64\n",
      "Garage Finish      2771 non-null object\n",
      "Garage Cars        2929 non-null float64\n",
      "Garage Area        2929 non-null float64\n",
      "Garage Qual        2771 non-null object\n",
      "Garage Cond        2771 non-null object\n",
      "Paved Drive        2930 non-null object\n",
      "Wood Deck SF       2930 non-null int64\n",
      "Open Porch SF      2930 non-null int64\n",
      "Enclosed Porch     2930 non-null int64\n",
      "3Ssn Porch         2930 non-null int64\n",
      "Screen Porch       2930 non-null int64\n",
      "Pool Area          2930 non-null int64\n",
      "Pool QC            13 non-null object\n",
      "Fence              572 non-null object\n",
      "Misc Feature       106 non-null object\n",
      "Misc Val           2930 non-null int64\n",
      "Mo Sold            2930 non-null int64\n",
      "Yr Sold            2930 non-null int64\n",
      "Sale Type          2930 non-null object\n",
      "Sale Condition     2930 non-null object\n",
      "dtypes: float64(11), int64(27), object(43)\n",
      "memory usage: 1.8+ MB\n"
     ]
    }
   ],
   "source": [
    "df_all.info(verbose=True, null_counts=True)"
   ]
  },
  {
   "cell_type": "markdown",
   "metadata": {},
   "source": [
    "**Note:** In order to make it easier to work with all the variables, we have prepared a little JSON document that, for each variable, lists its name and its kind (nominal or ordinal for qualitative variables; discrete or continuous for quantitative variables). For qualitative variables, it also lists the valid values. (This document was generated by parsing the documentation. The code is in `parse_variables.py`.)"
   ]
  },
  {
   "cell_type": "code",
   "execution_count": 206,
   "metadata": {},
   "outputs": [],
   "source": [
    "variables = utils.load_variables('variables.json')"
   ]
  },
  {
   "cell_type": "markdown",
   "metadata": {},
   "source": [
    "As per the instructions, we drop the `Order` and `PID` variables since we will not be using them and we \n",
    "check the counts for the remaining variables:"
   ]
  },
  {
   "cell_type": "code",
   "execution_count": 207,
   "metadata": {},
   "outputs": [
    {
     "name": "stdout",
     "output_type": "stream",
     "text": [
      "variables of kind nominal: 23\n",
      "variables of kind ordinal: 23\n",
      "variables of kind discrete: 14\n",
      "variables of kind continuous: 20\n"
     ]
    }
   ],
   "source": [
    "variables.pop('Order')\n",
    "variables.pop('PID')\n",
    "\n",
    "\n",
    "def list_by_kind(kind: str) -> T.List[str]:\n",
    "    return [name for name, attrs in variables.items() if attrs['kind'] == kind]\n",
    "\n",
    "\n",
    "for kind in ['Nominal', 'Ordinal', 'Discrete', 'Continuous']:\n",
    "    print(f'variables of kind {kind.lower()}: {len(list_by_kind(kind))}')"
   ]
  },
  {
   "cell_type": "markdown",
   "metadata": {},
   "source": [
    "### Step 1 - Find and handle incorrect and missing values<a name=\"stage-1-step-1\"></a> ([top](#top))\n",
    "---"
   ]
  },
  {
   "cell_type": "markdown",
   "metadata": {},
   "source": [
    "We are told that the data set contains incorrect and missing values. Our plan is:\n",
    "\n",
    "* **Qualitative and quantitative variables :** We want to make sure that qualitative and quantitative variables take only valid values. For this we refer to the documentation. For qualitative variables, we already extracted the list of valid values. For quantitative variables, we know that they should be non-negative.\n",
    "* **Features/amenities:** We want to make sure that groups of variables that describe a given feature/amenity (e.g. the basement) are consistent (e.g. it should not be the case that some variables imply that there is a basement while other variables imply that there is none)."
   ]
  },
  {
   "cell_type": "markdown",
   "metadata": {},
   "source": [
    "#### Qualitative variables\n",
    "---"
   ]
  },
  {
   "cell_type": "markdown",
   "metadata": {},
   "source": [
    "The 1st thing we notice when we try to check qualitative variables is that the names of some variables differ between the data set and the documentation. **We decide to align the definitions to match the data set.**"
   ]
  },
  {
   "cell_type": "code",
   "execution_count": 208,
   "metadata": {},
   "outputs": [],
   "source": [
    "# Update the definitions:\n",
    "replacements = {\n",
    "    # E.g. 'Exterior 1' in the documentation is 'Exterior 1st' in the data set:\n",
    "    'Exterior 1': 'Exterior 1st',\n",
    "    'Exterior 2': 'Exterior 2nd',\n",
    "    'BsmtFinType 2': 'BsmtFin Type 2',\n",
    "    'HeatingQC': 'Heating QC',\n",
    "    'KitchenQual': 'Kitchen Qual',\n",
    "    'FireplaceQu': 'Fireplace Qu'\n",
    "}\n",
    "\n",
    "# Replace while preserving the order:\n",
    "pairs = [(replacements.get(name, name), attrs) for name, attrs in variables.items()]\n",
    "variables = collections.OrderedDict(pairs)"
   ]
  },
  {
   "cell_type": "markdown",
   "metadata": {},
   "source": [
    "The 2nd thing we notice is that _NA_ in the documentation is represented by `np.nan` in the data set. **We decide to align the data set to match the definitions.**"
   ]
  },
  {
   "cell_type": "code",
   "execution_count": 209,
   "metadata": {},
   "outputs": [],
   "source": [
    "# Correct the data set:\n",
    "for name, attrs in variables.items():\n",
    "    if not utils.is_qualitative(attrs):\n",
    "        continue\n",
    "    if 'NA' in attrs['values']:\n",
    "        df_all[name] = df_all[name].fillna('NA')"
   ]
  },
  {
   "cell_type": "markdown",
   "metadata": {},
   "source": [
    "We build a data-frame with the number of null and invalid values:"
   ]
  },
  {
   "cell_type": "code",
   "execution_count": 210,
   "metadata": {},
   "outputs": [],
   "source": [
    "data = []\n",
    "for name, attrs in variables.items():\n",
    "    if not utils.is_qualitative(attrs):\n",
    "        continue\n",
    "    series = df_all[name]\n",
    "    null_count = utils.count_null(series)\n",
    "    invalid_count = utils.count_invalid(series, attrs['values'])\n",
    "    data.append((name, attrs['kind'], null_count, invalid_count))\n",
    "df_ql = pd.DataFrame(data=data, columns=['name', 'kind', 'null_count', 'invalid_count'])"
   ]
  },
  {
   "cell_type": "markdown",
   "metadata": {},
   "source": [
    "The qualitative variables that we need to investigate are:"
   ]
  },
  {
   "cell_type": "code",
   "execution_count": 211,
   "metadata": {},
   "outputs": [
    {
     "data": {
      "text/html": [
       "<div>\n",
       "<style scoped>\n",
       "    .dataframe tbody tr th:only-of-type {\n",
       "        vertical-align: middle;\n",
       "    }\n",
       "\n",
       "    .dataframe tbody tr th {\n",
       "        vertical-align: top;\n",
       "    }\n",
       "\n",
       "    .dataframe thead th {\n",
       "        text-align: right;\n",
       "    }\n",
       "</style>\n",
       "<table border=\"1\" class=\"dataframe\">\n",
       "  <thead>\n",
       "    <tr style=\"text-align: right;\">\n",
       "      <th></th>\n",
       "      <th>name</th>\n",
       "      <th>kind</th>\n",
       "      <th>null_count</th>\n",
       "      <th>invalid_count</th>\n",
       "    </tr>\n",
       "  </thead>\n",
       "  <tbody>\n",
       "    <tr>\n",
       "      <th>1</th>\n",
       "      <td>MS Zoning</td>\n",
       "      <td>Nominal</td>\n",
       "      <td>0</td>\n",
       "      <td>29</td>\n",
       "    </tr>\n",
       "    <tr>\n",
       "      <th>9</th>\n",
       "      <td>Neighborhood</td>\n",
       "      <td>Nominal</td>\n",
       "      <td>0</td>\n",
       "      <td>443</td>\n",
       "    </tr>\n",
       "    <tr>\n",
       "      <th>12</th>\n",
       "      <td>Bldg Type</td>\n",
       "      <td>Nominal</td>\n",
       "      <td>0</td>\n",
       "      <td>272</td>\n",
       "    </tr>\n",
       "    <tr>\n",
       "      <th>19</th>\n",
       "      <td>Exterior 2nd</td>\n",
       "      <td>Nominal</td>\n",
       "      <td>0</td>\n",
       "      <td>229</td>\n",
       "    </tr>\n",
       "    <tr>\n",
       "      <th>20</th>\n",
       "      <td>Mas Vnr Type</td>\n",
       "      <td>Nominal</td>\n",
       "      <td>23</td>\n",
       "      <td>23</td>\n",
       "    </tr>\n",
       "    <tr>\n",
       "      <th>32</th>\n",
       "      <td>Electrical</td>\n",
       "      <td>Ordinal</td>\n",
       "      <td>1</td>\n",
       "      <td>1</td>\n",
       "    </tr>\n",
       "    <tr>\n",
       "      <th>44</th>\n",
       "      <td>Sale Type</td>\n",
       "      <td>Nominal</td>\n",
       "      <td>0</td>\n",
       "      <td>2536</td>\n",
       "    </tr>\n",
       "  </tbody>\n",
       "</table>\n",
       "</div>"
      ],
      "text/plain": [
       "            name     kind  null_count  invalid_count\n",
       "1      MS Zoning  Nominal           0             29\n",
       "9   Neighborhood  Nominal           0            443\n",
       "12     Bldg Type  Nominal           0            272\n",
       "19  Exterior 2nd  Nominal           0            229\n",
       "20  Mas Vnr Type  Nominal          23             23\n",
       "32    Electrical  Ordinal           1              1\n",
       "44     Sale Type  Nominal           0           2536"
      ]
     },
     "execution_count": 211,
     "metadata": {},
     "output_type": "execute_result"
    }
   ],
   "source": [
    "df_ql[(df_ql['null_count'] > 0) | (df_ql['invalid_count'] > 0)]"
   ]
  },
  {
   "cell_type": "markdown",
   "metadata": {},
   "source": [
    "#### Variable: `MS Zoning`"
   ]
  },
  {
   "cell_type": "markdown",
   "metadata": {},
   "source": [
    "We take a look at the invalid values:"
   ]
  },
  {
   "cell_type": "code",
   "execution_count": 212,
   "metadata": {},
   "outputs": [
    {
     "data": {
      "text/plain": [
       "array(['I (all)', 'C (all)', 'A (agr)'], dtype=object)"
      ]
     },
     "execution_count": 212,
     "metadata": {},
     "output_type": "execute_result"
    }
   ],
   "source": [
    "name = 'MS Zoning'\n",
    "values = variables[name]['values']\n",
    "utils.get_unique_invalid(df_all[name], values)"
   ]
  },
  {
   "cell_type": "markdown",
   "metadata": {},
   "source": [
    "There is a clear mapping to valid values. **We decide to correct the data set.**"
   ]
  },
  {
   "cell_type": "code",
   "execution_count": 213,
   "metadata": {},
   "outputs": [],
   "source": [
    "# Correct the data set:\n",
    "replacements = {'I (all)': 'I', 'C (all)': 'C', 'A (agr)': 'A'}\n",
    "df_all[name] = utils.replace_invalid(df_all[name].copy(), values, replacements)\n",
    "\n",
    "# Check:\n",
    "assert utils.count_invalid(df_all[name], values) == 0"
   ]
  },
  {
   "cell_type": "markdown",
   "metadata": {},
   "source": [
    "#### Variable: `Neighborhood`"
   ]
  },
  {
   "cell_type": "markdown",
   "metadata": {},
   "source": [
    "We take a look at the invalid values:"
   ]
  },
  {
   "cell_type": "code",
   "execution_count": 214,
   "metadata": {},
   "outputs": [
    {
     "data": {
      "text/plain": [
       "array(['NAmes'], dtype=object)"
      ]
     },
     "execution_count": 214,
     "metadata": {},
     "output_type": "execute_result"
    }
   ],
   "source": [
    "name = 'Neighborhood'\n",
    "values = variables[name]['values']\n",
    "utils.get_unique_invalid(df_all[name], values)"
   ]
  },
  {
   "cell_type": "markdown",
   "metadata": {},
   "source": [
    "Looking at the other values, we see that `Northwest Ames` is capitalized as `NWAmes`. Thus it would make sense for `North Ames` to be capitalized as `NAmes`. **We decide to align the definition to match the data set.**"
   ]
  },
  {
   "cell_type": "code",
   "execution_count": 215,
   "metadata": {},
   "outputs": [],
   "source": [
    "# Update the definition:\n",
    "values[values.index('Names')] = 'NAmes'\n",
    "\n",
    "# Check:\n",
    "assert utils.count_invalid(df_all[name], values) == 0"
   ]
  },
  {
   "cell_type": "markdown",
   "metadata": {},
   "source": [
    "#### Variable: `Bldg Type`"
   ]
  },
  {
   "cell_type": "markdown",
   "metadata": {},
   "source": [
    "We take a look at the invalid values:"
   ]
  },
  {
   "cell_type": "code",
   "execution_count": 216,
   "metadata": {},
   "outputs": [
    {
     "data": {
      "text/plain": [
       "array(['Twnhs', '2fmCon', 'Duplex'], dtype=object)"
      ]
     },
     "execution_count": 216,
     "metadata": {},
     "output_type": "execute_result"
    }
   ],
   "source": [
    "name = 'Bldg Type'\n",
    "values = variables[name]['values']\n",
    "utils.get_unique_invalid(df_all[name], values)"
   ]
  },
  {
   "cell_type": "code",
   "execution_count": 217,
   "metadata": {},
   "outputs": [
    {
     "data": {
      "text/plain": [
       "1Fam      2425\n",
       "TwnhsE     233\n",
       "Duplex     109\n",
       "Twnhs      101\n",
       "2fmCon      62\n",
       "Name: Bldg Type, dtype: int64"
      ]
     },
     "execution_count": 217,
     "metadata": {},
     "output_type": "execute_result"
    }
   ],
   "source": [
    "df_all[name].value_counts()"
   ]
  },
  {
   "cell_type": "markdown",
   "metadata": {},
   "source": [
    "Regarding the value `Duplex` (6 characters), it makes as much sense as `Duplx`. **We decide to align the definition to match the data set.** Regarding the other values, there is a clear mapping to valid values except for `Twnhs`. Since `TwnhsI` is completely absent from the data set, we assume that `Twnhs` should be mapped to `TwnhsI`. **We decide to correct the data set.**"
   ]
  },
  {
   "cell_type": "code",
   "execution_count": 218,
   "metadata": {},
   "outputs": [],
   "source": [
    "# Update the definition:\n",
    "values[values.index('Duplx')] = 'Duplex'\n",
    "\n",
    "# Correct the data set:\n",
    "replacements = {'Twnhs': 'TwnhsI', '2fmCon': '2FmCon'}\n",
    "df_all[name] = utils.replace_invalid(df_all[name].copy(), values, replacements)\n",
    "\n",
    "# Check:\n",
    "assert utils.count_invalid(df_all[name], values) == 0"
   ]
  },
  {
   "cell_type": "markdown",
   "metadata": {},
   "source": [
    "#### Variable: `Exterior 2nd`"
   ]
  },
  {
   "cell_type": "markdown",
   "metadata": {},
   "source": [
    "We take a look at the invalid values:"
   ]
  },
  {
   "cell_type": "code",
   "execution_count": 219,
   "metadata": {},
   "outputs": [
    {
     "data": {
      "text/plain": [
       "array(['CmentBd', 'Wd Shng', 'Brk Cmn'], dtype=object)"
      ]
     },
     "execution_count": 219,
     "metadata": {},
     "output_type": "execute_result"
    }
   ],
   "source": [
    "name = 'Exterior 2nd'\n",
    "values = variables[name]['values']\n",
    "utils.get_unique_invalid(df_all[name], values)"
   ]
  },
  {
   "cell_type": "code",
   "execution_count": 220,
   "metadata": {},
   "outputs": [
    {
     "data": {
      "text/plain": [
       "VinylSd    1015\n",
       "MetalSd     447\n",
       "HdBoard     406\n",
       "Wd Sdng     397\n",
       "Plywood     274\n",
       "CmentBd     126\n",
       "Wd Shng      81\n",
       "Stucco       47\n",
       "BrkFace      47\n",
       "AsbShng      38\n",
       "Brk Cmn      22\n",
       "ImStucc      15\n",
       "Stone         6\n",
       "AsphShn       4\n",
       "CBlock        3\n",
       "PreCast       1\n",
       "Other         1\n",
       "Name: Exterior 2nd, dtype: int64"
      ]
     },
     "execution_count": 220,
     "metadata": {},
     "output_type": "execute_result"
    }
   ],
   "source": [
    "df_all[name].value_counts()"
   ]
  },
  {
   "cell_type": "markdown",
   "metadata": {},
   "source": [
    "There is a clear mapping to valid values, except for `Wd Shng`. Since `WdShing` is completely absent from the data set, we assume that `Wd Shng` should be mapped to `WdShing`. **We decide to correct the data set.**"
   ]
  },
  {
   "cell_type": "code",
   "execution_count": 221,
   "metadata": {},
   "outputs": [],
   "source": [
    "# Correct the data set:\n",
    "replacements = {'CmentBd': 'CemntBd', 'Wd Shng': 'WdShing', 'Brk Cmn': 'BrkComm'}\n",
    "df_all[name] = utils.replace_invalid(df_all[name].copy(), values, replacements)\n",
    "\n",
    "# Check:\n",
    "assert utils.count_invalid(df_all[name], values) == 0"
   ]
  },
  {
   "cell_type": "markdown",
   "metadata": {},
   "source": [
    "#### Variable: `Mas Vnr Type`"
   ]
  },
  {
   "cell_type": "markdown",
   "metadata": {},
   "source": [
    "We take a look at the invalid values:"
   ]
  },
  {
   "cell_type": "code",
   "execution_count": 222,
   "metadata": {},
   "outputs": [
    {
     "data": {
      "text/plain": [
       "array([nan], dtype=object)"
      ]
     },
     "execution_count": 222,
     "metadata": {},
     "output_type": "execute_result"
    }
   ],
   "source": [
    "name = 'Mas Vnr Type'\n",
    "values = variables[name]['values']\n",
    "utils.get_unique_invalid(df_all[name], values)"
   ]
  },
  {
   "cell_type": "code",
   "execution_count": 223,
   "metadata": {},
   "outputs": [
    {
     "data": {
      "text/plain": [
       "None       1752\n",
       "BrkFace     880\n",
       "Stone       249\n",
       "BrkCmn       25\n",
       "NaN          23\n",
       "CBlock        1\n",
       "Name: Mas Vnr Type, dtype: int64"
      ]
     },
     "execution_count": 223,
     "metadata": {},
     "output_type": "execute_result"
    }
   ],
   "source": [
    "df_all[name].value_counts(dropna=False)"
   ]
  },
  {
   "cell_type": "markdown",
   "metadata": {},
   "source": [
    "All invalid values are null values. As this point it would make sense to look at `Mas Vnr Type` with other attributes of the masonry veneer, so we will return to `Mas Vnr Type` when we investigate quantitative variables below."
   ]
  },
  {
   "cell_type": "markdown",
   "metadata": {},
   "source": [
    "#### Variable: `Electrical`"
   ]
  },
  {
   "cell_type": "markdown",
   "metadata": {},
   "source": [
    "We take a look at the invalid values:"
   ]
  },
  {
   "cell_type": "code",
   "execution_count": 224,
   "metadata": {},
   "outputs": [
    {
     "data": {
      "text/plain": [
       "array([nan], dtype=object)"
      ]
     },
     "execution_count": 224,
     "metadata": {},
     "output_type": "execute_result"
    }
   ],
   "source": [
    "name = 'Electrical'\n",
    "values = variables[name]['values']\n",
    "utils.get_unique_invalid(df_all[name], values)"
   ]
  },
  {
   "cell_type": "markdown",
   "metadata": {},
   "source": [
    "All invalid values are null values. We are reluctant to introduce a new value `Unknown` for an ordinal variable (where to insert it?). Since there is only 1 row impacted, we could drop it. **We decide to replace null values by the mode in the neighborhood where the property is located if the mode exists and by the mode overall otherwise.**"
   ]
  },
  {
   "cell_type": "code",
   "execution_count": 225,
   "metadata": {},
   "outputs": [],
   "source": [
    "# Impute:\n",
    "df_all = utils.fillna_with_mode_by(df_all, name, by='Neighborhood')\n",
    "\n",
    "# Check:\n",
    "assert utils.count_null(df_all[name]) == 0"
   ]
  },
  {
   "cell_type": "markdown",
   "metadata": {},
   "source": [
    "#### Variable: `Sale Type`"
   ]
  },
  {
   "cell_type": "markdown",
   "metadata": {},
   "source": [
    "We take a look at the invalid values:"
   ]
  },
  {
   "cell_type": "code",
   "execution_count": 226,
   "metadata": {},
   "outputs": [
    {
     "data": {
      "text/plain": [
       "array(['WD '], dtype=object)"
      ]
     },
     "execution_count": 226,
     "metadata": {},
     "output_type": "execute_result"
    }
   ],
   "source": [
    "name = 'Sale Type'\n",
    "values = variables[name]['values']\n",
    "utils.get_unique_invalid(df_all[name], values)"
   ]
  },
  {
   "cell_type": "markdown",
   "metadata": {},
   "source": [
    "There is a clear mapping to valid values. **We decide to correct the data set.**"
   ]
  },
  {
   "cell_type": "code",
   "execution_count": 227,
   "metadata": {},
   "outputs": [],
   "source": [
    "# Correct the data set:\n",
    "replacements = {'WD ': 'WD'}\n",
    "df_all[name] = utils.replace_invalid(df_all[name].copy(), values, replacements)\n",
    "\n",
    "# Check:\n",
    "assert utils.count_invalid(df_all[name], values) == 0"
   ]
  },
  {
   "cell_type": "markdown",
   "metadata": {},
   "source": [
    "#### Quantitative variables and features/amenities\n",
    "---"
   ]
  },
  {
   "cell_type": "markdown",
   "metadata": {},
   "source": [
    "The 1st thing we notice when we try to check quantitative variables is that the names of some variables differ between the data set and the documentation. **We decide to align the definitions to match the data set.**"
   ]
  },
  {
   "cell_type": "code",
   "execution_count": 228,
   "metadata": {},
   "outputs": [],
   "source": [
    "# Update the definitions:\n",
    "replacements = {\n",
    "    # E.g. 'Bedroom' in the documentation is 'Bedroom AbvGr' in the data set:\n",
    "    'Bedroom': 'Bedroom AbvGr',\n",
    "    'Kitchen': 'Kitchen AbvGr',\n",
    "    'TotRmsAbvGrd': 'TotRms AbvGrd',\n",
    "    '3-Ssn Porch': '3Ssn Porch'\n",
    "}\n",
    "\n",
    "# Replace while preserving the order:\n",
    "pairs = [(replacements.get(name, name), attrs) for name, attrs in variables.items()]\n",
    "variables = collections.OrderedDict(pairs)"
   ]
  },
  {
   "cell_type": "markdown",
   "metadata": {},
   "source": [
    "We build a data-frame with the number of null and zero values as well as with the min and the max:"
   ]
  },
  {
   "cell_type": "code",
   "execution_count": 229,
   "metadata": {},
   "outputs": [],
   "source": [
    "data = []\n",
    "for name, attrs in variables.items():\n",
    "    if not utils.is_quantitative(attrs):\n",
    "        continue\n",
    "    if name == 'SalePrice':\n",
    "        continue\n",
    "    series = df_all[name]\n",
    "    null_count = utils.count_null(series)\n",
    "    zero_count = (series == 0).sum()\n",
    "    data.append((name, attrs['kind'], null_count, zero_count, series.min(), series.max()))\n",
    "df_qt = pd.DataFrame(data=data, columns=['name', 'kind', 'null_count', 'zero_count', 'min', 'max'])"
   ]
  },
  {
   "cell_type": "markdown",
   "metadata": {},
   "source": [
    "The quantitative variables that we need to investigate are:"
   ]
  },
  {
   "cell_type": "code",
   "execution_count": 230,
   "metadata": {},
   "outputs": [
    {
     "data": {
      "text/html": [
       "<div>\n",
       "<style scoped>\n",
       "    .dataframe tbody tr th:only-of-type {\n",
       "        vertical-align: middle;\n",
       "    }\n",
       "\n",
       "    .dataframe tbody tr th {\n",
       "        vertical-align: top;\n",
       "    }\n",
       "\n",
       "    .dataframe thead th {\n",
       "        text-align: right;\n",
       "    }\n",
       "</style>\n",
       "<table border=\"1\" class=\"dataframe\">\n",
       "  <thead>\n",
       "    <tr style=\"text-align: right;\">\n",
       "      <th></th>\n",
       "      <th>name</th>\n",
       "      <th>kind</th>\n",
       "      <th>null_count</th>\n",
       "      <th>zero_count</th>\n",
       "      <th>min</th>\n",
       "      <th>max</th>\n",
       "    </tr>\n",
       "  </thead>\n",
       "  <tbody>\n",
       "    <tr>\n",
       "      <th>0</th>\n",
       "      <td>Lot Frontage</td>\n",
       "      <td>Continuous</td>\n",
       "      <td>490</td>\n",
       "      <td>0</td>\n",
       "      <td>21.0</td>\n",
       "      <td>313.0</td>\n",
       "    </tr>\n",
       "    <tr>\n",
       "      <th>4</th>\n",
       "      <td>Mas Vnr Area</td>\n",
       "      <td>Continuous</td>\n",
       "      <td>23</td>\n",
       "      <td>1748</td>\n",
       "      <td>0.0</td>\n",
       "      <td>1600.0</td>\n",
       "    </tr>\n",
       "    <tr>\n",
       "      <th>5</th>\n",
       "      <td>BsmtFin SF 1</td>\n",
       "      <td>Continuous</td>\n",
       "      <td>1</td>\n",
       "      <td>930</td>\n",
       "      <td>0.0</td>\n",
       "      <td>5644.0</td>\n",
       "    </tr>\n",
       "    <tr>\n",
       "      <th>6</th>\n",
       "      <td>BsmtFin SF 2</td>\n",
       "      <td>Continuous</td>\n",
       "      <td>1</td>\n",
       "      <td>2578</td>\n",
       "      <td>0.0</td>\n",
       "      <td>1526.0</td>\n",
       "    </tr>\n",
       "    <tr>\n",
       "      <th>7</th>\n",
       "      <td>Bsmt Unf SF</td>\n",
       "      <td>Continuous</td>\n",
       "      <td>1</td>\n",
       "      <td>244</td>\n",
       "      <td>0.0</td>\n",
       "      <td>2336.0</td>\n",
       "    </tr>\n",
       "    <tr>\n",
       "      <th>8</th>\n",
       "      <td>Total Bsmt SF</td>\n",
       "      <td>Continuous</td>\n",
       "      <td>1</td>\n",
       "      <td>79</td>\n",
       "      <td>0.0</td>\n",
       "      <td>6110.0</td>\n",
       "    </tr>\n",
       "    <tr>\n",
       "      <th>13</th>\n",
       "      <td>Bsmt Full Bath</td>\n",
       "      <td>Discrete</td>\n",
       "      <td>2</td>\n",
       "      <td>1707</td>\n",
       "      <td>0.0</td>\n",
       "      <td>3.0</td>\n",
       "    </tr>\n",
       "    <tr>\n",
       "      <th>14</th>\n",
       "      <td>Bsmt Half Bath</td>\n",
       "      <td>Discrete</td>\n",
       "      <td>2</td>\n",
       "      <td>2753</td>\n",
       "      <td>0.0</td>\n",
       "      <td>2.0</td>\n",
       "    </tr>\n",
       "    <tr>\n",
       "      <th>21</th>\n",
       "      <td>Garage Yr Blt</td>\n",
       "      <td>Discrete</td>\n",
       "      <td>159</td>\n",
       "      <td>0</td>\n",
       "      <td>1895.0</td>\n",
       "      <td>2207.0</td>\n",
       "    </tr>\n",
       "    <tr>\n",
       "      <th>22</th>\n",
       "      <td>Garage Cars</td>\n",
       "      <td>Discrete</td>\n",
       "      <td>1</td>\n",
       "      <td>157</td>\n",
       "      <td>0.0</td>\n",
       "      <td>5.0</td>\n",
       "    </tr>\n",
       "    <tr>\n",
       "      <th>23</th>\n",
       "      <td>Garage Area</td>\n",
       "      <td>Continuous</td>\n",
       "      <td>1</td>\n",
       "      <td>157</td>\n",
       "      <td>0.0</td>\n",
       "      <td>1488.0</td>\n",
       "    </tr>\n",
       "  </tbody>\n",
       "</table>\n",
       "</div>"
      ],
      "text/plain": [
       "              name        kind  null_count  zero_count     min     max\n",
       "0     Lot Frontage  Continuous         490           0    21.0   313.0\n",
       "4     Mas Vnr Area  Continuous          23        1748     0.0  1600.0\n",
       "5     BsmtFin SF 1  Continuous           1         930     0.0  5644.0\n",
       "6     BsmtFin SF 2  Continuous           1        2578     0.0  1526.0\n",
       "7      Bsmt Unf SF  Continuous           1         244     0.0  2336.0\n",
       "8    Total Bsmt SF  Continuous           1          79     0.0  6110.0\n",
       "13  Bsmt Full Bath    Discrete           2        1707     0.0     3.0\n",
       "14  Bsmt Half Bath    Discrete           2        2753     0.0     2.0\n",
       "21   Garage Yr Blt    Discrete         159           0  1895.0  2207.0\n",
       "22     Garage Cars    Discrete           1         157     0.0     5.0\n",
       "23     Garage Area  Continuous           1         157     0.0  1488.0"
      ]
     },
     "execution_count": 230,
     "metadata": {},
     "output_type": "execute_result"
    }
   ],
   "source": [
    "df_qt[(df_qt['null_count'] > 0) | (df_qt['min'] < 0)]"
   ]
  },
  {
   "cell_type": "markdown",
   "metadata": {},
   "source": [
    "#### Variable: `Lot Frontage`"
   ]
  },
  {
   "cell_type": "code",
   "execution_count": 231,
   "metadata": {},
   "outputs": [],
   "source": [
    "name = 'Lot Frontage'"
   ]
  },
  {
   "cell_type": "markdown",
   "metadata": {},
   "source": [
    "In this case, null values mean that that particular piece of information is missing. We cannot afford to drop 490 rows out of 2430 (20 %), so we need to impute the null values. **We decide to replace null values by the median in the neighborhood where the property is located if the median exists and by the median overall otherwise.**"
   ]
  },
  {
   "cell_type": "code",
   "execution_count": 232,
   "metadata": {},
   "outputs": [],
   "source": [
    "# Correct the data set:\n",
    "df_all = utils.fillna_with_median_by(df_all, name, by='Neighborhood')\n",
    "\n",
    "# Check:\n",
    "assert utils.count_null(df_all[name]) == 0"
   ]
  },
  {
   "cell_type": "markdown",
   "metadata": {},
   "source": [
    "#### Feature/amenity: Masonry Veneer (type and area)"
   ]
  },
  {
   "cell_type": "markdown",
   "metadata": {},
   "source": [
    "We look at the variables that describe the masonry veneer. We take a closer look at the different cases."
   ]
  },
  {
   "cell_type": "code",
   "execution_count": 233,
   "metadata": {},
   "outputs": [],
   "source": [
    "def label_na(val: str) -> bool:\n",
    "    return 'na' if val == 'NA' else 'not-na'\n",
    "\n",
    "def label_none(val: str) -> bool:\n",
    "    return 'none' if val == 'None' else 'not-none'\n",
    "\n",
    "def label_zero(val: T.Union[int, float]) -> float:\n",
    "    return 'zero' if val == 0 else 'not-zero'"
   ]
  },
  {
   "cell_type": "code",
   "execution_count": 234,
   "metadata": {},
   "outputs": [
    {
     "data": {
      "text/html": [
       "<div>\n",
       "<style scoped>\n",
       "    .dataframe tbody tr th:only-of-type {\n",
       "        vertical-align: middle;\n",
       "    }\n",
       "\n",
       "    .dataframe tbody tr th {\n",
       "        vertical-align: top;\n",
       "    }\n",
       "\n",
       "    .dataframe thead th {\n",
       "        text-align: right;\n",
       "    }\n",
       "</style>\n",
       "<table border=\"1\" class=\"dataframe\">\n",
       "  <thead>\n",
       "    <tr style=\"text-align: right;\">\n",
       "      <th></th>\n",
       "      <th>Mas Vnr Type</th>\n",
       "      <th>Mas Vnr Area</th>\n",
       "      <th>Count</th>\n",
       "    </tr>\n",
       "  </thead>\n",
       "  <tbody>\n",
       "    <tr>\n",
       "      <th>0</th>\n",
       "      <td>none</td>\n",
       "      <td>not-zero</td>\n",
       "      <td>7</td>\n",
       "    </tr>\n",
       "    <tr>\n",
       "      <th>1</th>\n",
       "      <td>none</td>\n",
       "      <td>zero</td>\n",
       "      <td>1745</td>\n",
       "    </tr>\n",
       "    <tr>\n",
       "      <th>2</th>\n",
       "      <td>not-none</td>\n",
       "      <td>not-zero</td>\n",
       "      <td>1152</td>\n",
       "    </tr>\n",
       "    <tr>\n",
       "      <th>3</th>\n",
       "      <td>not-none</td>\n",
       "      <td>zero</td>\n",
       "      <td>3</td>\n",
       "    </tr>\n",
       "    <tr>\n",
       "      <th>4</th>\n",
       "      <td>null</td>\n",
       "      <td>null</td>\n",
       "      <td>23</td>\n",
       "    </tr>\n",
       "  </tbody>\n",
       "</table>\n",
       "</div>"
      ],
      "text/plain": [
       "  Mas Vnr Type Mas Vnr Area  Count\n",
       "0         none     not-zero      7\n",
       "1         none         zero   1745\n",
       "2     not-none     not-zero   1152\n",
       "3     not-none         zero      3\n",
       "4         null         null     23"
      ]
     },
     "execution_count": 234,
     "metadata": {},
     "output_type": "execute_result"
    }
   ],
   "source": [
    "names = ['Mas Vnr Type', 'Mas Vnr Area']\n",
    "df_category, df_case = utils.categorize(df_all, [\n",
    "    ('Mas Vnr Type', label_none),\n",
    "    ('Mas Vnr Area', label_zero)\n",
    "])\n",
    "df_case"
   ]
  },
  {
   "cell_type": "markdown",
   "metadata": {},
   "source": [
    "Referring to the cases by their index number, the expected cases are: **case 1** and **case 2**."
   ]
  },
  {
   "cell_type": "code",
   "execution_count": 235,
   "metadata": {},
   "outputs": [
    {
     "data": {
      "text/html": [
       "<div>\n",
       "<style scoped>\n",
       "    .dataframe tbody tr th:only-of-type {\n",
       "        vertical-align: middle;\n",
       "    }\n",
       "\n",
       "    .dataframe tbody tr th {\n",
       "        vertical-align: top;\n",
       "    }\n",
       "\n",
       "    .dataframe thead th {\n",
       "        text-align: right;\n",
       "    }\n",
       "</style>\n",
       "<table border=\"1\" class=\"dataframe\">\n",
       "  <thead>\n",
       "    <tr style=\"text-align: right;\">\n",
       "      <th></th>\n",
       "      <th>Mas Vnr Type</th>\n",
       "      <th>Mas Vnr Area</th>\n",
       "    </tr>\n",
       "  </thead>\n",
       "  <tbody>\n",
       "    <tr>\n",
       "      <th>631</th>\n",
       "      <td>None</td>\n",
       "      <td>285.0</td>\n",
       "    </tr>\n",
       "    <tr>\n",
       "      <th>1286</th>\n",
       "      <td>None</td>\n",
       "      <td>1.0</td>\n",
       "    </tr>\n",
       "    <tr>\n",
       "      <th>1546</th>\n",
       "      <td>None</td>\n",
       "      <td>344.0</td>\n",
       "    </tr>\n",
       "    <tr>\n",
       "      <th>1737</th>\n",
       "      <td>None</td>\n",
       "      <td>312.0</td>\n",
       "    </tr>\n",
       "    <tr>\n",
       "      <th>1975</th>\n",
       "      <td>None</td>\n",
       "      <td>1.0</td>\n",
       "    </tr>\n",
       "    <tr>\n",
       "      <th>2135</th>\n",
       "      <td>None</td>\n",
       "      <td>288.0</td>\n",
       "    </tr>\n",
       "    <tr>\n",
       "      <th>2256</th>\n",
       "      <td>None</td>\n",
       "      <td>1.0</td>\n",
       "    </tr>\n",
       "  </tbody>\n",
       "</table>\n",
       "</div>"
      ],
      "text/plain": [
       "     Mas Vnr Type  Mas Vnr Area\n",
       "631          None         285.0\n",
       "1286         None           1.0\n",
       "1546         None         344.0\n",
       "1737         None         312.0\n",
       "1975         None           1.0\n",
       "2135         None         288.0\n",
       "2256         None           1.0"
      ]
     },
     "execution_count": 235,
     "metadata": {},
     "output_type": "execute_result"
    }
   ],
   "source": [
    "# Case 0:\n",
    "df_all[utils.mask_for_case(df_category, df_case, 0)][names]"
   ]
  },
  {
   "cell_type": "code",
   "execution_count": 236,
   "metadata": {},
   "outputs": [
    {
     "data": {
      "text/html": [
       "<div>\n",
       "<style scoped>\n",
       "    .dataframe tbody tr th:only-of-type {\n",
       "        vertical-align: middle;\n",
       "    }\n",
       "\n",
       "    .dataframe tbody tr th {\n",
       "        vertical-align: top;\n",
       "    }\n",
       "\n",
       "    .dataframe thead th {\n",
       "        text-align: right;\n",
       "    }\n",
       "</style>\n",
       "<table border=\"1\" class=\"dataframe\">\n",
       "  <thead>\n",
       "    <tr style=\"text-align: right;\">\n",
       "      <th></th>\n",
       "      <th>Mas Vnr Type</th>\n",
       "      <th>Mas Vnr Area</th>\n",
       "    </tr>\n",
       "  </thead>\n",
       "  <tbody>\n",
       "    <tr>\n",
       "      <th>678</th>\n",
       "      <td>Stone</td>\n",
       "      <td>0.0</td>\n",
       "    </tr>\n",
       "    <tr>\n",
       "      <th>2220</th>\n",
       "      <td>BrkFace</td>\n",
       "      <td>0.0</td>\n",
       "    </tr>\n",
       "    <tr>\n",
       "      <th>2227</th>\n",
       "      <td>BrkFace</td>\n",
       "      <td>0.0</td>\n",
       "    </tr>\n",
       "  </tbody>\n",
       "</table>\n",
       "</div>"
      ],
      "text/plain": [
       "     Mas Vnr Type  Mas Vnr Area\n",
       "678         Stone           0.0\n",
       "2220      BrkFace           0.0\n",
       "2227      BrkFace           0.0"
      ]
     },
     "execution_count": 236,
     "metadata": {},
     "output_type": "execute_result"
    }
   ],
   "source": [
    "# Case 3:\n",
    "df_all[utils.mask_for_case(df_category, df_case, 3)][names]"
   ]
  },
  {
   "cell_type": "markdown",
   "metadata": {},
   "source": [
    "**Notes:**\n",
    "* **Case 0:** We assume that: a) An area (`Mas Vnr Area`) of 1.0 square feet is a mistake. b) An area greater than 1.0 square feet is correct and that the type (`Mas Vnr Type`) was left out by mistake. **We decide: a) To set the type to `None` and the area to 0. b) To set only the type to `Unknown` (new value).**\n",
    "* **Case 3:** We assume that the type is a-priori correct and that the area was left out by mistake. **We decide to set the area to the median in the neighborhood where the property is located if the median exists and by the median overall otherwise. If the area is still zero, we decide to set the type to `None`.**\n",
    "* **Case 4:** We assume that the type and the area were left out because they did not apply. **We decide to set the type to `None` and the area to 0 (same as case 1).**"
   ]
  },
  {
   "cell_type": "code",
   "execution_count": 237,
   "metadata": {},
   "outputs": [],
   "source": [
    "# Update the definition:\n",
    "values = variables['Mas Vnr Type']['values']\n",
    "values.append('Unknown')  # nominal\n",
    "\n",
    "# Correct the data set:\n",
    "\n",
    "# Case 0:\n",
    "mask_0 = utils.mask_for_case(df_category, df_case, 0)\n",
    "rows_0a = df_all.loc[mask_0 & (df_all['Mas Vnr Area'] == 1.0)].copy()\n",
    "rows_0b = df_all.loc[mask_0 & (df_all['Mas Vnr Area'] != 1.0)].copy()\n",
    "rows_0a.loc[:, ['Mas Vnr Type', 'Mas Vnr Area']] = ('None', 0)\n",
    "rows_0b.loc[:, ['Mas Vnr Type']] = 'Unknown'\n",
    "df_all.loc[rows_0a.index] = rows_0a\n",
    "df_all.loc[rows_0b.index] = rows_0b\n",
    "\n",
    "# Case 3:\n",
    "mask_3 = utils.mask_for_case(df_category, df_case, 3)\n",
    "median_by_neighborhood = utils.get_median_by(df_all, 'Mas Vnr Area', by='Neighborhood')\n",
    "df_all.loc[mask_3, 'Mas Vnr Area'] = df_all.loc[mask_3, 'Neighborhood'].map(median_by_neighborhood)\n",
    "df_all.loc[mask_3 & (df_all['Mas Vnr Area'] == 0), ['Mas Vnr Type']] = 'None'\n",
    "\n",
    "# Case 4:\n",
    "mask_4 = utils.mask_for_case(df_category, df_case, 4)\n",
    "df_all.loc[mask_4, ['Mas Vnr Type', 'Mas Vnr Area']] = ('None', 0)"
   ]
  },
  {
   "cell_type": "markdown",
   "metadata": {},
   "source": [
    "#### Feature/amenity: Basement (height, condition, exposure and total surface)"
   ]
  },
  {
   "cell_type": "markdown",
   "metadata": {},
   "source": [
    "We look at variables that describe the basement. In order to reduce the number of cases, we look only at a subset at a time (here: height, condition, exposure and total surface). We take a closer look at the different cases."
   ]
  },
  {
   "cell_type": "code",
   "execution_count": 238,
   "metadata": {},
   "outputs": [
    {
     "data": {
      "text/html": [
       "<div>\n",
       "<style scoped>\n",
       "    .dataframe tbody tr th:only-of-type {\n",
       "        vertical-align: middle;\n",
       "    }\n",
       "\n",
       "    .dataframe tbody tr th {\n",
       "        vertical-align: top;\n",
       "    }\n",
       "\n",
       "    .dataframe thead th {\n",
       "        text-align: right;\n",
       "    }\n",
       "</style>\n",
       "<table border=\"1\" class=\"dataframe\">\n",
       "  <thead>\n",
       "    <tr style=\"text-align: right;\">\n",
       "      <th></th>\n",
       "      <th>Bsmt Qual</th>\n",
       "      <th>Bsmt Cond</th>\n",
       "      <th>Bsmt Exposure</th>\n",
       "      <th>Total Bsmt SF</th>\n",
       "      <th>Count</th>\n",
       "    </tr>\n",
       "  </thead>\n",
       "  <tbody>\n",
       "    <tr>\n",
       "      <th>0</th>\n",
       "      <td>na</td>\n",
       "      <td>na</td>\n",
       "      <td>na</td>\n",
       "      <td>null</td>\n",
       "      <td>1</td>\n",
       "    </tr>\n",
       "    <tr>\n",
       "      <th>1</th>\n",
       "      <td>na</td>\n",
       "      <td>na</td>\n",
       "      <td>na</td>\n",
       "      <td>zero</td>\n",
       "      <td>79</td>\n",
       "    </tr>\n",
       "    <tr>\n",
       "      <th>2</th>\n",
       "      <td>not-na</td>\n",
       "      <td>not-na</td>\n",
       "      <td>na</td>\n",
       "      <td>not-zero</td>\n",
       "      <td>3</td>\n",
       "    </tr>\n",
       "    <tr>\n",
       "      <th>3</th>\n",
       "      <td>not-na</td>\n",
       "      <td>not-na</td>\n",
       "      <td>not-na</td>\n",
       "      <td>not-zero</td>\n",
       "      <td>2847</td>\n",
       "    </tr>\n",
       "  </tbody>\n",
       "</table>\n",
       "</div>"
      ],
      "text/plain": [
       "  Bsmt Qual Bsmt Cond Bsmt Exposure Total Bsmt SF  Count\n",
       "0        na        na            na          null      1\n",
       "1        na        na            na          zero     79\n",
       "2    not-na    not-na            na      not-zero      3\n",
       "3    not-na    not-na        not-na      not-zero   2847"
      ]
     },
     "execution_count": 238,
     "metadata": {},
     "output_type": "execute_result"
    }
   ],
   "source": [
    "names = ['Bsmt Qual', 'Bsmt Cond', 'Bsmt Exposure', 'Total Bsmt SF']\n",
    "df_category, df_case = utils.categorize(df_all, [\n",
    "    ('Bsmt Qual', label_na),\n",
    "    ('Bsmt Cond', label_na),\n",
    "    ('Bsmt Exposure', label_na),\n",
    "    ('Total Bsmt SF', label_zero)\n",
    "])\n",
    "df_case"
   ]
  },
  {
   "cell_type": "markdown",
   "metadata": {},
   "source": [
    "Referring to the cases by their index number, the expected cases are: **case 1** and **case 3**."
   ]
  },
  {
   "cell_type": "code",
   "execution_count": 239,
   "metadata": {},
   "outputs": [
    {
     "data": {
      "text/html": [
       "<div>\n",
       "<style scoped>\n",
       "    .dataframe tbody tr th:only-of-type {\n",
       "        vertical-align: middle;\n",
       "    }\n",
       "\n",
       "    .dataframe tbody tr th {\n",
       "        vertical-align: top;\n",
       "    }\n",
       "\n",
       "    .dataframe thead th {\n",
       "        text-align: right;\n",
       "    }\n",
       "</style>\n",
       "<table border=\"1\" class=\"dataframe\">\n",
       "  <thead>\n",
       "    <tr style=\"text-align: right;\">\n",
       "      <th></th>\n",
       "      <th>Bsmt Qual</th>\n",
       "      <th>Bsmt Cond</th>\n",
       "      <th>Bsmt Exposure</th>\n",
       "      <th>Total Bsmt SF</th>\n",
       "    </tr>\n",
       "  </thead>\n",
       "  <tbody>\n",
       "    <tr>\n",
       "      <th>104</th>\n",
       "      <td>NA</td>\n",
       "      <td>NA</td>\n",
       "      <td>NA</td>\n",
       "      <td>NaN</td>\n",
       "    </tr>\n",
       "  </tbody>\n",
       "</table>\n",
       "</div>"
      ],
      "text/plain": [
       "    Bsmt Qual Bsmt Cond Bsmt Exposure  Total Bsmt SF\n",
       "104        NA        NA            NA            NaN"
      ]
     },
     "execution_count": 239,
     "metadata": {},
     "output_type": "execute_result"
    }
   ],
   "source": [
    "# Case 0:\n",
    "df_all[utils.mask_for_case(df_category, df_case, 0)][names]"
   ]
  },
  {
   "cell_type": "code",
   "execution_count": 240,
   "metadata": {},
   "outputs": [
    {
     "data": {
      "text/html": [
       "<div>\n",
       "<style scoped>\n",
       "    .dataframe tbody tr th:only-of-type {\n",
       "        vertical-align: middle;\n",
       "    }\n",
       "\n",
       "    .dataframe tbody tr th {\n",
       "        vertical-align: top;\n",
       "    }\n",
       "\n",
       "    .dataframe thead th {\n",
       "        text-align: right;\n",
       "    }\n",
       "</style>\n",
       "<table border=\"1\" class=\"dataframe\">\n",
       "  <thead>\n",
       "    <tr style=\"text-align: right;\">\n",
       "      <th></th>\n",
       "      <th>Bsmt Qual</th>\n",
       "      <th>Bsmt Cond</th>\n",
       "      <th>Bsmt Exposure</th>\n",
       "      <th>Total Bsmt SF</th>\n",
       "    </tr>\n",
       "  </thead>\n",
       "  <tbody>\n",
       "    <tr>\n",
       "      <th>875</th>\n",
       "      <td>Gd</td>\n",
       "      <td>TA</td>\n",
       "      <td>NA</td>\n",
       "      <td>1595.0</td>\n",
       "    </tr>\n",
       "    <tr>\n",
       "      <th>1681</th>\n",
       "      <td>Gd</td>\n",
       "      <td>TA</td>\n",
       "      <td>NA</td>\n",
       "      <td>725.0</td>\n",
       "    </tr>\n",
       "    <tr>\n",
       "      <th>1726</th>\n",
       "      <td>Gd</td>\n",
       "      <td>TA</td>\n",
       "      <td>NA</td>\n",
       "      <td>936.0</td>\n",
       "    </tr>\n",
       "  </tbody>\n",
       "</table>\n",
       "</div>"
      ],
      "text/plain": [
       "     Bsmt Qual Bsmt Cond Bsmt Exposure  Total Bsmt SF\n",
       "875         Gd        TA            NA         1595.0\n",
       "1681        Gd        TA            NA          725.0\n",
       "1726        Gd        TA            NA          936.0"
      ]
     },
     "execution_count": 240,
     "metadata": {},
     "output_type": "execute_result"
    }
   ],
   "source": [
    "# Case 2:\n",
    "df_all[utils.mask_for_case(df_category, df_case, 2)][names]"
   ]
  },
  {
   "cell_type": "markdown",
   "metadata": {},
   "source": [
    "**Notes:**\n",
    "* **Case 0:** We assume that the total surface (`Total Bsmt SF`) was incorrectly set to null instead of 0. **We decide to set the total surface to 0.**\n",
    "* **Case 2:** We assume that the exposure (`Bsmt Exposure`) was incorrectly set to `NA` instead of `No`. **We decide to set the exposure to `No`.**"
   ]
  },
  {
   "cell_type": "code",
   "execution_count": 241,
   "metadata": {},
   "outputs": [],
   "source": [
    "# Correct the data set:\n",
    "\n",
    "# Case 0:\n",
    "mask_0 = utils.mask_for_case(df_category, df_case, 0)\n",
    "df_all.loc[mask_0, 'Total Bsmt SF'] = 0\n",
    "\n",
    "mask_2 = utils.mask_for_case(df_category, df_case, 2)\n",
    "df_all.loc[mask_2, 'Bsmt Exposure'] = 'No'"
   ]
  },
  {
   "cell_type": "markdown",
   "metadata": {},
   "source": [
    "#### Feature/amenity: Basement (types and surfaces)"
   ]
  },
  {
   "cell_type": "markdown",
   "metadata": {},
   "source": [
    "We continue to look at variables that describe the basement. In order to reduce the number of cases, we look only at a subset at a time (here: types and surfaces). We take a closer look at the different cases."
   ]
  },
  {
   "cell_type": "code",
   "execution_count": 242,
   "metadata": {},
   "outputs": [
    {
     "data": {
      "text/html": [
       "<div>\n",
       "<style scoped>\n",
       "    .dataframe tbody tr th:only-of-type {\n",
       "        vertical-align: middle;\n",
       "    }\n",
       "\n",
       "    .dataframe tbody tr th {\n",
       "        vertical-align: top;\n",
       "    }\n",
       "\n",
       "    .dataframe thead th {\n",
       "        text-align: right;\n",
       "    }\n",
       "</style>\n",
       "<table border=\"1\" class=\"dataframe\">\n",
       "  <thead>\n",
       "    <tr style=\"text-align: right;\">\n",
       "      <th></th>\n",
       "      <th>Bsmt Qual</th>\n",
       "      <th>BsmtFin Type 1</th>\n",
       "      <th>BsmtFin SF 1</th>\n",
       "      <th>BsmtFin Type 2</th>\n",
       "      <th>BsmtFin SF 2</th>\n",
       "      <th>Bsmt Unf SF</th>\n",
       "      <th>Total Bsmt SF</th>\n",
       "      <th>Count</th>\n",
       "    </tr>\n",
       "  </thead>\n",
       "  <tbody>\n",
       "    <tr>\n",
       "      <th>0</th>\n",
       "      <td>na</td>\n",
       "      <td>na</td>\n",
       "      <td>null</td>\n",
       "      <td>na</td>\n",
       "      <td>null</td>\n",
       "      <td>null</td>\n",
       "      <td>zero</td>\n",
       "      <td>1</td>\n",
       "    </tr>\n",
       "    <tr>\n",
       "      <th>1</th>\n",
       "      <td>na</td>\n",
       "      <td>na</td>\n",
       "      <td>zero</td>\n",
       "      <td>na</td>\n",
       "      <td>zero</td>\n",
       "      <td>zero</td>\n",
       "      <td>zero</td>\n",
       "      <td>79</td>\n",
       "    </tr>\n",
       "    <tr>\n",
       "      <th>2</th>\n",
       "      <td>not-na</td>\n",
       "      <td>other</td>\n",
       "      <td>not-zero</td>\n",
       "      <td>na</td>\n",
       "      <td>not-zero</td>\n",
       "      <td>not-zero</td>\n",
       "      <td>not-zero</td>\n",
       "      <td>1</td>\n",
       "    </tr>\n",
       "    <tr>\n",
       "      <th>3</th>\n",
       "      <td>not-na</td>\n",
       "      <td>other</td>\n",
       "      <td>not-zero</td>\n",
       "      <td>other</td>\n",
       "      <td>not-zero</td>\n",
       "      <td>not-zero</td>\n",
       "      <td>not-zero</td>\n",
       "      <td>268</td>\n",
       "    </tr>\n",
       "    <tr>\n",
       "      <th>4</th>\n",
       "      <td>not-na</td>\n",
       "      <td>other</td>\n",
       "      <td>not-zero</td>\n",
       "      <td>other</td>\n",
       "      <td>not-zero</td>\n",
       "      <td>zero</td>\n",
       "      <td>not-zero</td>\n",
       "      <td>81</td>\n",
       "    </tr>\n",
       "    <tr>\n",
       "      <th>5</th>\n",
       "      <td>not-na</td>\n",
       "      <td>other</td>\n",
       "      <td>not-zero</td>\n",
       "      <td>other</td>\n",
       "      <td>zero</td>\n",
       "      <td>not-zero</td>\n",
       "      <td>not-zero</td>\n",
       "      <td>1</td>\n",
       "    </tr>\n",
       "    <tr>\n",
       "      <th>6</th>\n",
       "      <td>not-na</td>\n",
       "      <td>other</td>\n",
       "      <td>not-zero</td>\n",
       "      <td>unf</td>\n",
       "      <td>not-zero</td>\n",
       "      <td>not-zero</td>\n",
       "      <td>not-zero</td>\n",
       "      <td>1</td>\n",
       "    </tr>\n",
       "    <tr>\n",
       "      <th>7</th>\n",
       "      <td>not-na</td>\n",
       "      <td>other</td>\n",
       "      <td>not-zero</td>\n",
       "      <td>unf</td>\n",
       "      <td>zero</td>\n",
       "      <td>not-zero</td>\n",
       "      <td>not-zero</td>\n",
       "      <td>1563</td>\n",
       "    </tr>\n",
       "    <tr>\n",
       "      <th>8</th>\n",
       "      <td>not-na</td>\n",
       "      <td>other</td>\n",
       "      <td>not-zero</td>\n",
       "      <td>unf</td>\n",
       "      <td>zero</td>\n",
       "      <td>zero</td>\n",
       "      <td>not-zero</td>\n",
       "      <td>84</td>\n",
       "    </tr>\n",
       "    <tr>\n",
       "      <th>9</th>\n",
       "      <td>not-na</td>\n",
       "      <td>unf</td>\n",
       "      <td>zero</td>\n",
       "      <td>unf</td>\n",
       "      <td>zero</td>\n",
       "      <td>not-zero</td>\n",
       "      <td>not-zero</td>\n",
       "      <td>851</td>\n",
       "    </tr>\n",
       "  </tbody>\n",
       "</table>\n",
       "</div>"
      ],
      "text/plain": [
       "  Bsmt Qual BsmtFin Type 1 BsmtFin SF 1 BsmtFin Type 2 BsmtFin SF 2  \\\n",
       "0        na             na         null             na         null   \n",
       "1        na             na         zero             na         zero   \n",
       "2    not-na          other     not-zero             na     not-zero   \n",
       "3    not-na          other     not-zero          other     not-zero   \n",
       "4    not-na          other     not-zero          other     not-zero   \n",
       "5    not-na          other     not-zero          other         zero   \n",
       "6    not-na          other     not-zero            unf     not-zero   \n",
       "7    not-na          other     not-zero            unf         zero   \n",
       "8    not-na          other     not-zero            unf         zero   \n",
       "9    not-na            unf         zero            unf         zero   \n",
       "\n",
       "  Bsmt Unf SF Total Bsmt SF  Count  \n",
       "0        null          zero      1  \n",
       "1        zero          zero     79  \n",
       "2    not-zero      not-zero      1  \n",
       "3    not-zero      not-zero    268  \n",
       "4        zero      not-zero     81  \n",
       "5    not-zero      not-zero      1  \n",
       "6    not-zero      not-zero      1  \n",
       "7    not-zero      not-zero   1563  \n",
       "8        zero      not-zero     84  \n",
       "9    not-zero      not-zero    851  "
      ]
     },
     "execution_count": 242,
     "metadata": {},
     "output_type": "execute_result"
    }
   ],
   "source": [
    "names = ['Bsmt Qual', 'BsmtFin Type 1', 'BsmtFin SF 1', 'BsmtFin Type 2', 'BsmtFin SF 2', 'Bsmt Unf SF', 'Total Bsmt SF']\n",
    "df_category, df_case = utils.categorize(df_all, [\n",
    "    ('Bsmt Qual', label_na),\n",
    "    ('BsmtFin Type 1', lambda val: 'na' if val == 'NA' else 'unf' if val == \"Unf\" else 'other'),\n",
    "    ('BsmtFin SF 1', label_zero),\n",
    "    ('BsmtFin Type 2', lambda val: 'na' if val == 'NA' else 'unf' if val == \"Unf\" else 'other'),\n",
    "    ('BsmtFin SF 2', label_zero),\n",
    "    ('Bsmt Unf SF', label_zero),\n",
    "    ('Total Bsmt SF', label_zero)\n",
    "])\n",
    "df_case"
   ]
  },
  {
   "cell_type": "markdown",
   "metadata": {},
   "source": [
    "Although this is not stated in the documentation, we can guess that:\n",
    "* If there is no basement, then both finished-types (`BsmtFin Type 1` and `BsmtFin Type 2`) should be set to `NA` and all surfaces (finished-surfaces (`BsmtFin SF 1` and `BsmtFin SF 2`), unfinished-surface (`Bsmt Unf SF`) and total-surface (`Total Bsmt SF`)) should be 0.\n",
    "* If the basement is entirely unfinished, then both finished-types should be set to `Unf`, both finished-surfaces should be set to 0 and the unfinished-surface should be positive.\n",
    "* If the basement is partially unfinished, then finished-type-1 should be set, finished-surface-1 should be positive and unfinished-surface should be positive. If there is only type of finished surface, then finished-type-2 should be `Unf` and finished-surface-2 should be 0. Otherwise, finished-type-2 should be set and finished-surface-2 should be positive.\n",
    "* If the basement is entirely finished, then finished-type-1 should be set, finished-surface-1 should be positive and unfinished-surface should be 0. If there is only type of finished surface, then finished-type-2 should be `Unf` and finished-surface-2 should be 0. Otherwise, finished-type-2 should be set and finished-surface-2 should be positive.\n",
    "* All surface should always add up properly.\n",
    "\n",
    "With this in mind, referring to the cases by their index number, the expected cases are: **case 1**, **case 3**, **case 4**, **case 7**, **case 8** and **case 9**."
   ]
  },
  {
   "cell_type": "code",
   "execution_count": 243,
   "metadata": {},
   "outputs": [
    {
     "data": {
      "text/html": [
       "<div>\n",
       "<style scoped>\n",
       "    .dataframe tbody tr th:only-of-type {\n",
       "        vertical-align: middle;\n",
       "    }\n",
       "\n",
       "    .dataframe tbody tr th {\n",
       "        vertical-align: top;\n",
       "    }\n",
       "\n",
       "    .dataframe thead th {\n",
       "        text-align: right;\n",
       "    }\n",
       "</style>\n",
       "<table border=\"1\" class=\"dataframe\">\n",
       "  <thead>\n",
       "    <tr style=\"text-align: right;\">\n",
       "      <th></th>\n",
       "      <th>Bsmt Qual</th>\n",
       "      <th>BsmtFin Type 1</th>\n",
       "      <th>BsmtFin SF 1</th>\n",
       "      <th>BsmtFin Type 2</th>\n",
       "      <th>BsmtFin SF 2</th>\n",
       "      <th>Bsmt Unf SF</th>\n",
       "      <th>Total Bsmt SF</th>\n",
       "    </tr>\n",
       "  </thead>\n",
       "  <tbody>\n",
       "    <tr>\n",
       "      <th>104</th>\n",
       "      <td>NA</td>\n",
       "      <td>NA</td>\n",
       "      <td>NaN</td>\n",
       "      <td>NA</td>\n",
       "      <td>NaN</td>\n",
       "      <td>NaN</td>\n",
       "      <td>0.0</td>\n",
       "    </tr>\n",
       "  </tbody>\n",
       "</table>\n",
       "</div>"
      ],
      "text/plain": [
       "    Bsmt Qual BsmtFin Type 1  BsmtFin SF 1 BsmtFin Type 2  BsmtFin SF 2  \\\n",
       "104        NA             NA           NaN             NA           NaN   \n",
       "\n",
       "     Bsmt Unf SF  Total Bsmt SF  \n",
       "104          NaN            0.0  "
      ]
     },
     "execution_count": 243,
     "metadata": {},
     "output_type": "execute_result"
    }
   ],
   "source": [
    "# Case 0:\n",
    "df_all[utils.mask_for_case(df_category, df_case, 0)][names]"
   ]
  },
  {
   "cell_type": "code",
   "execution_count": 244,
   "metadata": {},
   "outputs": [
    {
     "data": {
      "text/html": [
       "<div>\n",
       "<style scoped>\n",
       "    .dataframe tbody tr th:only-of-type {\n",
       "        vertical-align: middle;\n",
       "    }\n",
       "\n",
       "    .dataframe tbody tr th {\n",
       "        vertical-align: top;\n",
       "    }\n",
       "\n",
       "    .dataframe thead th {\n",
       "        text-align: right;\n",
       "    }\n",
       "</style>\n",
       "<table border=\"1\" class=\"dataframe\">\n",
       "  <thead>\n",
       "    <tr style=\"text-align: right;\">\n",
       "      <th></th>\n",
       "      <th>Bsmt Qual</th>\n",
       "      <th>BsmtFin Type 1</th>\n",
       "      <th>BsmtFin SF 1</th>\n",
       "      <th>BsmtFin Type 2</th>\n",
       "      <th>BsmtFin SF 2</th>\n",
       "      <th>Bsmt Unf SF</th>\n",
       "      <th>Total Bsmt SF</th>\n",
       "    </tr>\n",
       "  </thead>\n",
       "  <tbody>\n",
       "    <tr>\n",
       "      <th>602</th>\n",
       "      <td>Gd</td>\n",
       "      <td>GLQ</td>\n",
       "      <td>1124.0</td>\n",
       "      <td>NA</td>\n",
       "      <td>479.0</td>\n",
       "      <td>1603.0</td>\n",
       "      <td>3206.0</td>\n",
       "    </tr>\n",
       "  </tbody>\n",
       "</table>\n",
       "</div>"
      ],
      "text/plain": [
       "    Bsmt Qual BsmtFin Type 1  BsmtFin SF 1 BsmtFin Type 2  BsmtFin SF 2  \\\n",
       "602        Gd            GLQ        1124.0             NA         479.0   \n",
       "\n",
       "     Bsmt Unf SF  Total Bsmt SF  \n",
       "602       1603.0         3206.0  "
      ]
     },
     "execution_count": 244,
     "metadata": {},
     "output_type": "execute_result"
    }
   ],
   "source": [
    "# Case 2:\n",
    "df_all[utils.mask_for_case(df_category, df_case, 2)][names]"
   ]
  },
  {
   "cell_type": "code",
   "execution_count": 245,
   "metadata": {},
   "outputs": [
    {
     "data": {
      "text/html": [
       "<div>\n",
       "<style scoped>\n",
       "    .dataframe tbody tr th:only-of-type {\n",
       "        vertical-align: middle;\n",
       "    }\n",
       "\n",
       "    .dataframe tbody tr th {\n",
       "        vertical-align: top;\n",
       "    }\n",
       "\n",
       "    .dataframe thead th {\n",
       "        text-align: right;\n",
       "    }\n",
       "</style>\n",
       "<table border=\"1\" class=\"dataframe\">\n",
       "  <thead>\n",
       "    <tr style=\"text-align: right;\">\n",
       "      <th></th>\n",
       "      <th>Bsmt Qual</th>\n",
       "      <th>BsmtFin Type 1</th>\n",
       "      <th>BsmtFin SF 1</th>\n",
       "      <th>BsmtFin Type 2</th>\n",
       "      <th>BsmtFin SF 2</th>\n",
       "      <th>Bsmt Unf SF</th>\n",
       "      <th>Total Bsmt SF</th>\n",
       "    </tr>\n",
       "  </thead>\n",
       "  <tbody>\n",
       "    <tr>\n",
       "      <th>1818</th>\n",
       "      <td>Gd</td>\n",
       "      <td>GLQ</td>\n",
       "      <td>1051.0</td>\n",
       "      <td>BLQ</td>\n",
       "      <td>0.0</td>\n",
       "      <td>354.0</td>\n",
       "      <td>1405.0</td>\n",
       "    </tr>\n",
       "  </tbody>\n",
       "</table>\n",
       "</div>"
      ],
      "text/plain": [
       "     Bsmt Qual BsmtFin Type 1  BsmtFin SF 1 BsmtFin Type 2  BsmtFin SF 2  \\\n",
       "1818        Gd            GLQ        1051.0            BLQ           0.0   \n",
       "\n",
       "      Bsmt Unf SF  Total Bsmt SF  \n",
       "1818        354.0         1405.0  "
      ]
     },
     "execution_count": 245,
     "metadata": {},
     "output_type": "execute_result"
    }
   ],
   "source": [
    "# Case 5:\n",
    "df_all[utils.mask_for_case(df_category, df_case, 5)][names]"
   ]
  },
  {
   "cell_type": "code",
   "execution_count": 246,
   "metadata": {},
   "outputs": [
    {
     "data": {
      "text/html": [
       "<div>\n",
       "<style scoped>\n",
       "    .dataframe tbody tr th:only-of-type {\n",
       "        vertical-align: middle;\n",
       "    }\n",
       "\n",
       "    .dataframe tbody tr th {\n",
       "        vertical-align: top;\n",
       "    }\n",
       "\n",
       "    .dataframe thead th {\n",
       "        text-align: right;\n",
       "    }\n",
       "</style>\n",
       "<table border=\"1\" class=\"dataframe\">\n",
       "  <thead>\n",
       "    <tr style=\"text-align: right;\">\n",
       "      <th></th>\n",
       "      <th>Bsmt Qual</th>\n",
       "      <th>BsmtFin Type 1</th>\n",
       "      <th>BsmtFin SF 1</th>\n",
       "      <th>BsmtFin Type 2</th>\n",
       "      <th>BsmtFin SF 2</th>\n",
       "      <th>Bsmt Unf SF</th>\n",
       "      <th>Total Bsmt SF</th>\n",
       "    </tr>\n",
       "  </thead>\n",
       "  <tbody>\n",
       "    <tr>\n",
       "      <th>1092</th>\n",
       "      <td>Gd</td>\n",
       "      <td>GLQ</td>\n",
       "      <td>632.0</td>\n",
       "      <td>Unf</td>\n",
       "      <td>6.0</td>\n",
       "      <td>423.0</td>\n",
       "      <td>1061.0</td>\n",
       "    </tr>\n",
       "  </tbody>\n",
       "</table>\n",
       "</div>"
      ],
      "text/plain": [
       "     Bsmt Qual BsmtFin Type 1  BsmtFin SF 1 BsmtFin Type 2  BsmtFin SF 2  \\\n",
       "1092        Gd            GLQ         632.0            Unf           6.0   \n",
       "\n",
       "      Bsmt Unf SF  Total Bsmt SF  \n",
       "1092        423.0         1061.0  "
      ]
     },
     "execution_count": 246,
     "metadata": {},
     "output_type": "execute_result"
    }
   ],
   "source": [
    "# Case 6:\n",
    "df_all[utils.mask_for_case(df_category, df_case, 6)][names]"
   ]
  },
  {
   "cell_type": "markdown",
   "metadata": {},
   "source": [
    "**Notes:**\n",
    "* **Case 0:** We assume that null surfaces were incorrectly set to null instead of 0. **We decide to set all surfaces to 0.**\n",
    "* **Case 2:** We assume that the finition-type-2 was left out by mistake (the surfaces add up properly). We are reluctant to introduce a new value (e.g. `Unknown`) for an ordinal variable (where to insert it?). Since there is only 1 row impacted, we could drop it. **We decide to replace NA values by the mode in the neighborhood where the property is located if the mode exists and by the mode overall otherwise.**\n",
    "* **Case 5:** We assume that the finition-type-2 (`BsmtFin Type 2`) was set by mistake (the surfaces add up properly). **We decide to set finition-type-2 to `Unf`.**\n",
    "* **Case 6:** We assume that the finition-type-2 was set to `Unf` set by mistake (the surfaces add up properly). Similar to case 2."
   ]
  },
  {
   "cell_type": "code",
   "execution_count": 247,
   "metadata": {},
   "outputs": [],
   "source": [
    "# Correct the data set:\n",
    "\n",
    "# Case 0:\n",
    "mask_0 = utils.mask_for_case(df_category, df_case, 0)\n",
    "df_all.loc[mask_0, ['BsmtFin SF 1', 'BsmtFin SF 2', 'Bsmt Unf SF']] = 0\n",
    "\n",
    "# Case 2:\n",
    "mask_2 = utils.mask_for_case(df_category, df_case, 2)\n",
    "mode_by_neighborhood = utils.get_mode_by(df_all, 'BsmtFin Type 2', by='Neighborhood', exclusion_list=['NA', 'Unf'])\n",
    "df_all.loc[mask_2, 'BsmtFin Type 2'] = df_all.loc[mask_2, 'Neighborhood'].map(mode_by_neighborhood)\n",
    "\n",
    "# Case 5:\n",
    "mask_5 = utils.mask_for_case(df_category, df_case, 5)\n",
    "df_all.loc[mask_5, 'BsmtFin Type 2'] = 'Unf'\n",
    "           \n",
    "# Case 6:\n",
    "mask_6 = utils.mask_for_case(df_category, df_case, 6)\n",
    "mode_by_neighborhood = utils.get_mode_by(df_all, 'BsmtFin Type 2', by='Neighborhood', exclusion_list=['NA', 'Unf'])\n",
    "df_all.loc[mask_6, 'BsmtFin Type 2'] = df_all.loc[mask_6, 'Neighborhood'].map(mode_by_neighborhood)"
   ]
  },
  {
   "cell_type": "markdown",
   "metadata": {},
   "source": [
    "#### Variables: `Bsmt` (baths)"
   ]
  },
  {
   "cell_type": "markdown",
   "metadata": {},
   "source": [
    "We look at multiple variables that describe the basement together. In order to reduce the number of cases, we look only at a subset at a time (here types and surfaces). We take a closer look at the different cases."
   ]
  },
  {
   "cell_type": "code",
   "execution_count": 248,
   "metadata": {},
   "outputs": [
    {
     "data": {
      "text/html": [
       "<div>\n",
       "<style scoped>\n",
       "    .dataframe tbody tr th:only-of-type {\n",
       "        vertical-align: middle;\n",
       "    }\n",
       "\n",
       "    .dataframe tbody tr th {\n",
       "        vertical-align: top;\n",
       "    }\n",
       "\n",
       "    .dataframe thead th {\n",
       "        text-align: right;\n",
       "    }\n",
       "</style>\n",
       "<table border=\"1\" class=\"dataframe\">\n",
       "  <thead>\n",
       "    <tr style=\"text-align: right;\">\n",
       "      <th></th>\n",
       "      <th>Bsmt Qual</th>\n",
       "      <th>Bsmt Full Bath</th>\n",
       "      <th>Bsmt Half Bath</th>\n",
       "      <th>Count</th>\n",
       "    </tr>\n",
       "  </thead>\n",
       "  <tbody>\n",
       "    <tr>\n",
       "      <th>0</th>\n",
       "      <td>na</td>\n",
       "      <td>null</td>\n",
       "      <td>null</td>\n",
       "      <td>2</td>\n",
       "    </tr>\n",
       "    <tr>\n",
       "      <th>1</th>\n",
       "      <td>na</td>\n",
       "      <td>zero</td>\n",
       "      <td>zero</td>\n",
       "      <td>78</td>\n",
       "    </tr>\n",
       "    <tr>\n",
       "      <th>2</th>\n",
       "      <td>not-na</td>\n",
       "      <td>not-zero</td>\n",
       "      <td>not-zero</td>\n",
       "      <td>20</td>\n",
       "    </tr>\n",
       "    <tr>\n",
       "      <th>3</th>\n",
       "      <td>not-na</td>\n",
       "      <td>not-zero</td>\n",
       "      <td>zero</td>\n",
       "      <td>1201</td>\n",
       "    </tr>\n",
       "    <tr>\n",
       "      <th>4</th>\n",
       "      <td>not-na</td>\n",
       "      <td>zero</td>\n",
       "      <td>not-zero</td>\n",
       "      <td>155</td>\n",
       "    </tr>\n",
       "    <tr>\n",
       "      <th>5</th>\n",
       "      <td>not-na</td>\n",
       "      <td>zero</td>\n",
       "      <td>zero</td>\n",
       "      <td>1474</td>\n",
       "    </tr>\n",
       "  </tbody>\n",
       "</table>\n",
       "</div>"
      ],
      "text/plain": [
       "  Bsmt Qual Bsmt Full Bath Bsmt Half Bath  Count\n",
       "0        na           null           null      2\n",
       "1        na           zero           zero     78\n",
       "2    not-na       not-zero       not-zero     20\n",
       "3    not-na       not-zero           zero   1201\n",
       "4    not-na           zero       not-zero    155\n",
       "5    not-na           zero           zero   1474"
      ]
     },
     "execution_count": 248,
     "metadata": {},
     "output_type": "execute_result"
    }
   ],
   "source": [
    "names = ['Bsmt Qual', 'Bsmt Full Bath', 'Bsmt Half Bath']\n",
    "df_category, df_case = utils.categorize(df_all, [\n",
    "    ('Bsmt Qual', label_na),\n",
    "    ('Bsmt Full Bath', label_zero),\n",
    "    ('Bsmt Half Bath', label_zero)\n",
    "])\n",
    "df_case"
   ]
  },
  {
   "cell_type": "markdown",
   "metadata": {},
   "source": [
    "Referring to the cases by their index number, expected cases are: all cases except **case 0**."
   ]
  },
  {
   "cell_type": "markdown",
   "metadata": {},
   "source": [
    "Notes:\n",
    "* **Case 0:** We assume that both bath counts (`Bsmt Full Bath` and `Bsmt Half Bath`) were incorrectly set to null instead of 0. **We decide to set both bath counts to 0.**"
   ]
  },
  {
   "cell_type": "code",
   "execution_count": 249,
   "metadata": {},
   "outputs": [],
   "source": [
    "# Correct the data set:\n",
    "\n",
    "# Case 0:\n",
    "mask_0 = utils.mask_for_case(df_category, df_case, 0)\n",
    "df_all.loc[mask_0, ['Bsmt Full Bath', 'Bsmt Half Bath']] = 0"
   ]
  },
  {
   "cell_type": "markdown",
   "metadata": {},
   "source": [
    "We check that all surfaces add up properly:"
   ]
  },
  {
   "cell_type": "code",
   "execution_count": 250,
   "metadata": {},
   "outputs": [
    {
     "data": {
      "text/plain": [
       "0"
      ]
     },
     "execution_count": 250,
     "metadata": {},
     "output_type": "execute_result"
    }
   ],
   "source": [
    "(df_all['BsmtFin SF 1'] + df_all['BsmtFin SF 2'] + df_all['Bsmt Unf SF'] != df_all['Total Bsmt SF']).sum()"
   ]
  },
  {
   "cell_type": "markdown",
   "metadata": {},
   "source": [
    "#### `Garage` variables"
   ]
  },
  {
   "cell_type": "markdown",
   "metadata": {},
   "source": [
    "We look at multiple variables that describe the garage together. We take a closer look at the different cases."
   ]
  },
  {
   "cell_type": "code",
   "execution_count": 251,
   "metadata": {},
   "outputs": [
    {
     "data": {
      "text/html": [
       "<div>\n",
       "<style scoped>\n",
       "    .dataframe tbody tr th:only-of-type {\n",
       "        vertical-align: middle;\n",
       "    }\n",
       "\n",
       "    .dataframe tbody tr th {\n",
       "        vertical-align: top;\n",
       "    }\n",
       "\n",
       "    .dataframe thead th {\n",
       "        text-align: right;\n",
       "    }\n",
       "</style>\n",
       "<table border=\"1\" class=\"dataframe\">\n",
       "  <thead>\n",
       "    <tr style=\"text-align: right;\">\n",
       "      <th></th>\n",
       "      <th>Garage Type</th>\n",
       "      <th>Garage Yr Blt</th>\n",
       "      <th>Garage Finish</th>\n",
       "      <th>Garage Cars</th>\n",
       "      <th>Garage Area</th>\n",
       "      <th>Garage Qual</th>\n",
       "      <th>Garage Cond</th>\n",
       "      <th>Count</th>\n",
       "    </tr>\n",
       "  </thead>\n",
       "  <tbody>\n",
       "    <tr>\n",
       "      <th>0</th>\n",
       "      <td>na</td>\n",
       "      <td>null</td>\n",
       "      <td>na</td>\n",
       "      <td>zero</td>\n",
       "      <td>zero</td>\n",
       "      <td>na</td>\n",
       "      <td>na</td>\n",
       "      <td>157</td>\n",
       "    </tr>\n",
       "    <tr>\n",
       "      <th>1</th>\n",
       "      <td>not-na</td>\n",
       "      <td>not-zero</td>\n",
       "      <td>not-na</td>\n",
       "      <td>not-zero</td>\n",
       "      <td>not-zero</td>\n",
       "      <td>not-na</td>\n",
       "      <td>not-na</td>\n",
       "      <td>2771</td>\n",
       "    </tr>\n",
       "    <tr>\n",
       "      <th>2</th>\n",
       "      <td>not-na</td>\n",
       "      <td>null</td>\n",
       "      <td>na</td>\n",
       "      <td>not-zero</td>\n",
       "      <td>not-zero</td>\n",
       "      <td>na</td>\n",
       "      <td>na</td>\n",
       "      <td>1</td>\n",
       "    </tr>\n",
       "    <tr>\n",
       "      <th>3</th>\n",
       "      <td>not-na</td>\n",
       "      <td>null</td>\n",
       "      <td>na</td>\n",
       "      <td>null</td>\n",
       "      <td>null</td>\n",
       "      <td>na</td>\n",
       "      <td>na</td>\n",
       "      <td>1</td>\n",
       "    </tr>\n",
       "  </tbody>\n",
       "</table>\n",
       "</div>"
      ],
      "text/plain": [
       "  Garage Type Garage Yr Blt Garage Finish Garage Cars Garage Area Garage Qual  \\\n",
       "0          na          null            na        zero        zero          na   \n",
       "1      not-na      not-zero        not-na    not-zero    not-zero      not-na   \n",
       "2      not-na          null            na    not-zero    not-zero          na   \n",
       "3      not-na          null            na        null        null          na   \n",
       "\n",
       "  Garage Cond  Count  \n",
       "0          na    157  \n",
       "1      not-na   2771  \n",
       "2          na      1  \n",
       "3          na      1  "
      ]
     },
     "execution_count": 251,
     "metadata": {},
     "output_type": "execute_result"
    }
   ],
   "source": [
    "names = ['Garage Type', 'Garage Yr Blt', 'Garage Finish', 'Garage Cars', 'Garage Area', 'Garage Qual', 'Garage Cond']\n",
    "df_category, df_case = utils.categorize(df_all, [\n",
    "    ('Garage Type', label_na),\n",
    "    ('Garage Yr Blt', label_zero),\n",
    "    ('Garage Finish', label_na),\n",
    "    ('Garage Cars', label_zero),\n",
    "    ('Garage Area', label_zero),\n",
    "    ('Garage Qual', label_na),\n",
    "    ('Garage Cond', label_na),\n",
    "])\n",
    "df_case"
   ]
  },
  {
   "cell_type": "markdown",
   "metadata": {},
   "source": [
    "Referring to the cases by their index number, the expected cases are: **case 0** and **case 1**."
   ]
  },
  {
   "cell_type": "code",
   "execution_count": 252,
   "metadata": {},
   "outputs": [
    {
     "data": {
      "text/html": [
       "<div>\n",
       "<style scoped>\n",
       "    .dataframe tbody tr th:only-of-type {\n",
       "        vertical-align: middle;\n",
       "    }\n",
       "\n",
       "    .dataframe tbody tr th {\n",
       "        vertical-align: top;\n",
       "    }\n",
       "\n",
       "    .dataframe thead th {\n",
       "        text-align: right;\n",
       "    }\n",
       "</style>\n",
       "<table border=\"1\" class=\"dataframe\">\n",
       "  <thead>\n",
       "    <tr style=\"text-align: right;\">\n",
       "      <th></th>\n",
       "      <th>Garage Type</th>\n",
       "      <th>Garage Yr Blt</th>\n",
       "      <th>Garage Finish</th>\n",
       "      <th>Garage Cars</th>\n",
       "      <th>Garage Area</th>\n",
       "      <th>Garage Qual</th>\n",
       "      <th>Garage Cond</th>\n",
       "    </tr>\n",
       "  </thead>\n",
       "  <tbody>\n",
       "    <tr>\n",
       "      <th>1114</th>\n",
       "      <td>Detchd</td>\n",
       "      <td>NaN</td>\n",
       "      <td>NA</td>\n",
       "      <td>1.0</td>\n",
       "      <td>360.0</td>\n",
       "      <td>NA</td>\n",
       "      <td>NA</td>\n",
       "    </tr>\n",
       "  </tbody>\n",
       "</table>\n",
       "</div>"
      ],
      "text/plain": [
       "     Garage Type  Garage Yr Blt Garage Finish  Garage Cars  Garage Area  \\\n",
       "1114      Detchd            NaN            NA          1.0        360.0   \n",
       "\n",
       "     Garage Qual Garage Cond  \n",
       "1114          NA          NA  "
      ]
     },
     "execution_count": 252,
     "metadata": {},
     "output_type": "execute_result"
    }
   ],
   "source": [
    "# Case 2:\n",
    "df_all[utils.mask_for_case(df_category, df_case, 2)][names]"
   ]
  },
  {
   "cell_type": "code",
   "execution_count": 253,
   "metadata": {},
   "outputs": [
    {
     "data": {
      "text/html": [
       "<div>\n",
       "<style scoped>\n",
       "    .dataframe tbody tr th:only-of-type {\n",
       "        vertical-align: middle;\n",
       "    }\n",
       "\n",
       "    .dataframe tbody tr th {\n",
       "        vertical-align: top;\n",
       "    }\n",
       "\n",
       "    .dataframe thead th {\n",
       "        text-align: right;\n",
       "    }\n",
       "</style>\n",
       "<table border=\"1\" class=\"dataframe\">\n",
       "  <thead>\n",
       "    <tr style=\"text-align: right;\">\n",
       "      <th></th>\n",
       "      <th>Garage Type</th>\n",
       "      <th>Garage Yr Blt</th>\n",
       "      <th>Garage Finish</th>\n",
       "      <th>Garage Cars</th>\n",
       "      <th>Garage Area</th>\n",
       "      <th>Garage Qual</th>\n",
       "      <th>Garage Cond</th>\n",
       "    </tr>\n",
       "  </thead>\n",
       "  <tbody>\n",
       "    <tr>\n",
       "      <th>1565</th>\n",
       "      <td>Detchd</td>\n",
       "      <td>NaN</td>\n",
       "      <td>NA</td>\n",
       "      <td>NaN</td>\n",
       "      <td>NaN</td>\n",
       "      <td>NA</td>\n",
       "      <td>NA</td>\n",
       "    </tr>\n",
       "  </tbody>\n",
       "</table>\n",
       "</div>"
      ],
      "text/plain": [
       "     Garage Type  Garage Yr Blt Garage Finish  Garage Cars  Garage Area  \\\n",
       "1565      Detchd            NaN            NA          NaN          NaN   \n",
       "\n",
       "     Garage Qual Garage Cond  \n",
       "1565          NA          NA  "
      ]
     },
     "execution_count": 253,
     "metadata": {},
     "output_type": "execute_result"
    }
   ],
   "source": [
    "# Case 3:\n",
    "df_all[utils.mask_for_case(df_category, df_case, 3)][names]"
   ]
  },
  {
   "cell_type": "markdown",
   "metadata": {},
   "source": [
    "**Notes:**\n",
    "* **Case 0:** Unlike in other cases, the value null is actually appropriate. We take care of this below.\n",
    "* **Case 2:** We assume that the garage-year-built (`Garage Yr Blt`), the garage-finish (`Garage Finish`), garage-quality (`Garage Qual`) and garage-condition (`Garage Cond`) were left out by mistake. We are reluctant to introduce a new value (e.g. `Unknown`) for ordinal variables (where to insert it?). Since there is only 1 row impacted, we could drop it. **We decide to set the garage-year-built to the (house) year-built (`Year Built`) and to replace NA values by the mode in the neighborhood where the property is located if the mode exists and by the mode overall otherwise.**\n",
    "* **Case 3:** We assume that there is no garage and that the garage-type (`Garage Type`) was set by mistake. **We decide to set the garage-type to `NA` and the garage-cars (`Garage Cars`) and garage-area (`Garage Area`) to 0 (like case 1).**"
   ]
  },
  {
   "cell_type": "code",
   "execution_count": 254,
   "metadata": {},
   "outputs": [],
   "source": [
    "# Correct the data set:\n",
    "\n",
    "# Case 2:\n",
    "mask_2 = utils.mask_for_case(df_category, df_case, 2)\n",
    "df_all.loc[mask_2, 'Garage Yr Blt'] = df_all.loc[mask_2, 'Year Built']\n",
    "# Garage-finish:\n",
    "mode_by = utils.get_mode_by(df_all, 'Garage Finish', by='Neighborhood')\n",
    "df_all.loc[mask_2, 'Garage Finish'] = df_all.loc[mask_2, 'Neighborhood'].map(mode_by)\n",
    "# Garage-quality:\n",
    "mode_by = utils.get_mode_by(df_all, 'Garage Qual', by='Neighborhood')\n",
    "df_all.loc[mask_2, 'Garage Qual'] = df_all.loc[mask_2, 'Neighborhood'].map(mode_by)\n",
    "# Garage-condition:\n",
    "mode_by = utils.get_mode_by(df_all, 'Garage Cond', by='Neighborhood')\n",
    "df_all.loc[mask_2, 'Garage Cond'] = df_all.loc[mask_2, 'Neighborhood'].map(mode_by)\n",
    "\n",
    "# Case 3:\n",
    "mask_3 = utils.mask_for_case(df_category, df_case, 3)\n",
    "df_all.loc[mask_3, ['Garage Type', 'Garage Cars', 'Garage Area']] = ('NA', 0, 0)"
   ]
  },
  {
   "cell_type": "markdown",
   "metadata": {},
   "source": [
    "**Note:** We are left with one issue: the garage-year-built is set to null when there is no garage. In this case, null is actually appropriate but not allowed with multiple linear regressions, so we need to impute null values. **Since all features will be standardized later on, we decide to replace null values by the overall mean value.** (This should be equivalent to replacing null values by 0 after standardization.)"
   ]
  },
  {
   "cell_type": "code",
   "execution_count": 255,
   "metadata": {},
   "outputs": [],
   "source": [
    "# Update the data set:\n",
    "with warnings.catch_warnings():\n",
    "    # RuntimeWarning: Mean of empty slice\n",
    "    warnings.filterwarnings('ignore', category=RuntimeWarning)\n",
    "    mean_overall = df_all['Garage Yr Blt'].mean(skipna=True)\n",
    "assert not np.isnan(mean_overall)\n",
    "df_all['Garage Yr Blt'] = df_all['Garage Yr Blt'].fillna(mean_overall)"
   ]
  },
  {
   "cell_type": "markdown",
   "metadata": {},
   "source": [
    "Due to time constraints, we put an end to step 1 here."
   ]
  },
  {
   "cell_type": "code",
   "execution_count": 256,
   "metadata": {},
   "outputs": [
    {
     "data": {
      "text/plain": [
       "False"
      ]
     },
     "execution_count": 256,
     "metadata": {},
     "output_type": "execute_result"
    }
   ],
   "source": [
    "df_all.isna().any().any()"
   ]
  },
  {
   "cell_type": "markdown",
   "metadata": {},
   "source": [
    "### Step 2 - Correct inconsistencies<a name=\"stage-1-step-2\"></a> ([top](#top))\n",
    "---"
   ]
  },
  {
   "cell_type": "markdown",
   "metadata": {},
   "source": [
    "We start by converting all qualitative variables to strings (a few were automatically recognized as integers by Pandas uppon reading the CSV file):"
   ]
  },
  {
   "cell_type": "code",
   "execution_count": 257,
   "metadata": {},
   "outputs": [
    {
     "data": {
      "text/plain": [
       "['MS SubClass', 'Overall Qual', 'Overall Cond']"
      ]
     },
     "execution_count": 257,
     "metadata": {},
     "output_type": "execute_result"
    }
   ],
   "source": [
    "[name for name, attrs in variables.items()\n",
    " if utils.is_qualitative(attrs) and not pd.api.types.is_object_dtype(df_all.dtypes[name])]"
   ]
  },
  {
   "cell_type": "code",
   "execution_count": 258,
   "metadata": {},
   "outputs": [],
   "source": [
    "df_all['MS SubClass'] = df_all['MS SubClass'].map(lambda n: f'{n:0>3}')\n",
    "df_all['Overall Qual'] = df_all['Overall Qual'].map(str)\n",
    "df_all['Overall Cond'] = df_all['Overall Cond'].map(str)"
   ]
  },
  {
   "cell_type": "markdown",
   "metadata": {},
   "source": [
    "We use the definitions to convert all qualitative variables to `Categorical` Pandas variables. Note that we have preserved the order given in the documentation, which is always from best to worst.)"
   ]
  },
  {
   "cell_type": "code",
   "execution_count": 259,
   "metadata": {},
   "outputs": [],
   "source": [
    "for name, attrs in variables.items():\n",
    "    if not utils.is_qualitative(attrs):\n",
    "        continue\n",
    "    categories = attrs['values']\n",
    "    ordered = (attrs['kind'] == 'Ordinal')\n",
    "    df_all[name] = pd.Categorical(df_all[name], categories=categories, ordered=ordered)"
   ]
  },
  {
   "cell_type": "code",
   "execution_count": 260,
   "metadata": {},
   "outputs": [
    {
     "name": "stdout",
     "output_type": "stream",
     "text": [
      "<class 'pandas.core.frame.DataFrame'>\n",
      "RangeIndex: 2930 entries, 0 to 2929\n",
      "Data columns (total 81 columns):\n",
      "Order              2930 non-null int64\n",
      "PID                2930 non-null int64\n",
      "MS SubClass        2930 non-null category\n",
      "MS Zoning          2930 non-null category\n",
      "Lot Frontage       2930 non-null float64\n",
      "Lot Area           2930 non-null int64\n",
      "Street             2930 non-null category\n",
      "Alley              2930 non-null category\n",
      "Lot Shape          2930 non-null category\n",
      "Land Contour       2930 non-null category\n",
      "Utilities          2930 non-null category\n",
      "Lot Config         2930 non-null category\n",
      "Land Slope         2930 non-null category\n",
      "Neighborhood       2930 non-null category\n",
      "Condition 1        2930 non-null category\n",
      "Condition 2        2930 non-null category\n",
      "Bldg Type          2930 non-null category\n",
      "House Style        2930 non-null category\n",
      "Overall Qual       2930 non-null category\n",
      "Overall Cond       2930 non-null category\n",
      "Year Built         2930 non-null int64\n",
      "Year Remod/Add     2930 non-null int64\n",
      "Roof Style         2930 non-null category\n",
      "Roof Matl          2930 non-null category\n",
      "Exterior 1st       2930 non-null category\n",
      "Exterior 2nd       2930 non-null category\n",
      "Mas Vnr Type       2930 non-null category\n",
      "Mas Vnr Area       2930 non-null float64\n",
      "Exter Qual         2930 non-null category\n",
      "Exter Cond         2930 non-null category\n",
      "Foundation         2930 non-null category\n",
      "Bsmt Qual          2930 non-null category\n",
      "Bsmt Cond          2930 non-null category\n",
      "Bsmt Exposure      2930 non-null category\n",
      "BsmtFin Type 1     2930 non-null category\n",
      "BsmtFin SF 1       2930 non-null float64\n",
      "BsmtFin Type 2     2930 non-null category\n",
      "BsmtFin SF 2       2930 non-null float64\n",
      "Bsmt Unf SF        2930 non-null float64\n",
      "Total Bsmt SF      2930 non-null float64\n",
      "Heating            2930 non-null category\n",
      "Heating QC         2930 non-null category\n",
      "Central Air        2930 non-null category\n",
      "Electrical         2930 non-null category\n",
      "1st Flr SF         2930 non-null int64\n",
      "2nd Flr SF         2930 non-null int64\n",
      "Low Qual Fin SF    2930 non-null int64\n",
      "Gr Liv Area        2930 non-null int64\n",
      "Bsmt Full Bath     2930 non-null float64\n",
      "Bsmt Half Bath     2930 non-null float64\n",
      "Full Bath          2930 non-null int64\n",
      "Half Bath          2930 non-null int64\n",
      "Bedroom AbvGr      2930 non-null int64\n",
      "Kitchen AbvGr      2930 non-null int64\n",
      "Kitchen Qual       2930 non-null category\n",
      "TotRms AbvGrd      2930 non-null int64\n",
      "Functional         2930 non-null category\n",
      "Fireplaces         2930 non-null int64\n",
      "Fireplace Qu       2930 non-null category\n",
      "Garage Type        2930 non-null category\n",
      "Garage Yr Blt      2930 non-null float64\n",
      "Garage Finish      2930 non-null category\n",
      "Garage Cars        2930 non-null float64\n",
      "Garage Area        2930 non-null float64\n",
      "Garage Qual        2930 non-null category\n",
      "Garage Cond        2930 non-null category\n",
      "Paved Drive        2930 non-null category\n",
      "Wood Deck SF       2930 non-null int64\n",
      "Open Porch SF      2930 non-null int64\n",
      "Enclosed Porch     2930 non-null int64\n",
      "3Ssn Porch         2930 non-null int64\n",
      "Screen Porch       2930 non-null int64\n",
      "Pool Area          2930 non-null int64\n",
      "Pool QC            2930 non-null category\n",
      "Fence              2930 non-null category\n",
      "Misc Feature       2930 non-null category\n",
      "Misc Val           2930 non-null int64\n",
      "Mo Sold            2930 non-null int64\n",
      "Yr Sold            2930 non-null int64\n",
      "Sale Type          2930 non-null category\n",
      "Sale Condition     2930 non-null category\n",
      "dtypes: category(46), float64(11), int64(24)\n",
      "memory usage: 946.6 KB\n"
     ]
    }
   ],
   "source": [
    "df_all.info(verbose=True, null_counts=True)"
   ]
  },
  {
   "cell_type": "markdown",
   "metadata": {},
   "source": [
    "### Step 3 - Handle outliers<a name=\"stage-1-step-3\"></a> ([top](#top))\n",
    "---"
   ]
  },
  {
   "cell_type": "markdown",
   "metadata": {},
   "source": [
    "At this point, we need to split the data set back into labeled & unlabeled data sets since we will only be removing outliers from the former."
   ]
  },
  {
   "cell_type": "code",
   "execution_count": 261,
   "metadata": {},
   "outputs": [],
   "source": [
    "# Labeled data set - we will train & test the model on it:\n",
    "start = 0\n",
    "df_la_clean = df_all.loc[start: start + n_la - 1].copy()\n",
    "df_la_clean['SalePrice'] = df_la['SalePrice'].loc[start: start + n_la - 1]\n",
    "\n",
    "# Unlabeled data set - we will apply the trained model on it:\n",
    "start = n_la\n",
    "df_un_clean = df_all.loc[start: start + n_un - 1]"
   ]
  },
  {
   "cell_type": "markdown",
   "metadata": {},
   "source": [
    "For the outliers, we simply follow the minimum advice of the author of this data set:\n",
    "\n",
    ">  I would recommend removing any houses with more than 4000 square feet from the data set (...).\n",
    "\n",
    "**Reference:** Dean De Cock. *Ames, Iowa: Alternative to the Boston Housing Data as an End of Semester Regression Project*. Journal of Statistics Education, 2011."
   ]
  },
  {
   "cell_type": "code",
   "execution_count": 262,
   "metadata": {},
   "outputs": [],
   "source": [
    "masks = [\n",
    "    df_la_clean['Gr Liv Area'] >= 4000\n",
    "]\n",
    "is_outlier = functools.reduce(lambda acc, cur: acc & cur, masks)"
   ]
  },
  {
   "cell_type": "code",
   "execution_count": 263,
   "metadata": {},
   "outputs": [],
   "source": [
    "cont = [name for name, attrs in variables.items()\n",
    "        if name != 'SalePrice' and attrs['kind'] == 'Continuous']\n",
    "disc = [name for name, attrs in variables.items()\n",
    "        if name != 'SalePrice' and attrs['kind'] == 'Discrete']"
   ]
  },
  {
   "cell_type": "code",
   "execution_count": 264,
   "metadata": {},
   "outputs": [],
   "source": [
    "def plot_against_sales_price(names: T.Sequence[str], is_outlier: pd.Series, suptitle: str, ncols: int=4):\n",
    "    nrows = math.ceil(len(names) / ncols)\n",
    "    fig = plt.figure(figsize=(ncols * 3, nrows * 2))\n",
    "    grid = plt.GridSpec(nrows, ncols, wspace=0.3, hspace=0.4)\n",
    "    is_inlier = ~is_outlier\n",
    "    for i, name in enumerate(names):\n",
    "        row, col = i // ncols, i % ncols\n",
    "        sub_ax = fig.add_subplot(grid[row, col])\n",
    "        sub_ax.scatter(df_la_clean[name].loc[is_inlier], df_la_clean['SalePrice'].loc[~is_outlier], s=5)\n",
    "        # We highlight outliers in red:\n",
    "        sub_ax.scatter(df_la_clean[name].loc[is_outlier], df_la_clean['SalePrice'].loc[is_outlier], s=5, c='red')\n",
    "        sub_ax.set_title(name)\n",
    "    fig.suptitle(suptitle, fontsize=18, y = 0.94)\n",
    "    plt.show()"
   ]
  },
  {
   "cell_type": "code",
   "execution_count": 265,
   "metadata": {},
   "outputs": [
    {
     "data": {
      "image/png": "[encoded data removed]",
      "text/plain": [
       "<Figure size 864x720 with 19 Axes>"
      ]
     },
     "metadata": {
      "needs_background": "light"
     },
     "output_type": "display_data"
    }
   ],
   "source": [
    "plot_against_sales_price(cont, is_outlier, 'Continuous variables vs. Sales price')"
   ]
  },
  {
   "cell_type": "code",
   "execution_count": 266,
   "metadata": {},
   "outputs": [
    {
     "data": {
      "image/png": "[encoded data removed]",
      "text/plain": [
       "<Figure size 864x576 with 14 Axes>"
      ]
     },
     "metadata": {
      "needs_background": "light"
     },
     "output_type": "display_data"
    }
   ],
   "source": [
    "plot_against_sales_price(disc, is_outlier, 'Discrete variables vs. Sales price')"
   ]
  },
  {
   "cell_type": "markdown",
   "metadata": {},
   "source": [
    "The result seems reasonnable."
   ]
  },
  {
   "cell_type": "code",
   "execution_count": 267,
   "metadata": {},
   "outputs": [],
   "source": [
    "# Remove outliers:\n",
    "df_la_clean = df_la_clean[~is_outlier]"
   ]
  },
  {
   "cell_type": "markdown",
   "metadata": {},
   "source": [
    "Due to time constraints, we put an end to step 3 here."
   ]
  },
  {
   "cell_type": "markdown",
   "metadata": {},
   "source": [
    "## Perform feature encoding<a name=\"stage-2\"></a> ([top](#top))\n",
    "---"
   ]
  },
  {
   "cell_type": "code",
   "execution_count": 268,
   "metadata": {},
   "outputs": [],
   "source": [
    "from sklearn.preprocessing import OrdinalEncoder\n",
    "from sklearn.compose import ColumnTransformer"
   ]
  },
  {
   "cell_type": "markdown",
   "metadata": {},
   "source": [
    "We encode nominal and ordinal variables."
   ]
  },
  {
   "cell_type": "code",
   "execution_count": 269,
   "metadata": {},
   "outputs": [],
   "source": [
    "nominal_cols = [name for name, attrs in variables.items() if attrs['kind'] == 'Nominal']\n",
    "ordinal_cols = [name for name, attrs in variables.items() if attrs['kind'] == 'Ordinal']"
   ]
  },
  {
   "cell_type": "markdown",
   "metadata": {},
   "source": [
    "We encode nominal variables using one-hot-encoding and ordinal variables using the `OrdinalEncoder` class from Scikit.\n",
    "\n",
    "**Note:** In the version of Scikit included in the Conda environment for this course, the `OneHotEncoder` does not yet support `drop='first'`. That is why we do the one-hot encoding with Pandas. Note that even if the unlabeld data-set is missing some values for a given categorical variable, Pandas will still create the expected number of columns because of the`pandas.Categorical` data type."
   ]
  },
  {
   "cell_type": "code",
   "execution_count": 270,
   "metadata": {},
   "outputs": [],
   "source": [
    "def make_ordinal_encoder(df: pd.DataFrame, names: T.Sequence[str]) :\n",
    "    categories = []\n",
    "    for name in names:\n",
    "        # Retrieve the CategoricalDType object:\n",
    "        cat = df.dtypes[name]\n",
    "        # Number worst-to-best in increasing order (probably not needed):\n",
    "        cat_index = cat.categories   # best-to-worst\n",
    "        cat_index = cat_index[::-1]  # worst-to-best \n",
    "        cat_values = cat_index.to_list()\n",
    "        categories.append(cat_values)\n",
    "    encoder = OrdinalEncoder(categories=categories)\n",
    "    return encoder\n",
    "\n",
    "\n",
    "def encode_nominal_ordinal(df: pd.DataFrame,\n",
    "                           nominal_cols: T.Sequence[str],\n",
    "                           ordinal_cols: T.Sequence[str]) -> pd.DataFrame:\n",
    "    # Work on a copy\n",
    "    df = df.copy()\n",
    "    \n",
    "    # Split:\n",
    "    df_nom = df[nominal_cols]  # nominal\n",
    "    df_ord = df[ordinal_cols]  # ordinal\n",
    "    df_other = df.drop(columns=nominal_cols + ordinal_cols)  # quantitative\n",
    "    \n",
    "    # Encode nominal variables using one-hot encoding:\n",
    "    df_nom_enc = pd.get_dummies(df_nom, drop_first=True)\n",
    "    \n",
    "    # Encode ordinal variables:\n",
    "    ordinal_encoder = make_ordinal_encoder(df, ordinal_cols)\n",
    "    preprocessor = ColumnTransformer([\n",
    "        ('encode-ordinal', ordinal_encoder, ordinal_cols)\n",
    "    ], remainder='passthrough')\n",
    "    X_ord_enc = preprocessor.fit_transform(df_ord)\n",
    "    df_ord_enc = pd.DataFrame(data=X_ord_enc, columns=df_ord.columns)\n",
    "\n",
    "    # Combine:\n",
    "    return pd.concat([df_nom_enc, df_ord_enc, df_other], axis=1)    "
   ]
  },
  {
   "cell_type": "code",
   "execution_count": 271,
   "metadata": {},
   "outputs": [],
   "source": [
    "df_la_enc = encode_nominal_ordinal(df_la_clean, nominal_cols, ordinal_cols)\n",
    "df_un_enc = encode_nominal_ordinal(df_un_clean, nominal_cols, ordinal_cols)"
   ]
  },
  {
   "cell_type": "markdown",
   "metadata": {},
   "source": [
    "## Perform feature engineering<a name=\"stage-3\"></a> ([top](#top))\n",
    "---"
   ]
  },
  {
   "cell_type": "markdown",
   "metadata": {},
   "source": [
    "### Sales price"
   ]
  },
  {
   "cell_type": "markdown",
   "metadata": {},
   "source": [
    "Our target variable is `SalePrice`. As we have already seen in the course, the sales price is positively skewed and applying a log transformation allows to transform its distribution into one that is closer to the normal distribution.\n",
    "\n",
    "**Note:** Turning to the Internet, we found out that there are 2 related measures: [skewness](https://en.wikipedia.org/wiki/Skewness) and [kurtosis](https://en.wikipedia.org/wiki/Kurtosis) (\"tailedness\"), both available out-of-the-box in Pandas. We unfortunatley do not have any backround in statistics but, for comparison, the normal distribution has a skew of 0 and a kurtosis of 3."
   ]
  },
  {
   "cell_type": "code",
   "execution_count": 295,
   "metadata": {},
   "outputs": [],
   "source": [
    "df_la_eng = df_la_enc.copy()"
   ]
  },
  {
   "cell_type": "code",
   "execution_count": 296,
   "metadata": {},
   "outputs": [],
   "source": [
    "def plot_distribution(series, xlabel):\n",
    "    fig, ax = plt.subplots()\n",
    "    # Keep only non-na values (not necessary at this point):\n",
    "    notna = series.dropna()\n",
    "    # Compute some statistics:\n",
    "    mean = notna.mean()\n",
    "    median = notna.median()\n",
    "    skew = notna.skew()\n",
    "    kurt = notna.kurt()\n",
    "    # Plot:\n",
    "    ax.hist(series.dropna(), bins=30, color='cornflowerblue', ec='black', label=None)\n",
    "    ax.axvline(mean, color='red', linestyle='-', label='mean')\n",
    "    ax.axvline(median, color='lime', linestyle='-', label='median')\n",
    "    # Add a title:\n",
    "    title = '\\n'.join([\n",
    "        f'{name}',\n",
    "        f'(mean={mean:.2f}, median={median:.2f}, skew={skew:.2f}, kurt={kurt:.2f})'\n",
    "    ])\n",
    "    ax.set_title(title, fontsize=10)\n",
    "    # Add labels and a legend:\n",
    "    ax.set_xlabel(xlabel)\n",
    "    ax.set_ylabel('count')\n",
    "    ax.legend()\n",
    "    plt.show()"
   ]
  },
  {
   "cell_type": "code",
   "execution_count": 297,
   "metadata": {},
   "outputs": [
    {
     "data": {
      "image/png": "[encoded data removed]",
      "text/plain": [
       "<Figure size 432x288 with 1 Axes>"
      ]
     },
     "metadata": {
      "needs_background": "light"
     },
     "output_type": "display_data"
    }
   ],
   "source": [
    "plot_distribution(df_la_eng['SalePrice'], 'Sales price in USD')"
   ]
  },
  {
   "cell_type": "code",
   "execution_count": 298,
   "metadata": {},
   "outputs": [],
   "source": [
    "df_la_eng['SalePrice'] = np.log(df_la_eng['SalePrice'])"
   ]
  },
  {
   "cell_type": "code",
   "execution_count": 299,
   "metadata": {},
   "outputs": [
    {
     "data": {
      "image/png": "[encoded data removed]",
      "text/plain": [
       "<Figure size 432x288 with 1 Axes>"
      ]
     },
     "metadata": {
      "needs_background": "light"
     },
     "output_type": "display_data"
    }
   ],
   "source": [
    "plot_distribution(df_la_eng['SalePrice'], 'Natural logarithm of sales price in USD')"
   ]
  },
  {
   "cell_type": "markdown",
   "metadata": {},
   "source": [
    "### Continuous variables"
   ]
  },
  {
   "cell_type": "markdown",
   "metadata": {},
   "source": [
    "As we have already seen during the course, applying a log transformation allows to transform the distribution of most continuous variables into one that is closer to the normal distribution."
   ]
  },
  {
   "cell_type": "code",
   "execution_count": 277,
   "metadata": {},
   "outputs": [],
   "source": [
    "def plot_distributions(df: pd.DataFrame, suptitle: str, ncols: int=4):\n",
    "    nrows = math.ceil(len(df.columns) / ncols)\n",
    "    fig = plt.figure(figsize=(ncols * 3, nrows * 2))\n",
    "    grid = plt.GridSpec(nrows, ncols, wspace=0.3, hspace=0.9)\n",
    "    for i, name in enumerate(df.columns):\n",
    "        row, col = i // ncols, i % ncols\n",
    "        sub_ax = fig.add_subplot(grid[row, col])\n",
    "        notna = df[name].dropna()\n",
    "        mean = notna.mean()\n",
    "        median = notna.median()\n",
    "        skew = notna.skew()\n",
    "        kurt = notna.kurt()\n",
    "        sub_ax.hist(notna, bins=30)\n",
    "        sub_ax.axvline(mean, color='red', linestyle='-', label='mean')\n",
    "        sub_ax.axvline(median, color='lime', linestyle='-', label='median')\n",
    "        title = '\\n'.join([\n",
    "            f'{name}',\n",
    "            f'mean={mean:.2f}, median={median:.2f}',\n",
    "            f'skew={skew:.2f}, kurt={kurt:.2f}'\n",
    "        ])\n",
    "        sub_ax.set_title(title, fontsize=8)\n",
    "    fig.suptitle(suptitle, fontsize=18, y = 0.96)\n",
    "    plt.show()"
   ]
  },
  {
   "cell_type": "code",
   "execution_count": 278,
   "metadata": {},
   "outputs": [
    {
     "data": {
      "image/png": "[encoded data removed]",
      "text/plain": [
       "<Figure size 864x720 with 19 Axes>"
      ]
     },
     "metadata": {
      "needs_background": "light"
     },
     "output_type": "display_data"
    }
   ],
   "source": [
    "plot_distributions(df_la_eng[cont], 'Distributions of continuous variables')"
   ]
  },
  {
   "cell_type": "code",
   "execution_count": 279,
   "metadata": {},
   "outputs": [],
   "source": [
    "df_la_eng_transformed = np.log1p(df_la_eng[cont])"
   ]
  },
  {
   "cell_type": "code",
   "execution_count": 280,
   "metadata": {},
   "outputs": [
    {
     "data": {
      "image/png": "[encoded data removed]",
      "text/plain": [
       "<Figure size 864x720 with 19 Axes>"
      ]
     },
     "metadata": {
      "needs_background": "light"
     },
     "output_type": "display_data"
    }
   ],
   "source": [
    "plot_distributions(df_la_eng_transformed[cont], 'Distributions of log-transformed continuous variables')"
   ]
  },
  {
   "cell_type": "code",
   "execution_count": 281,
   "metadata": {},
   "outputs": [],
   "source": [
    "nominal_vars = list_by_kind('Nominal')\n",
    "ordinal_vars = list_by_kind('Ordinal')"
   ]
  },
  {
   "cell_type": "markdown",
   "metadata": {},
   "source": [
    "### Variables with a majority of NA values"
   ]
  },
  {
   "cell_type": "markdown",
   "metadata": {},
   "source": [
    "We wonder if qualitative variables with a majority of NA values could be a problem:"
   ]
  },
  {
   "cell_type": "code",
   "execution_count": 306,
   "metadata": {},
   "outputs": [
    {
     "data": {
      "text/html": [
       "<div>\n",
       "<style scoped>\n",
       "    .dataframe tbody tr th:only-of-type {\n",
       "        vertical-align: middle;\n",
       "    }\n",
       "\n",
       "    .dataframe tbody tr th {\n",
       "        vertical-align: top;\n",
       "    }\n",
       "\n",
       "    .dataframe thead th {\n",
       "        text-align: right;\n",
       "    }\n",
       "</style>\n",
       "<table border=\"1\" class=\"dataframe\">\n",
       "  <thead>\n",
       "    <tr style=\"text-align: right;\">\n",
       "      <th></th>\n",
       "      <th>na_total</th>\n",
       "      <th>na_perc</th>\n",
       "    </tr>\n",
       "  </thead>\n",
       "  <tbody>\n",
       "    <tr>\n",
       "      <th>Pool QC</th>\n",
       "      <td>2416</td>\n",
       "      <td>99.587799</td>\n",
       "    </tr>\n",
       "    <tr>\n",
       "      <th>Misc Feature</th>\n",
       "      <td>2337</td>\n",
       "      <td>96.331410</td>\n",
       "    </tr>\n",
       "    <tr>\n",
       "      <th>Alley</th>\n",
       "      <td>2263</td>\n",
       "      <td>93.281121</td>\n",
       "    </tr>\n",
       "    <tr>\n",
       "      <th>Fence</th>\n",
       "      <td>1938</td>\n",
       "      <td>79.884584</td>\n",
       "    </tr>\n",
       "    <tr>\n",
       "      <th>Fireplace Qu</th>\n",
       "      <td>1186</td>\n",
       "      <td>48.887057</td>\n",
       "    </tr>\n",
       "    <tr>\n",
       "      <th>Garage Cond</th>\n",
       "      <td>137</td>\n",
       "      <td>5.647156</td>\n",
       "    </tr>\n",
       "    <tr>\n",
       "      <th>Garage Qual</th>\n",
       "      <td>137</td>\n",
       "      <td>5.647156</td>\n",
       "    </tr>\n",
       "    <tr>\n",
       "      <th>Garage Finish</th>\n",
       "      <td>137</td>\n",
       "      <td>5.647156</td>\n",
       "    </tr>\n",
       "    <tr>\n",
       "      <th>Garage Type</th>\n",
       "      <td>137</td>\n",
       "      <td>5.647156</td>\n",
       "    </tr>\n",
       "    <tr>\n",
       "      <th>Bsmt Qual</th>\n",
       "      <td>71</td>\n",
       "      <td>2.926628</td>\n",
       "    </tr>\n",
       "  </tbody>\n",
       "</table>\n",
       "</div>"
      ],
      "text/plain": [
       "               na_total    na_perc\n",
       "Pool QC            2416  99.587799\n",
       "Misc Feature       2337  96.331410\n",
       "Alley              2263  93.281121\n",
       "Fence              1938  79.884584\n",
       "Fireplace Qu       1186  48.887057\n",
       "Garage Cond         137   5.647156\n",
       "Garage Qual         137   5.647156\n",
       "Garage Finish       137   5.647156\n",
       "Garage Type         137   5.647156\n",
       "Bsmt Qual            71   2.926628"
      ]
     },
     "execution_count": 306,
     "metadata": {},
     "output_type": "execute_result"
    }
   ],
   "source": [
    "# We need to go back to the step before feature encoding:\n",
    "df_ql_na = (\n",
    "    pd.DataFrame({\n",
    "        'na_total': (df_la_clean[nominal_vars + ordinal_vars] == 'NA').sum(),\n",
    "        'na_perc' : (df_la_clean[nominal_vars + ordinal_vars] == 'NA').sum() / len(df_la_clean) * 100\n",
    "    })\n",
    "    .sort_values(by='na_perc', ascending=False)\n",
    "    .head(10)\n",
    ")\n",
    "df_ql_na"
   ]
  },
  {
   "cell_type": "markdown",
   "metadata": {},
   "source": [
    "**For the top 5, we decide to create simple indicators.** These indicators could, in a few cases, replace more than one variables. As far as the qualitative variable are concerned, these indicators \"lump\" non-NA values into a single, slightly larger category."
   ]
  },
  {
   "cell_type": "code",
   "execution_count": 324,
   "metadata": {},
   "outputs": [],
   "source": [
    "def create_indicators(df: pd.DataFrame) -> pd.DataFrame:\n",
    "    # An indicator that could replace 'Pool Area' and 'Pool QC':\n",
    "    df['Has Pool'] = (df['Pool QC'] != 'NA').astype('float64')\n",
    "    \n",
    "    # An indicator that could replace 'Misc Feature' and 'Misc Val':\n",
    "    df['Had Misc Feature'] = (df['Misc Feature'] != 'NA').astype('float64')\n",
    "    \n",
    "    # An indicator that could replace 'Alley':\n",
    "    df['Has Alley'] = (df['Alley'] != 'NA').astype('float64')\n",
    "    \n",
    "    # An indicator that could replace 'Fence':\n",
    "    df['Has Fence'] = (df['Fence'] != 'NA').astype('float64')\n",
    "    \n",
    "    # An indicator that could replace \"Fireplaces\" and \"Fireplaces Qu\":\n",
    "    df['Has Fireplace'] = (df['Fireplace Qu'] != 'NA').astype('float64')\n",
    "    \n",
    "    return df"
   ]
  },
  {
   "cell_type": "code",
   "execution_count": 330,
   "metadata": {},
   "outputs": [],
   "source": [
    "# (C) Preprocessing function\n",
    "def preprocess(df: pd.DataFrame,\n",
    "               nominal_cols: T.Sequence[str],\n",
    "               ordinal_cols: T.Sequence[str],\n",
    "               discrete_cols: T.Sequence[str],\n",
    "               continuous_col: T.Sequence[str],  # pass a dict?\n",
    "               ) -> pd.DataFrame:\n",
    "    # Order matters:\n",
    "    \n",
    "    # Work on a copy:\n",
    "    df = df.copy()\n",
    "    \n",
    "    # Create additional indicator variables:\n",
    "    df = create_indicators(df)\n",
    "    \n",
    "    # Encode nominal and ordinal variables:\n",
    "    df = encode_nominal_ordinal(df, nominal_cols, ordinal_cols)  # split?\n",
    "    \n",
    "    # Transform continuous variables:\n",
    "    df[continuous_cols] = np.log1p(df[continuous_cols])\n",
    "    \n",
    "    # Add polynomial features for (transformed) continuous variables:\n",
    "    for col in continuous_col:\n",
    "        for deg in [0.5, 2, 3]:\n",
    "            name = '{}**{}'.format(col, deg)\n",
    "            df[name] = df[col]**deg\n",
    "            \n",
    "    return df"
   ]
  },
  {
   "cell_type": "code",
   "execution_count": 332,
   "metadata": {},
   "outputs": [
    {
     "data": {
      "text/plain": [
       "(2430, 295)"
      ]
     },
     "execution_count": 332,
     "metadata": {},
     "output_type": "execute_result"
    }
   ],
   "source": [
    "nominal_cols = list_by_kind('Nominal')\n",
    "ordinal_cols = list_by_kind('Ordinal')\n",
    "discrete_cols = list_by_kind('Discrete')\n",
    "continuous_cols = list_by_kind('Continuous')\n",
    "df_temp = preprocess(df_la_clean, nominal_cols, ordinal_cols, discrete_cols, continuous_cols)\n",
    "df_temp.shape"
   ]
  },
  {
   "cell_type": "markdown",
   "metadata": {},
   "source": [
    "## Perform model fitting<a name=\"stage-4\"></a> ([top](#top))\n",
    "---"
   ]
  },
  {
   "cell_type": "code",
   "execution_count": 287,
   "metadata": {},
   "outputs": [],
   "source": [
    "# TODO"
   ]
  },
  {
   "cell_type": "markdown",
   "metadata": {},
   "source": [
    "We also keep a table for values that indicate the absence of a feature:\n",
    "    \n",
    "| Variable           | Value    | Meaning            |\n",
    "|--------------------|----------|--------------------|\n",
    "| Alley              | NA       | No alley access    |\n",
    "| Mas Vnr Type       | None     | None               |\n",
    "| Bsmt Qual          | NA       | No basement        |\n",
    "| Bsmt Cond          | NA       | No basement        |\n",
    "| Bsmt Exposure      | NA       | No basement        |\n",
    "| BsmtFin Type 1     | NA       | No basement        |\n",
    "| BsmtFin Type 2     | NA       | No basement        |\n",
    "| Electrical         | Unknown  | Unknown            |\n",
    "| Fireplace Qu       | NA       | No Fireplace       |\n",
    "| Garage Type        | NA       | No garage          |\n",
    "| Garage Finish      | NA       | No garage          |\n",
    "| Garage Qual        | NA       | No garage          |\n",
    "| Garage Cond        | NA       | No garage          |\n",
    "| Pool QC            | NA       | No pool            |\n",
    "| Fence              | NA       | No fence           |\n",
    "| Misc Feature       | NA       | None               |"
   ]
  },
  {
   "cell_type": "code",
   "execution_count": 288,
   "metadata": {},
   "outputs": [
    {
     "ename": "NameError",
     "evalue": "name 'OneHotEncoder' is not defined",
     "output_type": "error",
     "traceback": [
      "\u001b[0;31m---------------------------------------------------------------------------\u001b[0m",
      "\u001b[0;31mNameError\u001b[0m                                 Traceback (most recent call last)",
      "\u001b[0;32m<ipython-input-288-ee6ad82087bf>\u001b[0m in \u001b[0;36m<module>\u001b[0;34m\u001b[0m\n\u001b[1;32m     18\u001b[0m \u001b[0;34m\u001b[0m\u001b[0m\n\u001b[1;32m     19\u001b[0m \u001b[0;34m\u001b[0m\u001b[0m\n\u001b[0;32m---> 20\u001b[0;31m \u001b[0;32mdef\u001b[0m \u001b[0mget_original_feature_names\u001b[0m\u001b[0;34m(\u001b[0m\u001b[0mencoder\u001b[0m\u001b[0;34m:\u001b[0m \u001b[0mOneHotEncoder\u001b[0m\u001b[0;34m,\u001b[0m \u001b[0mnames\u001b[0m\u001b[0;34m:\u001b[0m \u001b[0mT\u001b[0m\u001b[0;34m.\u001b[0m\u001b[0mSequence\u001b[0m\u001b[0;34m[\u001b[0m\u001b[0mstr\u001b[0m\u001b[0;34m]\u001b[0m\u001b[0;34m)\u001b[0m\u001b[0;34m:\u001b[0m\u001b[0;34m\u001b[0m\u001b[0;34m\u001b[0m\u001b[0m\n\u001b[0m\u001b[1;32m     21\u001b[0m     \u001b[0massigned_names\u001b[0m \u001b[0;34m=\u001b[0m \u001b[0mencoder\u001b[0m\u001b[0;34m.\u001b[0m\u001b[0mget_feature_names\u001b[0m\u001b[0;34m(\u001b[0m\u001b[0;34m)\u001b[0m\u001b[0;34m\u001b[0m\u001b[0;34m\u001b[0m\u001b[0m\n\u001b[1;32m     22\u001b[0m     \u001b[0moriginal_names\u001b[0m \u001b[0;34m=\u001b[0m \u001b[0;34m[\u001b[0m\u001b[0;34m]\u001b[0m\u001b[0;34m\u001b[0m\u001b[0;34m\u001b[0m\u001b[0m\n",
      "\u001b[0;31mNameError\u001b[0m: name 'OneHotEncoder' is not defined"
     ]
    }
   ],
   "source": [
    "##\n",
    "## CODE TO KEEP\n",
    "##\n",
    "\n",
    "\n",
    "def make_one_hot_encoder(df: pd.DataFrame, names: T.Sequence[str]) :\n",
    "    # Avoid linearly dependent one-hot-encoded variables:\n",
    "    # (We emulate \"drop='first'\", which is availabe in more recent versions of Scikit-learn.)\n",
    "    categories = []\n",
    "    for name in names:\n",
    "        # Retrieve the CategoricalDType object:\n",
    "        cat = df.dtypes[name]\n",
    "        cat_values = cat.categories.to_list()\n",
    "        cat_values = cat_values[1:]  # drop first\n",
    "        categories.append(cat_values)\n",
    "    encoder = OneHotEncoder(categories=categories, sparse=False, handle_unknown='ignore')\n",
    "    return encoder\n",
    "\n",
    "\n",
    "def get_original_feature_names(encoder: OneHotEncoder, names: T.Sequence[str]):\n",
    "    assigned_names = encoder.get_feature_names()\n",
    "    original_names = []\n",
    "    for assigned_name in assigned_names:\n",
    "        # Each name is of the form 'x<index>_<value>':\n",
    "        xindex, value = assigned_name.split('_')\n",
    "        index = int(xindex[1:])\n",
    "        original_names.append(f'{names[index]}_{value}')\n",
    "    return original_names\n",
    "\n",
    "\n",
    "# ...\n",
    "# encoder = preprocessor.named_transformers_['encode-nominal']\n",
    "# # display(encoder.get_feature_names())\n",
    "# nominal_names = [f'enc_{x}' for x in get_original_feature_names(encoder, nominal_cols)]"
   ]
  }
 ],
 "metadata": {
  "kernelspec": {
   "display_name": "Python 3",
   "language": "python",
   "name": "python3"
  },
  "language_info": {
   "codemirror_mode": {
    "name": "ipython",
    "version": 3
   },
   "file_extension": ".py",
   "mimetype": "text/x-python",
   "name": "python",
   "nbconvert_exporter": "python",
   "pygments_lexer": "ipython3",
   "version": "3.6.7"
  }
 },
 "nbformat": 4,
 "nbformat_minor": 2
}
