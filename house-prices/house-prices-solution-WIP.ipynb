{
 "cells": [
  {
   "cell_type": "markdown",
   "metadata": {},
   "source": [
    "# Course 3: Project - Part 2 - House prices"
   ]
  },
  {
   "cell_type": "markdown",
   "metadata": {},
   "source": [
    "<a name=\"top\"></a>\n",
    "This notebook is concerned with Part 2 - House prices.\n",
    "\n",
    "**Contents:**\n",
    "* [Imports](#imports)\n",
    "* [Perform data cleaning](#stage-1)\n",
    "  * [Step 1 - Find and handle incorrect and missing values](#stage-1-step-1)\n",
    "  * [Step 2 - Find and correct inconsistencies](#stage-1-step-2)\n",
    "  * [Step 3 - Find and handle outliers](#stage-1-step-3)\n",
    "* [Perform feature encoding](#stage-2)\n",
    "* [Perform feature engineering](#stage-3)"
   ]
  },
  {
   "cell_type": "markdown",
   "metadata": {},
   "source": [
    "## Imports<a name=\"imports\"></a> ([top](#top))\n",
    "---"
   ]
  },
  {
   "cell_type": "code",
   "execution_count": 106,
   "metadata": {},
   "outputs": [],
   "source": [
    "# Standard library:\n",
    "import collections\n",
    "import functools\n",
    "import pathlib\n",
    "import math\n",
    "import typing as T\n",
    "import warnings\n",
    "\n",
    "# 3rd party:\n",
    "import matplotlib.pyplot as plt\n",
    "import numpy as np\n",
    "import pandas as pd\n",
    "import seaborn as sns\n",
    "\n",
    "# Project:\n",
    "import utils\n",
    "\n",
    "%matplotlib inline"
   ]
  },
  {
   "cell_type": "code",
   "execution_count": 107,
   "metadata": {},
   "outputs": [
    {
     "data": {
      "text/plain": [
       "<module 'utils' from '/Users/taariet1/ContEd/Adsml/git/course-03-project/house-prices/utils.py'>"
      ]
     },
     "execution_count": 107,
     "metadata": {},
     "output_type": "execute_result"
    }
   ],
   "source": [
    "import importlib\n",
    "importlib.reload(utils)"
   ]
  },
  {
   "cell_type": "markdown",
   "metadata": {},
   "source": [
    "## Perform data cleaning<a name=\"stage-1\"></a> ([top](#top))\n",
    "---"
   ]
  },
  {
   "cell_type": "code",
   "execution_count": 108,
   "metadata": {},
   "outputs": [],
   "source": [
    "# Labeled data set - we will train & test the model on it:\n",
    "df_la = pd.read_csv(pathlib.Path.cwd() / 'house-prices.csv')\n",
    "\n",
    "# Unlabeled data set - we will apply the trained model on it:\n",
    "df_un = pd.read_csv(pathlib.Path.cwd() / 'house-prices-test.csv')"
   ]
  },
  {
   "cell_type": "markdown",
   "metadata": {},
   "source": [
    "We start by taking a look at the data sets:"
   ]
  },
  {
   "cell_type": "code",
   "execution_count": 109,
   "metadata": {},
   "outputs": [
    {
     "data": {
      "text/plain": [
       "(2430, 82)"
      ]
     },
     "metadata": {},
     "output_type": "display_data"
    },
    {
     "data": {
      "text/plain": [
       "(500, 81)"
      ]
     },
     "metadata": {},
     "output_type": "display_data"
    }
   ],
   "source": [
    "display(df_la.shape, df_un.shape)"
   ]
  },
  {
   "cell_type": "code",
   "execution_count": 110,
   "metadata": {},
   "outputs": [
    {
     "data": {
      "text/html": [
       "<div>\n",
       "<style scoped>\n",
       "    .dataframe tbody tr th:only-of-type {\n",
       "        vertical-align: middle;\n",
       "    }\n",
       "\n",
       "    .dataframe tbody tr th {\n",
       "        vertical-align: top;\n",
       "    }\n",
       "\n",
       "    .dataframe thead th {\n",
       "        text-align: right;\n",
       "    }\n",
       "</style>\n",
       "<table border=\"1\" class=\"dataframe\">\n",
       "  <thead>\n",
       "    <tr style=\"text-align: right;\">\n",
       "      <th></th>\n",
       "      <th>Order</th>\n",
       "      <th>PID</th>\n",
       "      <th>MS SubClass</th>\n",
       "      <th>MS Zoning</th>\n",
       "      <th>Lot Frontage</th>\n",
       "      <th>Lot Area</th>\n",
       "      <th>Street</th>\n",
       "      <th>Alley</th>\n",
       "      <th>Lot Shape</th>\n",
       "      <th>Land Contour</th>\n",
       "      <th>Utilities</th>\n",
       "      <th>Lot Config</th>\n",
       "      <th>Land Slope</th>\n",
       "      <th>Neighborhood</th>\n",
       "      <th>Condition 1</th>\n",
       "      <th>Condition 2</th>\n",
       "      <th>Bldg Type</th>\n",
       "      <th>House Style</th>\n",
       "      <th>Overall Qual</th>\n",
       "      <th>Overall Cond</th>\n",
       "      <th>Year Built</th>\n",
       "      <th>Year Remod/Add</th>\n",
       "      <th>Roof Style</th>\n",
       "      <th>Roof Matl</th>\n",
       "      <th>Exterior 1st</th>\n",
       "      <th>Exterior 2nd</th>\n",
       "      <th>Mas Vnr Type</th>\n",
       "      <th>Mas Vnr Area</th>\n",
       "      <th>Exter Qual</th>\n",
       "      <th>Exter Cond</th>\n",
       "      <th>Foundation</th>\n",
       "      <th>Bsmt Qual</th>\n",
       "      <th>Bsmt Cond</th>\n",
       "      <th>Bsmt Exposure</th>\n",
       "      <th>BsmtFin Type 1</th>\n",
       "      <th>BsmtFin SF 1</th>\n",
       "      <th>BsmtFin Type 2</th>\n",
       "      <th>BsmtFin SF 2</th>\n",
       "      <th>Bsmt Unf SF</th>\n",
       "      <th>Total Bsmt SF</th>\n",
       "      <th>Heating</th>\n",
       "      <th>Heating QC</th>\n",
       "      <th>Central Air</th>\n",
       "      <th>Electrical</th>\n",
       "      <th>1st Flr SF</th>\n",
       "      <th>2nd Flr SF</th>\n",
       "      <th>Low Qual Fin SF</th>\n",
       "      <th>Gr Liv Area</th>\n",
       "      <th>Bsmt Full Bath</th>\n",
       "      <th>Bsmt Half Bath</th>\n",
       "      <th>Full Bath</th>\n",
       "      <th>Half Bath</th>\n",
       "      <th>Bedroom AbvGr</th>\n",
       "      <th>Kitchen AbvGr</th>\n",
       "      <th>Kitchen Qual</th>\n",
       "      <th>TotRms AbvGrd</th>\n",
       "      <th>Functional</th>\n",
       "      <th>Fireplaces</th>\n",
       "      <th>Fireplace Qu</th>\n",
       "      <th>Garage Type</th>\n",
       "      <th>Garage Yr Blt</th>\n",
       "      <th>Garage Finish</th>\n",
       "      <th>Garage Cars</th>\n",
       "      <th>Garage Area</th>\n",
       "      <th>Garage Qual</th>\n",
       "      <th>Garage Cond</th>\n",
       "      <th>Paved Drive</th>\n",
       "      <th>Wood Deck SF</th>\n",
       "      <th>Open Porch SF</th>\n",
       "      <th>Enclosed Porch</th>\n",
       "      <th>3Ssn Porch</th>\n",
       "      <th>Screen Porch</th>\n",
       "      <th>Pool Area</th>\n",
       "      <th>Pool QC</th>\n",
       "      <th>Fence</th>\n",
       "      <th>Misc Feature</th>\n",
       "      <th>Misc Val</th>\n",
       "      <th>Mo Sold</th>\n",
       "      <th>Yr Sold</th>\n",
       "      <th>Sale Type</th>\n",
       "      <th>Sale Condition</th>\n",
       "      <th>SalePrice</th>\n",
       "    </tr>\n",
       "  </thead>\n",
       "  <tbody>\n",
       "    <tr>\n",
       "      <th>0</th>\n",
       "      <td>484</td>\n",
       "      <td>528275070</td>\n",
       "      <td>60</td>\n",
       "      <td>RL</td>\n",
       "      <td>NaN</td>\n",
       "      <td>8795</td>\n",
       "      <td>Pave</td>\n",
       "      <td>NaN</td>\n",
       "      <td>IR1</td>\n",
       "      <td>Lvl</td>\n",
       "      <td>AllPub</td>\n",
       "      <td>Inside</td>\n",
       "      <td>Gtl</td>\n",
       "      <td>Gilbert</td>\n",
       "      <td>Norm</td>\n",
       "      <td>Norm</td>\n",
       "      <td>1Fam</td>\n",
       "      <td>2Story</td>\n",
       "      <td>7</td>\n",
       "      <td>5</td>\n",
       "      <td>2000</td>\n",
       "      <td>2000</td>\n",
       "      <td>Gable</td>\n",
       "      <td>CompShg</td>\n",
       "      <td>VinylSd</td>\n",
       "      <td>VinylSd</td>\n",
       "      <td>None</td>\n",
       "      <td>0.0</td>\n",
       "      <td>Gd</td>\n",
       "      <td>TA</td>\n",
       "      <td>PConc</td>\n",
       "      <td>Gd</td>\n",
       "      <td>TA</td>\n",
       "      <td>No</td>\n",
       "      <td>GLQ</td>\n",
       "      <td>300.0</td>\n",
       "      <td>Unf</td>\n",
       "      <td>0.0</td>\n",
       "      <td>652.0</td>\n",
       "      <td>952.0</td>\n",
       "      <td>GasA</td>\n",
       "      <td>Ex</td>\n",
       "      <td>Y</td>\n",
       "      <td>SBrkr</td>\n",
       "      <td>980</td>\n",
       "      <td>1276</td>\n",
       "      <td>0</td>\n",
       "      <td>2256</td>\n",
       "      <td>0.0</td>\n",
       "      <td>0.0</td>\n",
       "      <td>2</td>\n",
       "      <td>1</td>\n",
       "      <td>4</td>\n",
       "      <td>1</td>\n",
       "      <td>Gd</td>\n",
       "      <td>8</td>\n",
       "      <td>Typ</td>\n",
       "      <td>1</td>\n",
       "      <td>TA</td>\n",
       "      <td>BuiltIn</td>\n",
       "      <td>2000.0</td>\n",
       "      <td>Fin</td>\n",
       "      <td>2.0</td>\n",
       "      <td>554.0</td>\n",
       "      <td>TA</td>\n",
       "      <td>TA</td>\n",
       "      <td>Y</td>\n",
       "      <td>224</td>\n",
       "      <td>54</td>\n",
       "      <td>0</td>\n",
       "      <td>0</td>\n",
       "      <td>0</td>\n",
       "      <td>0</td>\n",
       "      <td>NaN</td>\n",
       "      <td>NaN</td>\n",
       "      <td>NaN</td>\n",
       "      <td>0</td>\n",
       "      <td>4</td>\n",
       "      <td>2009</td>\n",
       "      <td>WD</td>\n",
       "      <td>Normal</td>\n",
       "      <td>236000</td>\n",
       "    </tr>\n",
       "    <tr>\n",
       "      <th>1</th>\n",
       "      <td>2586</td>\n",
       "      <td>535305120</td>\n",
       "      <td>20</td>\n",
       "      <td>RL</td>\n",
       "      <td>75.0</td>\n",
       "      <td>10170</td>\n",
       "      <td>Pave</td>\n",
       "      <td>NaN</td>\n",
       "      <td>Reg</td>\n",
       "      <td>Lvl</td>\n",
       "      <td>AllPub</td>\n",
       "      <td>Corner</td>\n",
       "      <td>Gtl</td>\n",
       "      <td>NAmes</td>\n",
       "      <td>Norm</td>\n",
       "      <td>Norm</td>\n",
       "      <td>1Fam</td>\n",
       "      <td>1Story</td>\n",
       "      <td>6</td>\n",
       "      <td>6</td>\n",
       "      <td>1951</td>\n",
       "      <td>1951</td>\n",
       "      <td>Hip</td>\n",
       "      <td>CompShg</td>\n",
       "      <td>Wd Sdng</td>\n",
       "      <td>Wd Sdng</td>\n",
       "      <td>BrkFace</td>\n",
       "      <td>522.0</td>\n",
       "      <td>TA</td>\n",
       "      <td>TA</td>\n",
       "      <td>CBlock</td>\n",
       "      <td>TA</td>\n",
       "      <td>TA</td>\n",
       "      <td>No</td>\n",
       "      <td>Unf</td>\n",
       "      <td>0.0</td>\n",
       "      <td>Unf</td>\n",
       "      <td>0.0</td>\n",
       "      <td>216.0</td>\n",
       "      <td>216.0</td>\n",
       "      <td>GasA</td>\n",
       "      <td>TA</td>\n",
       "      <td>Y</td>\n",
       "      <td>SBrkr</td>\n",
       "      <td>1575</td>\n",
       "      <td>0</td>\n",
       "      <td>0</td>\n",
       "      <td>1575</td>\n",
       "      <td>0.0</td>\n",
       "      <td>0.0</td>\n",
       "      <td>1</td>\n",
       "      <td>1</td>\n",
       "      <td>2</td>\n",
       "      <td>1</td>\n",
       "      <td>Gd</td>\n",
       "      <td>5</td>\n",
       "      <td>Typ</td>\n",
       "      <td>1</td>\n",
       "      <td>Gd</td>\n",
       "      <td>Attchd</td>\n",
       "      <td>1951.0</td>\n",
       "      <td>Unf</td>\n",
       "      <td>2.0</td>\n",
       "      <td>400.0</td>\n",
       "      <td>TA</td>\n",
       "      <td>TA</td>\n",
       "      <td>Y</td>\n",
       "      <td>0</td>\n",
       "      <td>0</td>\n",
       "      <td>0</td>\n",
       "      <td>0</td>\n",
       "      <td>0</td>\n",
       "      <td>0</td>\n",
       "      <td>NaN</td>\n",
       "      <td>NaN</td>\n",
       "      <td>NaN</td>\n",
       "      <td>0</td>\n",
       "      <td>6</td>\n",
       "      <td>2006</td>\n",
       "      <td>WD</td>\n",
       "      <td>Normal</td>\n",
       "      <td>155000</td>\n",
       "    </tr>\n",
       "    <tr>\n",
       "      <th>2</th>\n",
       "      <td>2289</td>\n",
       "      <td>923228250</td>\n",
       "      <td>160</td>\n",
       "      <td>RM</td>\n",
       "      <td>21.0</td>\n",
       "      <td>2001</td>\n",
       "      <td>Pave</td>\n",
       "      <td>NaN</td>\n",
       "      <td>Reg</td>\n",
       "      <td>Lvl</td>\n",
       "      <td>AllPub</td>\n",
       "      <td>Inside</td>\n",
       "      <td>Gtl</td>\n",
       "      <td>MeadowV</td>\n",
       "      <td>Norm</td>\n",
       "      <td>Norm</td>\n",
       "      <td>Twnhs</td>\n",
       "      <td>2Story</td>\n",
       "      <td>4</td>\n",
       "      <td>5</td>\n",
       "      <td>1970</td>\n",
       "      <td>1970</td>\n",
       "      <td>Gable</td>\n",
       "      <td>CompShg</td>\n",
       "      <td>CemntBd</td>\n",
       "      <td>CmentBd</td>\n",
       "      <td>BrkFace</td>\n",
       "      <td>80.0</td>\n",
       "      <td>TA</td>\n",
       "      <td>TA</td>\n",
       "      <td>CBlock</td>\n",
       "      <td>TA</td>\n",
       "      <td>TA</td>\n",
       "      <td>No</td>\n",
       "      <td>Unf</td>\n",
       "      <td>0.0</td>\n",
       "      <td>Unf</td>\n",
       "      <td>0.0</td>\n",
       "      <td>546.0</td>\n",
       "      <td>546.0</td>\n",
       "      <td>GasA</td>\n",
       "      <td>Fa</td>\n",
       "      <td>Y</td>\n",
       "      <td>SBrkr</td>\n",
       "      <td>546</td>\n",
       "      <td>546</td>\n",
       "      <td>0</td>\n",
       "      <td>1092</td>\n",
       "      <td>0.0</td>\n",
       "      <td>0.0</td>\n",
       "      <td>1</td>\n",
       "      <td>1</td>\n",
       "      <td>3</td>\n",
       "      <td>1</td>\n",
       "      <td>TA</td>\n",
       "      <td>6</td>\n",
       "      <td>Typ</td>\n",
       "      <td>0</td>\n",
       "      <td>NaN</td>\n",
       "      <td>Attchd</td>\n",
       "      <td>1970.0</td>\n",
       "      <td>Unf</td>\n",
       "      <td>1.0</td>\n",
       "      <td>286.0</td>\n",
       "      <td>TA</td>\n",
       "      <td>TA</td>\n",
       "      <td>Y</td>\n",
       "      <td>0</td>\n",
       "      <td>0</td>\n",
       "      <td>0</td>\n",
       "      <td>0</td>\n",
       "      <td>0</td>\n",
       "      <td>0</td>\n",
       "      <td>NaN</td>\n",
       "      <td>NaN</td>\n",
       "      <td>NaN</td>\n",
       "      <td>0</td>\n",
       "      <td>1</td>\n",
       "      <td>2007</td>\n",
       "      <td>WD</td>\n",
       "      <td>Normal</td>\n",
       "      <td>75000</td>\n",
       "    </tr>\n",
       "  </tbody>\n",
       "</table>\n",
       "</div>"
      ],
      "text/plain": [
       "   Order        PID  MS SubClass MS Zoning  Lot Frontage  Lot Area Street  \\\n",
       "0    484  528275070           60        RL           NaN      8795   Pave   \n",
       "1   2586  535305120           20        RL          75.0     10170   Pave   \n",
       "2   2289  923228250          160        RM          21.0      2001   Pave   \n",
       "\n",
       "  Alley Lot Shape Land Contour Utilities Lot Config Land Slope Neighborhood  \\\n",
       "0   NaN       IR1          Lvl    AllPub     Inside        Gtl      Gilbert   \n",
       "1   NaN       Reg          Lvl    AllPub     Corner        Gtl        NAmes   \n",
       "2   NaN       Reg          Lvl    AllPub     Inside        Gtl      MeadowV   \n",
       "\n",
       "  Condition 1 Condition 2 Bldg Type House Style  Overall Qual  Overall Cond  \\\n",
       "0        Norm        Norm      1Fam      2Story             7             5   \n",
       "1        Norm        Norm      1Fam      1Story             6             6   \n",
       "2        Norm        Norm     Twnhs      2Story             4             5   \n",
       "\n",
       "   Year Built  Year Remod/Add Roof Style Roof Matl Exterior 1st Exterior 2nd  \\\n",
       "0        2000            2000      Gable   CompShg      VinylSd      VinylSd   \n",
       "1        1951            1951        Hip   CompShg      Wd Sdng      Wd Sdng   \n",
       "2        1970            1970      Gable   CompShg      CemntBd      CmentBd   \n",
       "\n",
       "  Mas Vnr Type  Mas Vnr Area Exter Qual Exter Cond Foundation Bsmt Qual  \\\n",
       "0         None           0.0         Gd         TA      PConc        Gd   \n",
       "1      BrkFace         522.0         TA         TA     CBlock        TA   \n",
       "2      BrkFace          80.0         TA         TA     CBlock        TA   \n",
       "\n",
       "  Bsmt Cond Bsmt Exposure BsmtFin Type 1  BsmtFin SF 1 BsmtFin Type 2  \\\n",
       "0        TA            No            GLQ         300.0            Unf   \n",
       "1        TA            No            Unf           0.0            Unf   \n",
       "2        TA            No            Unf           0.0            Unf   \n",
       "\n",
       "   BsmtFin SF 2  Bsmt Unf SF  Total Bsmt SF Heating Heating QC Central Air  \\\n",
       "0           0.0        652.0          952.0    GasA         Ex           Y   \n",
       "1           0.0        216.0          216.0    GasA         TA           Y   \n",
       "2           0.0        546.0          546.0    GasA         Fa           Y   \n",
       "\n",
       "  Electrical  1st Flr SF  2nd Flr SF  Low Qual Fin SF  Gr Liv Area  \\\n",
       "0      SBrkr         980        1276                0         2256   \n",
       "1      SBrkr        1575           0                0         1575   \n",
       "2      SBrkr         546         546                0         1092   \n",
       "\n",
       "   Bsmt Full Bath  Bsmt Half Bath  Full Bath  Half Bath  Bedroom AbvGr  \\\n",
       "0             0.0             0.0          2          1              4   \n",
       "1             0.0             0.0          1          1              2   \n",
       "2             0.0             0.0          1          1              3   \n",
       "\n",
       "   Kitchen AbvGr Kitchen Qual  TotRms AbvGrd Functional  Fireplaces  \\\n",
       "0              1           Gd              8        Typ           1   \n",
       "1              1           Gd              5        Typ           1   \n",
       "2              1           TA              6        Typ           0   \n",
       "\n",
       "  Fireplace Qu Garage Type  Garage Yr Blt Garage Finish  Garage Cars  \\\n",
       "0           TA     BuiltIn         2000.0           Fin          2.0   \n",
       "1           Gd      Attchd         1951.0           Unf          2.0   \n",
       "2          NaN      Attchd         1970.0           Unf          1.0   \n",
       "\n",
       "   Garage Area Garage Qual Garage Cond Paved Drive  Wood Deck SF  \\\n",
       "0        554.0          TA          TA           Y           224   \n",
       "1        400.0          TA          TA           Y             0   \n",
       "2        286.0          TA          TA           Y             0   \n",
       "\n",
       "   Open Porch SF  Enclosed Porch  3Ssn Porch  Screen Porch  Pool Area Pool QC  \\\n",
       "0             54               0           0             0          0     NaN   \n",
       "1              0               0           0             0          0     NaN   \n",
       "2              0               0           0             0          0     NaN   \n",
       "\n",
       "  Fence Misc Feature  Misc Val  Mo Sold  Yr Sold Sale Type Sale Condition  \\\n",
       "0   NaN          NaN         0        4     2009       WD          Normal   \n",
       "1   NaN          NaN         0        6     2006       WD          Normal   \n",
       "2   NaN          NaN         0        1     2007       WD          Normal   \n",
       "\n",
       "   SalePrice  \n",
       "0     236000  \n",
       "1     155000  \n",
       "2      75000  "
      ]
     },
     "metadata": {},
     "output_type": "display_data"
    },
    {
     "data": {
      "text/html": [
       "<div>\n",
       "<style scoped>\n",
       "    .dataframe tbody tr th:only-of-type {\n",
       "        vertical-align: middle;\n",
       "    }\n",
       "\n",
       "    .dataframe tbody tr th {\n",
       "        vertical-align: top;\n",
       "    }\n",
       "\n",
       "    .dataframe thead th {\n",
       "        text-align: right;\n",
       "    }\n",
       "</style>\n",
       "<table border=\"1\" class=\"dataframe\">\n",
       "  <thead>\n",
       "    <tr style=\"text-align: right;\">\n",
       "      <th></th>\n",
       "      <th>Order</th>\n",
       "      <th>PID</th>\n",
       "      <th>MS SubClass</th>\n",
       "      <th>MS Zoning</th>\n",
       "      <th>Lot Frontage</th>\n",
       "      <th>Lot Area</th>\n",
       "      <th>Street</th>\n",
       "      <th>Alley</th>\n",
       "      <th>Lot Shape</th>\n",
       "      <th>Land Contour</th>\n",
       "      <th>Utilities</th>\n",
       "      <th>Lot Config</th>\n",
       "      <th>Land Slope</th>\n",
       "      <th>Neighborhood</th>\n",
       "      <th>Condition 1</th>\n",
       "      <th>Condition 2</th>\n",
       "      <th>Bldg Type</th>\n",
       "      <th>House Style</th>\n",
       "      <th>Overall Qual</th>\n",
       "      <th>Overall Cond</th>\n",
       "      <th>Year Built</th>\n",
       "      <th>Year Remod/Add</th>\n",
       "      <th>Roof Style</th>\n",
       "      <th>Roof Matl</th>\n",
       "      <th>Exterior 1st</th>\n",
       "      <th>Exterior 2nd</th>\n",
       "      <th>Mas Vnr Type</th>\n",
       "      <th>Mas Vnr Area</th>\n",
       "      <th>Exter Qual</th>\n",
       "      <th>Exter Cond</th>\n",
       "      <th>Foundation</th>\n",
       "      <th>Bsmt Qual</th>\n",
       "      <th>Bsmt Cond</th>\n",
       "      <th>Bsmt Exposure</th>\n",
       "      <th>BsmtFin Type 1</th>\n",
       "      <th>BsmtFin SF 1</th>\n",
       "      <th>BsmtFin Type 2</th>\n",
       "      <th>BsmtFin SF 2</th>\n",
       "      <th>Bsmt Unf SF</th>\n",
       "      <th>Total Bsmt SF</th>\n",
       "      <th>Heating</th>\n",
       "      <th>Heating QC</th>\n",
       "      <th>Central Air</th>\n",
       "      <th>Electrical</th>\n",
       "      <th>1st Flr SF</th>\n",
       "      <th>2nd Flr SF</th>\n",
       "      <th>Low Qual Fin SF</th>\n",
       "      <th>Gr Liv Area</th>\n",
       "      <th>Bsmt Full Bath</th>\n",
       "      <th>Bsmt Half Bath</th>\n",
       "      <th>Full Bath</th>\n",
       "      <th>Half Bath</th>\n",
       "      <th>Bedroom AbvGr</th>\n",
       "      <th>Kitchen AbvGr</th>\n",
       "      <th>Kitchen Qual</th>\n",
       "      <th>TotRms AbvGrd</th>\n",
       "      <th>Functional</th>\n",
       "      <th>Fireplaces</th>\n",
       "      <th>Fireplace Qu</th>\n",
       "      <th>Garage Type</th>\n",
       "      <th>Garage Yr Blt</th>\n",
       "      <th>Garage Finish</th>\n",
       "      <th>Garage Cars</th>\n",
       "      <th>Garage Area</th>\n",
       "      <th>Garage Qual</th>\n",
       "      <th>Garage Cond</th>\n",
       "      <th>Paved Drive</th>\n",
       "      <th>Wood Deck SF</th>\n",
       "      <th>Open Porch SF</th>\n",
       "      <th>Enclosed Porch</th>\n",
       "      <th>3Ssn Porch</th>\n",
       "      <th>Screen Porch</th>\n",
       "      <th>Pool Area</th>\n",
       "      <th>Pool QC</th>\n",
       "      <th>Fence</th>\n",
       "      <th>Misc Feature</th>\n",
       "      <th>Misc Val</th>\n",
       "      <th>Mo Sold</th>\n",
       "      <th>Yr Sold</th>\n",
       "      <th>Sale Type</th>\n",
       "      <th>Sale Condition</th>\n",
       "    </tr>\n",
       "  </thead>\n",
       "  <tbody>\n",
       "    <tr>\n",
       "      <th>0</th>\n",
       "      <td>2217</td>\n",
       "      <td>909279080</td>\n",
       "      <td>50</td>\n",
       "      <td>RL</td>\n",
       "      <td>NaN</td>\n",
       "      <td>11275</td>\n",
       "      <td>Pave</td>\n",
       "      <td>NaN</td>\n",
       "      <td>IR1</td>\n",
       "      <td>HLS</td>\n",
       "      <td>AllPub</td>\n",
       "      <td>Corner</td>\n",
       "      <td>Mod</td>\n",
       "      <td>Crawfor</td>\n",
       "      <td>Norm</td>\n",
       "      <td>Norm</td>\n",
       "      <td>1Fam</td>\n",
       "      <td>1.5Fin</td>\n",
       "      <td>6</td>\n",
       "      <td>7</td>\n",
       "      <td>1932</td>\n",
       "      <td>1950</td>\n",
       "      <td>Gable</td>\n",
       "      <td>CompShg</td>\n",
       "      <td>MetalSd</td>\n",
       "      <td>MetalSd</td>\n",
       "      <td>BrkFace</td>\n",
       "      <td>480.0</td>\n",
       "      <td>TA</td>\n",
       "      <td>TA</td>\n",
       "      <td>CBlock</td>\n",
       "      <td>TA</td>\n",
       "      <td>TA</td>\n",
       "      <td>Mn</td>\n",
       "      <td>Rec</td>\n",
       "      <td>297.0</td>\n",
       "      <td>LwQ</td>\n",
       "      <td>557.0</td>\n",
       "      <td>0.0</td>\n",
       "      <td>854.0</td>\n",
       "      <td>GasA</td>\n",
       "      <td>TA</td>\n",
       "      <td>Y</td>\n",
       "      <td>SBrkr</td>\n",
       "      <td>1096</td>\n",
       "      <td>895</td>\n",
       "      <td>0</td>\n",
       "      <td>1991</td>\n",
       "      <td>0.0</td>\n",
       "      <td>0.0</td>\n",
       "      <td>1</td>\n",
       "      <td>1</td>\n",
       "      <td>3</td>\n",
       "      <td>1</td>\n",
       "      <td>TA</td>\n",
       "      <td>7</td>\n",
       "      <td>Typ</td>\n",
       "      <td>1</td>\n",
       "      <td>Gd</td>\n",
       "      <td>Detchd</td>\n",
       "      <td>1977.0</td>\n",
       "      <td>Unf</td>\n",
       "      <td>2.0</td>\n",
       "      <td>432.0</td>\n",
       "      <td>TA</td>\n",
       "      <td>Fa</td>\n",
       "      <td>Y</td>\n",
       "      <td>0</td>\n",
       "      <td>0</td>\n",
       "      <td>19</td>\n",
       "      <td>0</td>\n",
       "      <td>0</td>\n",
       "      <td>0</td>\n",
       "      <td>NaN</td>\n",
       "      <td>NaN</td>\n",
       "      <td>NaN</td>\n",
       "      <td>0</td>\n",
       "      <td>3</td>\n",
       "      <td>2007</td>\n",
       "      <td>WD</td>\n",
       "      <td>Normal</td>\n",
       "    </tr>\n",
       "    <tr>\n",
       "      <th>1</th>\n",
       "      <td>837</td>\n",
       "      <td>907126050</td>\n",
       "      <td>20</td>\n",
       "      <td>RL</td>\n",
       "      <td>65.0</td>\n",
       "      <td>9757</td>\n",
       "      <td>Pave</td>\n",
       "      <td>NaN</td>\n",
       "      <td>Reg</td>\n",
       "      <td>Low</td>\n",
       "      <td>AllPub</td>\n",
       "      <td>Inside</td>\n",
       "      <td>Mod</td>\n",
       "      <td>CollgCr</td>\n",
       "      <td>Norm</td>\n",
       "      <td>Norm</td>\n",
       "      <td>1Fam</td>\n",
       "      <td>1Story</td>\n",
       "      <td>5</td>\n",
       "      <td>7</td>\n",
       "      <td>1994</td>\n",
       "      <td>1994</td>\n",
       "      <td>Gable</td>\n",
       "      <td>CompShg</td>\n",
       "      <td>VinylSd</td>\n",
       "      <td>VinylSd</td>\n",
       "      <td>None</td>\n",
       "      <td>0.0</td>\n",
       "      <td>TA</td>\n",
       "      <td>Gd</td>\n",
       "      <td>PConc</td>\n",
       "      <td>TA</td>\n",
       "      <td>TA</td>\n",
       "      <td>No</td>\n",
       "      <td>ALQ</td>\n",
       "      <td>755.0</td>\n",
       "      <td>Unf</td>\n",
       "      <td>0.0</td>\n",
       "      <td>235.0</td>\n",
       "      <td>990.0</td>\n",
       "      <td>GasA</td>\n",
       "      <td>Ex</td>\n",
       "      <td>Y</td>\n",
       "      <td>SBrkr</td>\n",
       "      <td>990</td>\n",
       "      <td>0</td>\n",
       "      <td>0</td>\n",
       "      <td>990</td>\n",
       "      <td>1.0</td>\n",
       "      <td>0.0</td>\n",
       "      <td>1</td>\n",
       "      <td>0</td>\n",
       "      <td>3</td>\n",
       "      <td>1</td>\n",
       "      <td>TA</td>\n",
       "      <td>5</td>\n",
       "      <td>Typ</td>\n",
       "      <td>0</td>\n",
       "      <td>NaN</td>\n",
       "      <td>Attchd</td>\n",
       "      <td>1995.0</td>\n",
       "      <td>RFn</td>\n",
       "      <td>1.0</td>\n",
       "      <td>440.0</td>\n",
       "      <td>TA</td>\n",
       "      <td>TA</td>\n",
       "      <td>Y</td>\n",
       "      <td>66</td>\n",
       "      <td>0</td>\n",
       "      <td>0</td>\n",
       "      <td>0</td>\n",
       "      <td>92</td>\n",
       "      <td>0</td>\n",
       "      <td>NaN</td>\n",
       "      <td>NaN</td>\n",
       "      <td>NaN</td>\n",
       "      <td>0</td>\n",
       "      <td>10</td>\n",
       "      <td>2009</td>\n",
       "      <td>WD</td>\n",
       "      <td>Normal</td>\n",
       "    </tr>\n",
       "    <tr>\n",
       "      <th>2</th>\n",
       "      <td>2397</td>\n",
       "      <td>528144030</td>\n",
       "      <td>60</td>\n",
       "      <td>RL</td>\n",
       "      <td>86.0</td>\n",
       "      <td>11065</td>\n",
       "      <td>Pave</td>\n",
       "      <td>NaN</td>\n",
       "      <td>IR1</td>\n",
       "      <td>Lvl</td>\n",
       "      <td>AllPub</td>\n",
       "      <td>Inside</td>\n",
       "      <td>Gtl</td>\n",
       "      <td>NridgHt</td>\n",
       "      <td>Norm</td>\n",
       "      <td>Norm</td>\n",
       "      <td>1Fam</td>\n",
       "      <td>2Story</td>\n",
       "      <td>8</td>\n",
       "      <td>5</td>\n",
       "      <td>2006</td>\n",
       "      <td>2006</td>\n",
       "      <td>Gable</td>\n",
       "      <td>CompShg</td>\n",
       "      <td>VinylSd</td>\n",
       "      <td>VinylSd</td>\n",
       "      <td>Stone</td>\n",
       "      <td>788.0</td>\n",
       "      <td>Gd</td>\n",
       "      <td>TA</td>\n",
       "      <td>PConc</td>\n",
       "      <td>Gd</td>\n",
       "      <td>TA</td>\n",
       "      <td>Mn</td>\n",
       "      <td>Unf</td>\n",
       "      <td>0.0</td>\n",
       "      <td>Unf</td>\n",
       "      <td>0.0</td>\n",
       "      <td>1085.0</td>\n",
       "      <td>1085.0</td>\n",
       "      <td>GasA</td>\n",
       "      <td>Ex</td>\n",
       "      <td>Y</td>\n",
       "      <td>SBrkr</td>\n",
       "      <td>1120</td>\n",
       "      <td>850</td>\n",
       "      <td>0</td>\n",
       "      <td>1970</td>\n",
       "      <td>0.0</td>\n",
       "      <td>0.0</td>\n",
       "      <td>2</td>\n",
       "      <td>1</td>\n",
       "      <td>3</td>\n",
       "      <td>1</td>\n",
       "      <td>Ex</td>\n",
       "      <td>8</td>\n",
       "      <td>Typ</td>\n",
       "      <td>1</td>\n",
       "      <td>Gd</td>\n",
       "      <td>BuiltIn</td>\n",
       "      <td>2006.0</td>\n",
       "      <td>Fin</td>\n",
       "      <td>3.0</td>\n",
       "      <td>753.0</td>\n",
       "      <td>TA</td>\n",
       "      <td>TA</td>\n",
       "      <td>Y</td>\n",
       "      <td>177</td>\n",
       "      <td>74</td>\n",
       "      <td>0</td>\n",
       "      <td>0</td>\n",
       "      <td>0</td>\n",
       "      <td>0</td>\n",
       "      <td>NaN</td>\n",
       "      <td>NaN</td>\n",
       "      <td>NaN</td>\n",
       "      <td>0</td>\n",
       "      <td>10</td>\n",
       "      <td>2006</td>\n",
       "      <td>New</td>\n",
       "      <td>Partial</td>\n",
       "    </tr>\n",
       "  </tbody>\n",
       "</table>\n",
       "</div>"
      ],
      "text/plain": [
       "   Order        PID  MS SubClass MS Zoning  Lot Frontage  Lot Area Street  \\\n",
       "0   2217  909279080           50        RL           NaN     11275   Pave   \n",
       "1    837  907126050           20        RL          65.0      9757   Pave   \n",
       "2   2397  528144030           60        RL          86.0     11065   Pave   \n",
       "\n",
       "  Alley Lot Shape Land Contour Utilities Lot Config Land Slope Neighborhood  \\\n",
       "0   NaN       IR1          HLS    AllPub     Corner        Mod      Crawfor   \n",
       "1   NaN       Reg          Low    AllPub     Inside        Mod      CollgCr   \n",
       "2   NaN       IR1          Lvl    AllPub     Inside        Gtl      NridgHt   \n",
       "\n",
       "  Condition 1 Condition 2 Bldg Type House Style  Overall Qual  Overall Cond  \\\n",
       "0        Norm        Norm      1Fam      1.5Fin             6             7   \n",
       "1        Norm        Norm      1Fam      1Story             5             7   \n",
       "2        Norm        Norm      1Fam      2Story             8             5   \n",
       "\n",
       "   Year Built  Year Remod/Add Roof Style Roof Matl Exterior 1st Exterior 2nd  \\\n",
       "0        1932            1950      Gable   CompShg      MetalSd      MetalSd   \n",
       "1        1994            1994      Gable   CompShg      VinylSd      VinylSd   \n",
       "2        2006            2006      Gable   CompShg      VinylSd      VinylSd   \n",
       "\n",
       "  Mas Vnr Type  Mas Vnr Area Exter Qual Exter Cond Foundation Bsmt Qual  \\\n",
       "0      BrkFace         480.0         TA         TA     CBlock        TA   \n",
       "1         None           0.0         TA         Gd      PConc        TA   \n",
       "2        Stone         788.0         Gd         TA      PConc        Gd   \n",
       "\n",
       "  Bsmt Cond Bsmt Exposure BsmtFin Type 1  BsmtFin SF 1 BsmtFin Type 2  \\\n",
       "0        TA            Mn            Rec         297.0            LwQ   \n",
       "1        TA            No            ALQ         755.0            Unf   \n",
       "2        TA            Mn            Unf           0.0            Unf   \n",
       "\n",
       "   BsmtFin SF 2  Bsmt Unf SF  Total Bsmt SF Heating Heating QC Central Air  \\\n",
       "0         557.0          0.0          854.0    GasA         TA           Y   \n",
       "1           0.0        235.0          990.0    GasA         Ex           Y   \n",
       "2           0.0       1085.0         1085.0    GasA         Ex           Y   \n",
       "\n",
       "  Electrical  1st Flr SF  2nd Flr SF  Low Qual Fin SF  Gr Liv Area  \\\n",
       "0      SBrkr        1096         895                0         1991   \n",
       "1      SBrkr         990           0                0          990   \n",
       "2      SBrkr        1120         850                0         1970   \n",
       "\n",
       "   Bsmt Full Bath  Bsmt Half Bath  Full Bath  Half Bath  Bedroom AbvGr  \\\n",
       "0             0.0             0.0          1          1              3   \n",
       "1             1.0             0.0          1          0              3   \n",
       "2             0.0             0.0          2          1              3   \n",
       "\n",
       "   Kitchen AbvGr Kitchen Qual  TotRms AbvGrd Functional  Fireplaces  \\\n",
       "0              1           TA              7        Typ           1   \n",
       "1              1           TA              5        Typ           0   \n",
       "2              1           Ex              8        Typ           1   \n",
       "\n",
       "  Fireplace Qu Garage Type  Garage Yr Blt Garage Finish  Garage Cars  \\\n",
       "0           Gd      Detchd         1977.0           Unf          2.0   \n",
       "1          NaN      Attchd         1995.0           RFn          1.0   \n",
       "2           Gd     BuiltIn         2006.0           Fin          3.0   \n",
       "\n",
       "   Garage Area Garage Qual Garage Cond Paved Drive  Wood Deck SF  \\\n",
       "0        432.0          TA          Fa           Y             0   \n",
       "1        440.0          TA          TA           Y            66   \n",
       "2        753.0          TA          TA           Y           177   \n",
       "\n",
       "   Open Porch SF  Enclosed Porch  3Ssn Porch  Screen Porch  Pool Area Pool QC  \\\n",
       "0              0              19           0             0          0     NaN   \n",
       "1              0               0           0            92          0     NaN   \n",
       "2             74               0           0             0          0     NaN   \n",
       "\n",
       "  Fence Misc Feature  Misc Val  Mo Sold  Yr Sold Sale Type Sale Condition  \n",
       "0   NaN          NaN         0        3     2007       WD          Normal  \n",
       "1   NaN          NaN         0       10     2009       WD          Normal  \n",
       "2   NaN          NaN         0       10     2006       New        Partial  "
      ]
     },
     "metadata": {},
     "output_type": "display_data"
    }
   ],
   "source": [
    "with pd.option_context('display.max_columns', None):\n",
    "    display(df_la.head(3))\n",
    "    display(df_un.head(3))"
   ]
  },
  {
   "cell_type": "markdown",
   "metadata": {},
   "source": [
    "For the data cleaning, we will work on both data sets at the same time:"
   ]
  },
  {
   "cell_type": "code",
   "execution_count": 111,
   "metadata": {},
   "outputs": [],
   "source": [
    "n_la = df_la.shape[0]\n",
    "n_un = df_un.shape[0]\n",
    "df_all = pd.concat([df_la.drop(columns='SalePrice'), df_un]).reset_index(drop=True)\n",
    "assert df_all.shape[0] == (n_la + n_un)"
   ]
  },
  {
   "cell_type": "code",
   "execution_count": 112,
   "metadata": {},
   "outputs": [
    {
     "name": "stdout",
     "output_type": "stream",
     "text": [
      "<class 'pandas.core.frame.DataFrame'>\n",
      "RangeIndex: 2930 entries, 0 to 2929\n",
      "Data columns (total 81 columns):\n",
      "Order              2930 non-null int64\n",
      "PID                2930 non-null int64\n",
      "MS SubClass        2930 non-null int64\n",
      "MS Zoning          2930 non-null object\n",
      "Lot Frontage       2440 non-null float64\n",
      "Lot Area           2930 non-null int64\n",
      "Street             2930 non-null object\n",
      "Alley              198 non-null object\n",
      "Lot Shape          2930 non-null object\n",
      "Land Contour       2930 non-null object\n",
      "Utilities          2930 non-null object\n",
      "Lot Config         2930 non-null object\n",
      "Land Slope         2930 non-null object\n",
      "Neighborhood       2930 non-null object\n",
      "Condition 1        2930 non-null object\n",
      "Condition 2        2930 non-null object\n",
      "Bldg Type          2930 non-null object\n",
      "House Style        2930 non-null object\n",
      "Overall Qual       2930 non-null int64\n",
      "Overall Cond       2930 non-null int64\n",
      "Year Built         2930 non-null int64\n",
      "Year Remod/Add     2930 non-null int64\n",
      "Roof Style         2930 non-null object\n",
      "Roof Matl          2930 non-null object\n",
      "Exterior 1st       2930 non-null object\n",
      "Exterior 2nd       2930 non-null object\n",
      "Mas Vnr Type       2907 non-null object\n",
      "Mas Vnr Area       2907 non-null float64\n",
      "Exter Qual         2930 non-null object\n",
      "Exter Cond         2930 non-null object\n",
      "Foundation         2930 non-null object\n",
      "Bsmt Qual          2850 non-null object\n",
      "Bsmt Cond          2850 non-null object\n",
      "Bsmt Exposure      2847 non-null object\n",
      "BsmtFin Type 1     2850 non-null object\n",
      "BsmtFin SF 1       2929 non-null float64\n",
      "BsmtFin Type 2     2849 non-null object\n",
      "BsmtFin SF 2       2929 non-null float64\n",
      "Bsmt Unf SF        2929 non-null float64\n",
      "Total Bsmt SF      2929 non-null float64\n",
      "Heating            2930 non-null object\n",
      "Heating QC         2930 non-null object\n",
      "Central Air        2930 non-null object\n",
      "Electrical         2929 non-null object\n",
      "1st Flr SF         2930 non-null int64\n",
      "2nd Flr SF         2930 non-null int64\n",
      "Low Qual Fin SF    2930 non-null int64\n",
      "Gr Liv Area        2930 non-null int64\n",
      "Bsmt Full Bath     2928 non-null float64\n",
      "Bsmt Half Bath     2928 non-null float64\n",
      "Full Bath          2930 non-null int64\n",
      "Half Bath          2930 non-null int64\n",
      "Bedroom AbvGr      2930 non-null int64\n",
      "Kitchen AbvGr      2930 non-null int64\n",
      "Kitchen Qual       2930 non-null object\n",
      "TotRms AbvGrd      2930 non-null int64\n",
      "Functional         2930 non-null object\n",
      "Fireplaces         2930 non-null int64\n",
      "Fireplace Qu       1508 non-null object\n",
      "Garage Type        2773 non-null object\n",
      "Garage Yr Blt      2771 non-null float64\n",
      "Garage Finish      2771 non-null object\n",
      "Garage Cars        2929 non-null float64\n",
      "Garage Area        2929 non-null float64\n",
      "Garage Qual        2771 non-null object\n",
      "Garage Cond        2771 non-null object\n",
      "Paved Drive        2930 non-null object\n",
      "Wood Deck SF       2930 non-null int64\n",
      "Open Porch SF      2930 non-null int64\n",
      "Enclosed Porch     2930 non-null int64\n",
      "3Ssn Porch         2930 non-null int64\n",
      "Screen Porch       2930 non-null int64\n",
      "Pool Area          2930 non-null int64\n",
      "Pool QC            13 non-null object\n",
      "Fence              572 non-null object\n",
      "Misc Feature       106 non-null object\n",
      "Misc Val           2930 non-null int64\n",
      "Mo Sold            2930 non-null int64\n",
      "Yr Sold            2930 non-null int64\n",
      "Sale Type          2930 non-null object\n",
      "Sale Condition     2930 non-null object\n",
      "dtypes: float64(11), int64(27), object(43)\n",
      "memory usage: 1.8+ MB\n"
     ]
    }
   ],
   "source": [
    "df_all.info(verbose=True, null_counts=True)"
   ]
  },
  {
   "cell_type": "markdown",
   "metadata": {},
   "source": [
    "**Note:** In order to make it easier to work with all the variables, we have prepared a little JSON document that, for each variable, lists its name and its kind (nominal or ordinal for qualitative variables; discrete or continuous for quantitative variables). For qualitative variables, it also lists the valid values. (This document was generated by parsing the documentation. The code is in `parse_variables.py`.)"
   ]
  },
  {
   "cell_type": "code",
   "execution_count": 113,
   "metadata": {},
   "outputs": [],
   "source": [
    "variables = utils.load_variables('variables.json')"
   ]
  },
  {
   "cell_type": "markdown",
   "metadata": {},
   "source": [
    "We drop `Order` and `PID` from the definitions and quickly check the counts:"
   ]
  },
  {
   "cell_type": "code",
   "execution_count": 114,
   "metadata": {},
   "outputs": [
    {
     "name": "stdout",
     "output_type": "stream",
     "text": [
      "variables of kind nominal: 23\n",
      "variables of kind ordinal: 23\n",
      "variables of kind discrete: 14\n",
      "variables of kind continuous: 20\n"
     ]
    }
   ],
   "source": [
    "variables.pop('Order')\n",
    "variables.pop('PID')\n",
    "\n",
    "kinds = ['Nominal', 'Ordinal', 'Discrete', 'Continuous']\n",
    "for kind in kinds:\n",
    "    count = sum(1 if attrs['kind'] == kind else 0 for attrs in variables.values())\n",
    "    print(f'variables of kind {kind.lower()}: {count}')"
   ]
  },
  {
   "cell_type": "markdown",
   "metadata": {},
   "source": [
    "### Step 1 - Find and handle incorrect and missing values<a name=\"stage-1-step-1\"></a> ([top](#top))\n",
    "---"
   ]
  },
  {
   "cell_type": "markdown",
   "metadata": {},
   "source": [
    "We are told that the data set contains incorrect and missing values. Our plan is:\n",
    "\n",
    "* **Qualitative and quantitative variables :** We want to make sure that qualitative and quantitative variables take only valid values. For this we refer to the documentation. We already extracted the list of valid values for qualitative variable and noticed that quantitative variables should at least be non-negative.\n",
    "* **Groups of variables:** We want to make sure that groups of variables that describe a given part of the property (e.g. the basement) are consistent (e.g. it should not be the case that some variables imply that there is a basement while other variables imply that there is none)."
   ]
  },
  {
   "cell_type": "markdown",
   "metadata": {},
   "source": [
    "#### Qualitative variables\n",
    "---"
   ]
  },
  {
   "cell_type": "markdown",
   "metadata": {},
   "source": [
    "The 1st thing we notice when we try to check qualitative variables is that the names of some variables differ between the data set and the documentation. **We decide to align the definitions to match the data set.**"
   ]
  },
  {
   "cell_type": "code",
   "execution_count": 115,
   "metadata": {},
   "outputs": [],
   "source": [
    "# Update the definitions:\n",
    "replacements = {\n",
    "    # E.g. 'Exterior 1' is 'Exterior 1st' in the data set:\n",
    "    'Exterior 1': 'Exterior 1st',\n",
    "    'Exterior 2': 'Exterior 2nd',\n",
    "    'BsmtFinType 2': 'BsmtFin Type 2',\n",
    "    'HeatingQC': 'Heating QC',\n",
    "    'KitchenQual': 'Kitchen Qual',\n",
    "    'FireplaceQu': 'Fireplace Qu'\n",
    "}\n",
    "\n",
    "# Preserve the order:\n",
    "pairs = [(replacements.get(name, name), attrs) for name, attrs in variables.items()]\n",
    "variables = collections.OrderedDict(pairs)"
   ]
  },
  {
   "cell_type": "markdown",
   "metadata": {},
   "source": [
    "The 2nd thing we notice is that _NA_ in the documentation is represented by `np.nan` in the data set. **We decide to align the data set to match the definitions.**"
   ]
  },
  {
   "cell_type": "code",
   "execution_count": 116,
   "metadata": {},
   "outputs": [],
   "source": [
    "# Correct the data set:\n",
    "for name, attrs in variables.items():\n",
    "    if not utils.is_qualitative(attrs):\n",
    "        continue\n",
    "    if 'NA' in attrs['values']:\n",
    "        df_all[name] = df_all[name].fillna('NA')"
   ]
  },
  {
   "cell_type": "markdown",
   "metadata": {},
   "source": [
    "We build a data-frame with the number of null and invalid values:"
   ]
  },
  {
   "cell_type": "code",
   "execution_count": 117,
   "metadata": {},
   "outputs": [],
   "source": [
    "data = []\n",
    "for name, attrs in variables.items():\n",
    "    if not utils.is_qualitative(attrs):\n",
    "        continue\n",
    "    series = df_all[name]\n",
    "    null_count = utils.count_null(series)\n",
    "    invalid_count = utils.count_invalid(series, attrs['values'])\n",
    "    data.append((name, attrs['kind'], null_count, invalid_count))\n",
    "df_ql = pd.DataFrame(data=data, columns=['feature', 'kind', 'null_count', 'invalid_count'])"
   ]
  },
  {
   "cell_type": "markdown",
   "metadata": {},
   "source": [
    "The qualitative variables that we need to investigate are:"
   ]
  },
  {
   "cell_type": "code",
   "execution_count": 118,
   "metadata": {},
   "outputs": [
    {
     "data": {
      "text/html": [
       "<div>\n",
       "<style scoped>\n",
       "    .dataframe tbody tr th:only-of-type {\n",
       "        vertical-align: middle;\n",
       "    }\n",
       "\n",
       "    .dataframe tbody tr th {\n",
       "        vertical-align: top;\n",
       "    }\n",
       "\n",
       "    .dataframe thead th {\n",
       "        text-align: right;\n",
       "    }\n",
       "</style>\n",
       "<table border=\"1\" class=\"dataframe\">\n",
       "  <thead>\n",
       "    <tr style=\"text-align: right;\">\n",
       "      <th></th>\n",
       "      <th>feature</th>\n",
       "      <th>kind</th>\n",
       "      <th>null_count</th>\n",
       "      <th>invalid_count</th>\n",
       "    </tr>\n",
       "  </thead>\n",
       "  <tbody>\n",
       "    <tr>\n",
       "      <th>1</th>\n",
       "      <td>MS Zoning</td>\n",
       "      <td>Nominal</td>\n",
       "      <td>0</td>\n",
       "      <td>29</td>\n",
       "    </tr>\n",
       "    <tr>\n",
       "      <th>9</th>\n",
       "      <td>Neighborhood</td>\n",
       "      <td>Nominal</td>\n",
       "      <td>0</td>\n",
       "      <td>443</td>\n",
       "    </tr>\n",
       "    <tr>\n",
       "      <th>12</th>\n",
       "      <td>Bldg Type</td>\n",
       "      <td>Nominal</td>\n",
       "      <td>0</td>\n",
       "      <td>272</td>\n",
       "    </tr>\n",
       "    <tr>\n",
       "      <th>19</th>\n",
       "      <td>Exterior 2nd</td>\n",
       "      <td>Nominal</td>\n",
       "      <td>0</td>\n",
       "      <td>229</td>\n",
       "    </tr>\n",
       "    <tr>\n",
       "      <th>20</th>\n",
       "      <td>Mas Vnr Type</td>\n",
       "      <td>Nominal</td>\n",
       "      <td>23</td>\n",
       "      <td>23</td>\n",
       "    </tr>\n",
       "    <tr>\n",
       "      <th>32</th>\n",
       "      <td>Electrical</td>\n",
       "      <td>Ordinal</td>\n",
       "      <td>1</td>\n",
       "      <td>1</td>\n",
       "    </tr>\n",
       "    <tr>\n",
       "      <th>44</th>\n",
       "      <td>Sale Type</td>\n",
       "      <td>Nominal</td>\n",
       "      <td>0</td>\n",
       "      <td>2536</td>\n",
       "    </tr>\n",
       "  </tbody>\n",
       "</table>\n",
       "</div>"
      ],
      "text/plain": [
       "         feature     kind  null_count  invalid_count\n",
       "1      MS Zoning  Nominal           0             29\n",
       "9   Neighborhood  Nominal           0            443\n",
       "12     Bldg Type  Nominal           0            272\n",
       "19  Exterior 2nd  Nominal           0            229\n",
       "20  Mas Vnr Type  Nominal          23             23\n",
       "32    Electrical  Ordinal           1              1\n",
       "44     Sale Type  Nominal           0           2536"
      ]
     },
     "execution_count": 118,
     "metadata": {},
     "output_type": "execute_result"
    }
   ],
   "source": [
    "df_ql[(df_ql['null_count'] > 0) | (df_ql['invalid_count'] > 0)]"
   ]
  },
  {
   "cell_type": "markdown",
   "metadata": {},
   "source": [
    "#### Variable: `MS Zoning`"
   ]
  },
  {
   "cell_type": "markdown",
   "metadata": {},
   "source": [
    "We take a look at the invalid values:"
   ]
  },
  {
   "cell_type": "code",
   "execution_count": 119,
   "metadata": {},
   "outputs": [
    {
     "data": {
      "text/plain": [
       "array(['I (all)', 'C (all)', 'A (agr)'], dtype=object)"
      ]
     },
     "execution_count": 119,
     "metadata": {},
     "output_type": "execute_result"
    }
   ],
   "source": [
    "name = 'MS Zoning'\n",
    "values = variables[name]['values']\n",
    "utils.get_unique_invalid(df_all[name], values)"
   ]
  },
  {
   "cell_type": "markdown",
   "metadata": {},
   "source": [
    "There is a clear mapping to valid values. **We decide to correct the data set.**"
   ]
  },
  {
   "cell_type": "code",
   "execution_count": 120,
   "metadata": {},
   "outputs": [],
   "source": [
    "# Correct the data set:\n",
    "replacements = {'I (all)': 'I', 'C (all)': 'C', 'A (agr)': 'A'}\n",
    "df_all[name] = utils.replace_invalid(df_all[name].copy(), values, replacements)\n",
    "\n",
    "# Check:\n",
    "assert utils.count_invalid(df_all[name], values) == 0"
   ]
  },
  {
   "cell_type": "markdown",
   "metadata": {},
   "source": [
    "#### Variable: `Neighborhood`"
   ]
  },
  {
   "cell_type": "markdown",
   "metadata": {},
   "source": [
    "We take a look at the invalid values:"
   ]
  },
  {
   "cell_type": "code",
   "execution_count": 121,
   "metadata": {},
   "outputs": [
    {
     "data": {
      "text/plain": [
       "array(['NAmes'], dtype=object)"
      ]
     },
     "execution_count": 121,
     "metadata": {},
     "output_type": "execute_result"
    }
   ],
   "source": [
    "name = 'Neighborhood'\n",
    "values = variables[name]['values']\n",
    "utils.get_unique_invalid(df_all[name], values)"
   ]
  },
  {
   "cell_type": "markdown",
   "metadata": {},
   "source": [
    "Looking at the other values, we see that `Northwest Ames` is capitalized as `NWAmes`. Thus it would make sense for `North Ames` to be capitalized as `NAmes`. **We decide to align the definition to match the data set.**"
   ]
  },
  {
   "cell_type": "code",
   "execution_count": 122,
   "metadata": {},
   "outputs": [],
   "source": [
    "# Update the definition:\n",
    "values[values.index('Names')] = 'NAmes'\n",
    "\n",
    "# Check:\n",
    "assert utils.count_invalid(df_all[name], values) == 0"
   ]
  },
  {
   "cell_type": "markdown",
   "metadata": {},
   "source": [
    "#### Variable: `Bldg Type`"
   ]
  },
  {
   "cell_type": "markdown",
   "metadata": {},
   "source": [
    "We take a look at the invalid values:"
   ]
  },
  {
   "cell_type": "code",
   "execution_count": 123,
   "metadata": {},
   "outputs": [
    {
     "data": {
      "text/plain": [
       "array(['Twnhs', '2fmCon', 'Duplex'], dtype=object)"
      ]
     },
     "execution_count": 123,
     "metadata": {},
     "output_type": "execute_result"
    }
   ],
   "source": [
    "name = 'Bldg Type'\n",
    "values = variables[name]['values']\n",
    "utils.get_unique_invalid(df_all[name], values)"
   ]
  },
  {
   "cell_type": "code",
   "execution_count": 124,
   "metadata": {},
   "outputs": [
    {
     "data": {
      "text/plain": [
       "1Fam      2425\n",
       "TwnhsE     233\n",
       "Duplex     109\n",
       "Twnhs      101\n",
       "2fmCon      62\n",
       "Name: Bldg Type, dtype: int64"
      ]
     },
     "execution_count": 124,
     "metadata": {},
     "output_type": "execute_result"
    }
   ],
   "source": [
    "df_all[name].value_counts()"
   ]
  },
  {
   "cell_type": "markdown",
   "metadata": {},
   "source": [
    "Regarding `Duplex` (6 characters), this makes as much sense as `Duplx`. **We decide to align the definition to match the data set.** Regarding the other values, there is a clear mapping to valid values except for `Twnhs`. Since `TwnhsI` is completely absent from the data set, we assume that `Twnhs` should be mapped to `TwnhsI`. **We decide to correct the data set.**"
   ]
  },
  {
   "cell_type": "code",
   "execution_count": 125,
   "metadata": {},
   "outputs": [],
   "source": [
    "# Update the definition:\n",
    "values[values.index('Duplx')] = 'Duplex'\n",
    "\n",
    "# Correct the data set:\n",
    "replacements = {'Twnhs': 'TwnhsI', '2fmCon': '2FmCon'}\n",
    "df_all[name] = utils.replace_invalid(df_all[name].copy(), values, replacements)\n",
    "\n",
    "# Check:\n",
    "assert utils.count_invalid(df_all[name], values) == 0"
   ]
  },
  {
   "cell_type": "markdown",
   "metadata": {},
   "source": [
    "#### Variable: `Exterior 2nd`"
   ]
  },
  {
   "cell_type": "markdown",
   "metadata": {},
   "source": [
    "We take a look at the invalid values:"
   ]
  },
  {
   "cell_type": "code",
   "execution_count": 126,
   "metadata": {},
   "outputs": [
    {
     "data": {
      "text/plain": [
       "array(['CmentBd', 'Wd Shng', 'Brk Cmn'], dtype=object)"
      ]
     },
     "execution_count": 126,
     "metadata": {},
     "output_type": "execute_result"
    }
   ],
   "source": [
    "name = 'Exterior 2nd'\n",
    "values = variables[name]['values']\n",
    "utils.get_unique_invalid(df_all[name], values)"
   ]
  },
  {
   "cell_type": "code",
   "execution_count": 127,
   "metadata": {},
   "outputs": [
    {
     "data": {
      "text/plain": [
       "VinylSd    1015\n",
       "MetalSd     447\n",
       "HdBoard     406\n",
       "Wd Sdng     397\n",
       "Plywood     274\n",
       "CmentBd     126\n",
       "Wd Shng      81\n",
       "BrkFace      47\n",
       "Stucco       47\n",
       "AsbShng      38\n",
       "Brk Cmn      22\n",
       "ImStucc      15\n",
       "Stone         6\n",
       "AsphShn       4\n",
       "CBlock        3\n",
       "PreCast       1\n",
       "Other         1\n",
       "Name: Exterior 2nd, dtype: int64"
      ]
     },
     "execution_count": 127,
     "metadata": {},
     "output_type": "execute_result"
    }
   ],
   "source": [
    "df_all[name].value_counts()"
   ]
  },
  {
   "cell_type": "markdown",
   "metadata": {},
   "source": [
    "There is a clear mapping to valid values except for `Wd Shng`. Since `WdShing` is completely absent from the data set, we assume that `Wd Shng` should be mapped to `WdShing`. **We decide to correct the data set.**"
   ]
  },
  {
   "cell_type": "code",
   "execution_count": 128,
   "metadata": {},
   "outputs": [],
   "source": [
    "# Correct the data set:\n",
    "replacements = {'CmentBd': 'CemntBd', 'Wd Shng': 'WdShing', 'Brk Cmn': 'BrkComm'}\n",
    "df_all[name] = utils.replace_invalid(df_all[name].copy(), values, replacements)\n",
    "\n",
    "# Check:\n",
    "assert utils.count_invalid(df_all[name], values) == 0"
   ]
  },
  {
   "cell_type": "markdown",
   "metadata": {},
   "source": [
    "#### Variable: `Mas Vnr Type`"
   ]
  },
  {
   "cell_type": "markdown",
   "metadata": {},
   "source": [
    "We take a look at the invalid values:"
   ]
  },
  {
   "cell_type": "code",
   "execution_count": 129,
   "metadata": {},
   "outputs": [
    {
     "data": {
      "text/plain": [
       "array([nan], dtype=object)"
      ]
     },
     "execution_count": 129,
     "metadata": {},
     "output_type": "execute_result"
    }
   ],
   "source": [
    "name = 'Mas Vnr Type'\n",
    "values = variables[name]['values']\n",
    "utils.get_unique_invalid(df_all[name], values)"
   ]
  },
  {
   "cell_type": "code",
   "execution_count": 130,
   "metadata": {},
   "outputs": [
    {
     "data": {
      "text/plain": [
       "None       1752\n",
       "BrkFace     880\n",
       "Stone       249\n",
       "BrkCmn       25\n",
       "NaN          23\n",
       "CBlock        1\n",
       "Name: Mas Vnr Type, dtype: int64"
      ]
     },
     "execution_count": 130,
     "metadata": {},
     "output_type": "execute_result"
    }
   ],
   "source": [
    "df_all[name].value_counts(dropna=False)"
   ]
  },
  {
   "cell_type": "markdown",
   "metadata": {},
   "source": [
    "As this point it would make sense to look at `Mas Vnr Type` with other attributes of the masonry veneer, so we will return to `Mas Vnr Type` when we investigate quantitative variables below."
   ]
  },
  {
   "cell_type": "markdown",
   "metadata": {},
   "source": [
    "#### Variable: `Electrical`"
   ]
  },
  {
   "cell_type": "markdown",
   "metadata": {},
   "source": [
    "We take a look at the invalid values:"
   ]
  },
  {
   "cell_type": "code",
   "execution_count": 131,
   "metadata": {},
   "outputs": [
    {
     "data": {
      "text/plain": [
       "array([nan], dtype=object)"
      ]
     },
     "execution_count": 131,
     "metadata": {},
     "output_type": "execute_result"
    }
   ],
   "source": [
    "name = 'Electrical'\n",
    "values = variables[name]['values']\n",
    "utils.get_unique_invalid(df_all[name], values)"
   ]
  },
  {
   "cell_type": "markdown",
   "metadata": {},
   "source": [
    "There is no clear mapping to valid values. We are reluctant to introduce a new value `Unknown` for an ordinal variable (where to insert it?). Since there is only 1 row impacted, we could drop it. **We decide to replace null values by the mode in the neighborhood where the property is located if the mode exists and by the mode overall otherwise.**"
   ]
  },
  {
   "cell_type": "code",
   "execution_count": 132,
   "metadata": {},
   "outputs": [],
   "source": [
    "# Impute:\n",
    "df_all = utils.fillna_with_mode_by(df_all, name, by='Neighborhood')\n",
    "\n",
    "# Check:\n",
    "assert utils.count_null(df_all[name]) == 0"
   ]
  },
  {
   "cell_type": "markdown",
   "metadata": {},
   "source": [
    "#### Variable: `Sale Type`"
   ]
  },
  {
   "cell_type": "markdown",
   "metadata": {},
   "source": [
    "We take a look at the invalid values:"
   ]
  },
  {
   "cell_type": "code",
   "execution_count": 133,
   "metadata": {},
   "outputs": [
    {
     "data": {
      "text/plain": [
       "array(['WD '], dtype=object)"
      ]
     },
     "execution_count": 133,
     "metadata": {},
     "output_type": "execute_result"
    }
   ],
   "source": [
    "name = 'Sale Type'\n",
    "values = variables[name]['values']\n",
    "utils.get_unique_invalid(df_all[name], values)"
   ]
  },
  {
   "cell_type": "markdown",
   "metadata": {},
   "source": [
    "There is a clear mapping to a valid values. **We decide to correct the data set.**"
   ]
  },
  {
   "cell_type": "code",
   "execution_count": 134,
   "metadata": {},
   "outputs": [],
   "source": [
    "# Correct the data set:\n",
    "replacements = {'WD ': 'WD'}\n",
    "df_all[name] = utils.replace_invalid(df_all[name].copy(), values, replacements)\n",
    "\n",
    "# Check:\n",
    "assert utils.count_invalid(df_all[name], values) == 0"
   ]
  },
  {
   "cell_type": "markdown",
   "metadata": {},
   "source": [
    "### Quantitative variables\n",
    "---"
   ]
  },
  {
   "cell_type": "markdown",
   "metadata": {},
   "source": [
    "The 1st thing we notice when we try to check quantitative variables is that the names of some variables differ between the data set and the documentation. **We decide to align the definitions to match the data set.**"
   ]
  },
  {
   "cell_type": "code",
   "execution_count": 135,
   "metadata": {},
   "outputs": [],
   "source": [
    "# Update the definitions:\n",
    "replacements = {\n",
    "    # E.g. 'Bedroom' is 'Bedroom AbvGr' in the data set:\n",
    "    'Bedroom': 'Bedroom AbvGr',\n",
    "    'Kitchen': 'Kitchen AbvGr',\n",
    "    'TotRmsAbvGrd': 'TotRms AbvGrd',\n",
    "    '3-Ssn Porch': '3Ssn Porch'\n",
    "}\n",
    "\n",
    "# We preserve the order:\n",
    "pairs = [(replacements.get(name, name), attrs) for name, attrs in variables.items()]\n",
    "variables = collections.OrderedDict(pairs)"
   ]
  },
  {
   "cell_type": "markdown",
   "metadata": {},
   "source": [
    "We check quantitative variables and build a data-frame with the number of null and zero values as well as with the min and the max:"
   ]
  },
  {
   "cell_type": "code",
   "execution_count": 136,
   "metadata": {},
   "outputs": [],
   "source": [
    "data = []\n",
    "for name, attrs in variables.items():\n",
    "    if not utils.is_quantitative(attrs):\n",
    "        continue\n",
    "    if name == 'SalePrice':\n",
    "        continue\n",
    "    series = df_all[name]\n",
    "    null_count = utils.count_null(series)\n",
    "    zero_count = (series == 0).sum()\n",
    "    data.append((name, attrs['kind'], null_count, zero_count, series.min(), series.max()))\n",
    "df_qt = pd.DataFrame(data=data, columns=['feature', 'kind', 'null_count', 'zero_count', 'min', 'max'])"
   ]
  },
  {
   "cell_type": "markdown",
   "metadata": {},
   "source": [
    "The quantitative variables that we need to investigate are:"
   ]
  },
  {
   "cell_type": "code",
   "execution_count": 137,
   "metadata": {},
   "outputs": [
    {
     "data": {
      "text/html": [
       "<div>\n",
       "<style scoped>\n",
       "    .dataframe tbody tr th:only-of-type {\n",
       "        vertical-align: middle;\n",
       "    }\n",
       "\n",
       "    .dataframe tbody tr th {\n",
       "        vertical-align: top;\n",
       "    }\n",
       "\n",
       "    .dataframe thead th {\n",
       "        text-align: right;\n",
       "    }\n",
       "</style>\n",
       "<table border=\"1\" class=\"dataframe\">\n",
       "  <thead>\n",
       "    <tr style=\"text-align: right;\">\n",
       "      <th></th>\n",
       "      <th>feature</th>\n",
       "      <th>kind</th>\n",
       "      <th>null_count</th>\n",
       "      <th>zero_count</th>\n",
       "      <th>min</th>\n",
       "      <th>max</th>\n",
       "    </tr>\n",
       "  </thead>\n",
       "  <tbody>\n",
       "    <tr>\n",
       "      <th>0</th>\n",
       "      <td>Lot Frontage</td>\n",
       "      <td>Continuous</td>\n",
       "      <td>490</td>\n",
       "      <td>0</td>\n",
       "      <td>21.0</td>\n",
       "      <td>313.0</td>\n",
       "    </tr>\n",
       "    <tr>\n",
       "      <th>4</th>\n",
       "      <td>Mas Vnr Area</td>\n",
       "      <td>Continuous</td>\n",
       "      <td>23</td>\n",
       "      <td>1748</td>\n",
       "      <td>0.0</td>\n",
       "      <td>1600.0</td>\n",
       "    </tr>\n",
       "    <tr>\n",
       "      <th>5</th>\n",
       "      <td>BsmtFin SF 1</td>\n",
       "      <td>Continuous</td>\n",
       "      <td>1</td>\n",
       "      <td>930</td>\n",
       "      <td>0.0</td>\n",
       "      <td>5644.0</td>\n",
       "    </tr>\n",
       "    <tr>\n",
       "      <th>6</th>\n",
       "      <td>BsmtFin SF 2</td>\n",
       "      <td>Continuous</td>\n",
       "      <td>1</td>\n",
       "      <td>2578</td>\n",
       "      <td>0.0</td>\n",
       "      <td>1526.0</td>\n",
       "    </tr>\n",
       "    <tr>\n",
       "      <th>7</th>\n",
       "      <td>Bsmt Unf SF</td>\n",
       "      <td>Continuous</td>\n",
       "      <td>1</td>\n",
       "      <td>244</td>\n",
       "      <td>0.0</td>\n",
       "      <td>2336.0</td>\n",
       "    </tr>\n",
       "    <tr>\n",
       "      <th>8</th>\n",
       "      <td>Total Bsmt SF</td>\n",
       "      <td>Continuous</td>\n",
       "      <td>1</td>\n",
       "      <td>79</td>\n",
       "      <td>0.0</td>\n",
       "      <td>6110.0</td>\n",
       "    </tr>\n",
       "    <tr>\n",
       "      <th>13</th>\n",
       "      <td>Bsmt Full Bath</td>\n",
       "      <td>Discrete</td>\n",
       "      <td>2</td>\n",
       "      <td>1707</td>\n",
       "      <td>0.0</td>\n",
       "      <td>3.0</td>\n",
       "    </tr>\n",
       "    <tr>\n",
       "      <th>14</th>\n",
       "      <td>Bsmt Half Bath</td>\n",
       "      <td>Discrete</td>\n",
       "      <td>2</td>\n",
       "      <td>2753</td>\n",
       "      <td>0.0</td>\n",
       "      <td>2.0</td>\n",
       "    </tr>\n",
       "    <tr>\n",
       "      <th>21</th>\n",
       "      <td>Garage Yr Blt</td>\n",
       "      <td>Discrete</td>\n",
       "      <td>159</td>\n",
       "      <td>0</td>\n",
       "      <td>1895.0</td>\n",
       "      <td>2207.0</td>\n",
       "    </tr>\n",
       "    <tr>\n",
       "      <th>22</th>\n",
       "      <td>Garage Cars</td>\n",
       "      <td>Discrete</td>\n",
       "      <td>1</td>\n",
       "      <td>157</td>\n",
       "      <td>0.0</td>\n",
       "      <td>5.0</td>\n",
       "    </tr>\n",
       "    <tr>\n",
       "      <th>23</th>\n",
       "      <td>Garage Area</td>\n",
       "      <td>Continuous</td>\n",
       "      <td>1</td>\n",
       "      <td>157</td>\n",
       "      <td>0.0</td>\n",
       "      <td>1488.0</td>\n",
       "    </tr>\n",
       "  </tbody>\n",
       "</table>\n",
       "</div>"
      ],
      "text/plain": [
       "           feature        kind  null_count  zero_count     min     max\n",
       "0     Lot Frontage  Continuous         490           0    21.0   313.0\n",
       "4     Mas Vnr Area  Continuous          23        1748     0.0  1600.0\n",
       "5     BsmtFin SF 1  Continuous           1         930     0.0  5644.0\n",
       "6     BsmtFin SF 2  Continuous           1        2578     0.0  1526.0\n",
       "7      Bsmt Unf SF  Continuous           1         244     0.0  2336.0\n",
       "8    Total Bsmt SF  Continuous           1          79     0.0  6110.0\n",
       "13  Bsmt Full Bath    Discrete           2        1707     0.0     3.0\n",
       "14  Bsmt Half Bath    Discrete           2        2753     0.0     2.0\n",
       "21   Garage Yr Blt    Discrete         159           0  1895.0  2207.0\n",
       "22     Garage Cars    Discrete           1         157     0.0     5.0\n",
       "23     Garage Area  Continuous           1         157     0.0  1488.0"
      ]
     },
     "execution_count": 137,
     "metadata": {},
     "output_type": "execute_result"
    }
   ],
   "source": [
    "df_qt[(df_qt['null_count'] > 0) | (df_qt['min'] < 0)]"
   ]
  },
  {
   "cell_type": "markdown",
   "metadata": {},
   "source": [
    "#### Variable: `Lot Frontage`"
   ]
  },
  {
   "cell_type": "code",
   "execution_count": 138,
   "metadata": {},
   "outputs": [],
   "source": [
    "name = 'Lot Frontage'"
   ]
  },
  {
   "cell_type": "markdown",
   "metadata": {},
   "source": [
    "In this case, null values mean that that particular piece of information is missing. We cannot afford to drop 420 rows out of 2430 (17 %), so we need to impute the null values. **We decide to replace null values by the median value in the neighborhood where the property is located if the median exists and by the median value overall otherwise.**"
   ]
  },
  {
   "cell_type": "code",
   "execution_count": 139,
   "metadata": {},
   "outputs": [],
   "source": [
    "# Correct the data set:\n",
    "df_all = utils.fillna_with_median_by(df_all, name, by='Neighborhood')\n",
    "\n",
    "# Check:\n",
    "assert utils.count_null(df_all[name]) == 0"
   ]
  },
  {
   "cell_type": "markdown",
   "metadata": {},
   "source": [
    "#### Variable: `Mas Vnr` (type and area)"
   ]
  },
  {
   "cell_type": "markdown",
   "metadata": {},
   "source": [
    "We look at the variables that describe the masonry veneer together. We take a closer look at the different cases."
   ]
  },
  {
   "cell_type": "code",
   "execution_count": 140,
   "metadata": {},
   "outputs": [
    {
     "data": {
      "text/html": [
       "<div>\n",
       "<style scoped>\n",
       "    .dataframe tbody tr th:only-of-type {\n",
       "        vertical-align: middle;\n",
       "    }\n",
       "\n",
       "    .dataframe tbody tr th {\n",
       "        vertical-align: top;\n",
       "    }\n",
       "\n",
       "    .dataframe thead th {\n",
       "        text-align: right;\n",
       "    }\n",
       "</style>\n",
       "<table border=\"1\" class=\"dataframe\">\n",
       "  <thead>\n",
       "    <tr style=\"text-align: right;\">\n",
       "      <th></th>\n",
       "      <th>Mas Vnr Type</th>\n",
       "      <th>Mas Vnr Area</th>\n",
       "      <th>Count</th>\n",
       "    </tr>\n",
       "  </thead>\n",
       "  <tbody>\n",
       "    <tr>\n",
       "      <th>0</th>\n",
       "      <td>none</td>\n",
       "      <td>not-zero</td>\n",
       "      <td>7</td>\n",
       "    </tr>\n",
       "    <tr>\n",
       "      <th>1</th>\n",
       "      <td>none</td>\n",
       "      <td>zero</td>\n",
       "      <td>1745</td>\n",
       "    </tr>\n",
       "    <tr>\n",
       "      <th>2</th>\n",
       "      <td>not-none</td>\n",
       "      <td>not-zero</td>\n",
       "      <td>1152</td>\n",
       "    </tr>\n",
       "    <tr>\n",
       "      <th>3</th>\n",
       "      <td>not-none</td>\n",
       "      <td>zero</td>\n",
       "      <td>3</td>\n",
       "    </tr>\n",
       "    <tr>\n",
       "      <th>4</th>\n",
       "      <td>null</td>\n",
       "      <td>null</td>\n",
       "      <td>23</td>\n",
       "    </tr>\n",
       "  </tbody>\n",
       "</table>\n",
       "</div>"
      ],
      "text/plain": [
       "  Mas Vnr Type Mas Vnr Area  Count\n",
       "0         none     not-zero      7\n",
       "1         none         zero   1745\n",
       "2     not-none     not-zero   1152\n",
       "3     not-none         zero      3\n",
       "4         null         null     23"
      ]
     },
     "execution_count": 140,
     "metadata": {},
     "output_type": "execute_result"
    }
   ],
   "source": [
    "names = ['Mas Vnr Type', 'Mas Vnr Area']\n",
    "df_category, df_case = utils.categorize(df_all, [\n",
    "    ('Mas Vnr Type', 'none', 'not-none', lambda series: series.isin(['None'])),\n",
    "    ('Mas Vnr Area', 'zero', 'not-zero', lambda series: series == 0)\n",
    "])\n",
    "df_case"
   ]
  },
  {
   "cell_type": "markdown",
   "metadata": {},
   "source": [
    "Referring to the cases by their index number, the expected cases are: **case 1** and **case 2**."
   ]
  },
  {
   "cell_type": "code",
   "execution_count": 141,
   "metadata": {},
   "outputs": [
    {
     "data": {
      "text/html": [
       "<div>\n",
       "<style scoped>\n",
       "    .dataframe tbody tr th:only-of-type {\n",
       "        vertical-align: middle;\n",
       "    }\n",
       "\n",
       "    .dataframe tbody tr th {\n",
       "        vertical-align: top;\n",
       "    }\n",
       "\n",
       "    .dataframe thead th {\n",
       "        text-align: right;\n",
       "    }\n",
       "</style>\n",
       "<table border=\"1\" class=\"dataframe\">\n",
       "  <thead>\n",
       "    <tr style=\"text-align: right;\">\n",
       "      <th></th>\n",
       "      <th>Mas Vnr Type</th>\n",
       "      <th>Mas Vnr Area</th>\n",
       "    </tr>\n",
       "  </thead>\n",
       "  <tbody>\n",
       "    <tr>\n",
       "      <th>631</th>\n",
       "      <td>None</td>\n",
       "      <td>285.0</td>\n",
       "    </tr>\n",
       "    <tr>\n",
       "      <th>1286</th>\n",
       "      <td>None</td>\n",
       "      <td>1.0</td>\n",
       "    </tr>\n",
       "    <tr>\n",
       "      <th>1546</th>\n",
       "      <td>None</td>\n",
       "      <td>344.0</td>\n",
       "    </tr>\n",
       "    <tr>\n",
       "      <th>1737</th>\n",
       "      <td>None</td>\n",
       "      <td>312.0</td>\n",
       "    </tr>\n",
       "    <tr>\n",
       "      <th>1975</th>\n",
       "      <td>None</td>\n",
       "      <td>1.0</td>\n",
       "    </tr>\n",
       "    <tr>\n",
       "      <th>2135</th>\n",
       "      <td>None</td>\n",
       "      <td>288.0</td>\n",
       "    </tr>\n",
       "    <tr>\n",
       "      <th>2256</th>\n",
       "      <td>None</td>\n",
       "      <td>1.0</td>\n",
       "    </tr>\n",
       "  </tbody>\n",
       "</table>\n",
       "</div>"
      ],
      "text/plain": [
       "     Mas Vnr Type  Mas Vnr Area\n",
       "631          None         285.0\n",
       "1286         None           1.0\n",
       "1546         None         344.0\n",
       "1737         None         312.0\n",
       "1975         None           1.0\n",
       "2135         None         288.0\n",
       "2256         None           1.0"
      ]
     },
     "execution_count": 141,
     "metadata": {},
     "output_type": "execute_result"
    }
   ],
   "source": [
    "# Case 0:\n",
    "df_all[utils.mask_for_case(df_category, df_case, 0)][names]"
   ]
  },
  {
   "cell_type": "code",
   "execution_count": 142,
   "metadata": {},
   "outputs": [
    {
     "data": {
      "text/html": [
       "<div>\n",
       "<style scoped>\n",
       "    .dataframe tbody tr th:only-of-type {\n",
       "        vertical-align: middle;\n",
       "    }\n",
       "\n",
       "    .dataframe tbody tr th {\n",
       "        vertical-align: top;\n",
       "    }\n",
       "\n",
       "    .dataframe thead th {\n",
       "        text-align: right;\n",
       "    }\n",
       "</style>\n",
       "<table border=\"1\" class=\"dataframe\">\n",
       "  <thead>\n",
       "    <tr style=\"text-align: right;\">\n",
       "      <th></th>\n",
       "      <th>Mas Vnr Type</th>\n",
       "      <th>Mas Vnr Area</th>\n",
       "    </tr>\n",
       "  </thead>\n",
       "  <tbody>\n",
       "    <tr>\n",
       "      <th>678</th>\n",
       "      <td>Stone</td>\n",
       "      <td>0.0</td>\n",
       "    </tr>\n",
       "    <tr>\n",
       "      <th>2220</th>\n",
       "      <td>BrkFace</td>\n",
       "      <td>0.0</td>\n",
       "    </tr>\n",
       "    <tr>\n",
       "      <th>2227</th>\n",
       "      <td>BrkFace</td>\n",
       "      <td>0.0</td>\n",
       "    </tr>\n",
       "  </tbody>\n",
       "</table>\n",
       "</div>"
      ],
      "text/plain": [
       "     Mas Vnr Type  Mas Vnr Area\n",
       "678         Stone           0.0\n",
       "2220      BrkFace           0.0\n",
       "2227      BrkFace           0.0"
      ]
     },
     "execution_count": 142,
     "metadata": {},
     "output_type": "execute_result"
    }
   ],
   "source": [
    "# Case 3:\n",
    "df_all[utils.mask_for_case(df_category, df_case, 3)][names]"
   ]
  },
  {
   "cell_type": "markdown",
   "metadata": {},
   "source": [
    "**Notes:**\n",
    "* **Case 0:** We assume: a) That an area (`Mas Vnr Area`) of 1.0 square feet is a mistake. b) That an area greater than 1.0 square feet is correct and that the type (`Mas Vnr Type`) was left out by mistake. **We decide: a) To set the type to `Unknown` (new value) and the area to 0 if the area is equal to 1.0. b) To set only the type to `Unknown` otherwise.**\n",
    "* **Case 3:** We assume that the type is correct and that the area was left out by mistake. **We decide to set the area to the median in the neighborhood where the property is located if the median exists and to the median overall otherwise.**\n",
    "* **Case 4:** We assume that the type and the area were left out because they did not apply. **We decide to set the type to `None` and the area to 0 (same as case 1).**"
   ]
  },
  {
   "cell_type": "code",
   "execution_count": 143,
   "metadata": {},
   "outputs": [],
   "source": [
    "# Update the definition:\n",
    "values = variables['Mas Vnr Type']['values']\n",
    "values.append('Unknown')  # nominal\n",
    "\n",
    "# Correct the data set:\n",
    "\n",
    "# Case 0:\n",
    "mask_0 = utils.mask_for_case(df_category, df_case, 0)\n",
    "df_all.loc[mask_0 & (df_all['Mas Vnr Area'] == 1.0), ['Mas Vnr Type', 'Mas Vnr Area']] = ('Unknown', 0)\n",
    "df_all.loc[mask_0 & (df_all['Mas Vnr Area'] != 1.0), ['Mas Vnr Type']] = 'Unknown'\n",
    "\n",
    "# Case 3:\n",
    "mask_3 = utils.mask_for_case(df_category, df_case, 3)\n",
    "median_by_neighborhood = utils.get_median_by(df_all, 'Mas Vnr Area', by='Neighborhood')\n",
    "df_all.loc[mask_3, 'Mas Vnr Area'] = df_all.loc[mask_3, 'Neighborhood'].map(median_by_neighborhood)\n",
    "\n",
    "# Case 4:\n",
    "mask_4 = utils.mask_for_case(df_category, df_case, 4)\n",
    "df_all.loc[mask_4, ['Mas Vnr Type', 'Mas Vnr Area']] = ('None', 0)"
   ]
  },
  {
   "cell_type": "markdown",
   "metadata": {},
   "source": [
    "#### Variables: `Bsmt` (height, condition, exposure and total surface)"
   ]
  },
  {
   "cell_type": "markdown",
   "metadata": {},
   "source": [
    "We look at multiple variables that describe the basement together. In order to reduce the number of cases, we look only at a subset at a time (here height, condition, exposure and total surface). We take a closer look at the different cases."
   ]
  },
  {
   "cell_type": "code",
   "execution_count": 144,
   "metadata": {},
   "outputs": [
    {
     "data": {
      "text/html": [
       "<div>\n",
       "<style scoped>\n",
       "    .dataframe tbody tr th:only-of-type {\n",
       "        vertical-align: middle;\n",
       "    }\n",
       "\n",
       "    .dataframe tbody tr th {\n",
       "        vertical-align: top;\n",
       "    }\n",
       "\n",
       "    .dataframe thead th {\n",
       "        text-align: right;\n",
       "    }\n",
       "</style>\n",
       "<table border=\"1\" class=\"dataframe\">\n",
       "  <thead>\n",
       "    <tr style=\"text-align: right;\">\n",
       "      <th></th>\n",
       "      <th>Bsmt Qual</th>\n",
       "      <th>Bsmt Cond</th>\n",
       "      <th>Bsmt Exposure</th>\n",
       "      <th>Total Bsmt SF</th>\n",
       "      <th>Count</th>\n",
       "    </tr>\n",
       "  </thead>\n",
       "  <tbody>\n",
       "    <tr>\n",
       "      <th>0</th>\n",
       "      <td>na</td>\n",
       "      <td>na</td>\n",
       "      <td>na</td>\n",
       "      <td>null</td>\n",
       "      <td>1</td>\n",
       "    </tr>\n",
       "    <tr>\n",
       "      <th>1</th>\n",
       "      <td>na</td>\n",
       "      <td>na</td>\n",
       "      <td>na</td>\n",
       "      <td>zero</td>\n",
       "      <td>79</td>\n",
       "    </tr>\n",
       "    <tr>\n",
       "      <th>2</th>\n",
       "      <td>not-na</td>\n",
       "      <td>not-na</td>\n",
       "      <td>na</td>\n",
       "      <td>not-zero</td>\n",
       "      <td>3</td>\n",
       "    </tr>\n",
       "    <tr>\n",
       "      <th>3</th>\n",
       "      <td>not-na</td>\n",
       "      <td>not-na</td>\n",
       "      <td>not-na</td>\n",
       "      <td>not-zero</td>\n",
       "      <td>2847</td>\n",
       "    </tr>\n",
       "  </tbody>\n",
       "</table>\n",
       "</div>"
      ],
      "text/plain": [
       "  Bsmt Qual Bsmt Cond Bsmt Exposure Total Bsmt SF  Count\n",
       "0        na        na            na          null      1\n",
       "1        na        na            na          zero     79\n",
       "2    not-na    not-na            na      not-zero      3\n",
       "3    not-na    not-na        not-na      not-zero   2847"
      ]
     },
     "execution_count": 144,
     "metadata": {},
     "output_type": "execute_result"
    }
   ],
   "source": [
    "names = ['Bsmt Qual', 'Bsmt Cond', 'Bsmt Exposure', 'Total Bsmt SF']\n",
    "df_category, df_case = utils.categorize(df_all, [\n",
    "    ('Bsmt Qual', 'na', 'not-na', lambda series: series.isin(['NA'])),\n",
    "    ('Bsmt Cond', 'na', 'not-na', lambda series: series.isin(['NA'])),\n",
    "    ('Bsmt Exposure', 'na', 'not-na', lambda series: series.isin(['NA'])),\n",
    "    ('Total Bsmt SF', 'zero', 'not-zero', lambda series: series == 0)\n",
    "])\n",
    "df_case"
   ]
  },
  {
   "cell_type": "markdown",
   "metadata": {},
   "source": [
    "Referring to the cases by their index number, the expected cases are: **case 1** and **case 3**."
   ]
  },
  {
   "cell_type": "code",
   "execution_count": 145,
   "metadata": {},
   "outputs": [
    {
     "data": {
      "text/html": [
       "<div>\n",
       "<style scoped>\n",
       "    .dataframe tbody tr th:only-of-type {\n",
       "        vertical-align: middle;\n",
       "    }\n",
       "\n",
       "    .dataframe tbody tr th {\n",
       "        vertical-align: top;\n",
       "    }\n",
       "\n",
       "    .dataframe thead th {\n",
       "        text-align: right;\n",
       "    }\n",
       "</style>\n",
       "<table border=\"1\" class=\"dataframe\">\n",
       "  <thead>\n",
       "    <tr style=\"text-align: right;\">\n",
       "      <th></th>\n",
       "      <th>Bsmt Qual</th>\n",
       "      <th>Bsmt Cond</th>\n",
       "      <th>Bsmt Exposure</th>\n",
       "      <th>Total Bsmt SF</th>\n",
       "    </tr>\n",
       "  </thead>\n",
       "  <tbody>\n",
       "    <tr>\n",
       "      <th>104</th>\n",
       "      <td>NA</td>\n",
       "      <td>NA</td>\n",
       "      <td>NA</td>\n",
       "      <td>NaN</td>\n",
       "    </tr>\n",
       "  </tbody>\n",
       "</table>\n",
       "</div>"
      ],
      "text/plain": [
       "    Bsmt Qual Bsmt Cond Bsmt Exposure  Total Bsmt SF\n",
       "104        NA        NA            NA            NaN"
      ]
     },
     "execution_count": 145,
     "metadata": {},
     "output_type": "execute_result"
    }
   ],
   "source": [
    "# Case 0:\n",
    "df_all[utils.mask_for_case(df_category, df_case, 0)][names]"
   ]
  },
  {
   "cell_type": "code",
   "execution_count": 146,
   "metadata": {},
   "outputs": [
    {
     "data": {
      "text/html": [
       "<div>\n",
       "<style scoped>\n",
       "    .dataframe tbody tr th:only-of-type {\n",
       "        vertical-align: middle;\n",
       "    }\n",
       "\n",
       "    .dataframe tbody tr th {\n",
       "        vertical-align: top;\n",
       "    }\n",
       "\n",
       "    .dataframe thead th {\n",
       "        text-align: right;\n",
       "    }\n",
       "</style>\n",
       "<table border=\"1\" class=\"dataframe\">\n",
       "  <thead>\n",
       "    <tr style=\"text-align: right;\">\n",
       "      <th></th>\n",
       "      <th>Bsmt Qual</th>\n",
       "      <th>Bsmt Cond</th>\n",
       "      <th>Bsmt Exposure</th>\n",
       "      <th>Total Bsmt SF</th>\n",
       "    </tr>\n",
       "  </thead>\n",
       "  <tbody>\n",
       "    <tr>\n",
       "      <th>875</th>\n",
       "      <td>Gd</td>\n",
       "      <td>TA</td>\n",
       "      <td>NA</td>\n",
       "      <td>1595.0</td>\n",
       "    </tr>\n",
       "    <tr>\n",
       "      <th>1681</th>\n",
       "      <td>Gd</td>\n",
       "      <td>TA</td>\n",
       "      <td>NA</td>\n",
       "      <td>725.0</td>\n",
       "    </tr>\n",
       "    <tr>\n",
       "      <th>1726</th>\n",
       "      <td>Gd</td>\n",
       "      <td>TA</td>\n",
       "      <td>NA</td>\n",
       "      <td>936.0</td>\n",
       "    </tr>\n",
       "  </tbody>\n",
       "</table>\n",
       "</div>"
      ],
      "text/plain": [
       "     Bsmt Qual Bsmt Cond Bsmt Exposure  Total Bsmt SF\n",
       "875         Gd        TA            NA         1595.0\n",
       "1681        Gd        TA            NA          725.0\n",
       "1726        Gd        TA            NA          936.0"
      ]
     },
     "execution_count": 146,
     "metadata": {},
     "output_type": "execute_result"
    }
   ],
   "source": [
    "# Case 2:\n",
    "df_all[utils.mask_for_case(df_category, df_case, 2)][names]"
   ]
  },
  {
   "cell_type": "markdown",
   "metadata": {},
   "source": [
    "**Notes:**\n",
    "* **Case 0:** We assume that the total surface (`Total Bsmt SF`) was incorrectly set to null instead of 0. **We decide to set the total surface to 0.**\n",
    "* **Case 2:** We assume that the exposure (`Bsmt Exposure`) was incorrectly set to `NA` instead of `No`. **We decide to set the exposure to `No`.**"
   ]
  },
  {
   "cell_type": "code",
   "execution_count": 147,
   "metadata": {},
   "outputs": [],
   "source": [
    "# Correct the data set:\n",
    "\n",
    "# Case 0:\n",
    "mask_0 = utils.mask_for_case(df_category, df_case, 0)\n",
    "df_all.loc[mask_0, 'Total Bsmt SF'] = 0\n",
    "\n",
    "mask_2 = utils.mask_for_case(df_category, df_case, 2)\n",
    "df_all.loc[mask_2, 'Bsmt Exposure'] = 'No'"
   ]
  },
  {
   "cell_type": "markdown",
   "metadata": {},
   "source": [
    "#### Variables: `Bsmt` (types and surfaces)"
   ]
  },
  {
   "cell_type": "markdown",
   "metadata": {},
   "source": [
    "We look at multiple variables that describe the basement together. In order to reduce the number of cases, we look only at a subset at a time (here types and surfaces). We take a closer look at the different cases."
   ]
  },
  {
   "cell_type": "code",
   "execution_count": 148,
   "metadata": {},
   "outputs": [
    {
     "data": {
      "text/html": [
       "<div>\n",
       "<style scoped>\n",
       "    .dataframe tbody tr th:only-of-type {\n",
       "        vertical-align: middle;\n",
       "    }\n",
       "\n",
       "    .dataframe tbody tr th {\n",
       "        vertical-align: top;\n",
       "    }\n",
       "\n",
       "    .dataframe thead th {\n",
       "        text-align: right;\n",
       "    }\n",
       "</style>\n",
       "<table border=\"1\" class=\"dataframe\">\n",
       "  <thead>\n",
       "    <tr style=\"text-align: right;\">\n",
       "      <th></th>\n",
       "      <th>Bsmt Qual</th>\n",
       "      <th>BsmtFin Type 1</th>\n",
       "      <th>BsmtFin SF 1</th>\n",
       "      <th>BsmtFin Type 2</th>\n",
       "      <th>BsmtFin SF 2</th>\n",
       "      <th>Bsmt Unf SF</th>\n",
       "      <th>Total Bsmt SF</th>\n",
       "      <th>Count</th>\n",
       "    </tr>\n",
       "  </thead>\n",
       "  <tbody>\n",
       "    <tr>\n",
       "      <th>0</th>\n",
       "      <td>na</td>\n",
       "      <td>na</td>\n",
       "      <td>null</td>\n",
       "      <td>na</td>\n",
       "      <td>null</td>\n",
       "      <td>null</td>\n",
       "      <td>zero</td>\n",
       "      <td>1</td>\n",
       "    </tr>\n",
       "    <tr>\n",
       "      <th>1</th>\n",
       "      <td>na</td>\n",
       "      <td>na</td>\n",
       "      <td>zero</td>\n",
       "      <td>na</td>\n",
       "      <td>zero</td>\n",
       "      <td>zero</td>\n",
       "      <td>zero</td>\n",
       "      <td>79</td>\n",
       "    </tr>\n",
       "    <tr>\n",
       "      <th>2</th>\n",
       "      <td>not-na</td>\n",
       "      <td>not-na</td>\n",
       "      <td>not-zero</td>\n",
       "      <td>na</td>\n",
       "      <td>not-zero</td>\n",
       "      <td>not-zero</td>\n",
       "      <td>not-zero</td>\n",
       "      <td>1</td>\n",
       "    </tr>\n",
       "    <tr>\n",
       "      <th>3</th>\n",
       "      <td>not-na</td>\n",
       "      <td>not-na</td>\n",
       "      <td>not-zero</td>\n",
       "      <td>not-na</td>\n",
       "      <td>not-zero</td>\n",
       "      <td>not-zero</td>\n",
       "      <td>not-zero</td>\n",
       "      <td>269</td>\n",
       "    </tr>\n",
       "    <tr>\n",
       "      <th>4</th>\n",
       "      <td>not-na</td>\n",
       "      <td>not-na</td>\n",
       "      <td>not-zero</td>\n",
       "      <td>not-na</td>\n",
       "      <td>not-zero</td>\n",
       "      <td>zero</td>\n",
       "      <td>not-zero</td>\n",
       "      <td>81</td>\n",
       "    </tr>\n",
       "    <tr>\n",
       "      <th>5</th>\n",
       "      <td>not-na</td>\n",
       "      <td>not-na</td>\n",
       "      <td>not-zero</td>\n",
       "      <td>not-na</td>\n",
       "      <td>zero</td>\n",
       "      <td>not-zero</td>\n",
       "      <td>not-zero</td>\n",
       "      <td>1564</td>\n",
       "    </tr>\n",
       "    <tr>\n",
       "      <th>6</th>\n",
       "      <td>not-na</td>\n",
       "      <td>not-na</td>\n",
       "      <td>not-zero</td>\n",
       "      <td>not-na</td>\n",
       "      <td>zero</td>\n",
       "      <td>zero</td>\n",
       "      <td>not-zero</td>\n",
       "      <td>84</td>\n",
       "    </tr>\n",
       "    <tr>\n",
       "      <th>7</th>\n",
       "      <td>not-na</td>\n",
       "      <td>not-na</td>\n",
       "      <td>zero</td>\n",
       "      <td>not-na</td>\n",
       "      <td>zero</td>\n",
       "      <td>not-zero</td>\n",
       "      <td>not-zero</td>\n",
       "      <td>851</td>\n",
       "    </tr>\n",
       "  </tbody>\n",
       "</table>\n",
       "</div>"
      ],
      "text/plain": [
       "  Bsmt Qual BsmtFin Type 1 BsmtFin SF 1 BsmtFin Type 2 BsmtFin SF 2  \\\n",
       "0        na             na         null             na         null   \n",
       "1        na             na         zero             na         zero   \n",
       "2    not-na         not-na     not-zero             na     not-zero   \n",
       "3    not-na         not-na     not-zero         not-na     not-zero   \n",
       "4    not-na         not-na     not-zero         not-na     not-zero   \n",
       "5    not-na         not-na     not-zero         not-na         zero   \n",
       "6    not-na         not-na     not-zero         not-na         zero   \n",
       "7    not-na         not-na         zero         not-na         zero   \n",
       "\n",
       "  Bsmt Unf SF Total Bsmt SF  Count  \n",
       "0        null          zero      1  \n",
       "1        zero          zero     79  \n",
       "2    not-zero      not-zero      1  \n",
       "3    not-zero      not-zero    269  \n",
       "4        zero      not-zero     81  \n",
       "5    not-zero      not-zero   1564  \n",
       "6        zero      not-zero     84  \n",
       "7    not-zero      not-zero    851  "
      ]
     },
     "execution_count": 148,
     "metadata": {},
     "output_type": "execute_result"
    }
   ],
   "source": [
    "names = ['Bsmt Qual', 'BsmtFin Type 1', 'BsmtFin SF 1', 'BsmtFin Type 2', 'BsmtFin SF 2', 'Bsmt Unf SF', 'Total Bsmt SF']\n",
    "df_category, df_case = utils.categorize(df_all, [\n",
    "    ('Bsmt Qual', 'na', 'not-na', lambda series: series.isin(['NA'])),\n",
    "    ('BsmtFin Type 1', 'na', 'not-na', lambda series: series.isin(['NA'])),\n",
    "    ('BsmtFin SF 1', 'zero', 'not-zero', lambda series: series == 0),\n",
    "    ('BsmtFin Type 2', 'na', 'not-na', lambda series: series.isin(['NA'])),\n",
    "    ('BsmtFin SF 2', 'zero', 'not-zero', lambda series: series == 0),\n",
    "    ('Bsmt Unf SF', 'zero', 'not-zero', lambda series: series == 0),\n",
    "    ('Total Bsmt SF', 'zero', 'not-zero', lambda series: series == 0)\n",
    "])\n",
    "df_case"
   ]
  },
  {
   "cell_type": "markdown",
   "metadata": {},
   "source": [
    "Referring to the cases by their index number, the expected cases are: **case 1**, **case 3** and **case 4**. For case 5, case 6 and case 7, we need to take a closer look, because situations where finition-type-1 (`BsmtFin Type 1`) is `Unf` and surface-1 (`BsmtFin SF 1`) is 0 or finition-type-2 (`BsmtFin Type 2`) is `Unf` and surface-2 (`BsmtFin Type 2`) is 0 are expected."
   ]
  },
  {
   "cell_type": "code",
   "execution_count": 149,
   "metadata": {},
   "outputs": [
    {
     "data": {
      "text/html": [
       "<div>\n",
       "<style scoped>\n",
       "    .dataframe tbody tr th:only-of-type {\n",
       "        vertical-align: middle;\n",
       "    }\n",
       "\n",
       "    .dataframe tbody tr th {\n",
       "        vertical-align: top;\n",
       "    }\n",
       "\n",
       "    .dataframe thead th {\n",
       "        text-align: right;\n",
       "    }\n",
       "</style>\n",
       "<table border=\"1\" class=\"dataframe\">\n",
       "  <thead>\n",
       "    <tr style=\"text-align: right;\">\n",
       "      <th></th>\n",
       "      <th>Bsmt Qual</th>\n",
       "      <th>BsmtFin Type 1</th>\n",
       "      <th>BsmtFin SF 1</th>\n",
       "      <th>BsmtFin Type 2</th>\n",
       "      <th>BsmtFin SF 2</th>\n",
       "      <th>Bsmt Unf SF</th>\n",
       "      <th>Total Bsmt SF</th>\n",
       "    </tr>\n",
       "  </thead>\n",
       "  <tbody>\n",
       "    <tr>\n",
       "      <th>104</th>\n",
       "      <td>NA</td>\n",
       "      <td>NA</td>\n",
       "      <td>NaN</td>\n",
       "      <td>NA</td>\n",
       "      <td>NaN</td>\n",
       "      <td>NaN</td>\n",
       "      <td>0.0</td>\n",
       "    </tr>\n",
       "  </tbody>\n",
       "</table>\n",
       "</div>"
      ],
      "text/plain": [
       "    Bsmt Qual BsmtFin Type 1  BsmtFin SF 1 BsmtFin Type 2  BsmtFin SF 2  \\\n",
       "104        NA             NA           NaN             NA           NaN   \n",
       "\n",
       "     Bsmt Unf SF  Total Bsmt SF  \n",
       "104          NaN            0.0  "
      ]
     },
     "execution_count": 149,
     "metadata": {},
     "output_type": "execute_result"
    }
   ],
   "source": [
    "# Case 0:\n",
    "df_all[utils.mask_for_case(df_category, df_case, 0)][names]"
   ]
  },
  {
   "cell_type": "code",
   "execution_count": 150,
   "metadata": {},
   "outputs": [
    {
     "data": {
      "text/html": [
       "<div>\n",
       "<style scoped>\n",
       "    .dataframe tbody tr th:only-of-type {\n",
       "        vertical-align: middle;\n",
       "    }\n",
       "\n",
       "    .dataframe tbody tr th {\n",
       "        vertical-align: top;\n",
       "    }\n",
       "\n",
       "    .dataframe thead th {\n",
       "        text-align: right;\n",
       "    }\n",
       "</style>\n",
       "<table border=\"1\" class=\"dataframe\">\n",
       "  <thead>\n",
       "    <tr style=\"text-align: right;\">\n",
       "      <th></th>\n",
       "      <th>Bsmt Qual</th>\n",
       "      <th>BsmtFin Type 1</th>\n",
       "      <th>BsmtFin SF 1</th>\n",
       "      <th>BsmtFin Type 2</th>\n",
       "      <th>BsmtFin SF 2</th>\n",
       "      <th>Bsmt Unf SF</th>\n",
       "      <th>Total Bsmt SF</th>\n",
       "    </tr>\n",
       "  </thead>\n",
       "  <tbody>\n",
       "    <tr>\n",
       "      <th>602</th>\n",
       "      <td>Gd</td>\n",
       "      <td>GLQ</td>\n",
       "      <td>1124.0</td>\n",
       "      <td>NA</td>\n",
       "      <td>479.0</td>\n",
       "      <td>1603.0</td>\n",
       "      <td>3206.0</td>\n",
       "    </tr>\n",
       "  </tbody>\n",
       "</table>\n",
       "</div>"
      ],
      "text/plain": [
       "    Bsmt Qual BsmtFin Type 1  BsmtFin SF 1 BsmtFin Type 2  BsmtFin SF 2  \\\n",
       "602        Gd            GLQ        1124.0             NA         479.0   \n",
       "\n",
       "     Bsmt Unf SF  Total Bsmt SF  \n",
       "602       1603.0         3206.0  "
      ]
     },
     "execution_count": 150,
     "metadata": {},
     "output_type": "execute_result"
    }
   ],
   "source": [
    "# Case 2:\n",
    "df_all[utils.mask_for_case(df_category, df_case, 2)][names]"
   ]
  },
  {
   "cell_type": "code",
   "execution_count": 151,
   "metadata": {},
   "outputs": [
    {
     "data": {
      "text/html": [
       "<div>\n",
       "<style scoped>\n",
       "    .dataframe tbody tr th:only-of-type {\n",
       "        vertical-align: middle;\n",
       "    }\n",
       "\n",
       "    .dataframe tbody tr th {\n",
       "        vertical-align: top;\n",
       "    }\n",
       "\n",
       "    .dataframe thead th {\n",
       "        text-align: right;\n",
       "    }\n",
       "</style>\n",
       "<table border=\"1\" class=\"dataframe\">\n",
       "  <thead>\n",
       "    <tr style=\"text-align: right;\">\n",
       "      <th></th>\n",
       "      <th>Bsmt Qual</th>\n",
       "      <th>BsmtFin Type 1</th>\n",
       "      <th>BsmtFin SF 1</th>\n",
       "      <th>BsmtFin Type 2</th>\n",
       "      <th>BsmtFin SF 2</th>\n",
       "      <th>Bsmt Unf SF</th>\n",
       "      <th>Total Bsmt SF</th>\n",
       "    </tr>\n",
       "  </thead>\n",
       "  <tbody>\n",
       "    <tr>\n",
       "      <th>1818</th>\n",
       "      <td>Gd</td>\n",
       "      <td>GLQ</td>\n",
       "      <td>1051.0</td>\n",
       "      <td>BLQ</td>\n",
       "      <td>0.0</td>\n",
       "      <td>354.0</td>\n",
       "      <td>1405.0</td>\n",
       "    </tr>\n",
       "  </tbody>\n",
       "</table>\n",
       "</div>"
      ],
      "text/plain": [
       "     Bsmt Qual BsmtFin Type 1  BsmtFin SF 1 BsmtFin Type 2  BsmtFin SF 2  \\\n",
       "1818        Gd            GLQ        1051.0            BLQ           0.0   \n",
       "\n",
       "      Bsmt Unf SF  Total Bsmt SF  \n",
       "1818        354.0         1405.0  "
      ]
     },
     "execution_count": 151,
     "metadata": {},
     "output_type": "execute_result"
    }
   ],
   "source": [
    "# Case 5:\n",
    "df_5 = df_all[utils.mask_for_case(df_category, df_case, 5)]\n",
    "unf_zero_2 = (df_5['BsmtFin Type 2'] == 'Unf') & (df_5['BsmtFin SF 2'] == 0)\n",
    "df_5[~unf_zero_2][names]"
   ]
  },
  {
   "cell_type": "code",
   "execution_count": 152,
   "metadata": {},
   "outputs": [
    {
     "data": {
      "text/html": [
       "<div>\n",
       "<style scoped>\n",
       "    .dataframe tbody tr th:only-of-type {\n",
       "        vertical-align: middle;\n",
       "    }\n",
       "\n",
       "    .dataframe tbody tr th {\n",
       "        vertical-align: top;\n",
       "    }\n",
       "\n",
       "    .dataframe thead th {\n",
       "        text-align: right;\n",
       "    }\n",
       "</style>\n",
       "<table border=\"1\" class=\"dataframe\">\n",
       "  <thead>\n",
       "    <tr style=\"text-align: right;\">\n",
       "      <th></th>\n",
       "      <th>Bsmt Qual</th>\n",
       "      <th>BsmtFin Type 1</th>\n",
       "      <th>BsmtFin SF 1</th>\n",
       "      <th>BsmtFin Type 2</th>\n",
       "      <th>BsmtFin SF 2</th>\n",
       "      <th>Bsmt Unf SF</th>\n",
       "      <th>Total Bsmt SF</th>\n",
       "    </tr>\n",
       "  </thead>\n",
       "  <tbody>\n",
       "  </tbody>\n",
       "</table>\n",
       "</div>"
      ],
      "text/plain": [
       "Empty DataFrame\n",
       "Columns: [Bsmt Qual, BsmtFin Type 1, BsmtFin SF 1, BsmtFin Type 2, BsmtFin SF 2, Bsmt Unf SF, Total Bsmt SF]\n",
       "Index: []"
      ]
     },
     "execution_count": 152,
     "metadata": {},
     "output_type": "execute_result"
    }
   ],
   "source": [
    "# Case 6:\n",
    "df_6 = df_all[utils.mask_for_case(df_category, df_case, 6)]\n",
    "unf_zero_2 = (df_6['BsmtFin Type 2'] == 'Unf') & (df_6['BsmtFin SF 2'] == 0)\n",
    "df_6[~unf_zero_2][names]"
   ]
  },
  {
   "cell_type": "code",
   "execution_count": 153,
   "metadata": {},
   "outputs": [
    {
     "data": {
      "text/html": [
       "<div>\n",
       "<style scoped>\n",
       "    .dataframe tbody tr th:only-of-type {\n",
       "        vertical-align: middle;\n",
       "    }\n",
       "\n",
       "    .dataframe tbody tr th {\n",
       "        vertical-align: top;\n",
       "    }\n",
       "\n",
       "    .dataframe thead th {\n",
       "        text-align: right;\n",
       "    }\n",
       "</style>\n",
       "<table border=\"1\" class=\"dataframe\">\n",
       "  <thead>\n",
       "    <tr style=\"text-align: right;\">\n",
       "      <th></th>\n",
       "      <th>Bsmt Qual</th>\n",
       "      <th>BsmtFin Type 1</th>\n",
       "      <th>BsmtFin SF 1</th>\n",
       "      <th>BsmtFin Type 2</th>\n",
       "      <th>BsmtFin SF 2</th>\n",
       "      <th>Bsmt Unf SF</th>\n",
       "      <th>Total Bsmt SF</th>\n",
       "    </tr>\n",
       "  </thead>\n",
       "  <tbody>\n",
       "  </tbody>\n",
       "</table>\n",
       "</div>"
      ],
      "text/plain": [
       "Empty DataFrame\n",
       "Columns: [Bsmt Qual, BsmtFin Type 1, BsmtFin SF 1, BsmtFin Type 2, BsmtFin SF 2, Bsmt Unf SF, Total Bsmt SF]\n",
       "Index: []"
      ]
     },
     "execution_count": 153,
     "metadata": {},
     "output_type": "execute_result"
    }
   ],
   "source": [
    "# Case 7:\n",
    "df_7 = df_all[utils.mask_for_case(df_category, df_case, 7)]\n",
    "unf_zero_1 = (df_7['BsmtFin Type 1'] == 'Unf') & (df_7['BsmtFin SF 1'] == 0)\n",
    "unf_zero_2 = (df_7['BsmtFin Type 2'] == 'Unf') & (df_7['BsmtFin SF 2'] == 0)\n",
    "df_7[~(unf_zero_1 & unf_zero_2)][names]"
   ]
  },
  {
   "cell_type": "markdown",
   "metadata": {},
   "source": [
    "**Notes:**\n",
    "* **Case 0:** We assume that null surfaces were incorrectly set to null instead of 0. **We decide to set all surfaces to 0.**\n",
    "* **Case 2:** We assume that the finition-type-2 (`BsmtFin Type 2`) was left out by mistake (the surfaces add up properly). We are reluctant to introduce a new value `Unknown` for an ordinal variable (where to insert it?). Since there is only 1 row impacted, we could drop it. **We decide to replace NA values by the mode in the neighborhood where the property is located if the mode exists and by the mode overall otherwise.**\n",
    "* **Case 5:** We assume that the finition-type-2 (`BsmtFin Type 2`) was set by mistake (the surfaces add up properly). **We decide to set finition-type-2 to `Unf`.**\n",
    "* **Case 6:** There is nothing to correct.\n",
    "* **Case 7:** There is nothing to correct."
   ]
  },
  {
   "cell_type": "code",
   "execution_count": 154,
   "metadata": {},
   "outputs": [],
   "source": [
    "# Correct the data set:\n",
    "\n",
    "# Case 0:\n",
    "mask_0 = utils.mask_for_case(df_category, df_case, 0)\n",
    "df_all.loc[mask_0, ['BsmtFin SF 1', 'BsmtFin SF 2', 'Bsmt Unf SF']] = 0\n",
    "\n",
    "# Case 2:\n",
    "mask_2 = utils.mask_for_case(df_category, df_case, 2)\n",
    "mode_by_neighborhood = utils.get_mode_by(df_all, 'BsmtFin Type 2', by='Neighborhood')\n",
    "df_all.loc[mask_2, 'BsmtFin Type 2'] = df_all.loc[mask_2, 'Neighborhood'].map(mode_by_neighborhood)\n",
    "\n",
    "# Case 5:\n",
    "df_5 = df_all[utils.mask_for_case(df_category, df_case, 5)]\n",
    "unf_zero_2 = (df_5['BsmtFin Type 2'] == 'Unf') & (df_5['BsmtFin SF 2'] == 0)\n",
    "df_all.loc[df_5[~unf_zero_2].index, 'BsmtFin Type 2'] = 'Unf'"
   ]
  },
  {
   "cell_type": "markdown",
   "metadata": {},
   "source": [
    "#### Variables: `Bsmt` (baths)"
   ]
  },
  {
   "cell_type": "markdown",
   "metadata": {},
   "source": [
    "We look at multiple variables that describe the basement together. In order to reduce the number of cases, we look only at a subset at a time (here types and surfaces). We take a closer look at the different cases."
   ]
  },
  {
   "cell_type": "code",
   "execution_count": 155,
   "metadata": {},
   "outputs": [
    {
     "data": {
      "text/html": [
       "<div>\n",
       "<style scoped>\n",
       "    .dataframe tbody tr th:only-of-type {\n",
       "        vertical-align: middle;\n",
       "    }\n",
       "\n",
       "    .dataframe tbody tr th {\n",
       "        vertical-align: top;\n",
       "    }\n",
       "\n",
       "    .dataframe thead th {\n",
       "        text-align: right;\n",
       "    }\n",
       "</style>\n",
       "<table border=\"1\" class=\"dataframe\">\n",
       "  <thead>\n",
       "    <tr style=\"text-align: right;\">\n",
       "      <th></th>\n",
       "      <th>Bsmt Qual</th>\n",
       "      <th>Bsmt Full Bath</th>\n",
       "      <th>Bsmt Half Bath</th>\n",
       "      <th>Count</th>\n",
       "    </tr>\n",
       "  </thead>\n",
       "  <tbody>\n",
       "    <tr>\n",
       "      <th>0</th>\n",
       "      <td>na</td>\n",
       "      <td>null</td>\n",
       "      <td>null</td>\n",
       "      <td>2</td>\n",
       "    </tr>\n",
       "    <tr>\n",
       "      <th>1</th>\n",
       "      <td>na</td>\n",
       "      <td>zero</td>\n",
       "      <td>zero</td>\n",
       "      <td>78</td>\n",
       "    </tr>\n",
       "    <tr>\n",
       "      <th>2</th>\n",
       "      <td>not-na</td>\n",
       "      <td>not-zero</td>\n",
       "      <td>not-zero</td>\n",
       "      <td>20</td>\n",
       "    </tr>\n",
       "    <tr>\n",
       "      <th>3</th>\n",
       "      <td>not-na</td>\n",
       "      <td>not-zero</td>\n",
       "      <td>zero</td>\n",
       "      <td>1201</td>\n",
       "    </tr>\n",
       "    <tr>\n",
       "      <th>4</th>\n",
       "      <td>not-na</td>\n",
       "      <td>zero</td>\n",
       "      <td>not-zero</td>\n",
       "      <td>155</td>\n",
       "    </tr>\n",
       "    <tr>\n",
       "      <th>5</th>\n",
       "      <td>not-na</td>\n",
       "      <td>zero</td>\n",
       "      <td>zero</td>\n",
       "      <td>1474</td>\n",
       "    </tr>\n",
       "  </tbody>\n",
       "</table>\n",
       "</div>"
      ],
      "text/plain": [
       "  Bsmt Qual Bsmt Full Bath Bsmt Half Bath  Count\n",
       "0        na           null           null      2\n",
       "1        na           zero           zero     78\n",
       "2    not-na       not-zero       not-zero     20\n",
       "3    not-na       not-zero           zero   1201\n",
       "4    not-na           zero       not-zero    155\n",
       "5    not-na           zero           zero   1474"
      ]
     },
     "execution_count": 155,
     "metadata": {},
     "output_type": "execute_result"
    }
   ],
   "source": [
    "names = ['Bsmt Qual', 'Bsmt Full Bath', 'Bsmt Half Bath']\n",
    "df_category, df_case = utils.categorize(df_all, [\n",
    "    ('Bsmt Qual', 'na', 'not-na', lambda series: series.isin(['NA'])),\n",
    "    ('Bsmt Full Bath', 'zero', 'not-zero', lambda series: series == 0),\n",
    "    ('Bsmt Half Bath', 'zero', 'not-zero', lambda series: series == 0)\n",
    "])\n",
    "df_case"
   ]
  },
  {
   "cell_type": "markdown",
   "metadata": {},
   "source": [
    "Referring to the cases by their index number, expected cases are: all cases except **case 0**."
   ]
  },
  {
   "cell_type": "markdown",
   "metadata": {},
   "source": [
    "Notes:\n",
    "* **Case 0:** We assume that both bath counts (`Bsmt Full Bath` and `Bsmt Half Bath`) were incorrectly set to null instead of 0. **We decide to set both bath counts to 0.**"
   ]
  },
  {
   "cell_type": "code",
   "execution_count": 156,
   "metadata": {},
   "outputs": [],
   "source": [
    "# Correct the data set:\n",
    "\n",
    "# Case 0:\n",
    "mask_0 = utils.mask_for_case(df_category, df_case, 0)\n",
    "df_all.loc[mask_0, ['Bsmt Full Bath', 'Bsmt Half Bath']] = 0"
   ]
  },
  {
   "cell_type": "markdown",
   "metadata": {},
   "source": [
    "#### `Garage` variables"
   ]
  },
  {
   "cell_type": "markdown",
   "metadata": {},
   "source": [
    "We look at multiple variables that describe the garage together. We take a closer look at the different cases."
   ]
  },
  {
   "cell_type": "code",
   "execution_count": 157,
   "metadata": {},
   "outputs": [
    {
     "data": {
      "text/html": [
       "<div>\n",
       "<style scoped>\n",
       "    .dataframe tbody tr th:only-of-type {\n",
       "        vertical-align: middle;\n",
       "    }\n",
       "\n",
       "    .dataframe tbody tr th {\n",
       "        vertical-align: top;\n",
       "    }\n",
       "\n",
       "    .dataframe thead th {\n",
       "        text-align: right;\n",
       "    }\n",
       "</style>\n",
       "<table border=\"1\" class=\"dataframe\">\n",
       "  <thead>\n",
       "    <tr style=\"text-align: right;\">\n",
       "      <th></th>\n",
       "      <th>Garage Type</th>\n",
       "      <th>Garage Yr Blt</th>\n",
       "      <th>Garage Finish</th>\n",
       "      <th>Garage Cars</th>\n",
       "      <th>Garage Area</th>\n",
       "      <th>Garage Qual</th>\n",
       "      <th>Garage Cond</th>\n",
       "      <th>Count</th>\n",
       "    </tr>\n",
       "  </thead>\n",
       "  <tbody>\n",
       "    <tr>\n",
       "      <th>0</th>\n",
       "      <td>na</td>\n",
       "      <td>null</td>\n",
       "      <td>na</td>\n",
       "      <td>zero</td>\n",
       "      <td>zero</td>\n",
       "      <td>na</td>\n",
       "      <td>na</td>\n",
       "      <td>157</td>\n",
       "    </tr>\n",
       "    <tr>\n",
       "      <th>1</th>\n",
       "      <td>not-na</td>\n",
       "      <td>not-zero</td>\n",
       "      <td>not-na</td>\n",
       "      <td>not-zero</td>\n",
       "      <td>not-zero</td>\n",
       "      <td>not-na</td>\n",
       "      <td>not-na</td>\n",
       "      <td>2771</td>\n",
       "    </tr>\n",
       "    <tr>\n",
       "      <th>2</th>\n",
       "      <td>not-na</td>\n",
       "      <td>null</td>\n",
       "      <td>na</td>\n",
       "      <td>not-zero</td>\n",
       "      <td>not-zero</td>\n",
       "      <td>na</td>\n",
       "      <td>na</td>\n",
       "      <td>1</td>\n",
       "    </tr>\n",
       "    <tr>\n",
       "      <th>3</th>\n",
       "      <td>not-na</td>\n",
       "      <td>null</td>\n",
       "      <td>na</td>\n",
       "      <td>null</td>\n",
       "      <td>null</td>\n",
       "      <td>na</td>\n",
       "      <td>na</td>\n",
       "      <td>1</td>\n",
       "    </tr>\n",
       "  </tbody>\n",
       "</table>\n",
       "</div>"
      ],
      "text/plain": [
       "  Garage Type Garage Yr Blt Garage Finish Garage Cars Garage Area Garage Qual  \\\n",
       "0          na          null            na        zero        zero          na   \n",
       "1      not-na      not-zero        not-na    not-zero    not-zero      not-na   \n",
       "2      not-na          null            na    not-zero    not-zero          na   \n",
       "3      not-na          null            na        null        null          na   \n",
       "\n",
       "  Garage Cond  Count  \n",
       "0          na    157  \n",
       "1      not-na   2771  \n",
       "2          na      1  \n",
       "3          na      1  "
      ]
     },
     "execution_count": 157,
     "metadata": {},
     "output_type": "execute_result"
    }
   ],
   "source": [
    "names = ['Garage Type', 'Garage Yr Blt', 'Garage Finish', 'Garage Cars', 'Garage Area', 'Garage Qual', 'Garage Cond']\n",
    "df_category, df_case = utils.categorize(df_all, [\n",
    "    ('Garage Type', 'na', 'not-na', lambda series: series.isin(['NA'])),\n",
    "    ('Garage Yr Blt', 'zero', 'not-zero', lambda series: series== 0),\n",
    "    ('Garage Finish', 'na', 'not-na', lambda series: series.isin(['NA'])),\n",
    "    ('Garage Cars', 'zero', 'not-zero', lambda series: series == 0),\n",
    "    ('Garage Area', 'zero', 'not-zero', lambda series: series == 0),\n",
    "    ('Garage Qual', 'na', 'not-na', lambda series: series.isin(['NA'])),\n",
    "    ('Garage Cond', 'na', 'not-na', lambda series: series.isin(['NA'])),\n",
    "])\n",
    "df_case"
   ]
  },
  {
   "cell_type": "markdown",
   "metadata": {},
   "source": [
    "Referring to the cases by their index number, the expected cases are: **case 0** and **case 1**."
   ]
  },
  {
   "cell_type": "code",
   "execution_count": 158,
   "metadata": {},
   "outputs": [
    {
     "data": {
      "text/html": [
       "<div>\n",
       "<style scoped>\n",
       "    .dataframe tbody tr th:only-of-type {\n",
       "        vertical-align: middle;\n",
       "    }\n",
       "\n",
       "    .dataframe tbody tr th {\n",
       "        vertical-align: top;\n",
       "    }\n",
       "\n",
       "    .dataframe thead th {\n",
       "        text-align: right;\n",
       "    }\n",
       "</style>\n",
       "<table border=\"1\" class=\"dataframe\">\n",
       "  <thead>\n",
       "    <tr style=\"text-align: right;\">\n",
       "      <th></th>\n",
       "      <th>Garage Type</th>\n",
       "      <th>Garage Yr Blt</th>\n",
       "      <th>Garage Finish</th>\n",
       "      <th>Garage Cars</th>\n",
       "      <th>Garage Area</th>\n",
       "      <th>Garage Qual</th>\n",
       "      <th>Garage Cond</th>\n",
       "    </tr>\n",
       "  </thead>\n",
       "  <tbody>\n",
       "    <tr>\n",
       "      <th>1114</th>\n",
       "      <td>Detchd</td>\n",
       "      <td>NaN</td>\n",
       "      <td>NA</td>\n",
       "      <td>1.0</td>\n",
       "      <td>360.0</td>\n",
       "      <td>NA</td>\n",
       "      <td>NA</td>\n",
       "    </tr>\n",
       "  </tbody>\n",
       "</table>\n",
       "</div>"
      ],
      "text/plain": [
       "     Garage Type  Garage Yr Blt Garage Finish  Garage Cars  Garage Area  \\\n",
       "1114      Detchd            NaN            NA          1.0        360.0   \n",
       "\n",
       "     Garage Qual Garage Cond  \n",
       "1114          NA          NA  "
      ]
     },
     "execution_count": 158,
     "metadata": {},
     "output_type": "execute_result"
    }
   ],
   "source": [
    "# Case 2:\n",
    "df_all[utils.mask_for_case(df_category, df_case, 2)][names]"
   ]
  },
  {
   "cell_type": "code",
   "execution_count": 159,
   "metadata": {},
   "outputs": [
    {
     "data": {
      "text/html": [
       "<div>\n",
       "<style scoped>\n",
       "    .dataframe tbody tr th:only-of-type {\n",
       "        vertical-align: middle;\n",
       "    }\n",
       "\n",
       "    .dataframe tbody tr th {\n",
       "        vertical-align: top;\n",
       "    }\n",
       "\n",
       "    .dataframe thead th {\n",
       "        text-align: right;\n",
       "    }\n",
       "</style>\n",
       "<table border=\"1\" class=\"dataframe\">\n",
       "  <thead>\n",
       "    <tr style=\"text-align: right;\">\n",
       "      <th></th>\n",
       "      <th>Garage Type</th>\n",
       "      <th>Garage Yr Blt</th>\n",
       "      <th>Garage Finish</th>\n",
       "      <th>Garage Cars</th>\n",
       "      <th>Garage Area</th>\n",
       "      <th>Garage Qual</th>\n",
       "      <th>Garage Cond</th>\n",
       "    </tr>\n",
       "  </thead>\n",
       "  <tbody>\n",
       "    <tr>\n",
       "      <th>1565</th>\n",
       "      <td>Detchd</td>\n",
       "      <td>NaN</td>\n",
       "      <td>NA</td>\n",
       "      <td>NaN</td>\n",
       "      <td>NaN</td>\n",
       "      <td>NA</td>\n",
       "      <td>NA</td>\n",
       "    </tr>\n",
       "  </tbody>\n",
       "</table>\n",
       "</div>"
      ],
      "text/plain": [
       "     Garage Type  Garage Yr Blt Garage Finish  Garage Cars  Garage Area  \\\n",
       "1565      Detchd            NaN            NA          NaN          NaN   \n",
       "\n",
       "     Garage Qual Garage Cond  \n",
       "1565          NA          NA  "
      ]
     },
     "execution_count": 159,
     "metadata": {},
     "output_type": "execute_result"
    }
   ],
   "source": [
    "# Case 3:\n",
    "df_all[utils.mask_for_case(df_category, df_case, 3)][names]"
   ]
  },
  {
   "cell_type": "markdown",
   "metadata": {},
   "source": [
    "**Notes:**\n",
    "* **Case 2:** We assume that the garage-year-built (`Garage Yr Blt`), the garage-finish (`Garage Finish`), garage-quality (`Garage Qual`) and garage-condition (`Garage Cond`) were left out by mistake. We are reluctant to introduce a new value `Unknown` for ordinal variables (where to insert it?). Since there is only 1 row impacted, we could drop it. **We decide to set the garage-year-built to the (house) year-built (`Year Built`) and to replace NA values by the mode in the neighborhood where the property is located if the mode exists and by the mode overall otherwise.**\n",
    "* **Case 3:** We assume that there is no garage and that the garage-type (`Garage Type`) was set by mistake. **We decide to set the garage-type to `NA`.**"
   ]
  },
  {
   "cell_type": "code",
   "execution_count": 160,
   "metadata": {},
   "outputs": [],
   "source": [
    "# Correct the data set:\n",
    "\n",
    "# Case 2:\n",
    "mask_2 = utils.mask_for_case(df_category, df_case, 2)\n",
    "df_all.loc[mask_2, 'Garage Yr Blt'] = df_all.loc[mask_2, 'Year Built']\n",
    "# Garage-finish:\n",
    "mode_by = utils.get_mode_by(df_all, 'Garage Finish', by='Neighborhood')\n",
    "df_all.loc[mask_2, 'Garage Finish'] = df_all.loc[mask_2, 'Neighborhood'].map(mode_by)\n",
    "# Garage-quality:\n",
    "mode_by = utils.get_mode_by(df_all, 'Garage Qual', by='Neighborhood')\n",
    "df_all.loc[mask_2, 'Garage Qual'] = df_all.loc[mask_2, 'Neighborhood'].map(mode_by)\n",
    "# Garage-condition:\n",
    "mode_by = utils.get_mode_by(df_all, 'Garage Cond', by='Neighborhood')\n",
    "df_all.loc[mask_2, 'Garage Cond'] = df_all.loc[mask_2, 'Neighborhood'].map(mode_by)\n",
    "\n",
    "# Case 3:\n",
    "mask_3 = utils.mask_for_case(df_category, df_case, 3)\n",
    "df_all.loc[mask_3, 'Garage Type'] = 'NA'"
   ]
  },
  {
   "cell_type": "markdown",
   "metadata": {},
   "source": [
    "**Note:** We are left with one issue: the garage-year-built is set to null when there is no garage. In this case, null is actually appropriate but not allowed with multiple linear regressions, so we need to impute null values. **Since all features will be standardized later on, we decide to replace null values by the overall mean value.** (This should be equivalent to replacing null values by 0 after standardization.)"
   ]
  },
  {
   "cell_type": "code",
   "execution_count": 161,
   "metadata": {},
   "outputs": [],
   "source": [
    "# Update the data set:\n",
    "with warnings.catch_warnings():\n",
    "    # RuntimeWarning: Mean of empty slice\n",
    "    warnings.filterwarnings('ignore', category=RuntimeWarning)\n",
    "    mean_overall = df_all['Garage Yr Blt'].mean(skipna=True)\n",
    "assert not np.isnan(mean_overall)\n",
    "df_all['Garage Yr Blt'] = df_all['Garage Yr Blt'].fillna(mean_overall)"
   ]
  },
  {
   "cell_type": "markdown",
   "metadata": {},
   "source": [
    "Due to time constraints, we put an end to step 1 here."
   ]
  },
  {
   "cell_type": "markdown",
   "metadata": {},
   "source": [
    "### Step 2 - Correct inconsistencies<a name=\"stage-1-step-2\"></a> ([top](#top))\n",
    "---"
   ]
  },
  {
   "cell_type": "markdown",
   "metadata": {},
   "source": [
    "We start by converting all qualitative variables to strings (these were automatically recognized as integers by Pandas uppon reading the CSV file):"
   ]
  },
  {
   "cell_type": "code",
   "execution_count": 162,
   "metadata": {},
   "outputs": [
    {
     "data": {
      "text/plain": [
       "['MS SubClass', 'Overall Qual', 'Overall Cond']"
      ]
     },
     "execution_count": 162,
     "metadata": {},
     "output_type": "execute_result"
    }
   ],
   "source": [
    "[name for name, attrs in variables.items()\n",
    " if utils.is_qualitative(attrs) and not pd.api.types.is_object_dtype(df_all.dtypes[name])]"
   ]
  },
  {
   "cell_type": "code",
   "execution_count": 163,
   "metadata": {},
   "outputs": [],
   "source": [
    "df_all['MS SubClass'] = df_all['MS SubClass'].map(lambda n: f'{n:0>3}')\n",
    "df_all['Overall Qual'] = df_all['Overall Qual'].map(str)\n",
    "df_all['Overall Cond'] = df_all['Overall Cond'].map(str)"
   ]
  },
  {
   "cell_type": "markdown",
   "metadata": {},
   "source": [
    "We use the definitions to convert all qualitative variables to `Categorical` Pandas variables. Note that we have preserved the order given in the documentation, which is always from best to worst.)"
   ]
  },
  {
   "cell_type": "code",
   "execution_count": 164,
   "metadata": {},
   "outputs": [],
   "source": [
    "for name, attrs in variables.items():\n",
    "    if not utils.is_qualitative(attrs):\n",
    "        continue\n",
    "    categories = attrs['values']\n",
    "    ordered = (attrs['kind'] == 'Ordinal')\n",
    "    df_all[name] = pd.Categorical(df_all[name], categories=categories, ordered=ordered)"
   ]
  },
  {
   "cell_type": "code",
   "execution_count": 165,
   "metadata": {},
   "outputs": [
    {
     "name": "stdout",
     "output_type": "stream",
     "text": [
      "<class 'pandas.core.frame.DataFrame'>\n",
      "RangeIndex: 2930 entries, 0 to 2929\n",
      "Data columns (total 81 columns):\n",
      "Order              2930 non-null int64\n",
      "PID                2930 non-null int64\n",
      "MS SubClass        2930 non-null category\n",
      "MS Zoning          2930 non-null category\n",
      "Lot Frontage       2930 non-null float64\n",
      "Lot Area           2930 non-null int64\n",
      "Street             2930 non-null category\n",
      "Alley              2930 non-null category\n",
      "Lot Shape          2930 non-null category\n",
      "Land Contour       2930 non-null category\n",
      "Utilities          2930 non-null category\n",
      "Lot Config         2930 non-null category\n",
      "Land Slope         2930 non-null category\n",
      "Neighborhood       2930 non-null category\n",
      "Condition 1        2930 non-null category\n",
      "Condition 2        2930 non-null category\n",
      "Bldg Type          2930 non-null category\n",
      "House Style        2930 non-null category\n",
      "Overall Qual       2930 non-null category\n",
      "Overall Cond       2930 non-null category\n",
      "Year Built         2930 non-null int64\n",
      "Year Remod/Add     2930 non-null int64\n",
      "Roof Style         2930 non-null category\n",
      "Roof Matl          2930 non-null category\n",
      "Exterior 1st       2930 non-null category\n",
      "Exterior 2nd       2930 non-null category\n",
      "Mas Vnr Type       2930 non-null category\n",
      "Mas Vnr Area       2930 non-null float64\n",
      "Exter Qual         2930 non-null category\n",
      "Exter Cond         2930 non-null category\n",
      "Foundation         2930 non-null category\n",
      "Bsmt Qual          2930 non-null category\n",
      "Bsmt Cond          2930 non-null category\n",
      "Bsmt Exposure      2930 non-null category\n",
      "BsmtFin Type 1     2930 non-null category\n",
      "BsmtFin SF 1       2930 non-null float64\n",
      "BsmtFin Type 2     2930 non-null category\n",
      "BsmtFin SF 2       2930 non-null float64\n",
      "Bsmt Unf SF        2930 non-null float64\n",
      "Total Bsmt SF      2930 non-null float64\n",
      "Heating            2930 non-null category\n",
      "Heating QC         2930 non-null category\n",
      "Central Air        2930 non-null category\n",
      "Electrical         2930 non-null category\n",
      "1st Flr SF         2930 non-null int64\n",
      "2nd Flr SF         2930 non-null int64\n",
      "Low Qual Fin SF    2930 non-null int64\n",
      "Gr Liv Area        2930 non-null int64\n",
      "Bsmt Full Bath     2930 non-null float64\n",
      "Bsmt Half Bath     2930 non-null float64\n",
      "Full Bath          2930 non-null int64\n",
      "Half Bath          2930 non-null int64\n",
      "Bedroom AbvGr      2930 non-null int64\n",
      "Kitchen AbvGr      2930 non-null int64\n",
      "Kitchen Qual       2930 non-null category\n",
      "TotRms AbvGrd      2930 non-null int64\n",
      "Functional         2930 non-null category\n",
      "Fireplaces         2930 non-null int64\n",
      "Fireplace Qu       2930 non-null category\n",
      "Garage Type        2930 non-null category\n",
      "Garage Yr Blt      2930 non-null float64\n",
      "Garage Finish      2930 non-null category\n",
      "Garage Cars        2929 non-null float64\n",
      "Garage Area        2929 non-null float64\n",
      "Garage Qual        2930 non-null category\n",
      "Garage Cond        2930 non-null category\n",
      "Paved Drive        2930 non-null category\n",
      "Wood Deck SF       2930 non-null int64\n",
      "Open Porch SF      2930 non-null int64\n",
      "Enclosed Porch     2930 non-null int64\n",
      "3Ssn Porch         2930 non-null int64\n",
      "Screen Porch       2930 non-null int64\n",
      "Pool Area          2930 non-null int64\n",
      "Pool QC            2930 non-null category\n",
      "Fence              2930 non-null category\n",
      "Misc Feature       2930 non-null category\n",
      "Misc Val           2930 non-null int64\n",
      "Mo Sold            2930 non-null int64\n",
      "Yr Sold            2930 non-null int64\n",
      "Sale Type          2930 non-null category\n",
      "Sale Condition     2930 non-null category\n",
      "dtypes: category(46), float64(11), int64(24)\n",
      "memory usage: 946.6 KB\n"
     ]
    }
   ],
   "source": [
    "df_all.info(verbose=True, null_counts=True)"
   ]
  },
  {
   "cell_type": "markdown",
   "metadata": {},
   "source": [
    "### Step 3 - Handle outliers<a name=\"stage-1-step-3\"></a> ([top](#top))\n",
    "---"
   ]
  },
  {
   "cell_type": "markdown",
   "metadata": {},
   "source": [
    "At this point, we need to split the data set back into labeled & unlabeled data sets since we will only be removing outliers from the former."
   ]
  },
  {
   "cell_type": "code",
   "execution_count": 166,
   "metadata": {},
   "outputs": [],
   "source": [
    "start = 0\n",
    "df_la_clean = df_all.loc[start: start + n_la - 1].copy()\n",
    "df_la_clean['SalePrice'] = df_la['SalePrice'].loc[start: start + n_la - 1]\n",
    "\n",
    "start = n_la\n",
    "df_un_clean = df_all.loc[start: start + n_un - 1]"
   ]
  },
  {
   "cell_type": "markdown",
   "metadata": {},
   "source": [
    "We list continuous and discrete variables:"
   ]
  },
  {
   "cell_type": "code",
   "execution_count": 167,
   "metadata": {},
   "outputs": [],
   "source": [
    "cont = [name for name, attrs in variables.items()\n",
    "        if name != 'SalePrice' and attrs['kind'] == 'Continuous']\n",
    "disc = [name for name, attrs in variables.items()\n",
    "        if name != 'SalePrice' and attrs['kind'] == 'Discrete']"
   ]
  },
  {
   "cell_type": "markdown",
   "metadata": {},
   "source": [
    "For the outliers, we simply follow the minimum advice of the author of this data set:\n",
    "\n",
    ">  I would recommend removing any houses with more than 4000 square feet from the data set (...).\n",
    "\n",
    "**Reference:** Dean De Cock. *Ames, Iowa: Alternative to the Boston Housing Data as an End of Semester Regression Project*. Journal of Statistics Education, 2011."
   ]
  },
  {
   "cell_type": "code",
   "execution_count": 168,
   "metadata": {},
   "outputs": [],
   "source": [
    "masks = [\n",
    "    df_la_clean['Gr Liv Area'] >= 4000\n",
    "]\n",
    "is_outlier = functools.reduce(lambda acc, cur: acc & cur, masks)\n",
    "is_inlier = ~is_outlier"
   ]
  },
  {
   "cell_type": "code",
   "execution_count": 169,
   "metadata": {},
   "outputs": [],
   "source": [
    "def plot_against_sales_price(names: T.Sequence[str], is_outlier: pd.Series, suptitle: str, ncols: int=4):\n",
    "    nrows = math.ceil(len(names) / ncols)\n",
    "    fig = plt.figure(figsize=(ncols * 4, nrows * 3))\n",
    "    grid = plt.GridSpec(nrows, ncols, wspace=0.3, hspace=0.4)\n",
    "    is_inlier = ~is_outlier\n",
    "    for i, name in enumerate(names):\n",
    "        row, col = i // ncols, i % ncols\n",
    "        sub_ax = fig.add_subplot(grid[row, col])\n",
    "        sub_ax.scatter(df_la_clean[name].loc[is_inlier], df_la_clean['SalePrice'].loc[is_inlier], s=5)\n",
    "        sub_ax.scatter(df_la_clean[name].loc[is_outlier], df_la_clean['SalePrice'].loc[is_outlier], s=5, c='red')\n",
    "        sub_ax.set_title(name)\n",
    "    fig.suptitle(suptitle, fontsize=18, y = 0.94)\n",
    "    plt.show()"
   ]
  },
  {
   "cell_type": "code",
   "execution_count": 170,
   "metadata": {},
   "outputs": [
    {
     "data": {
      "image/png": "[encoded data removed]",
      "text/plain": [
       "<Figure size 1152x1080 with 19 Axes>"
      ]
     },
     "metadata": {
      "needs_background": "light"
     },
     "output_type": "display_data"
    }
   ],
   "source": [
    "plot_against_sales_price(cont, is_outlier, 'Continuous variables vs. Sales price')"
   ]
  },
  {
   "cell_type": "code",
   "execution_count": 171,
   "metadata": {},
   "outputs": [
    {
     "data": {
      "image/png": "[encoded data removed]",
      "text/plain": [
       "<Figure size 1152x864 with 14 Axes>"
      ]
     },
     "metadata": {
      "needs_background": "light"
     },
     "output_type": "display_data"
    }
   ],
   "source": [
    "plot_against_sales_price(disc, is_outlier, 'Discrete variables vs. Sales price')"
   ]
  },
  {
   "cell_type": "markdown",
   "metadata": {},
   "source": [
    "The result seems reasonnable."
   ]
  },
  {
   "cell_type": "code",
   "execution_count": 172,
   "metadata": {},
   "outputs": [],
   "source": [
    "# Remove outliers:\n",
    "df_la_clean = df_la_clean[~is_outlier]"
   ]
  },
  {
   "cell_type": "markdown",
   "metadata": {},
   "source": [
    "Due to time constraints, we put an end to step 3 here."
   ]
  },
  {
   "cell_type": "markdown",
   "metadata": {},
   "source": [
    "## Perform feature encoding<a name=\"stage-2\"></a> ([top](#top))\n",
    "---"
   ]
  },
  {
   "cell_type": "code",
   "execution_count": 178,
   "metadata": {},
   "outputs": [],
   "source": [
    "# TODO"
   ]
  },
  {
   "cell_type": "markdown",
   "metadata": {},
   "source": [
    "**`SalePrice`**: Our target variable is `SalePrice`, so we look at it first. We print its descriptive statistics and plot its distribution below. Turning to the Internet, we also found out that there are 2 related measures: [skewness](https://en.wikipedia.org/wiki/Skewness) and [kurtosis](https://en.wikipedia.org/wiki/Kurtosis) (\"tailedness\"), both available out-of-the-box in Pandas. We do not have any backround in statistics but, for comparison, the normal distribution has a skew of 0 and a kurtosis of 3. We also print these below."
   ]
  },
  {
   "cell_type": "code",
   "execution_count": 173,
   "metadata": {},
   "outputs": [],
   "source": [
    "def plot_distribution(series, xlabel):\n",
    "    fig, ax = plt.subplots()\n",
    "    ax.hist(series.dropna(), bins=100, color='cornflowerblue', ec='black', label=None)\n",
    "    ax.axvline(series.mean(), color='red', linestyle='-', label='mean')\n",
    "    ax.axvline(series.median(), color='lime', linestyle='-', label='median')\n",
    "    ax.set_xlabel(xlabel)\n",
    "    ax.set_ylabel('count')\n",
    "    ax.legend()\n",
    "    plt.show()"
   ]
  },
  {
   "cell_type": "code",
   "execution_count": 174,
   "metadata": {},
   "outputs": [
    {
     "data": {
      "text/plain": [
       "count      2430.000000\n",
       "mean     180199.692593\n",
       "std       79607.467171\n",
       "min       12789.000000\n",
       "25%      129000.000000\n",
       "50%      160000.000000\n",
       "75%      213099.750000\n",
       "max      755000.000000\n",
       "Name: SalePrice, dtype: float64"
      ]
     },
     "execution_count": 174,
     "metadata": {},
     "output_type": "execute_result"
    }
   ],
   "source": [
    "series = df_la['SalePrice']\n",
    "series.describe()"
   ]
  },
  {
   "cell_type": "code",
   "execution_count": 175,
   "metadata": {},
   "outputs": [
    {
     "data": {
      "image/png": "[encoded data removed]",
      "text/plain": [
       "<Figure size 432x288 with 1 Axes>"
      ]
     },
     "metadata": {
      "needs_background": "light"
     },
     "output_type": "display_data"
    },
    {
     "name": "stdout",
     "output_type": "stream",
     "text": [
      "skewness: 1.79\n",
      "kurtosis: 5.56\n"
     ]
    }
   ],
   "source": [
    "plot_distribution(series, 'Sales price in USD')\n",
    "print(f'skewness: {series.skew():.2f}')\n",
    "print(f'kurtosis: {series.kurt():.2f}')"
   ]
  },
  {
   "cell_type": "markdown",
   "metadata": {},
   "source": [
    "**Comment:** As we have already seen in the course, the sales price is positively skewed and a log transformation allows to transform its distribution into one that is closer to the normal distribution. "
   ]
  },
  {
   "cell_type": "code",
   "execution_count": 176,
   "metadata": {},
   "outputs": [
    {
     "name": "stdout",
     "output_type": "stream",
     "text": [
      "count    2430.000000\n",
      "mean       12.017742\n",
      "std         0.408125\n",
      "min         9.456341\n",
      "25%        11.767568\n",
      "50%        11.982929\n",
      "75%        12.269516\n",
      "max        13.534473\n",
      "Name: SalePrice, dtype: float64\n"
     ]
    }
   ],
   "source": [
    "mod_series = np.log(series)\n",
    "print(mod_series.describe())"
   ]
  },
  {
   "cell_type": "code",
   "execution_count": 177,
   "metadata": {},
   "outputs": [
    {
     "data": {
      "image/png": "[encoded data removed]",
      "text/plain": [
       "<Figure size 432x288 with 1 Axes>"
      ]
     },
     "metadata": {
      "needs_background": "light"
     },
     "output_type": "display_data"
    },
    {
     "name": "stdout",
     "output_type": "stream",
     "text": [
      "skewness: -0.06\n",
      "kurtosis: 1.74\n"
     ]
    }
   ],
   "source": [
    "plot_distribution(mod_series, 'Natural logarithm of sales price in USD')\n",
    "print(f'skewness: {mod_series.skew():.2f}')\n",
    "print(f'kurtosis: {mod_series.kurt():.2f}')"
   ]
  },
  {
   "cell_type": "markdown",
   "metadata": {},
   "source": [
    "## Perform feature engineering<a name=\"stage-3\"></a> ([top](#top))\n",
    "---"
   ]
  },
  {
   "cell_type": "code",
   "execution_count": 180,
   "metadata": {},
   "outputs": [],
   "source": [
    "# TODO"
   ]
  },
  {
   "cell_type": "markdown",
   "metadata": {},
   "source": [
    "We also keep a table for values that indicate the absence of a feature:\n",
    "    \n",
    "| Variable           | Value    | Meaning            |\n",
    "|--------------------|----------|--------------------|\n",
    "| Alley              | NA       | No alley access    |\n",
    "| Mas Vnr Type       | None     | None               |\n",
    "| Bsmt Qual          | NA       | No basement        |\n",
    "| Bsmt Cond          | NA       | No basement        |\n",
    "| Bsmt Exposure      | NA       | No basement        |\n",
    "| BsmtFin Type 1     | NA       | No basement        |\n",
    "| BsmtFin Type 2     | NA       | No basement        |\n",
    "| Electrical         | Unknown  | Unknown            |\n",
    "| Fireplace Qu       | NA       | No Fireplace       |\n",
    "| Garage Type        | NA       | No garage          |\n",
    "| Garage Finish      | NA       | No garage          |\n",
    "| Garage Qual        | NA       | No garage          |\n",
    "| Garage Cond        | NA       | No garage          |\n",
    "| Pool QC            | NA       | No pool            |\n",
    "| Fence              | NA       | No fence           |\n",
    "| Misc Feature       | NA       | None               |"
   ]
  },
  {
   "cell_type": "code",
   "execution_count": null,
   "metadata": {},
   "outputs": [],
   "source": []
  }
 ],
 "metadata": {
  "kernelspec": {
   "display_name": "Python 3",
   "language": "python",
   "name": "python3"
  },
  "language_info": {
   "codemirror_mode": {
    "name": "ipython",
    "version": 3
   },
   "file_extension": ".py",
   "mimetype": "text/x-python",
   "name": "python",
   "nbconvert_exporter": "python",
   "pygments_lexer": "ipython3",
   "version": "3.6.7"
  }
 },
 "nbformat": 4,
 "nbformat_minor": 2
}
