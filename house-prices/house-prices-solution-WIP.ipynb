{
 "cells": [
  {
   "cell_type": "markdown",
   "metadata": {},
   "source": [
    "# Course 3: Project - Part 2 - House prices"
   ]
  },
  {
   "cell_type": "markdown",
   "metadata": {},
   "source": [
    "<a name=\"top\"></a>\n",
    "This notebook is concerned with Part 2 - House prices.\n",
    "\n",
    "**Contents:**\n",
    "* [Imports](#imports)\n",
    "* [Data cleaning](#stage-1)\n",
    "  * [Step 1 - Find and handle incorrect and missing values](#stage-1-step-1)\n",
    "  * [Step 2 - Correct inconsistencies](#stage-1-step-2)\n",
    "  * [Step 3 - Handle outliers](#stage-1-step-3)"
   ]
  },
  {
   "cell_type": "markdown",
   "metadata": {},
   "source": [
    "## Imports<a name=\"imports\"></a> ([top](#top))\n",
    "---"
   ]
  },
  {
   "cell_type": "code",
   "execution_count": 1,
   "metadata": {},
   "outputs": [],
   "source": [
    "# Standard library:\n",
    "import collections\n",
    "import json\n",
    "import pathlib\n",
    "import typing as T\n",
    "\n",
    "# 3rd party:\n",
    "import matplotlib.pyplot as plt\n",
    "import numpy as np\n",
    "import pandas as pd\n",
    "import seaborn as sns\n",
    "\n",
    "%matplotlib inline"
   ]
  },
  {
   "cell_type": "code",
   "execution_count": 2,
   "metadata": {},
   "outputs": [
    {
     "data": {
      "text/plain": [
       "'0.24.1'"
      ]
     },
     "execution_count": 2,
     "metadata": {},
     "output_type": "execute_result"
    }
   ],
   "source": [
    "pd.__version__"
   ]
  },
  {
   "cell_type": "markdown",
   "metadata": {},
   "source": [
    "## Data cleaning<a name=\"stage-1\"></a> ([top](#top))\n",
    "---"
   ]
  },
  {
   "cell_type": "code",
   "execution_count": 48,
   "metadata": {},
   "outputs": [],
   "source": [
    "df = pd.read_csv(pathlib.Path.cwd() / 'house-prices.csv')"
   ]
  },
  {
   "cell_type": "markdown",
   "metadata": {},
   "source": [
    "We start by taking a look at the data set:"
   ]
  },
  {
   "cell_type": "code",
   "execution_count": 4,
   "metadata": {},
   "outputs": [
    {
     "data": {
      "text/plain": [
       "(2430, 82)"
      ]
     },
     "execution_count": 4,
     "metadata": {},
     "output_type": "execute_result"
    }
   ],
   "source": [
    "df.shape"
   ]
  },
  {
   "cell_type": "code",
   "execution_count": 5,
   "metadata": {},
   "outputs": [
    {
     "data": {
      "text/html": [
       "<div>\n",
       "<style scoped>\n",
       "    .dataframe tbody tr th:only-of-type {\n",
       "        vertical-align: middle;\n",
       "    }\n",
       "\n",
       "    .dataframe tbody tr th {\n",
       "        vertical-align: top;\n",
       "    }\n",
       "\n",
       "    .dataframe thead th {\n",
       "        text-align: right;\n",
       "    }\n",
       "</style>\n",
       "<table border=\"1\" class=\"dataframe\">\n",
       "  <thead>\n",
       "    <tr style=\"text-align: right;\">\n",
       "      <th></th>\n",
       "      <th>Order</th>\n",
       "      <th>PID</th>\n",
       "      <th>MS SubClass</th>\n",
       "      <th>MS Zoning</th>\n",
       "      <th>Lot Frontage</th>\n",
       "      <th>Lot Area</th>\n",
       "      <th>Street</th>\n",
       "      <th>Alley</th>\n",
       "      <th>Lot Shape</th>\n",
       "      <th>Land Contour</th>\n",
       "      <th>Utilities</th>\n",
       "      <th>Lot Config</th>\n",
       "      <th>Land Slope</th>\n",
       "      <th>Neighborhood</th>\n",
       "      <th>Condition 1</th>\n",
       "      <th>Condition 2</th>\n",
       "      <th>Bldg Type</th>\n",
       "      <th>House Style</th>\n",
       "      <th>Overall Qual</th>\n",
       "      <th>Overall Cond</th>\n",
       "      <th>Year Built</th>\n",
       "      <th>Year Remod/Add</th>\n",
       "      <th>Roof Style</th>\n",
       "      <th>Roof Matl</th>\n",
       "      <th>Exterior 1st</th>\n",
       "      <th>Exterior 2nd</th>\n",
       "      <th>Mas Vnr Type</th>\n",
       "      <th>Mas Vnr Area</th>\n",
       "      <th>Exter Qual</th>\n",
       "      <th>Exter Cond</th>\n",
       "      <th>Foundation</th>\n",
       "      <th>Bsmt Qual</th>\n",
       "      <th>Bsmt Cond</th>\n",
       "      <th>Bsmt Exposure</th>\n",
       "      <th>BsmtFin Type 1</th>\n",
       "      <th>BsmtFin SF 1</th>\n",
       "      <th>BsmtFin Type 2</th>\n",
       "      <th>BsmtFin SF 2</th>\n",
       "      <th>Bsmt Unf SF</th>\n",
       "      <th>Total Bsmt SF</th>\n",
       "      <th>Heating</th>\n",
       "      <th>Heating QC</th>\n",
       "      <th>Central Air</th>\n",
       "      <th>Electrical</th>\n",
       "      <th>1st Flr SF</th>\n",
       "      <th>2nd Flr SF</th>\n",
       "      <th>Low Qual Fin SF</th>\n",
       "      <th>Gr Liv Area</th>\n",
       "      <th>Bsmt Full Bath</th>\n",
       "      <th>Bsmt Half Bath</th>\n",
       "      <th>Full Bath</th>\n",
       "      <th>Half Bath</th>\n",
       "      <th>Bedroom AbvGr</th>\n",
       "      <th>Kitchen AbvGr</th>\n",
       "      <th>Kitchen Qual</th>\n",
       "      <th>TotRms AbvGrd</th>\n",
       "      <th>Functional</th>\n",
       "      <th>Fireplaces</th>\n",
       "      <th>Fireplace Qu</th>\n",
       "      <th>Garage Type</th>\n",
       "      <th>Garage Yr Blt</th>\n",
       "      <th>Garage Finish</th>\n",
       "      <th>Garage Cars</th>\n",
       "      <th>Garage Area</th>\n",
       "      <th>Garage Qual</th>\n",
       "      <th>Garage Cond</th>\n",
       "      <th>Paved Drive</th>\n",
       "      <th>Wood Deck SF</th>\n",
       "      <th>Open Porch SF</th>\n",
       "      <th>Enclosed Porch</th>\n",
       "      <th>3Ssn Porch</th>\n",
       "      <th>Screen Porch</th>\n",
       "      <th>Pool Area</th>\n",
       "      <th>Pool QC</th>\n",
       "      <th>Fence</th>\n",
       "      <th>Misc Feature</th>\n",
       "      <th>Misc Val</th>\n",
       "      <th>Mo Sold</th>\n",
       "      <th>Yr Sold</th>\n",
       "      <th>Sale Type</th>\n",
       "      <th>Sale Condition</th>\n",
       "      <th>SalePrice</th>\n",
       "    </tr>\n",
       "  </thead>\n",
       "  <tbody>\n",
       "    <tr>\n",
       "      <th>0</th>\n",
       "      <td>484</td>\n",
       "      <td>528275070</td>\n",
       "      <td>60</td>\n",
       "      <td>RL</td>\n",
       "      <td>NaN</td>\n",
       "      <td>8795</td>\n",
       "      <td>Pave</td>\n",
       "      <td>NaN</td>\n",
       "      <td>IR1</td>\n",
       "      <td>Lvl</td>\n",
       "      <td>AllPub</td>\n",
       "      <td>Inside</td>\n",
       "      <td>Gtl</td>\n",
       "      <td>Gilbert</td>\n",
       "      <td>Norm</td>\n",
       "      <td>Norm</td>\n",
       "      <td>1Fam</td>\n",
       "      <td>2Story</td>\n",
       "      <td>7</td>\n",
       "      <td>5</td>\n",
       "      <td>2000</td>\n",
       "      <td>2000</td>\n",
       "      <td>Gable</td>\n",
       "      <td>CompShg</td>\n",
       "      <td>VinylSd</td>\n",
       "      <td>VinylSd</td>\n",
       "      <td>None</td>\n",
       "      <td>0.0</td>\n",
       "      <td>Gd</td>\n",
       "      <td>TA</td>\n",
       "      <td>PConc</td>\n",
       "      <td>Gd</td>\n",
       "      <td>TA</td>\n",
       "      <td>No</td>\n",
       "      <td>GLQ</td>\n",
       "      <td>300.0</td>\n",
       "      <td>Unf</td>\n",
       "      <td>0.0</td>\n",
       "      <td>652.0</td>\n",
       "      <td>952.0</td>\n",
       "      <td>GasA</td>\n",
       "      <td>Ex</td>\n",
       "      <td>Y</td>\n",
       "      <td>SBrkr</td>\n",
       "      <td>980</td>\n",
       "      <td>1276</td>\n",
       "      <td>0</td>\n",
       "      <td>2256</td>\n",
       "      <td>0.0</td>\n",
       "      <td>0.0</td>\n",
       "      <td>2</td>\n",
       "      <td>1</td>\n",
       "      <td>4</td>\n",
       "      <td>1</td>\n",
       "      <td>Gd</td>\n",
       "      <td>8</td>\n",
       "      <td>Typ</td>\n",
       "      <td>1</td>\n",
       "      <td>TA</td>\n",
       "      <td>BuiltIn</td>\n",
       "      <td>2000.0</td>\n",
       "      <td>Fin</td>\n",
       "      <td>2.0</td>\n",
       "      <td>554.0</td>\n",
       "      <td>TA</td>\n",
       "      <td>TA</td>\n",
       "      <td>Y</td>\n",
       "      <td>224</td>\n",
       "      <td>54</td>\n",
       "      <td>0</td>\n",
       "      <td>0</td>\n",
       "      <td>0</td>\n",
       "      <td>0</td>\n",
       "      <td>NaN</td>\n",
       "      <td>NaN</td>\n",
       "      <td>NaN</td>\n",
       "      <td>0</td>\n",
       "      <td>4</td>\n",
       "      <td>2009</td>\n",
       "      <td>WD</td>\n",
       "      <td>Normal</td>\n",
       "      <td>236000</td>\n",
       "    </tr>\n",
       "    <tr>\n",
       "      <th>1</th>\n",
       "      <td>2586</td>\n",
       "      <td>535305120</td>\n",
       "      <td>20</td>\n",
       "      <td>RL</td>\n",
       "      <td>75.0</td>\n",
       "      <td>10170</td>\n",
       "      <td>Pave</td>\n",
       "      <td>NaN</td>\n",
       "      <td>Reg</td>\n",
       "      <td>Lvl</td>\n",
       "      <td>AllPub</td>\n",
       "      <td>Corner</td>\n",
       "      <td>Gtl</td>\n",
       "      <td>NAmes</td>\n",
       "      <td>Norm</td>\n",
       "      <td>Norm</td>\n",
       "      <td>1Fam</td>\n",
       "      <td>1Story</td>\n",
       "      <td>6</td>\n",
       "      <td>6</td>\n",
       "      <td>1951</td>\n",
       "      <td>1951</td>\n",
       "      <td>Hip</td>\n",
       "      <td>CompShg</td>\n",
       "      <td>Wd Sdng</td>\n",
       "      <td>Wd Sdng</td>\n",
       "      <td>BrkFace</td>\n",
       "      <td>522.0</td>\n",
       "      <td>TA</td>\n",
       "      <td>TA</td>\n",
       "      <td>CBlock</td>\n",
       "      <td>TA</td>\n",
       "      <td>TA</td>\n",
       "      <td>No</td>\n",
       "      <td>Unf</td>\n",
       "      <td>0.0</td>\n",
       "      <td>Unf</td>\n",
       "      <td>0.0</td>\n",
       "      <td>216.0</td>\n",
       "      <td>216.0</td>\n",
       "      <td>GasA</td>\n",
       "      <td>TA</td>\n",
       "      <td>Y</td>\n",
       "      <td>SBrkr</td>\n",
       "      <td>1575</td>\n",
       "      <td>0</td>\n",
       "      <td>0</td>\n",
       "      <td>1575</td>\n",
       "      <td>0.0</td>\n",
       "      <td>0.0</td>\n",
       "      <td>1</td>\n",
       "      <td>1</td>\n",
       "      <td>2</td>\n",
       "      <td>1</td>\n",
       "      <td>Gd</td>\n",
       "      <td>5</td>\n",
       "      <td>Typ</td>\n",
       "      <td>1</td>\n",
       "      <td>Gd</td>\n",
       "      <td>Attchd</td>\n",
       "      <td>1951.0</td>\n",
       "      <td>Unf</td>\n",
       "      <td>2.0</td>\n",
       "      <td>400.0</td>\n",
       "      <td>TA</td>\n",
       "      <td>TA</td>\n",
       "      <td>Y</td>\n",
       "      <td>0</td>\n",
       "      <td>0</td>\n",
       "      <td>0</td>\n",
       "      <td>0</td>\n",
       "      <td>0</td>\n",
       "      <td>0</td>\n",
       "      <td>NaN</td>\n",
       "      <td>NaN</td>\n",
       "      <td>NaN</td>\n",
       "      <td>0</td>\n",
       "      <td>6</td>\n",
       "      <td>2006</td>\n",
       "      <td>WD</td>\n",
       "      <td>Normal</td>\n",
       "      <td>155000</td>\n",
       "    </tr>\n",
       "    <tr>\n",
       "      <th>2</th>\n",
       "      <td>2289</td>\n",
       "      <td>923228250</td>\n",
       "      <td>160</td>\n",
       "      <td>RM</td>\n",
       "      <td>21.0</td>\n",
       "      <td>2001</td>\n",
       "      <td>Pave</td>\n",
       "      <td>NaN</td>\n",
       "      <td>Reg</td>\n",
       "      <td>Lvl</td>\n",
       "      <td>AllPub</td>\n",
       "      <td>Inside</td>\n",
       "      <td>Gtl</td>\n",
       "      <td>MeadowV</td>\n",
       "      <td>Norm</td>\n",
       "      <td>Norm</td>\n",
       "      <td>Twnhs</td>\n",
       "      <td>2Story</td>\n",
       "      <td>4</td>\n",
       "      <td>5</td>\n",
       "      <td>1970</td>\n",
       "      <td>1970</td>\n",
       "      <td>Gable</td>\n",
       "      <td>CompShg</td>\n",
       "      <td>CemntBd</td>\n",
       "      <td>CmentBd</td>\n",
       "      <td>BrkFace</td>\n",
       "      <td>80.0</td>\n",
       "      <td>TA</td>\n",
       "      <td>TA</td>\n",
       "      <td>CBlock</td>\n",
       "      <td>TA</td>\n",
       "      <td>TA</td>\n",
       "      <td>No</td>\n",
       "      <td>Unf</td>\n",
       "      <td>0.0</td>\n",
       "      <td>Unf</td>\n",
       "      <td>0.0</td>\n",
       "      <td>546.0</td>\n",
       "      <td>546.0</td>\n",
       "      <td>GasA</td>\n",
       "      <td>Fa</td>\n",
       "      <td>Y</td>\n",
       "      <td>SBrkr</td>\n",
       "      <td>546</td>\n",
       "      <td>546</td>\n",
       "      <td>0</td>\n",
       "      <td>1092</td>\n",
       "      <td>0.0</td>\n",
       "      <td>0.0</td>\n",
       "      <td>1</td>\n",
       "      <td>1</td>\n",
       "      <td>3</td>\n",
       "      <td>1</td>\n",
       "      <td>TA</td>\n",
       "      <td>6</td>\n",
       "      <td>Typ</td>\n",
       "      <td>0</td>\n",
       "      <td>NaN</td>\n",
       "      <td>Attchd</td>\n",
       "      <td>1970.0</td>\n",
       "      <td>Unf</td>\n",
       "      <td>1.0</td>\n",
       "      <td>286.0</td>\n",
       "      <td>TA</td>\n",
       "      <td>TA</td>\n",
       "      <td>Y</td>\n",
       "      <td>0</td>\n",
       "      <td>0</td>\n",
       "      <td>0</td>\n",
       "      <td>0</td>\n",
       "      <td>0</td>\n",
       "      <td>0</td>\n",
       "      <td>NaN</td>\n",
       "      <td>NaN</td>\n",
       "      <td>NaN</td>\n",
       "      <td>0</td>\n",
       "      <td>1</td>\n",
       "      <td>2007</td>\n",
       "      <td>WD</td>\n",
       "      <td>Normal</td>\n",
       "      <td>75000</td>\n",
       "    </tr>\n",
       "    <tr>\n",
       "      <th>3</th>\n",
       "      <td>142</td>\n",
       "      <td>535152150</td>\n",
       "      <td>20</td>\n",
       "      <td>RL</td>\n",
       "      <td>70.0</td>\n",
       "      <td>10552</td>\n",
       "      <td>Pave</td>\n",
       "      <td>NaN</td>\n",
       "      <td>IR1</td>\n",
       "      <td>Lvl</td>\n",
       "      <td>AllPub</td>\n",
       "      <td>Inside</td>\n",
       "      <td>Gtl</td>\n",
       "      <td>NAmes</td>\n",
       "      <td>Norm</td>\n",
       "      <td>Norm</td>\n",
       "      <td>1Fam</td>\n",
       "      <td>1Story</td>\n",
       "      <td>5</td>\n",
       "      <td>5</td>\n",
       "      <td>1959</td>\n",
       "      <td>1959</td>\n",
       "      <td>Hip</td>\n",
       "      <td>CompShg</td>\n",
       "      <td>BrkFace</td>\n",
       "      <td>BrkFace</td>\n",
       "      <td>None</td>\n",
       "      <td>0.0</td>\n",
       "      <td>TA</td>\n",
       "      <td>TA</td>\n",
       "      <td>CBlock</td>\n",
       "      <td>TA</td>\n",
       "      <td>TA</td>\n",
       "      <td>No</td>\n",
       "      <td>Rec</td>\n",
       "      <td>1018.0</td>\n",
       "      <td>Unf</td>\n",
       "      <td>0.0</td>\n",
       "      <td>380.0</td>\n",
       "      <td>1398.0</td>\n",
       "      <td>GasA</td>\n",
       "      <td>Gd</td>\n",
       "      <td>Y</td>\n",
       "      <td>SBrkr</td>\n",
       "      <td>1700</td>\n",
       "      <td>0</td>\n",
       "      <td>0</td>\n",
       "      <td>1700</td>\n",
       "      <td>0.0</td>\n",
       "      <td>1.0</td>\n",
       "      <td>1</td>\n",
       "      <td>1</td>\n",
       "      <td>4</td>\n",
       "      <td>1</td>\n",
       "      <td>Gd</td>\n",
       "      <td>6</td>\n",
       "      <td>Typ</td>\n",
       "      <td>1</td>\n",
       "      <td>Gd</td>\n",
       "      <td>Attchd</td>\n",
       "      <td>1959.0</td>\n",
       "      <td>RFn</td>\n",
       "      <td>2.0</td>\n",
       "      <td>447.0</td>\n",
       "      <td>TA</td>\n",
       "      <td>TA</td>\n",
       "      <td>Y</td>\n",
       "      <td>0</td>\n",
       "      <td>38</td>\n",
       "      <td>0</td>\n",
       "      <td>0</td>\n",
       "      <td>0</td>\n",
       "      <td>0</td>\n",
       "      <td>NaN</td>\n",
       "      <td>NaN</td>\n",
       "      <td>NaN</td>\n",
       "      <td>0</td>\n",
       "      <td>4</td>\n",
       "      <td>2010</td>\n",
       "      <td>WD</td>\n",
       "      <td>Normal</td>\n",
       "      <td>165500</td>\n",
       "    </tr>\n",
       "    <tr>\n",
       "      <th>4</th>\n",
       "      <td>2042</td>\n",
       "      <td>903475060</td>\n",
       "      <td>190</td>\n",
       "      <td>RM</td>\n",
       "      <td>60.0</td>\n",
       "      <td>10120</td>\n",
       "      <td>Pave</td>\n",
       "      <td>NaN</td>\n",
       "      <td>IR1</td>\n",
       "      <td>Bnk</td>\n",
       "      <td>AllPub</td>\n",
       "      <td>Inside</td>\n",
       "      <td>Gtl</td>\n",
       "      <td>OldTown</td>\n",
       "      <td>Feedr</td>\n",
       "      <td>Norm</td>\n",
       "      <td>2fmCon</td>\n",
       "      <td>2.5Unf</td>\n",
       "      <td>7</td>\n",
       "      <td>4</td>\n",
       "      <td>1910</td>\n",
       "      <td>1950</td>\n",
       "      <td>Hip</td>\n",
       "      <td>CompShg</td>\n",
       "      <td>Wd Sdng</td>\n",
       "      <td>Wd Sdng</td>\n",
       "      <td>None</td>\n",
       "      <td>0.0</td>\n",
       "      <td>Fa</td>\n",
       "      <td>TA</td>\n",
       "      <td>CBlock</td>\n",
       "      <td>TA</td>\n",
       "      <td>TA</td>\n",
       "      <td>No</td>\n",
       "      <td>Unf</td>\n",
       "      <td>0.0</td>\n",
       "      <td>Unf</td>\n",
       "      <td>0.0</td>\n",
       "      <td>925.0</td>\n",
       "      <td>925.0</td>\n",
       "      <td>GasA</td>\n",
       "      <td>TA</td>\n",
       "      <td>N</td>\n",
       "      <td>FuseF</td>\n",
       "      <td>964</td>\n",
       "      <td>925</td>\n",
       "      <td>0</td>\n",
       "      <td>1889</td>\n",
       "      <td>0.0</td>\n",
       "      <td>0.0</td>\n",
       "      <td>1</td>\n",
       "      <td>1</td>\n",
       "      <td>4</td>\n",
       "      <td>2</td>\n",
       "      <td>TA</td>\n",
       "      <td>9</td>\n",
       "      <td>Typ</td>\n",
       "      <td>1</td>\n",
       "      <td>Gd</td>\n",
       "      <td>Detchd</td>\n",
       "      <td>1960.0</td>\n",
       "      <td>Unf</td>\n",
       "      <td>1.0</td>\n",
       "      <td>308.0</td>\n",
       "      <td>TA</td>\n",
       "      <td>TA</td>\n",
       "      <td>N</td>\n",
       "      <td>0</td>\n",
       "      <td>0</td>\n",
       "      <td>264</td>\n",
       "      <td>0</td>\n",
       "      <td>0</td>\n",
       "      <td>0</td>\n",
       "      <td>NaN</td>\n",
       "      <td>MnPrv</td>\n",
       "      <td>NaN</td>\n",
       "      <td>0</td>\n",
       "      <td>1</td>\n",
       "      <td>2007</td>\n",
       "      <td>WD</td>\n",
       "      <td>Normal</td>\n",
       "      <td>122000</td>\n",
       "    </tr>\n",
       "  </tbody>\n",
       "</table>\n",
       "</div>"
      ],
      "text/plain": [
       "   Order        PID  MS SubClass MS Zoning  Lot Frontage  Lot Area Street  \\\n",
       "0    484  528275070           60        RL           NaN      8795   Pave   \n",
       "1   2586  535305120           20        RL          75.0     10170   Pave   \n",
       "2   2289  923228250          160        RM          21.0      2001   Pave   \n",
       "3    142  535152150           20        RL          70.0     10552   Pave   \n",
       "4   2042  903475060          190        RM          60.0     10120   Pave   \n",
       "\n",
       "  Alley Lot Shape Land Contour Utilities Lot Config Land Slope Neighborhood  \\\n",
       "0   NaN       IR1          Lvl    AllPub     Inside        Gtl      Gilbert   \n",
       "1   NaN       Reg          Lvl    AllPub     Corner        Gtl        NAmes   \n",
       "2   NaN       Reg          Lvl    AllPub     Inside        Gtl      MeadowV   \n",
       "3   NaN       IR1          Lvl    AllPub     Inside        Gtl        NAmes   \n",
       "4   NaN       IR1          Bnk    AllPub     Inside        Gtl      OldTown   \n",
       "\n",
       "  Condition 1 Condition 2 Bldg Type House Style  Overall Qual  Overall Cond  \\\n",
       "0        Norm        Norm      1Fam      2Story             7             5   \n",
       "1        Norm        Norm      1Fam      1Story             6             6   \n",
       "2        Norm        Norm     Twnhs      2Story             4             5   \n",
       "3        Norm        Norm      1Fam      1Story             5             5   \n",
       "4       Feedr        Norm    2fmCon      2.5Unf             7             4   \n",
       "\n",
       "   Year Built  Year Remod/Add Roof Style Roof Matl Exterior 1st Exterior 2nd  \\\n",
       "0        2000            2000      Gable   CompShg      VinylSd      VinylSd   \n",
       "1        1951            1951        Hip   CompShg      Wd Sdng      Wd Sdng   \n",
       "2        1970            1970      Gable   CompShg      CemntBd      CmentBd   \n",
       "3        1959            1959        Hip   CompShg      BrkFace      BrkFace   \n",
       "4        1910            1950        Hip   CompShg      Wd Sdng      Wd Sdng   \n",
       "\n",
       "  Mas Vnr Type  Mas Vnr Area Exter Qual Exter Cond Foundation Bsmt Qual  \\\n",
       "0         None           0.0         Gd         TA      PConc        Gd   \n",
       "1      BrkFace         522.0         TA         TA     CBlock        TA   \n",
       "2      BrkFace          80.0         TA         TA     CBlock        TA   \n",
       "3         None           0.0         TA         TA     CBlock        TA   \n",
       "4         None           0.0         Fa         TA     CBlock        TA   \n",
       "\n",
       "  Bsmt Cond Bsmt Exposure BsmtFin Type 1  BsmtFin SF 1 BsmtFin Type 2  \\\n",
       "0        TA            No            GLQ         300.0            Unf   \n",
       "1        TA            No            Unf           0.0            Unf   \n",
       "2        TA            No            Unf           0.0            Unf   \n",
       "3        TA            No            Rec        1018.0            Unf   \n",
       "4        TA            No            Unf           0.0            Unf   \n",
       "\n",
       "   BsmtFin SF 2  Bsmt Unf SF  Total Bsmt SF Heating Heating QC Central Air  \\\n",
       "0           0.0        652.0          952.0    GasA         Ex           Y   \n",
       "1           0.0        216.0          216.0    GasA         TA           Y   \n",
       "2           0.0        546.0          546.0    GasA         Fa           Y   \n",
       "3           0.0        380.0         1398.0    GasA         Gd           Y   \n",
       "4           0.0        925.0          925.0    GasA         TA           N   \n",
       "\n",
       "  Electrical  1st Flr SF  2nd Flr SF  Low Qual Fin SF  Gr Liv Area  \\\n",
       "0      SBrkr         980        1276                0         2256   \n",
       "1      SBrkr        1575           0                0         1575   \n",
       "2      SBrkr         546         546                0         1092   \n",
       "3      SBrkr        1700           0                0         1700   \n",
       "4      FuseF         964         925                0         1889   \n",
       "\n",
       "   Bsmt Full Bath  Bsmt Half Bath  Full Bath  Half Bath  Bedroom AbvGr  \\\n",
       "0             0.0             0.0          2          1              4   \n",
       "1             0.0             0.0          1          1              2   \n",
       "2             0.0             0.0          1          1              3   \n",
       "3             0.0             1.0          1          1              4   \n",
       "4             0.0             0.0          1          1              4   \n",
       "\n",
       "   Kitchen AbvGr Kitchen Qual  TotRms AbvGrd Functional  Fireplaces  \\\n",
       "0              1           Gd              8        Typ           1   \n",
       "1              1           Gd              5        Typ           1   \n",
       "2              1           TA              6        Typ           0   \n",
       "3              1           Gd              6        Typ           1   \n",
       "4              2           TA              9        Typ           1   \n",
       "\n",
       "  Fireplace Qu Garage Type  Garage Yr Blt Garage Finish  Garage Cars  \\\n",
       "0           TA     BuiltIn         2000.0           Fin          2.0   \n",
       "1           Gd      Attchd         1951.0           Unf          2.0   \n",
       "2          NaN      Attchd         1970.0           Unf          1.0   \n",
       "3           Gd      Attchd         1959.0           RFn          2.0   \n",
       "4           Gd      Detchd         1960.0           Unf          1.0   \n",
       "\n",
       "   Garage Area Garage Qual Garage Cond Paved Drive  Wood Deck SF  \\\n",
       "0        554.0          TA          TA           Y           224   \n",
       "1        400.0          TA          TA           Y             0   \n",
       "2        286.0          TA          TA           Y             0   \n",
       "3        447.0          TA          TA           Y             0   \n",
       "4        308.0          TA          TA           N             0   \n",
       "\n",
       "   Open Porch SF  Enclosed Porch  3Ssn Porch  Screen Porch  Pool Area Pool QC  \\\n",
       "0             54               0           0             0          0     NaN   \n",
       "1              0               0           0             0          0     NaN   \n",
       "2              0               0           0             0          0     NaN   \n",
       "3             38               0           0             0          0     NaN   \n",
       "4              0             264           0             0          0     NaN   \n",
       "\n",
       "   Fence Misc Feature  Misc Val  Mo Sold  Yr Sold Sale Type Sale Condition  \\\n",
       "0    NaN          NaN         0        4     2009       WD          Normal   \n",
       "1    NaN          NaN         0        6     2006       WD          Normal   \n",
       "2    NaN          NaN         0        1     2007       WD          Normal   \n",
       "3    NaN          NaN         0        4     2010       WD          Normal   \n",
       "4  MnPrv          NaN         0        1     2007       WD          Normal   \n",
       "\n",
       "   SalePrice  \n",
       "0     236000  \n",
       "1     155000  \n",
       "2      75000  \n",
       "3     165500  \n",
       "4     122000  "
      ]
     },
     "metadata": {},
     "output_type": "display_data"
    }
   ],
   "source": [
    "with pd.option_context('display.max_columns', None):\n",
    "    display(df.head())"
   ]
  },
  {
   "cell_type": "code",
   "execution_count": 6,
   "metadata": {},
   "outputs": [
    {
     "name": "stdout",
     "output_type": "stream",
     "text": [
      "<class 'pandas.core.frame.DataFrame'>\n",
      "RangeIndex: 2430 entries, 0 to 2429\n",
      "Data columns (total 82 columns):\n",
      "Order              2430 non-null int64\n",
      "PID                2430 non-null int64\n",
      "MS SubClass        2430 non-null int64\n",
      "MS Zoning          2430 non-null object\n",
      "Lot Frontage       2010 non-null float64\n",
      "Lot Area           2430 non-null int64\n",
      "Street             2430 non-null object\n",
      "Alley              163 non-null object\n",
      "Lot Shape          2430 non-null object\n",
      "Land Contour       2430 non-null object\n",
      "Utilities          2430 non-null object\n",
      "Lot Config         2430 non-null object\n",
      "Land Slope         2430 non-null object\n",
      "Neighborhood       2430 non-null object\n",
      "Condition 1        2430 non-null object\n",
      "Condition 2        2430 non-null object\n",
      "Bldg Type          2430 non-null object\n",
      "House Style        2430 non-null object\n",
      "Overall Qual       2430 non-null int64\n",
      "Overall Cond       2430 non-null int64\n",
      "Year Built         2430 non-null int64\n",
      "Year Remod/Add     2430 non-null int64\n",
      "Roof Style         2430 non-null object\n",
      "Roof Matl          2430 non-null object\n",
      "Exterior 1st       2430 non-null object\n",
      "Exterior 2nd       2430 non-null object\n",
      "Mas Vnr Type       2410 non-null object\n",
      "Mas Vnr Area       2410 non-null float64\n",
      "Exter Qual         2430 non-null object\n",
      "Exter Cond         2430 non-null object\n",
      "Foundation         2430 non-null object\n",
      "Bsmt Qual          2359 non-null object\n",
      "Bsmt Cond          2359 non-null object\n",
      "Bsmt Exposure      2356 non-null object\n",
      "BsmtFin Type 1     2359 non-null object\n",
      "BsmtFin SF 1       2429 non-null float64\n",
      "BsmtFin Type 2     2358 non-null object\n",
      "BsmtFin SF 2       2429 non-null float64\n",
      "Bsmt Unf SF        2429 non-null float64\n",
      "Total Bsmt SF      2429 non-null float64\n",
      "Heating            2430 non-null object\n",
      "Heating QC         2430 non-null object\n",
      "Central Air        2430 non-null object\n",
      "Electrical         2429 non-null object\n",
      "1st Flr SF         2430 non-null int64\n",
      "2nd Flr SF         2430 non-null int64\n",
      "Low Qual Fin SF    2430 non-null int64\n",
      "Gr Liv Area        2430 non-null int64\n",
      "Bsmt Full Bath     2428 non-null float64\n",
      "Bsmt Half Bath     2428 non-null float64\n",
      "Full Bath          2430 non-null int64\n",
      "Half Bath          2430 non-null int64\n",
      "Bedroom AbvGr      2430 non-null int64\n",
      "Kitchen AbvGr      2430 non-null int64\n",
      "Kitchen Qual       2430 non-null object\n",
      "TotRms AbvGrd      2430 non-null int64\n",
      "Functional         2430 non-null object\n",
      "Fireplaces         2430 non-null int64\n",
      "Fireplace Qu       1244 non-null object\n",
      "Garage Type        2294 non-null object\n",
      "Garage Yr Blt      2292 non-null float64\n",
      "Garage Finish      2292 non-null object\n",
      "Garage Cars        2429 non-null float64\n",
      "Garage Area        2429 non-null float64\n",
      "Garage Qual        2292 non-null object\n",
      "Garage Cond        2292 non-null object\n",
      "Paved Drive        2430 non-null object\n",
      "Wood Deck SF       2430 non-null int64\n",
      "Open Porch SF      2430 non-null int64\n",
      "Enclosed Porch     2430 non-null int64\n",
      "3Ssn Porch         2430 non-null int64\n",
      "Screen Porch       2430 non-null int64\n",
      "Pool Area          2430 non-null int64\n",
      "Pool QC            12 non-null object\n",
      "Fence              489 non-null object\n",
      "Misc Feature       90 non-null object\n",
      "Misc Val           2430 non-null int64\n",
      "Mo Sold            2430 non-null int64\n",
      "Yr Sold            2430 non-null int64\n",
      "Sale Type          2430 non-null object\n",
      "Sale Condition     2430 non-null object\n",
      "SalePrice          2430 non-null int64\n",
      "dtypes: float64(11), int64(28), object(43)\n",
      "memory usage: 1.5+ MB\n"
     ]
    }
   ],
   "source": [
    "df.info(verbose=True, null_counts=True)"
   ]
  },
  {
   "cell_type": "markdown",
   "metadata": {},
   "source": [
    "In order to make it easier to work with all the variables, we have prepared a little JSON document that, for each variable, lists its name and its kind (nominal, ordinal, discrete, continuous). For qualitative variables, it also lists the valid values. (This document was generated by parsing the documentation. The code is in `parse_qualitative_variables.py`.)"
   ]
  },
  {
   "cell_type": "code",
   "execution_count": 7,
   "metadata": {},
   "outputs": [],
   "source": [
    "Attrs = T.Dict[str, T.Any]\n",
    "\n",
    "\n",
    "def load_variables(path: str) -> T.Dict[str, Attrs]:\n",
    "    \n",
    "    def make_pair(definition):\n",
    "        name = definition['name']\n",
    "        attrs = {\n",
    "            'kind': definition['kind']\n",
    "        }\n",
    "        if 'values' in definition:\n",
    "            attrs['values'] = set(definition['values'])\n",
    "        return (name, attrs)\n",
    "    \n",
    "    with open(path, 'r') as f:\n",
    "        definitions = json.load(f)\n",
    "        pairs = [make_pair(definition) for definition in definitions]\n",
    "        return collections.OrderedDict(pairs)       \n",
    "\n",
    "    \n",
    "def is_qualitative(attrs):\n",
    "    return attrs['kind'] in ['Nominal', 'Ordinal']\n",
    "\n",
    "\n",
    "def is_quantitative(attrs):\n",
    "    return attrs['kind'] in ['Discrete', 'Continuous']\n",
    "\n",
    "\n",
    "variables = load_variables('variables.json')"
   ]
  },
  {
   "cell_type": "markdown",
   "metadata": {},
   "source": [
    "We drop `Order` and `PID` and quickly check the counts:"
   ]
  },
  {
   "cell_type": "code",
   "execution_count": 8,
   "metadata": {},
   "outputs": [
    {
     "name": "stdout",
     "output_type": "stream",
     "text": [
      "variables of kind nominal: 23\n",
      "variables of kind ordinal: 22\n",
      "variables of kind discrete: 14\n",
      "variables of kind continuous: 19\n"
     ]
    }
   ],
   "source": [
    "variables.pop('Order')\n",
    "variables.pop('PID')\n",
    "\n",
    "kinds = ['Nominal', 'Ordinal', 'Discrete', 'Continuous']\n",
    "for kind in kinds:\n",
    "    count = sum(1 if attrs['kind'] == kind else 0 for attrs in variables.values())\n",
    "    print(f'variables of kind {kind.lower()}: {count}')"
   ]
  },
  {
   "cell_type": "markdown",
   "metadata": {},
   "source": [
    "### Step 1 - Find and handle incorrect and missing values<a name=\"stage-1-step-1\"></a> ([top](#top))\n",
    "---"
   ]
  },
  {
   "cell_type": "markdown",
   "metadata": {},
   "source": [
    "We are told that the data set contains incorrect and missing values. Our plan is:\n",
    "\n",
    "* **Qualitative variables:** We want to make sure that qualitative variables take only valid values.\n",
    "* **Quantitative variables:** FIXME"
   ]
  },
  {
   "cell_type": "code",
   "execution_count": 9,
   "metadata": {},
   "outputs": [],
   "source": [
    "def count_null(series: pd.Series) -> int:\n",
    "    return series.isna().sum()\n",
    "\n",
    "\n",
    "def count_invalid(series: pd.Series, valid_values: T.Set[str]) -> int:\n",
    "    return (~series.isin(valid_values)).sum()\n",
    "\n",
    "\n",
    "def get_invalid(df: pd.DataFrame,\n",
    "                variables: T.Dict[str, Attrs],\n",
    "                name: str) -> pd.Series:\n",
    "    attrs = variables[name]\n",
    "    values = attrs['values']\n",
    "    invalid = df.loc[~df[name].isin(values), name]\n",
    "    return invalid.unique()\n",
    "\n",
    "\n",
    "def replace_values(df: pd.DataFrame,\n",
    "                   variables: T.Dict[str, Attrs],\n",
    "                   name: str,\n",
    "                   replacements: T.Dict[str, str]) -> pd.DataFrame:\n",
    "    attrs = variables[name]\n",
    "    values = attrs['values']\n",
    "    # We only update invalid values:\n",
    "    invalid = df.loc[~df[name].isin(values), name]\n",
    "    corrected = invalid.map(replacements)\n",
    "    df.loc[corrected.index, name] = corrected\n",
    "    return df"
   ]
  },
  {
   "cell_type": "markdown",
   "metadata": {},
   "source": [
    "We will collect required corrections as we go so that we can apply them to any new set:"
   ]
  },
  {
   "cell_type": "code",
   "execution_count": 10,
   "metadata": {},
   "outputs": [],
   "source": [
    "corrections = []"
   ]
  },
  {
   "cell_type": "markdown",
   "metadata": {},
   "source": [
    "#### Qualitative variables\n",
    "---"
   ]
  },
  {
   "cell_type": "markdown",
   "metadata": {},
   "source": [
    "The 1st thing we noticed when we tried to check qualitative variables is that the names of some variables differ between the data set and the documentation. **We decide to align the definitions to match the data set.**"
   ]
  },
  {
   "cell_type": "code",
   "execution_count": 11,
   "metadata": {},
   "outputs": [],
   "source": [
    "replacements = {\n",
    "    # 'Exterior 1' is 'Exterior 1st' in the data set:\n",
    "    'Exterior 1': 'Exterior 1st',\n",
    "    # 'Exterior 2' is 'Exterior 2nd' in the data set:\n",
    "    'Exterior 2': 'Exterior 2nd',\n",
    "    # 'BsmtFinType 2' is 'BsmtFin Type 2' in the data set:\n",
    "    'BsmtFinType 2': 'BsmtFin Type 2',\n",
    "    # 'HeatingQC' is 'Heating QC' in the data set:\n",
    "    'HeatingQC': 'Heating QC',\n",
    "    # 'KitchenQual' is 'Kitchen Qual' in the data set:\n",
    "    'KitchenQual': 'Kitchen Qual',\n",
    "    # 'FireplaceQu' is 'Fireplace Qu' in the data set:\n",
    "    'FireplaceQu': 'Fireplace Qu'\n",
    "}\n",
    "\n",
    "# We preserve the order:\n",
    "pairs = [(replacements.get(name, name), attrs) for name, attrs in variables.items()]\n",
    "variables = collections.OrderedDict(pairs)"
   ]
  },
  {
   "cell_type": "markdown",
   "metadata": {},
   "source": [
    "The 2nd thing we noticed is that _NA_ in the documentation is represented by `np.nan` in the data set. **We decide to align the data set to match the definitions.**"
   ]
  },
  {
   "cell_type": "code",
   "execution_count": 12,
   "metadata": {},
   "outputs": [],
   "source": [
    "def correct(df, variables):\n",
    "    for name, attrs in variables.items():\n",
    "        if not is_qualitative(attrs):\n",
    "            continue\n",
    "        if 'NA' in attrs['values']:\n",
    "            df[name] = df[name].fillna('NA')\n",
    "    return df\n",
    "\n",
    "\n",
    "# Register:\n",
    "corrections.append(correct)\n",
    "\n",
    "# Apply:\n",
    "df = correct(df, variables)"
   ]
  },
  {
   "cell_type": "markdown",
   "metadata": {},
   "source": [
    "We check qualitative variables and build a data-frame with the number of null values and the number of invalid values:"
   ]
  },
  {
   "cell_type": "code",
   "execution_count": 13,
   "metadata": {},
   "outputs": [],
   "source": [
    "data = []\n",
    "for name, attrs in variables.items():\n",
    "    if not is_qualitative(attrs):\n",
    "        continue\n",
    "    series = df[name]\n",
    "    null_count = count_null(series)\n",
    "    invalid_count = count_invalid(series, attrs['values'])\n",
    "    data.append((name, attrs['kind'], null_count, invalid_count))\n",
    "df_ql = pd.DataFrame(data=data, columns=['feature', 'kind', 'null_count', 'invalid_count'])"
   ]
  },
  {
   "cell_type": "markdown",
   "metadata": {},
   "source": [
    "The qualitative variables that we need to investigate are:"
   ]
  },
  {
   "cell_type": "code",
   "execution_count": 14,
   "metadata": {},
   "outputs": [
    {
     "data": {
      "text/html": [
       "<div>\n",
       "<style scoped>\n",
       "    .dataframe tbody tr th:only-of-type {\n",
       "        vertical-align: middle;\n",
       "    }\n",
       "\n",
       "    .dataframe tbody tr th {\n",
       "        vertical-align: top;\n",
       "    }\n",
       "\n",
       "    .dataframe thead th {\n",
       "        text-align: right;\n",
       "    }\n",
       "</style>\n",
       "<table border=\"1\" class=\"dataframe\">\n",
       "  <thead>\n",
       "    <tr style=\"text-align: right;\">\n",
       "      <th></th>\n",
       "      <th>feature</th>\n",
       "      <th>kind</th>\n",
       "      <th>null_count</th>\n",
       "      <th>invalid_count</th>\n",
       "    </tr>\n",
       "  </thead>\n",
       "  <tbody>\n",
       "    <tr>\n",
       "      <th>1</th>\n",
       "      <td>MS Zoning</td>\n",
       "      <td>Nominal</td>\n",
       "      <td>0</td>\n",
       "      <td>21</td>\n",
       "    </tr>\n",
       "    <tr>\n",
       "      <th>9</th>\n",
       "      <td>Neighborhood</td>\n",
       "      <td>Nominal</td>\n",
       "      <td>0</td>\n",
       "      <td>361</td>\n",
       "    </tr>\n",
       "    <tr>\n",
       "      <th>12</th>\n",
       "      <td>Bldg Type</td>\n",
       "      <td>Nominal</td>\n",
       "      <td>0</td>\n",
       "      <td>230</td>\n",
       "    </tr>\n",
       "    <tr>\n",
       "      <th>19</th>\n",
       "      <td>Exterior 2nd</td>\n",
       "      <td>Nominal</td>\n",
       "      <td>0</td>\n",
       "      <td>181</td>\n",
       "    </tr>\n",
       "    <tr>\n",
       "      <th>20</th>\n",
       "      <td>Mas Vnr Type</td>\n",
       "      <td>Nominal</td>\n",
       "      <td>20</td>\n",
       "      <td>20</td>\n",
       "    </tr>\n",
       "    <tr>\n",
       "      <th>32</th>\n",
       "      <td>Electrical</td>\n",
       "      <td>Ordinal</td>\n",
       "      <td>1</td>\n",
       "      <td>1</td>\n",
       "    </tr>\n",
       "    <tr>\n",
       "      <th>43</th>\n",
       "      <td>Sale Type</td>\n",
       "      <td>Nominal</td>\n",
       "      <td>0</td>\n",
       "      <td>2116</td>\n",
       "    </tr>\n",
       "  </tbody>\n",
       "</table>\n",
       "</div>"
      ],
      "text/plain": [
       "         feature     kind  null_count  invalid_count\n",
       "1      MS Zoning  Nominal           0             21\n",
       "9   Neighborhood  Nominal           0            361\n",
       "12     Bldg Type  Nominal           0            230\n",
       "19  Exterior 2nd  Nominal           0            181\n",
       "20  Mas Vnr Type  Nominal          20             20\n",
       "32    Electrical  Ordinal           1              1\n",
       "43     Sale Type  Nominal           0           2116"
      ]
     },
     "execution_count": 14,
     "metadata": {},
     "output_type": "execute_result"
    }
   ],
   "source": [
    "df_ql[(df_ql['null_count'] > 0) | (df_ql['invalid_count'] > 0)]"
   ]
  },
  {
   "cell_type": "markdown",
   "metadata": {},
   "source": [
    "**`MS Zoning`:**"
   ]
  },
  {
   "cell_type": "markdown",
   "metadata": {},
   "source": [
    "We take a look at the invalid values:"
   ]
  },
  {
   "cell_type": "code",
   "execution_count": 15,
   "metadata": {},
   "outputs": [
    {
     "data": {
      "text/plain": [
       "array(['I (all)', 'C (all)', 'A (agr)'], dtype=object)"
      ]
     },
     "execution_count": 15,
     "metadata": {},
     "output_type": "execute_result"
    }
   ],
   "source": [
    "name = 'MS Zoning'\n",
    "values = variables[name]['values']\n",
    "get_invalid(df, variables, name)"
   ]
  },
  {
   "cell_type": "markdown",
   "metadata": {},
   "source": [
    "We need to map invalid values to valid ones. **We decide to correct the data set.**"
   ]
  },
  {
   "cell_type": "code",
   "execution_count": 16,
   "metadata": {},
   "outputs": [],
   "source": [
    "def correct(df, variables, name=name):\n",
    "    replacements = {'I (all)': 'I', 'C (all)': 'C', 'A (agr)': 'A'}\n",
    "    return replace_values(df, variables, name, replacements)\n",
    "\n",
    "\n",
    "# Register:\n",
    "corrections.append(correct)\n",
    "\n",
    "# Apply & check:\n",
    "df = correct(df, variables)\n",
    "assert count_invalid(df[name], values) == 0"
   ]
  },
  {
   "cell_type": "markdown",
   "metadata": {},
   "source": [
    "**`Neighborhood`:**"
   ]
  },
  {
   "cell_type": "markdown",
   "metadata": {},
   "source": [
    "We take a look at the invalid values:"
   ]
  },
  {
   "cell_type": "code",
   "execution_count": 17,
   "metadata": {},
   "outputs": [
    {
     "data": {
      "text/plain": [
       "array(['NAmes'], dtype=object)"
      ]
     },
     "execution_count": 17,
     "metadata": {},
     "output_type": "execute_result"
    }
   ],
   "source": [
    "name = 'Neighborhood'\n",
    "values = variables[name]['values']\n",
    "get_invalid(df, variables, name)"
   ]
  },
  {
   "cell_type": "markdown",
   "metadata": {},
   "source": [
    "Looking at other values, we see that `Northwest Ames` is capitalized as `NWAmes`. Thus it would make sense for `North Ames` to be capitalized as `NAmes`. **We decide to align the definition to match the data set.**"
   ]
  },
  {
   "cell_type": "code",
   "execution_count": 18,
   "metadata": {},
   "outputs": [],
   "source": [
    "# Align & check:\n",
    "values.remove('Names')\n",
    "values.add('NAmes')\n",
    "assert count_invalid(df[name], values) == 0"
   ]
  },
  {
   "cell_type": "markdown",
   "metadata": {},
   "source": [
    "**`Bldg Type`:**"
   ]
  },
  {
   "cell_type": "markdown",
   "metadata": {},
   "source": [
    "We take a look at the invalid values:"
   ]
  },
  {
   "cell_type": "code",
   "execution_count": 19,
   "metadata": {},
   "outputs": [
    {
     "data": {
      "text/plain": [
       "array(['Twnhs', '2fmCon', 'Duplex'], dtype=object)"
      ]
     },
     "execution_count": 19,
     "metadata": {},
     "output_type": "execute_result"
    }
   ],
   "source": [
    "name = 'Bldg Type'\n",
    "values = variables[name]['values']\n",
    "get_invalid(df, variables, name)"
   ]
  },
  {
   "cell_type": "code",
   "execution_count": 20,
   "metadata": {},
   "outputs": [
    {
     "data": {
      "text/plain": [
       "1Fam      2016\n",
       "TwnhsE     184\n",
       "Twnhs       88\n",
       "Duplex      86\n",
       "2fmCon      56\n",
       "Name: Bldg Type, dtype: int64"
      ]
     },
     "execution_count": 20,
     "metadata": {},
     "output_type": "execute_result"
    }
   ],
   "source": [
    "df[name].value_counts()"
   ]
  },
  {
   "cell_type": "markdown",
   "metadata": {},
   "source": [
    "Regarding `Duplex` (6 characters), this makes more sense than `Duplx`. **We decide to align the definition to match the data set.** Regarding the remaining values, we need to map invalid values to valid ones. Since `TwnhsI` is completely absent from the data set, we assume that `Twnhs` should be mapped to `TwnhsI`. **We decide to correct the data set.**"
   ]
  },
  {
   "cell_type": "code",
   "execution_count": 21,
   "metadata": {},
   "outputs": [],
   "source": [
    "# Align:\n",
    "values.remove('Duplx')\n",
    "values.add('Duplex')\n",
    "\n",
    "\n",
    "def correct(df, variables, name=name):\n",
    "    replacements = {'Twnhs': 'TwnhsI', '2fmCon': '2FmCon'}\n",
    "    return replace_values(df, variables, name, replacements)\n",
    "\n",
    "\n",
    "# Register:\n",
    "corrections.append(correct)\n",
    "\n",
    "# Apply & check:\n",
    "df = correct(df, variables)\n",
    "assert count_invalid(df[name], values) == 0"
   ]
  },
  {
   "cell_type": "markdown",
   "metadata": {},
   "source": [
    "**`Exterior 2nd`:**"
   ]
  },
  {
   "cell_type": "markdown",
   "metadata": {},
   "source": [
    "We take a look at the invalid values:"
   ]
  },
  {
   "cell_type": "code",
   "execution_count": 22,
   "metadata": {},
   "outputs": [
    {
     "data": {
      "text/plain": [
       "array(['CmentBd', 'Wd Shng', 'Brk Cmn'], dtype=object)"
      ]
     },
     "execution_count": 22,
     "metadata": {},
     "output_type": "execute_result"
    }
   ],
   "source": [
    "name = 'Exterior 2nd'\n",
    "values = variables[name]['values']\n",
    "get_invalid(df, variables, name)"
   ]
  },
  {
   "cell_type": "code",
   "execution_count": 23,
   "metadata": {},
   "outputs": [
    {
     "data": {
      "text/plain": [
       "VinylSd    850\n",
       "MetalSd    366\n",
       "HdBoard    342\n",
       "Wd Sdng    327\n",
       "Plywood    228\n",
       "CmentBd     94\n",
       "Wd Shng     67\n",
       "BrkFace     43\n",
       "Stucco      37\n",
       "AsbShng     32\n",
       "Brk Cmn     20\n",
       "ImStucc     12\n",
       "Stone        5\n",
       "AsphShn      4\n",
       "CBlock       2\n",
       "PreCast      1\n",
       "Name: Exterior 2nd, dtype: int64"
      ]
     },
     "execution_count": 23,
     "metadata": {},
     "output_type": "execute_result"
    }
   ],
   "source": [
    "df[name].value_counts()"
   ]
  },
  {
   "cell_type": "markdown",
   "metadata": {},
   "source": [
    "We need to map invalid values to valid ones. Since `WdShing` is completely absent from the data set, we assume that `Wd Shng` should be mapped to `WdShing`. **We decide to correct the data set.**"
   ]
  },
  {
   "cell_type": "code",
   "execution_count": 24,
   "metadata": {},
   "outputs": [],
   "source": [
    "def correct(df, variables, name=name):\n",
    "    replacements = {'CmentBd': 'CemntBd', 'Wd Shng': 'WdShing', 'Brk Cmn': 'BrkComm'}\n",
    "    return replace_values(df, variables, name, replacements)\n",
    "\n",
    "\n",
    "# Register:\n",
    "corrections.append(correct)\n",
    "\n",
    "# Apply & check:\n",
    "df = correct(df, variables)\n",
    "assert count_invalid(df[name], values) == 0"
   ]
  },
  {
   "cell_type": "markdown",
   "metadata": {},
   "source": [
    "**`Mas Vnr Type`:**"
   ]
  },
  {
   "cell_type": "markdown",
   "metadata": {},
   "source": [
    "We take a look at the invalid values:"
   ]
  },
  {
   "cell_type": "code",
   "execution_count": 99,
   "metadata": {},
   "outputs": [
    {
     "data": {
      "text/plain": [
       "array([nan], dtype=object)"
      ]
     },
     "execution_count": 99,
     "metadata": {},
     "output_type": "execute_result"
    }
   ],
   "source": [
    "name = 'Mas Vnr Type'\n",
    "values = variables[name]['values']\n",
    "get_invalid(df, variables, name)"
   ]
  },
  {
   "cell_type": "code",
   "execution_count": 100,
   "metadata": {},
   "outputs": [
    {
     "data": {
      "text/plain": [
       "None       1442\n",
       "BrkFace     736\n",
       "Stone       210\n",
       "BrkCmn       21\n",
       "NaN          20\n",
       "CBlock        1\n",
       "Name: Mas Vnr Type, dtype: int64"
      ]
     },
     "execution_count": 100,
     "metadata": {},
     "output_type": "execute_result"
    }
   ],
   "source": [
    "df[name].value_counts(dropna=False)"
   ]
  },
  {
   "cell_type": "markdown",
   "metadata": {},
   "source": [
    "As this point it would make sense to look at `Mas Vnr Type` and `Mas Vnr Area` together, so we will return to `Mas Vnr Type` when we investigate quantitative variables below."
   ]
  },
  {
   "cell_type": "markdown",
   "metadata": {},
   "source": [
    "**Electrical:**"
   ]
  },
  {
   "cell_type": "markdown",
   "metadata": {},
   "source": [
    "We take a look at the invalid values:"
   ]
  },
  {
   "cell_type": "code",
   "execution_count": 27,
   "metadata": {},
   "outputs": [
    {
     "data": {
      "text/plain": [
       "array([nan], dtype=object)"
      ]
     },
     "execution_count": 27,
     "metadata": {},
     "output_type": "execute_result"
    }
   ],
   "source": [
    "name = 'Electrical'\n",
    "values = variables[name]['values']\n",
    "get_invalid(df, variables, name)"
   ]
  },
  {
   "cell_type": "markdown",
   "metadata": {},
   "source": [
    "We need to map `np.nan` to a valid value but have not way to do so with certainty. Since there is only 1 row impacted, we could drop it or use the mode. **We decide to introduce a new value - `Unknown`.**"
   ]
  },
  {
   "cell_type": "code",
   "execution_count": 28,
   "metadata": {},
   "outputs": [],
   "source": [
    "# Extend:\n",
    "values.add('Unknown')\n",
    "\n",
    "\n",
    "def correct(df, variables, name=name):\n",
    "    df[name] = df[name].fillna('Unknown')\n",
    "    return df\n",
    "\n",
    "\n",
    "# Register:\n",
    "corrections.append(correct)\n",
    "\n",
    "# Apply & check:\n",
    "df = correct(df, variables)\n",
    "assert count_invalid(df[name], values) == 0"
   ]
  },
  {
   "cell_type": "markdown",
   "metadata": {},
   "source": [
    "**Sale Type:**"
   ]
  },
  {
   "cell_type": "markdown",
   "metadata": {},
   "source": [
    "We take a look at the invalid values:"
   ]
  },
  {
   "cell_type": "code",
   "execution_count": 29,
   "metadata": {},
   "outputs": [
    {
     "data": {
      "text/plain": [
       "array(['WD '], dtype=object)"
      ]
     },
     "execution_count": 29,
     "metadata": {},
     "output_type": "execute_result"
    }
   ],
   "source": [
    "name = 'Sale Type'\n",
    "values = variables[name]['values']\n",
    "get_invalid(df, variables, name)"
   ]
  },
  {
   "cell_type": "markdown",
   "metadata": {},
   "source": [
    "Here we are bitten by a trailing white space. **We decide to correct the data set.** It actually seems reasonable to strip leading and trailing white spaces from all qualitative variables as a precaution and to make this correction the first one that we appply. "
   ]
  },
  {
   "cell_type": "code",
   "execution_count": 30,
   "metadata": {},
   "outputs": [],
   "source": [
    "def correct(df, variables):\n",
    "    for name, attrs in variables.items():\n",
    "        if not is_qualitative(attrs):\n",
    "            continue\n",
    "        if pd.api.types.is_object_dtype(df[name]):\n",
    "            df[name] = df[name].str.strip()\n",
    "    return df\n",
    "\n",
    "\n",
    "# Register:\n",
    "corrections.insert(0, correct)  # prepend\n",
    "\n",
    "# Apply & check:\n",
    "df = correct(df, variables)\n",
    "assert count_invalid(df[name], values) == 0"
   ]
  },
  {
   "cell_type": "markdown",
   "metadata": {},
   "source": [
    "We also keep a table for values that indicate the absence of a feature:\n",
    "    \n",
    "| Variable           | Value    | Meaning            |\n",
    "|--------------------|----------|--------------------|\n",
    "| Alley              | NA       | No alley access    |\n",
    "| Mas Vnr Type       | None     | None               |\n",
    "| Bsmt Qual          | NA       | No basement        |\n",
    "| Bsmt Cond          | NA       | No basement        |\n",
    "| Bsmt Exposure      | NA       | No basement        |\n",
    "| BsmtFin Type 1     | NA       | No basement        |\n",
    "| BsmtFin Type 2     | NA       | No basement        |\n",
    "| Electrical         | Unknown  | Unknown            |\n",
    "| Fireplace Qu       | NA       | No Fireplace       |\n",
    "| Garage Type        | NA       | No garage          |\n",
    "| Garage Finish      | NA       | No garage          |\n",
    "| Garage Qual        | NA       | No garage          |\n",
    "| Garage Cond        | NA       | No garage          |\n",
    "| Pool QC            | NA       | No pool            |\n",
    "| Fence              | NA       | No fence           |\n",
    "| Misc Feature       | NA       | None               |"
   ]
  },
  {
   "cell_type": "markdown",
   "metadata": {},
   "source": [
    "#### Quantitative variables\n",
    "---"
   ]
  },
  {
   "cell_type": "markdown",
   "metadata": {},
   "source": [
    "The 1st thing we noticed when we tried to check quantitative variables is that the names of some variables differ between the data set and the documentation. **We decide to align the definitions to match the data set.**"
   ]
  },
  {
   "cell_type": "code",
   "execution_count": 31,
   "metadata": {},
   "outputs": [],
   "source": [
    "replacements = {\n",
    "    # 'Bedroom' is 'Bedroom AbvGr' in the data set:\n",
    "    'Bedroom': 'Bedroom AbvGr',\n",
    "    # 'Kitchen' is 'Kitchen AbvGr' in the data set:\n",
    "    'Kitchen': 'Kitchen AbvGr',\n",
    "    # 'TotRmsAbvGrd' is 'TotRms AbvGrd' in the data set:\n",
    "    'TotRmsAbvGrd': 'TotRms AbvGrd',\n",
    "    # '3-Ssn Porch' is '3Ssn Porch' in the data set:\n",
    "    '3-Ssn Porch': '3Ssn Porch'\n",
    "}\n",
    "\n",
    "# We preserve the order:\n",
    "pairs = [(replacements.get(name, name), attrs) for name, attrs in variables.items()]\n",
    "variables = collections.OrderedDict(pairs)"
   ]
  },
  {
   "cell_type": "markdown",
   "metadata": {},
   "source": [
    "We check quantitative variables and build a data-frame with the number of null values, zero values, the min and the max:"
   ]
  },
  {
   "cell_type": "code",
   "execution_count": 32,
   "metadata": {},
   "outputs": [],
   "source": [
    "data = []\n",
    "for name, attrs in variables.items():\n",
    "    if not is_quantitative(attrs):\n",
    "        continue\n",
    "    series = df[name]\n",
    "    null_count = count_null(series)\n",
    "    zero_count = (series == 0.0).sum()\n",
    "    data.append((name, attrs['kind'], null_count, zero_count, series.min(), series.max()))\n",
    "df_qt = pd.DataFrame(data=data, columns=['feature', 'kind', 'null_count', 'zero_count', 'min', 'max'])"
   ]
  },
  {
   "cell_type": "markdown",
   "metadata": {},
   "source": [
    "The quantitative variables that we need to investigate are:"
   ]
  },
  {
   "cell_type": "code",
   "execution_count": 33,
   "metadata": {},
   "outputs": [
    {
     "data": {
      "text/html": [
       "<div>\n",
       "<style scoped>\n",
       "    .dataframe tbody tr th:only-of-type {\n",
       "        vertical-align: middle;\n",
       "    }\n",
       "\n",
       "    .dataframe tbody tr th {\n",
       "        vertical-align: top;\n",
       "    }\n",
       "\n",
       "    .dataframe thead th {\n",
       "        text-align: right;\n",
       "    }\n",
       "</style>\n",
       "<table border=\"1\" class=\"dataframe\">\n",
       "  <thead>\n",
       "    <tr style=\"text-align: right;\">\n",
       "      <th></th>\n",
       "      <th>feature</th>\n",
       "      <th>kind</th>\n",
       "      <th>null_count</th>\n",
       "      <th>zero_count</th>\n",
       "      <th>min</th>\n",
       "      <th>max</th>\n",
       "    </tr>\n",
       "  </thead>\n",
       "  <tbody>\n",
       "    <tr>\n",
       "      <th>0</th>\n",
       "      <td>Lot Frontage</td>\n",
       "      <td>Continuous</td>\n",
       "      <td>420</td>\n",
       "      <td>0</td>\n",
       "      <td>21.0</td>\n",
       "      <td>313.0</td>\n",
       "    </tr>\n",
       "    <tr>\n",
       "      <th>4</th>\n",
       "      <td>Mas Vnr Area</td>\n",
       "      <td>Continuous</td>\n",
       "      <td>20</td>\n",
       "      <td>1438</td>\n",
       "      <td>0.0</td>\n",
       "      <td>1600.0</td>\n",
       "    </tr>\n",
       "    <tr>\n",
       "      <th>5</th>\n",
       "      <td>BsmtFin SF 1</td>\n",
       "      <td>Continuous</td>\n",
       "      <td>1</td>\n",
       "      <td>773</td>\n",
       "      <td>0.0</td>\n",
       "      <td>5644.0</td>\n",
       "    </tr>\n",
       "    <tr>\n",
       "      <th>6</th>\n",
       "      <td>BsmtFin SF 2</td>\n",
       "      <td>Continuous</td>\n",
       "      <td>1</td>\n",
       "      <td>2135</td>\n",
       "      <td>0.0</td>\n",
       "      <td>1526.0</td>\n",
       "    </tr>\n",
       "    <tr>\n",
       "      <th>7</th>\n",
       "      <td>Bsmt Unf SF</td>\n",
       "      <td>Continuous</td>\n",
       "      <td>1</td>\n",
       "      <td>210</td>\n",
       "      <td>0.0</td>\n",
       "      <td>2336.0</td>\n",
       "    </tr>\n",
       "    <tr>\n",
       "      <th>8</th>\n",
       "      <td>Total Bsmt SF</td>\n",
       "      <td>Continuous</td>\n",
       "      <td>1</td>\n",
       "      <td>70</td>\n",
       "      <td>0.0</td>\n",
       "      <td>6110.0</td>\n",
       "    </tr>\n",
       "    <tr>\n",
       "      <th>12</th>\n",
       "      <td>Bsmt Full Bath</td>\n",
       "      <td>Discrete</td>\n",
       "      <td>2</td>\n",
       "      <td>1412</td>\n",
       "      <td>0.0</td>\n",
       "      <td>3.0</td>\n",
       "    </tr>\n",
       "    <tr>\n",
       "      <th>13</th>\n",
       "      <td>Bsmt Half Bath</td>\n",
       "      <td>Discrete</td>\n",
       "      <td>2</td>\n",
       "      <td>2285</td>\n",
       "      <td>0.0</td>\n",
       "      <td>2.0</td>\n",
       "    </tr>\n",
       "    <tr>\n",
       "      <th>20</th>\n",
       "      <td>Garage Yr Blt</td>\n",
       "      <td>Discrete</td>\n",
       "      <td>138</td>\n",
       "      <td>0</td>\n",
       "      <td>1896.0</td>\n",
       "      <td>2207.0</td>\n",
       "    </tr>\n",
       "    <tr>\n",
       "      <th>21</th>\n",
       "      <td>Garage Cars</td>\n",
       "      <td>Discrete</td>\n",
       "      <td>1</td>\n",
       "      <td>136</td>\n",
       "      <td>0.0</td>\n",
       "      <td>4.0</td>\n",
       "    </tr>\n",
       "    <tr>\n",
       "      <th>22</th>\n",
       "      <td>Garage Area</td>\n",
       "      <td>Continuous</td>\n",
       "      <td>1</td>\n",
       "      <td>136</td>\n",
       "      <td>0.0</td>\n",
       "      <td>1488.0</td>\n",
       "    </tr>\n",
       "  </tbody>\n",
       "</table>\n",
       "</div>"
      ],
      "text/plain": [
       "           feature        kind  null_count  zero_count     min     max\n",
       "0     Lot Frontage  Continuous         420           0    21.0   313.0\n",
       "4     Mas Vnr Area  Continuous          20        1438     0.0  1600.0\n",
       "5     BsmtFin SF 1  Continuous           1         773     0.0  5644.0\n",
       "6     BsmtFin SF 2  Continuous           1        2135     0.0  1526.0\n",
       "7      Bsmt Unf SF  Continuous           1         210     0.0  2336.0\n",
       "8    Total Bsmt SF  Continuous           1          70     0.0  6110.0\n",
       "12  Bsmt Full Bath    Discrete           2        1412     0.0     3.0\n",
       "13  Bsmt Half Bath    Discrete           2        2285     0.0     2.0\n",
       "20   Garage Yr Blt    Discrete         138           0  1896.0  2207.0\n",
       "21     Garage Cars    Discrete           1         136     0.0     4.0\n",
       "22     Garage Area  Continuous           1         136     0.0  1488.0"
      ]
     },
     "execution_count": 33,
     "metadata": {},
     "output_type": "execute_result"
    }
   ],
   "source": [
    "df_qt[(df_qt['null_count'] > 0) | (df_qt['min'] < 0)]"
   ]
  },
  {
   "cell_type": "markdown",
   "metadata": {},
   "source": [
    "**`Lot Frontage`:**"
   ]
  },
  {
   "cell_type": "markdown",
   "metadata": {},
   "source": [
    "Here, _null_ seems to mean that that particular piece of information is missing since 0 would not make sense. We cannot afford to drop 420 rows out of 2430 (17 %), so we will have to somehow impute the null values. We want to keep things as simple as possible. **We decide to replace null values by the median value in the neighborhood where the property is located if the median exists and by the median value overall otherwise.**"
   ]
  },
  {
   "cell_type": "code",
   "execution_count": 35,
   "metadata": {},
   "outputs": [],
   "source": [
    "name = 'Lot Frontage'\n",
    "\n",
    "\n",
    "def correct(df, variables, name=name):\n",
    "    \n",
    "    def median(series, default):\n",
    "        median = series.median(skipna=False)\n",
    "        return default if np.isnan(median) else median\n",
    "        \n",
    "    median_overall = df[name].median()\n",
    "    df[name] = df.groupby(by='Neighborhood')[name].transform(\n",
    "        lambda series: series.fillna(median(series, median_overall)))\n",
    "    return df\n",
    "\n",
    "\n",
    "# Register:\n",
    "corrections.append(correct)\n",
    "\n",
    "# Apply & check:\n",
    "df = correct(df, variables)\n",
    "assert df[name].isna().sum() == 0"
   ]
  },
  {
   "cell_type": "markdown",
   "metadata": {},
   "source": [
    "**`Mas Vnr Area` and `Mas Vnr Type`:**"
   ]
  },
  {
   "cell_type": "markdown",
   "metadata": {},
   "source": [
    "Here we have to be careful because for `Mas Vnr Area` we have both _Na_ and 0 values and for `Mas Vnr Type` We have both _Na_ and `None` values. We take a closer look at the different combinations."
   ]
  },
  {
   "cell_type": "code",
   "execution_count": 49,
   "metadata": {},
   "outputs": [],
   "source": [
    "name_area = 'Mas Vnr Area'\n",
    "name_type = 'Mas Vnr Type'"
   ]
  },
  {
   "cell_type": "code",
   "execution_count": 103,
   "metadata": {},
   "outputs": [
    {
     "data": {
      "text/html": [
       "<div>\n",
       "<style scoped>\n",
       "    .dataframe tbody tr th:only-of-type {\n",
       "        vertical-align: middle;\n",
       "    }\n",
       "\n",
       "    .dataframe tbody tr th {\n",
       "        vertical-align: top;\n",
       "    }\n",
       "\n",
       "    .dataframe thead th {\n",
       "        text-align: right;\n",
       "    }\n",
       "</style>\n",
       "<table border=\"1\" class=\"dataframe\">\n",
       "  <thead>\n",
       "    <tr style=\"text-align: right;\">\n",
       "      <th></th>\n",
       "      <th></th>\n",
       "      <th>Count</th>\n",
       "    </tr>\n",
       "    <tr>\n",
       "      <th>Mas Vnr Type Simpl</th>\n",
       "      <th>Mas Vnr Area Simpl</th>\n",
       "      <th></th>\n",
       "    </tr>\n",
       "  </thead>\n",
       "  <tbody>\n",
       "    <tr>\n",
       "      <th>Na</th>\n",
       "      <th>Na</th>\n",
       "      <td>20</td>\n",
       "    </tr>\n",
       "    <tr>\n",
       "      <th rowspan=\"2\" valign=\"top\">None</th>\n",
       "      <th>Positive</th>\n",
       "      <td>7</td>\n",
       "    </tr>\n",
       "    <tr>\n",
       "      <th>Zero</th>\n",
       "      <td>1435</td>\n",
       "    </tr>\n",
       "    <tr>\n",
       "      <th rowspan=\"2\" valign=\"top\">Other</th>\n",
       "      <th>Positive</th>\n",
       "      <td>965</td>\n",
       "    </tr>\n",
       "    <tr>\n",
       "      <th>Zero</th>\n",
       "      <td>3</td>\n",
       "    </tr>\n",
       "  </tbody>\n",
       "</table>\n",
       "</div>"
      ],
      "text/plain": [
       "                                       Count\n",
       "Mas Vnr Type Simpl Mas Vnr Area Simpl       \n",
       "Na                 Na                     20\n",
       "None               Positive                7\n",
       "                   Zero                 1435\n",
       "Other              Positive              965\n",
       "                   Zero                    3"
      ]
     },
     "execution_count": 103,
     "metadata": {},
     "output_type": "execute_result"
    }
   ],
   "source": [
    "df_vnr = df[[name_type, name_area]].copy()\n",
    "df_vnr[f'{name_type} Simpl'] = (\n",
    "    df_vnr[name_type]\n",
    "    .mask(df_vnr[name_type].isna(), 'Na')\n",
    "    .mask(df_vnr[name_type].notna() & (df_vnr[name_type] != 'None'), 'Other')\n",
    ")\n",
    "df_vnr[f'{name_area} Simpl'] = (\n",
    "    df_vnr[name_area]\n",
    "    .mask(df_vnr[name_area].isna(), 'Na')\n",
    "    .mask(df_vnr[name_area] == 0, 'Zero')\n",
    "    .mask(df_vnr[name_area].notna() & (df_vnr[name_area] != 0), 'Positive')\n",
    ")\n",
    "df_vnr['Count'] = 1\n",
    "df_vnr.groupby(by=[f'{name_type} Simpl', f'{name_area} Simpl']).agg({'Count': 'sum'})"
   ]
  },
  {
   "cell_type": "code",
   "execution_count": 107,
   "metadata": {},
   "outputs": [
    {
     "data": {
      "text/html": [
       "<div>\n",
       "<style scoped>\n",
       "    .dataframe tbody tr th:only-of-type {\n",
       "        vertical-align: middle;\n",
       "    }\n",
       "\n",
       "    .dataframe tbody tr th {\n",
       "        vertical-align: top;\n",
       "    }\n",
       "\n",
       "    .dataframe thead th {\n",
       "        text-align: right;\n",
       "    }\n",
       "</style>\n",
       "<table border=\"1\" class=\"dataframe\">\n",
       "  <thead>\n",
       "    <tr style=\"text-align: right;\">\n",
       "      <th></th>\n",
       "      <th>Mas Vnr Type</th>\n",
       "      <th>Mas Vnr Area</th>\n",
       "    </tr>\n",
       "  </thead>\n",
       "  <tbody>\n",
       "    <tr>\n",
       "      <th>631</th>\n",
       "      <td>None</td>\n",
       "      <td>285.0</td>\n",
       "    </tr>\n",
       "    <tr>\n",
       "      <th>1286</th>\n",
       "      <td>None</td>\n",
       "      <td>1.0</td>\n",
       "    </tr>\n",
       "    <tr>\n",
       "      <th>1546</th>\n",
       "      <td>None</td>\n",
       "      <td>344.0</td>\n",
       "    </tr>\n",
       "    <tr>\n",
       "      <th>1737</th>\n",
       "      <td>None</td>\n",
       "      <td>312.0</td>\n",
       "    </tr>\n",
       "    <tr>\n",
       "      <th>1975</th>\n",
       "      <td>None</td>\n",
       "      <td>1.0</td>\n",
       "    </tr>\n",
       "    <tr>\n",
       "      <th>2135</th>\n",
       "      <td>None</td>\n",
       "      <td>288.0</td>\n",
       "    </tr>\n",
       "    <tr>\n",
       "      <th>2256</th>\n",
       "      <td>None</td>\n",
       "      <td>1.0</td>\n",
       "    </tr>\n",
       "  </tbody>\n",
       "</table>\n",
       "</div>"
      ],
      "text/plain": [
       "     Mas Vnr Type  Mas Vnr Area\n",
       "631          None         285.0\n",
       "1286         None           1.0\n",
       "1546         None         344.0\n",
       "1737         None         312.0\n",
       "1975         None           1.0\n",
       "2135         None         288.0\n",
       "2256         None           1.0"
      ]
     },
     "execution_count": 107,
     "metadata": {},
     "output_type": "execute_result"
    }
   ],
   "source": [
    "df.loc[(df[name_type] == 'None') & (df[name_area] > 0), [name_type, name_area]]"
   ]
  },
  {
   "cell_type": "code",
   "execution_count": 108,
   "metadata": {},
   "outputs": [
    {
     "data": {
      "text/html": [
       "<div>\n",
       "<style scoped>\n",
       "    .dataframe tbody tr th:only-of-type {\n",
       "        vertical-align: middle;\n",
       "    }\n",
       "\n",
       "    .dataframe tbody tr th {\n",
       "        vertical-align: top;\n",
       "    }\n",
       "\n",
       "    .dataframe thead th {\n",
       "        text-align: right;\n",
       "    }\n",
       "</style>\n",
       "<table border=\"1\" class=\"dataframe\">\n",
       "  <thead>\n",
       "    <tr style=\"text-align: right;\">\n",
       "      <th></th>\n",
       "      <th>Mas Vnr Type</th>\n",
       "      <th>Mas Vnr Area</th>\n",
       "    </tr>\n",
       "  </thead>\n",
       "  <tbody>\n",
       "    <tr>\n",
       "      <th>678</th>\n",
       "      <td>Stone</td>\n",
       "      <td>0.0</td>\n",
       "    </tr>\n",
       "    <tr>\n",
       "      <th>2220</th>\n",
       "      <td>BrkFace</td>\n",
       "      <td>0.0</td>\n",
       "    </tr>\n",
       "    <tr>\n",
       "      <th>2227</th>\n",
       "      <td>BrkFace</td>\n",
       "      <td>0.0</td>\n",
       "    </tr>\n",
       "  </tbody>\n",
       "</table>\n",
       "</div>"
      ],
      "text/plain": [
       "     Mas Vnr Type  Mas Vnr Area\n",
       "678         Stone           0.0\n",
       "2220      BrkFace           0.0\n",
       "2227      BrkFace           0.0"
      ]
     },
     "execution_count": 108,
     "metadata": {},
     "output_type": "execute_result"
    }
   ],
   "source": [
    "df.loc[df[name_type].notna() & (df[name_type] != 'None') & (df[name_area] == 0), [name_type, name_area]]"
   ]
  },
  {
   "cell_type": "markdown",
   "metadata": {},
   "source": [
    "Notes:\n",
    "* The expected cases are `(None, Zero)` and `(Other, Positive)`.\n",
    "* For the case `(Na, Na)`: There is not way to know with certainty. We assume that the type and area were left out because they did not apply. **We decide to set the type to `None` and the area to 0.**\n",
    "* For the case `(None, Positive)`: There is no way to know with certainty. We assume that an area of 1.0 square feet is a mistake. We also assume that an area greater than 1.0 square feet is correct and that the type was left out by mistake. **We decide to set the type to `Unknown` and the area to 0 if the area is equal to 1.0 and to only set the type to `Unknown` otherwise.**\n",
    "* For the case `(Other, Zero)`: There is no way to know with certainty. We assume that the type is correct and that the area was left out by mistake. **We decide to set the area to the median value in the neighborhood where the property is located if the median exists and to the median value overall otherwise.**"
   ]
  },
  {
   "cell_type": "markdown",
   "metadata": {},
   "source": [
    "**`BsmtFin SF 1, BsmtFin SF 2, Bsmt Unf SF, Total Bsmt SF`:**"
   ]
  },
  {
   "cell_type": "code",
   "execution_count": 119,
   "metadata": {},
   "outputs": [
    {
     "data": {
      "text/html": [
       "<div>\n",
       "<style scoped>\n",
       "    .dataframe tbody tr th:only-of-type {\n",
       "        vertical-align: middle;\n",
       "    }\n",
       "\n",
       "    .dataframe tbody tr th {\n",
       "        vertical-align: top;\n",
       "    }\n",
       "\n",
       "    .dataframe thead th {\n",
       "        text-align: right;\n",
       "    }\n",
       "</style>\n",
       "<table border=\"1\" class=\"dataframe\">\n",
       "  <thead>\n",
       "    <tr style=\"text-align: right;\">\n",
       "      <th></th>\n",
       "      <th>BsmtFin SF 1</th>\n",
       "      <th>BsmtFin SF 2</th>\n",
       "      <th>Bsmt Unf SF</th>\n",
       "      <th>Total Bsmt SF</th>\n",
       "      <th>Bsmt Full Bath</th>\n",
       "      <th>Bsmt Half Bath</th>\n",
       "    </tr>\n",
       "  </thead>\n",
       "  <tbody>\n",
       "    <tr>\n",
       "      <th>104</th>\n",
       "      <td>NaN</td>\n",
       "      <td>NaN</td>\n",
       "      <td>NaN</td>\n",
       "      <td>NaN</td>\n",
       "      <td>NaN</td>\n",
       "      <td>NaN</td>\n",
       "    </tr>\n",
       "    <tr>\n",
       "      <th>2056</th>\n",
       "      <td>0.0</td>\n",
       "      <td>0.0</td>\n",
       "      <td>0.0</td>\n",
       "      <td>0.0</td>\n",
       "      <td>NaN</td>\n",
       "      <td>NaN</td>\n",
       "    </tr>\n",
       "  </tbody>\n",
       "</table>\n",
       "</div>"
      ],
      "text/plain": [
       "      BsmtFin SF 1  BsmtFin SF 2  Bsmt Unf SF  Total Bsmt SF  Bsmt Full Bath  \\\n",
       "104            NaN           NaN          NaN            NaN             NaN   \n",
       "2056           0.0           0.0          0.0            0.0             NaN   \n",
       "\n",
       "      Bsmt Half Bath  \n",
       "104              NaN  \n",
       "2056             NaN  "
      ]
     },
     "execution_count": 119,
     "metadata": {},
     "output_type": "execute_result"
    }
   ],
   "source": [
    "names = ['BsmtFin SF 1', 'BsmtFin SF 2', 'Bsmt Unf SF', 'Total Bsmt SF', 'Bsmt Full Bath', 'Bsmt Half Bath']\n",
    "df.loc[df[names].isna().any(axis=1), names]"
   ]
  },
  {
   "cell_type": "markdown",
   "metadata": {},
   "source": [
    "Fortunately, only 2 records are impacted. There is not way to know with certainty. We assume that the values were left out because they did not apply. **We decide to set both continuous and discrete values to 0.**"
   ]
  },
  {
   "cell_type": "markdown",
   "metadata": {},
   "source": [
    "### Step 2 - Correct inconsistencies<a name=\"stage-1-step-2\"></a> ([top](#top))\n",
    "---"
   ]
  },
  {
   "cell_type": "markdown",
   "metadata": {},
   "source": [
    "### Step 3 - Handle outliers<a name=\"stage-1-step-3\"></a> ([top](#top))\n",
    "---"
   ]
  },
  {
   "cell_type": "markdown",
   "metadata": {},
   "source": [
    "Laundry list:\n",
    "* Ordinals as numbers and strings\n",
    "  Numeric: Overall Qual"
   ]
  },
  {
   "cell_type": "markdown",
   "metadata": {},
   "source": [
    "**`SalePrice`**: Our target variable is `SalePrice`, so we look at it first. We print its descriptive statistics and plot its distribution below. Turning to the Internet, we also found out that there are 2 related measures: [skewness](https://en.wikipedia.org/wiki/Skewness) and [kurtosis](https://en.wikipedia.org/wiki/Kurtosis) (\"tailedness\"), both available out-of-the-box in Pandas. We do not have any backround in statistics but, for comparison, the normal distribution has a skew of 0 and a kurtosis of 3. We also print these below."
   ]
  },
  {
   "cell_type": "code",
   "execution_count": null,
   "metadata": {},
   "outputs": [],
   "source": [
    "def plot_distribution(series, xlabel):\n",
    "    fig, ax = plt.subplots()\n",
    "    ax.hist(series.dropna(), bins=100, color='cornflowerblue', ec='black', label=None)\n",
    "    ax.axvline(series.mean(), color='red', linestyle='-', label='mean')\n",
    "    ax.axvline(series.median(), color='lime', linestyle='-', label='median')\n",
    "    ax.set_xlabel(xlabel)\n",
    "    ax.set_ylabel('count')\n",
    "    ax.legend()\n",
    "    plt.show()"
   ]
  },
  {
   "cell_type": "code",
   "execution_count": null,
   "metadata": {},
   "outputs": [],
   "source": [
    "series = df['SalePrice']\n",
    "series.describe()"
   ]
  },
  {
   "cell_type": "code",
   "execution_count": null,
   "metadata": {},
   "outputs": [],
   "source": [
    "plot_distribution(series, 'Sales price in USD')\n",
    "print(f'skewness: {series.skew():.2f}')\n",
    "print(f'kurtosis: {series.kurt():.2f}')"
   ]
  },
  {
   "cell_type": "markdown",
   "metadata": {},
   "source": [
    "**Comment:** As we have already seen in the course, the sales price is positively skewed and a log transformation allows to transform its distribution into one that is closer to the normal distribution. "
   ]
  },
  {
   "cell_type": "code",
   "execution_count": null,
   "metadata": {},
   "outputs": [],
   "source": [
    "mod_series = np.log(series)\n",
    "print(mod_series.describe())"
   ]
  },
  {
   "cell_type": "code",
   "execution_count": null,
   "metadata": {},
   "outputs": [],
   "source": [
    "plot_distribution(mod_series, 'Natural logarithm of sales price in USD')\n",
    "print(f'skewness: {mod_series.skew():.2f}')\n",
    "print(f'kurtosis: {mod_series.kurt():.2f}')"
   ]
  },
  {
   "cell_type": "code",
   "execution_count": null,
   "metadata": {},
   "outputs": [],
   "source": [
    "df['SalePrice'] = mod_series"
   ]
  },
  {
   "cell_type": "code",
   "execution_count": null,
   "metadata": {},
   "outputs": [],
   "source": []
  }
 ],
 "metadata": {
  "kernelspec": {
   "display_name": "Python 3",
   "language": "python",
   "name": "python3"
  },
  "language_info": {
   "codemirror_mode": {
    "name": "ipython",
    "version": 3
   },
   "file_extension": ".py",
   "mimetype": "text/x-python",
   "name": "python",
   "nbconvert_exporter": "python",
   "pygments_lexer": "ipython3",
   "version": "3.6.7"
  }
 },
 "nbformat": 4,
 "nbformat_minor": 2
}
